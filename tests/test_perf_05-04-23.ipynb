{
 "cells": [
  {
   "cell_type": "code",
   "execution_count": 16,
   "id": "8ae0ea81",
   "metadata": {},
   "outputs": [],
   "source": [
    "from json_ntv import Ntv, NtvSingle, NtvList, NtvSet\n",
    "from namespace import Namespace, NtvType\n",
    "from time import time\n",
    "\n",
    "def ntvobj(nb=1000, lis=True, jname='', jdefname=''):\n",
    "    if jdefname and lis:\n",
    "        return {jdefname: [{str(i) + jname : i} for i in range(nb)]}\n",
    "    if jdefname and not lis:\n",
    "        return {jdefname: {str(i) + jname : i for i in range(nb)}}\n",
    "    if lis:\n",
    "        return [{str(i) + jname : i} for i in range(nb)]\n",
    "    return {str(i) + jname : i for i in range(nb)}\n",
    "\n",
    "def ntvl(nb=1000, lis=True, jname='', deftyp=None, obj=None):\n",
    "    dic = {True: NtvList, False: NtvSet}\n",
    "    t0 = time()\n",
    "    if obj:\n",
    "        ntv = Ntv.obj(obj)\n",
    "    else:\n",
    "        if jname:\n",
    "            ntv = dic[lis]([Ntv.from_obj({str(i) + jname : i}, deftyp) for i in range(nb)])\n",
    "        else:\n",
    "            ntv = dic[lis]([Ntv.from_obj({str(i) : i}, deftyp) for i in range(nb)])            \n",
    "    t1 = time()\n",
    "    js = ntv.to_obj()\n",
    "    t2 = time()\n",
    "    return (t1-t0, t2-t1)"
   ]
  },
  {
   "cell_type": "code",
   "execution_count": 17,
   "id": "6c646e99",
   "metadata": {},
   "outputs": [
    {
     "name": "stdout",
     "output_type": "stream",
     "text": [
      "{'::int': {'0:int': 0, '1:int': 1, '2:int': 2}}\n",
      "{\"::int\": {\"0\": 0, \"1\": 1, \"2\": 2}}\n",
      "(0.0, 0.0)\n"
     ]
    }
   ],
   "source": [
    "print(ntvobj(3, False, ':int', '::int'))\n",
    "print(Ntv.obj(ntvobj(3, False, ':int', '::int')))\n",
    "print(ntvl(obj=ntvobj(3, False, ':int', '::int')))"
   ]
  },
  {
   "cell_type": "code",
   "execution_count": 23,
   "id": "469bb0bd",
   "metadata": {},
   "outputs": [
    {
     "name": "stdout",
     "output_type": "stream",
     "text": [
      "(0.23998188972473145, 0.032860517501831055)\n",
      "(0.20861315727233887, 0.051779985427856445)\n",
      "(0.19566774368286133, 0.03236246109008789)\n",
      "(0.21010708808898926, 0.03186511993408203)\n",
      "(0.34055209159851074, 0.10306286811828613)\n",
      "(0.19118762016296387, 0.03186464309692383)\n",
      "(0.3629579544067383, 0.031865835189819336)\n",
      "(0.2837944030761719, 0.03833961486816406)\n",
      "(0.38337087631225586, 0.037340641021728516)\n",
      "(0.18869829177856445, 0.034354209899902344) \n",
      "\n",
      "(0.28827428817749023, 0.0846402645111084)\n",
      "(0.21408677101135254, 0.06920647621154785)\n",
      "(0.22653746604919434, 0.06870794296264648)\n",
      "(0.19566917419433594, 0.08015871047973633)\n",
      "(0.3544936180114746, 0.09011554718017578)\n",
      "(0.2658708095550537, 0.10007524490356445)\n",
      "(0.34204816818237305, 0.07418417930603027)\n",
      "(0.19019150733947754, 0.07617592811584473)\n",
      "(0.3450345993041992, 0.08215188980102539)\n",
      "(0.19367742538452148, 0.08314704895019531) \n",
      "\n"
     ]
    }
   ],
   "source": [
    "nb = 10000\n",
    "\n",
    "for cl in (True, False):\n",
    "    if cl:\n",
    "        print(ntvl(nb, cl))\n",
    "        print(ntvl(obj=ntvobj(nb, cl)))\n",
    "    else:\n",
    "        print(ntvl(nb, cl, 'test'))\n",
    "        print(ntvl(obj=ntvobj(nb, cl, 'test')))\n",
    "    print(ntvl(nb, cl, ':int'))\n",
    "    print(ntvl(obj=ntvobj(nb, cl, ':int')))\n",
    "    print(ntvl(nb, cl, ':int', 'int'))\n",
    "    print(ntvl(obj=ntvobj(nb, cl, ':int', '::int')))\n",
    "    print(ntvl(nb, cl, ':int', 'json'))\n",
    "    print(ntvl(obj=ntvobj(nb, cl, ':int', '::json')))\n",
    "    print(ntvl(nb, cl, ':int', 'point'))\n",
    "    print(ntvl(obj=ntvobj(nb, cl, ':int', '::point')), '\\n')\n",
    "#print(NtvType.types())"
   ]
  }
 ],
 "metadata": {
  "kernelspec": {
   "display_name": "Python 3 (ipykernel)",
   "language": "python",
   "name": "python3"
  },
  "language_info": {
   "codemirror_mode": {
    "name": "ipython",
    "version": 3
   },
   "file_extension": ".py",
   "mimetype": "text/x-python",
   "name": "python",
   "nbconvert_exporter": "python",
   "pygments_lexer": "ipython3",
   "version": "3.10.9"
  }
 },
 "nbformat": 4,
 "nbformat_minor": 5
}
