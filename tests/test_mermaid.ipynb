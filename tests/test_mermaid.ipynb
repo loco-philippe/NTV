{
 "cells": [
  {
   "cell_type": "code",
   "execution_count": 16,
   "id": "cffbd4f3",
   "metadata": {},
   "outputs": [],
   "source": [
    "# Example of converting a Json format to a diagram\n",
    "\n",
    "from json_ntv import Ntv\n",
    "\n",
    "def diagram(diag):\n",
    "    ntv = Ntv.obj(diag)\n",
    "    diag_type = ntv.type_str[1:]\n",
    "    diag_txt = '---\\ntitle: ' + ntv.name + '\\n---\\n' if ntv.name else ''\n",
    "    diag_txt += diag_type\n",
    "    match diag_type:\n",
    "        case 'erDiagram':\n",
    "            diag_txt += erDiagram(ntv)\n",
    "    return diag_txt\n",
    "    \n",
    "def erDiagram(ntv):\n",
    "    diag_txt = ''\n",
    "    for item in Ntv.obj(ntv.val):\n",
    "        if item.name == 'entity':\n",
    "            for entity in item:\n",
    "                diag_txt += erEntity(entity)\n",
    "        if item.name == 'relationship':\n",
    "            for relation in item:\n",
    "                diag_txt += erRelation(relation)\n",
    "    return diag_txt\n",
    "\n",
    "def erEntity(entity):\n",
    "    ent_txt = '\\n    ' + entity.name + ' {'\n",
    "    for att in entity:\n",
    "        ent_txt += '\\n        ' + att[0].val + ' ' + att[1].val\n",
    "        if len(att) > 2:\n",
    "            if att[2].val in ('PK', 'FK', 'UK'):\n",
    "                ent_txt += ' ' + att[2].val\n",
    "            else:\n",
    "                ent_txt += ' \"' + att[2].val + '\"'\n",
    "        if len(att) > 3:\n",
    "            ent_txt += ' \"' + att[3].val + '\"'\n",
    "    return ent_txt + '\\n    }'\n",
    "\n",
    "def erRelation(rel):\n",
    "    rel_left  = {'exactly one' : ' ||', 'zero or one': ' |o', 'zero or more': ' }o', 'one or more': ' }|'}\n",
    "    rel_right = {'exactly one' : '|| ', 'zero or one': 'o| ', 'zero or more': 'o{ ', 'one or more': '|{ '}\n",
    "    identif   = {'identifying' : '--', 'non-identifying' : '..'}\n",
    "    rel_txt = '\\n    ' + rel[0].val + rel_left[rel[1].val] + identif[rel[2].val] + rel_right[rel[3].val] + rel[4].val\n",
    "    if len(rel) > 5:\n",
    "        rel_txt += ' : ' + rel[5].val\n",
    "    return rel_txt"
   ]
  },
  {
   "cell_type": "code",
   "execution_count": 17,
   "id": "310d0101",
   "metadata": {},
   "outputs": [],
   "source": [
    "# The Json syntax is enriched by separator ':' or '::' in dict key to indicate that:\n",
    "#  - the second part of the key string is the data type\n",
    "#  - the dict value is a json entity (':') or a list of Json-NTV entities.\n",
    "order_example = { \n",
    "    'order example:$erDiagram' : { \n",
    "        'relationship::': [ \n",
    "            [ 'CUSTOMER', 'exactly one', 'identifying', 'zero or more', 'ORDER',     'places'],\n",
    "            [ 'ORDER',    'exactly one', 'identifying', 'one or more',  'LINE-ITEM', 'contains'] \n",
    "        ],\n",
    "        'entity::': {\n",
    "            'CUSTOMER':  [ \n",
    "                ['string', 'name',         'PK', 'the name'], \n",
    "                ['string', 'custNumber'] \n",
    "            ], \n",
    "            'ORDER': [ \n",
    "                ['int',    'orderNumber',  'PK'],\n",
    "                ['string', 'deliveryAdress'] \n",
    "            ],\n",
    "            'LINE-ITEM': [ \n",
    "                ['string', 'productCode',  'PK'],\n",
    "                ['int',    'quantity'],\n",
    "                ['float',  'pricePerUnit'] \n",
    "            ]   \n",
    "        },\n",
    "     } }"
   ]
  },
  {
   "cell_type": "code",
   "execution_count": 18,
   "id": "1e929e0a",
   "metadata": {},
   "outputs": [
    {
     "data": {
      "text/html": [
       "<img src=\"https://mermaid.ink/img/LS0tCnRpdGxlOiBvcmRlciBleGFtcGxlCi0tLQplckRpYWdyYW0KICAgIENVU1RPTUVSIHx8LS1veyBPUkRFUiA6IHBsYWNlcwogICAgT1JERVIgfHwtLXx7IExJTkUtSVRFTSA6IGNvbnRhaW5zCiAgICBDVVNUT01FUiB7CiAgICAgICAgc3RyaW5nIG5hbWUgUEsgInRoZSBuYW1lIgogICAgICAgIHN0cmluZyBjdXN0TnVtYmVyCiAgICB9CiAgICBPUkRFUiB7CiAgICAgICAgaW50IG9yZGVyTnVtYmVyIFBLCiAgICAgICAgc3RyaW5nIGRlbGl2ZXJ5QWRyZXNzCiAgICB9CiAgICBMSU5FLUlURU0gewogICAgICAgIHN0cmluZyBwcm9kdWN0Q29kZSBQSwogICAgICAgIGludCBxdWFudGl0eQogICAgICAgIGZsb2F0IHByaWNlUGVyVW5pdAogICAgfQ==\"/>"
      ],
      "text/plain": [
       "<IPython.core.display.Image object>"
      ]
     },
     "metadata": {},
     "output_type": "display_data"
    }
   ],
   "source": [
    "from base64 import b64encode\n",
    "from IPython.display import Image, display\n",
    "\n",
    "diag = diagram(order_example)\n",
    "display(Image(url=\"https://mermaid.ink/img/\" + b64encode(diag.encode(\"ascii\")).decode(\"ascii\")))"
   ]
  }
 ],
 "metadata": {
  "kernelspec": {
   "display_name": "Python 3 (ipykernel)",
   "language": "python",
   "name": "python3"
  },
  "language_info": {
   "codemirror_mode": {
    "name": "ipython",
    "version": 3
   },
   "file_extension": ".py",
   "mimetype": "text/x-python",
   "name": "python",
   "nbconvert_exporter": "python",
   "pygments_lexer": "ipython3",
   "version": "3.10.9"
  }
 },
 "nbformat": 4,
 "nbformat_minor": 5
}
