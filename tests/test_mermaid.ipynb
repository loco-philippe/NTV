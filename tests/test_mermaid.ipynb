{
 "cells": [
  {
   "cell_type": "code",
   "execution_count": 109,
   "id": "92d98464",
   "metadata": {},
   "outputs": [],
   "source": [
    "def diagram(ntv):\n",
    "    diag = '---\\ntitle: ' + ntv.ntv_name + '\\n---\\n' + ntv.ntv_type.long_name[1:]\n",
    "    ntv_diag = Ntv.obj(ntv.ntv_value)\n",
    "    for item in ntv_diag:\n",
    "        if item.ntv_type.long_name == '$entity':\n",
    "            for entity in item:\n",
    "                diag += diag_entity(entity)\n",
    "        if item.ntv_type.long_name == '$relationship':\n",
    "            for relation in item:\n",
    "                diag += diag_relation(relation)\n",
    "    return diag\n",
    "\n",
    "def diag_entity(entity):\n",
    "    ent = '\\n    ' + entity.ntv_name + ' {'\n",
    "    for att in entity.ntv_value:\n",
    "        ent += '\\n        ' + att[0] + ' ' + att[1]\n",
    "        if len(att) > 2:\n",
    "            if att[2] in ('PK', 'FK', 'UK'):\n",
    "                ent += ' ' + att[2]\n",
    "            else:\n",
    "                ent += ' \"' + att[2] + '\"'\n",
    "        if len(att) > 3:\n",
    "            ent += ' \"' + att[3] + '\"'\n",
    "    return ent + '\\n    }'\n",
    "\n",
    "def diag_relation(relation):\n",
    "    rel_left  = {'exactly one' : ' ||', 'zero or one': ' |o', 'zero or more': ' }o', 'one or more': ' }|'}\n",
    "    rel_right = {'exactly one' : '|| ', 'zero or one': 'o| ', 'zero or more': 'o{ ', 'one or more': '|{ '}\n",
    "    identif   = {'identifying' : '--', 'non-identifying' : '..'}\n",
    "    \n",
    "    att = relation.ntv_value\n",
    "    ent = '\\n    ' + att[0] + rel_left[att[1]] + identif[att[2]] + rel_right[att[3]] + att[4]\n",
    "    if len(att) > 5:\n",
    "        ent += ' : ' + att[5]\n",
    "    return ent"
   ]
  },
  {
   "cell_type": "code",
   "execution_count": 110,
   "id": "cfa1136e",
   "metadata": {},
   "outputs": [],
   "source": [
    "order_example = { \n",
    "    'order example:$erDiagram' : { \n",
    "        '::$relationship': [ \n",
    "            [ 'CUSTOMER', 'exactly one', 'identifying', 'zero or more', 'ORDER',     'places'],\n",
    "            [ 'ORDER',    'exactly one', 'identifying', 'one or more',  'LINE-ITEM', 'contains'] \n",
    "        ],\n",
    "        '::$entity': {\n",
    "            'CUSTOMER':  [ \n",
    "                ['string', 'name',         'PK', 'the name'], \n",
    "                ['string', 'custNumber'] \n",
    "            ], \n",
    "            'ORDER': [ \n",
    "                ['int',    'orderNumber',  'PK'],\n",
    "                ['string', 'deliveryAdress'] \n",
    "            ],\n",
    "            'LINE-ITEM': [ \n",
    "                ['string', 'productCode',  'PK'],\n",
    "                ['int',    'quantity'],\n",
    "                ['float',  'pricePerUnit'] \n",
    "            ]   \n",
    "        },\n",
    "     } }"
   ]
  },
  {
   "cell_type": "code",
   "execution_count": 111,
   "id": "8552423a",
   "metadata": {},
   "outputs": [
    {
     "data": {
      "text/html": [
       "<img src=\"https://mermaid.ink/img/LS0tCnRpdGxlOiBvcmRlciBleGFtcGxlCi0tLQplckRpYWdyYW0KICAgIENVU1RPTUVSIHx8LS1veyBPUkRFUiA6IHBsYWNlcwogICAgT1JERVIgfHwtLXx7IExJTkUtSVRFTSA6IGNvbnRhaW5zCiAgICBDVVNUT01FUiB7CiAgICAgICAgc3RyaW5nIG5hbWUgUEsgInRoZSBuYW1lIgogICAgICAgIHN0cmluZyBjdXN0TnVtYmVyCiAgICB9CiAgICBPUkRFUiB7CiAgICAgICAgaW50IG9yZGVyTnVtYmVyIFBLCiAgICAgICAgc3RyaW5nIGRlbGl2ZXJ5QWRyZXNzCiAgICB9CiAgICBMSU5FLUlURU0gewogICAgICAgIHN0cmluZyBwcm9kdWN0Q29kZSBQSwogICAgICAgIGludCBxdWFudGl0eQogICAgICAgIGZsb2F0IHByaWNlUGVyVW5pdAogICAgfQ==\"/>"
      ],
      "text/plain": [
       "<IPython.core.display.Image object>"
      ]
     },
     "metadata": {},
     "output_type": "display_data"
    }
   ],
   "source": [
    "from base64 import b64encode\n",
    "from IPython.display import Image, display\n",
    "from json_ntv import Ntv, NtvSet, NtvList, NtvSingle\n",
    "\n",
    "ntv = Ntv.obj(order_example)\n",
    "diag = diagram(ntv)\n",
    "display(Image(url=\"https://mermaid.ink/img/\" + b64encode(diag.encode(\"ascii\")).decode(\"ascii\")))"
   ]
  }
 ],
 "metadata": {
  "kernelspec": {
   "display_name": "Python 3 (ipykernel)",
   "language": "python",
   "name": "python3"
  },
  "language_info": {
   "codemirror_mode": {
    "name": "ipython",
    "version": 3
   },
   "file_extension": ".py",
   "mimetype": "text/x-python",
   "name": "python",
   "nbconvert_exporter": "python",
   "pygments_lexer": "ipython3",
   "version": "3.10.9"
  }
 },
 "nbformat": 4,
 "nbformat_minor": 5
}
