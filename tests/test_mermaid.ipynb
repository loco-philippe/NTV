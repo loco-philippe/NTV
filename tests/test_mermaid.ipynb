{
 "cells": [
  {
   "cell_type": "markdown",
   "id": "fed3e24e",
   "metadata": {},
   "source": [
    "# JSON interface for diagram creation\n",
    "------\n",
    "## Example of Entity Relationship Diagram\n",
    "- [ER-example with simple structure](#ER-example-with-simple-structure)\n",
    "- [ER-second example with additional information](#ER-second-example-with-additional-information)\n",
    "\n",
    "## Example of Flowchart Diagram\n",
    "- [FC-example with simple structure](#FC-example-with-simple-structure)\n",
    "- [Example of NTV data](#Example-of-NTV-data)\n",
    "- [Example of NTV-TAB data](#Example-of-NTV-TAB-data)"
   ]
  },
  {
   "cell_type": "markdown",
   "id": "3e4f9275",
   "metadata": {},
   "source": [
    "-------\n",
    "[Functions used to create diagram from json](https://github.com/loco-philippe/NTV/blob/main/json_ntv/json_mermaid.py)"
   ]
  },
  {
   "cell_type": "markdown",
   "id": "7fa46aeb",
   "metadata": {},
   "source": [
    "## Example of Entity Relationship Diagram"
   ]
  },
  {
   "cell_type": "markdown",
   "id": "2fc95986",
   "metadata": {},
   "source": [
    "### ER-example with simple structure"
   ]
  },
  {
   "cell_type": "code",
   "execution_count": 4,
   "id": "310d0101",
   "metadata": {},
   "outputs": [
    {
     "data": {
      "text/html": [
       "<img src=\"https://mermaid.ink/img/LS0tCnRpdGxlOiBqc29uIG9yZGVyIGV4YW1wbGUKLS0tCmVyRGlhZ3JhbQogICAgQ1VTVE9NRVIgewogICAgICAgIHN0cmluZyBuYW1lIFBLICJ0aGUgbmFtZSIKICAgICAgICBzdHJpbmcgY3VzdE51bWJlcgogICAgfQogICAgT1JERVIgewogICAgICAgIGludCBvcmRlck51bWJlciBQSwogICAgICAgIHN0cmluZyBkZWxpdmVyeUFkcmVzcwogICAgfQogICAgTElORS1JVEVNIHsKICAgICAgICBzdHJpbmcgcHJvZHVjdENvZGUgUEsKICAgICAgICBpbnQgcXVhbnRpdHkKICAgICAgICBmbG9hdCBwcmljZVBlclVuaXQKICAgIH0KICAgIENVU1RPTUVSIHx8LS1veyBPUkRFUiA6IHBsYWNlcwogICAgT1JERVIgfHwtLXx7IExJTkUtSVRFTSA6IGNvbnRhaW5z\"/>"
      ],
      "text/plain": [
       "<IPython.core.display.Image object>"
      ]
     },
     "metadata": {},
     "output_type": "display_data"
    }
   ],
   "source": [
    "# The Json syntax is enriched by separator ':' or '::' in dict key to indicate that:\n",
    "#  - the second part of the key string is the data type\n",
    "#  - the dict value is a json entity (':') or a list of Json-NTV entities.\n",
    "from base64 import b64encode\n",
    "from IPython.display import Image, display\n",
    "from json_ntv import Ntv, diagram\n",
    "\n",
    "order_example = { \n",
    "    'json order example:$erDiagram' : { \n",
    "        'relationship::': [ \n",
    "            [ 'CUSTOMER', 'exactly one', 'identifying', 'zero or more', 'ORDER',     'places'],\n",
    "            [ 'ORDER',    'exactly one', 'identifying', 'one or more',  'LINE-ITEM', 'contains'] \n",
    "        ],\n",
    "        'entity::': {\n",
    "            'CUSTOMER':  [ \n",
    "                ['string', 'name',         'PK', 'the name'], \n",
    "                ['string', 'custNumber'] \n",
    "            ], \n",
    "            'ORDER': [ \n",
    "                ['int',    'orderNumber',  'PK'],\n",
    "                ['string', 'deliveryAdress'] \n",
    "            ],\n",
    "            'LINE-ITEM': [ \n",
    "                ['string', 'productCode',  'PK'],\n",
    "                ['int',    'quantity'],\n",
    "                ['float',  'pricePerUnit'] \n",
    "            ]   \n",
    "        },\n",
    "     } }\n",
    "\n",
    "diag = diagram(order_example)\n",
    "display(Image(url=\"https://mermaid.ink/img/\" + b64encode(diag.encode(\"ascii\")).decode(\"ascii\")))"
   ]
  },
  {
   "cell_type": "markdown",
   "id": "ce75058b",
   "metadata": {},
   "source": [
    "### ER-second example with additional information"
   ]
  },
  {
   "cell_type": "code",
   "execution_count": 5,
   "id": "db4ed37c",
   "metadata": {},
   "outputs": [
    {
     "data": {
      "text/html": [
       "<img src=\"https://mermaid.ink/img/LS0tCnRpdGxlOiBqc29uIG9yZGVyIGV4YW1wbGUgMgotLS0KZXJEaWFncmFtCiAgICBDVVNUT01FUiB7CiAgICAgICAgc3RyaW5nIG5hbWUgUEsgInRoZSBuYW1lIgogICAgICAgIHN0cmluZyBjdXN0TnVtYmVyCiAgICB9CiAgICBPUkRFUiB7CiAgICAgICAgaW50IG9yZGVyTnVtYmVyIFBLCiAgICAgICAgc3RyaW5nIGRlbGl2ZXJ5QWRyZXNzCiAgICB9CiAgICBMSU5FLUlURU0gewogICAgICAgIHN0cmluZyBwcm9kdWN0Q29kZSBQSwogICAgICAgIGludCBxdWFudGl0eQogICAgICAgIGZsb2F0IHByaWNlUGVyVW5pdAogICAgfQogICAgQ1VTVE9NRVIgfHwtLW97IE9SREVSIDogcGxhY2VzCiAgICBPUkRFUiB8fC0tfHsgTElORS1JVEVNIDogY29udGFpbnM=\"/>"
      ],
      "text/plain": [
       "<IPython.core.display.Image object>"
      ]
     },
     "metadata": {},
     "output_type": "display_data"
    }
   ],
   "source": [
    "# in this example we use the potential of the NTV format to add additional information\n",
    "# (without changing either the code or the output data)\n",
    "\n",
    "order_example2 = { \n",
    "    'json order example 2:$erDiagram' : { \n",
    "        'relationship::': [ \n",
    "            [ {'1st entity':'CUSTOMER'}, 'exactly one', 'identifying', 'zero or more', {'2nd entity':'ORDER'}, 'places'],\n",
    "            [ 'ORDER', {'to be confirmed': 'exactly one'}, 'identifying', 'one or more',  'LINE-ITEM', {'label': 'contains'}] \n",
    "        ],\n",
    "        'entity::': {\n",
    "            'CUSTOMER':  [ \n",
    "                ['string', 'name', 'PK', {'comments': 'the name'}], \n",
    "                ['string', 'custNumber'] \n",
    "            ], \n",
    "            'ORDER': [ \n",
    "                {'type_att':'int', 'name_att':'orderNumber',  'key_att': 'PK'},\n",
    "                {'this attribute is not yet valid' : ['string', 'deliveryAdress']}\n",
    "            ],\n",
    "            'LINE-ITEM': { \n",
    "                'first attribute': ['string', 'productCode',  'PK'],\n",
    "                'second attribute': ['int',    'quantity'],\n",
    "                'third attribute': {'type_att':'float',  'name_att':'pricePerUnit'} \n",
    "            }   \n",
    "        },\n",
    "     } }\n",
    "\n",
    "diag = diagram(order_example2)\n",
    "display(Image(url=\"https://mermaid.ink/img/\" + b64encode(diag.encode(\"ascii\")).decode(\"ascii\")))"
   ]
  },
  {
   "cell_type": "markdown",
   "id": "fa8b2cfc",
   "metadata": {},
   "source": [
    "## Example of Flowchart Diagram"
   ]
  },
  {
   "cell_type": "markdown",
   "id": "4b482322",
   "metadata": {},
   "source": [
    "### FC-example with simple structure"
   ]
  },
  {
   "cell_type": "code",
   "execution_count": 6,
   "id": "e45a2162",
   "metadata": {},
   "outputs": [
    {
     "data": {
      "text/html": [
       "<img src=\"https://mermaid.ink/img/LS0tCnRpdGxlOiBqc29uIGZsb3djaGFydCBleGFtcGxlCi0tLQpmbG93Y2hhcnQgVEQKICAgIDAoIjxiPnZhbHVlPC9iPiIpCiAgICAxNCgiZnJ1aXRzIikKICAgIDEzKCI8Yj46OjwvYj4iKQogICAgMlsiPGI+a2l3aTwvYj4KPGk+MzwvaT4iXQogICAgM1siPGI+bWFuZ3VlczwvYj4KPGk+NDwvaT4iXQogICAgMCAtLT4gMTQKICAgIDE0IC0tPiAxMwogICAgMTMgLS4tPnx0ZXN0fCAyCiAgICAxMyAtLT4gMwo=\"/>"
      ],
      "text/plain": [
       "<IPython.core.display.Image object>"
      ]
     },
     "metadata": {},
     "output_type": "display_data"
    }
   ],
   "source": [
    "fc_example = { \n",
    "    'json flowchart example:$flowchart' : { \n",
    "        'orientation': 'top-down',\n",
    "        'node::': {\n",
    "            '0' : ['roundedge', '<b>value</b>'],\n",
    "            '14': ['roundedge', 'fruits'],\n",
    "            '13': ['roundedge', '<b>::</b>'],\n",
    "            '2' : ['rectangle', '<b>kiwi</b>\\n<i>3</i>'], \n",
    "            '3' : ['rectangle', \"<b>mangues</b>\\n<i>4</i>\"]\n",
    "        },\n",
    "        'link::': [ \n",
    "            [ '0' , 'normalarrow', '14'],\n",
    "            [ '14', 'normalarrow', '13'],\n",
    "            [ '13', 'dottedarrow', '2', 'test'],\n",
    "            [ '13', 'normalarrow', '3'],         \n",
    "        ]\n",
    "     }\n",
    "}\n",
    "\n",
    "diag = diagram(fc_example)\n",
    "display(Image(url=\"https://mermaid.ink/img/\" + b64encode(diag.encode(\"ascii\")).decode(\"ascii\")))"
   ]
  },
  {
   "cell_type": "markdown",
   "id": "245f5bae",
   "metadata": {},
   "source": [
    "### Example of simple JSON "
   ]
  },
  {
   "cell_type": "code",
   "execution_count": 12,
   "id": "17ee3f8e",
   "metadata": {},
   "outputs": [
    {
     "data": {
      "text/html": [
       "<img src=\"https://mermaid.ink/img/LS0tCnRpdGxlOiBqc29uIGZsb3djaGFydAotLS0KZmxvd2NoYXJ0IFRECiAgICAwKCI8Yj5leGFtcGxlPC9iPiIpCiAgICAwMCgiPGI+ZnJ1aXRzPC9iPiIpCiAgICAwMDAoIjxiPjo6PC9iPiIpCiAgICAwMDAwWyI8Yj5raXdpczwvYj4KPGk+MzwvaT4iXQogICAgMDAwMVsiPGI+bWFuZ3VlczwvYj4KPGk+NDwvaT4iXQogICAgMDAwMlsiPGI+cG9tbWVzPC9iPgo8aT5udWxsPC9pPiJdCiAgICAwMDFbIjxiPnBhbmllcjwvYj4KPGk+dHJ1ZTwvaT4iXQogICAgMDEoIjxiPmxlZ3VtZXM8L2I+IikKICAgIDAxMFsiPGI+cGF0YXRlczwvYj4KPGk+YW1hbmRpbmU8L2k+Il0KICAgIDAxMVsiPGI+cG9pcmVhdXg8L2I+CjxpPmZhbHNlPC9pPiJdCiAgICAwMigiPGI+dmlhbmRlczwvYj4iKQogICAgMDIwWyI8aT5wb2lzc29uPC9pPiJdCiAgICAwMjFbIjxpPnBvdWxldDwvaT4iXQogICAgMDIyWyI8aT5ib2V1ZjwvaT4iXQogICAgMDAwIC0tPiAwMDAwCiAgICAwMDAgLS0+IDAwMDEKICAgIDAwMCAtLT4gMDAwMgogICAgMDAgLS0+IDAwMAogICAgMDAgLS0+IDAwMQogICAgMCAtLT4gMDAKICAgIDAxIC0tPiAwMTAKICAgIDAxIC0tPiAwMTEKICAgIDAgLS0+IDAxCiAgICAwMiAtLT4gMDIwCiAgICAwMiAtLT4gMDIxCiAgICAwMiAtLT4gMDIyCiAgICAwIC0tPiAwMgo=\"/>"
      ],
      "text/plain": [
       "<IPython.core.display.Image object>"
      ]
     },
     "metadata": {},
     "output_type": "display_data"
    }
   ],
   "source": [
    "json_example = { 'example::': {\n",
    "  \"fruits\": [\n",
    "    { \"kiwis\": 3, \"mangues\": 4, \"pommes\": None },\n",
    "    { \"panier\": True }\n",
    "  ],\n",
    "  \"legumes\": {\n",
    "      \"patates\": \"amandine\",\n",
    "      \"poireaux\": False\n",
    "   },\n",
    "   \"viandes\": [\"poisson\",\"poulet\",\"boeuf\"]\n",
    " }}\n",
    "Ntv.obj(json_example).to_mermaid('json flowchart', disp=True)"
   ]
  },
  {
   "cell_type": "markdown",
   "id": "bb0fd389",
   "metadata": {},
   "source": [
    "### Example of NTV data"
   ]
  },
  {
   "cell_type": "code",
   "execution_count": 10,
   "id": "b9e9fe95",
   "metadata": {},
   "outputs": [
    {
     "data": {
      "text/html": [
       "<img src=\"https://mermaid.ink/img/LS0tCnRpdGxlOiBOVFYgZmxvd2NoYXJ0Ci0tLQpmbG93Y2hhcnQgVEQKICAgIDAoIjxiPk5UViBleGFtcGxlPC9iPiIpCiAgICAwMCgiPGI+ZnJ1aXRzPC9iPiIpCiAgICAwMDAoIjxiPjo6PC9iPiIpCiAgICAwMDAwWyI8Yj5raXdpczwvYj4KPGk+MzwvaT4iXQogICAgMDAwMVsiPGI+bWFuZ3VlczwvYj4KaW50CjxpPjQ8L2k+Il0KICAgIDAwMDJbIjxiPnBvbW1lczwvYj4KPGk+bnVsbDwvaT4iXQogICAgMDAxWyI8Yj5wYW5pZXI8L2I+CjxpPnRydWU8L2k+Il0KICAgIDAxKCI8Yj5sZWd1bWVzPC9iPiIpCiAgICAwMTBbIjxiPnBhdGF0ZXM8L2I+CnN0cmluZwo8aT5hbWFuZGluZTwvaT4iXQogICAgMDExWyI8Yj5wb2lyZWF1eDwvYj4KPGk+ZmFsc2U8L2k+Il0KICAgIDAyKCI8Yj52aWFuZGVzPC9iPiIpCiAgICAwMjBbIjxpPnBvaXNzb248L2k+Il0KICAgIDAyMVsic3RyaW5nCjxpPnBvdWxldDwvaT4iXQogICAgMDIyWyI8aT5ib2V1ZjwvaT4iXQogICAgMDAwIC0tPiAwMDAwCiAgICAwMDAgLS0+IDAwMDEKICAgIDAwMCAtLT4gMDAwMgogICAgMDAgLS0+IDAwMAogICAgMDAgLS0+IDAwMQogICAgMCAtLT4gMDAKICAgIDAxIC0tPiAwMTAKICAgIDAxIC0tPiAwMTEKICAgIDAgLS0+IDAxCiAgICAwMiAtLT4gMDIwCiAgICAwMiAtLT4gMDIxCiAgICAwMiAtLT4gMDIyCiAgICAwIC0tPiAwMgo=\"/>"
      ],
      "text/plain": [
       "<IPython.core.display.Image object>"
      ]
     },
     "metadata": {},
     "output_type": "display_data"
    }
   ],
   "source": [
    "ntv_example = { 'NTV example::': {\n",
    "  \"fruits\": [\n",
    "     {\"kiwis\": 3, \"mangues:int\": 4, \"pommes\": None },\n",
    "     {\"panier\": True }\n",
    "  ],\n",
    "  \"legumes::json\": {\n",
    "      \"patates:string\": \"amandine\",\n",
    "      \"poireaux\": False\n",
    "    },\n",
    "  \"viandes\": [\"poisson\",{\":string\": \"poulet\"},\"boeuf\"]\n",
    " }}\n",
    "Ntv.obj(ntv_example).to_mermaid('NTV flowchart', disp=True)"
   ]
  },
  {
   "cell_type": "markdown",
   "id": "7babb69c",
   "metadata": {},
   "source": [
    "### Example of NTV-TAB data"
   ]
  },
  {
   "cell_type": "code",
   "execution_count": 11,
   "id": "4520fe31",
   "metadata": {},
   "outputs": [
    {
     "data": {
      "text/html": [
       "<img src=\"https://mermaid.ink/img/LS0tCnRpdGxlOiB0YWIgZGF0YSBleGFtcGxlCi0tLQpmbG93Y2hhcnQgVEQKICAgIDAoIjxiPnRhYjwvYj4iKQogICAgMDAoIjxiPmluZGV4PC9iPiIpCiAgICAwMDBbIjxpPjE8L2k+Il0KICAgIDAwMVsiPGk+MjwvaT4iXQogICAgMDAyWyI8aT4zPC9pPiJdCiAgICAwMSgiPGI+ZGF0ZXM8L2I+CmRhdGV0aW1lIikKICAgIDAxMFsiPGk+MTk2NC0wMS0wMTwvaT4iXQogICAgMDExWyI8aT4xOTg1LTAyLTA1PC9pPiJdCiAgICAwMTJbIjxpPjIwMjItMDEtMjE8L2k+Il0KICAgIDAyKCI8Yj52YWx1ZTwvYj4iKQogICAgMDIwWyI8aT4xMDwvaT4iXQogICAgMDIxWyI8aT4yMDwvaT4iXQogICAgMDIyWyI8aT4zMDwvaT4iXQogICAgMDMoIjxiPnZhbHVlMzI8L2I+CmludDMyIikKICAgIDAzMFsiPGk+MTA8L2k+Il0KICAgIDAzMVsiPGk+MjA8L2k+Il0KICAgIDAzMlsiPGk+MzA8L2k+Il0KICAgIDA0KCI8Yj5jb29yZDwvYj4KcG9pbnQiKQogICAgMDQwWyI8aT5bMSwgMl08L2k+Il0KICAgIDA0MVsiPGk+WzMsIDRdPC9pPiJdCiAgICAwNDJbIjxpPls1LCA2XTwvaT4iXQogICAgMDUoIjxiPm5hbWVzPC9iPgpzdHJpbmciKQogICAgMDUwWyI8aT5qb2huPC9pPiJdCiAgICAwNTFbIjxpPmVyaWM8L2k+Il0KICAgIDA1MlsiPGk+anVkaXRoPC9pPiJdCiAgICAwMCAtLT4gMDAwCiAgICAwMCAtLT4gMDAxCiAgICAwMCAtLT4gMDAyCiAgICAwIC0tPiAwMAogICAgMDEgLS0+IDAxMAogICAgMDEgLS0+IDAxMQogICAgMDEgLS0+IDAxMgogICAgMCAtLT4gMDEKICAgIDAyIC0tPiAwMjAKICAgIDAyIC0tPiAwMjEKICAgIDAyIC0tPiAwMjIKICAgIDAgLS0+IDAyCiAgICAwMyAtLT4gMDMwCiAgICAwMyAtLT4gMDMxCiAgICAwMyAtLT4gMDMyCiAgICAwIC0tPiAwMwogICAgMDQgLS0+IDA0MAogICAgMDQgLS0+IDA0MQogICAgMDQgLS0+IDA0MgogICAgMCAtLT4gMDQKICAgIDA1IC0tPiAwNTAKICAgIDA1IC0tPiAwNTEKICAgIDA1IC0tPiAwNTIKICAgIDAgLS0+IDA1Cg==\"/>"
      ],
      "text/plain": [
       "<IPython.core.display.Image object>"
      ]
     },
     "metadata": {},
     "output_type": "display_data"
    }
   ],
   "source": [
    "tab_data   = {'index':           [1, 2, 3],\n",
    "              'dates::datetime': ['1964-01-01', '1985-02-05', '2022-01-21'], \n",
    "              'value':           [10, 20, 30],\n",
    "              'value32::int32':  [10, 20, 30],\n",
    "              'coord::point':    [[1,2], [3,4], [5,6]],\n",
    "              'names::string':   ['john', 'eric', 'judith']}\n",
    "Ntv.obj({'tab': tab_data}).to_mermaid('tab data example', disp=True)"
   ]
  }
 ],
 "metadata": {
  "kernelspec": {
   "display_name": "Python 3 (ipykernel)",
   "language": "python",
   "name": "python3"
  },
  "language_info": {
   "codemirror_mode": {
    "name": "ipython",
    "version": 3
   },
   "file_extension": ".py",
   "mimetype": "text/x-python",
   "name": "python",
   "nbconvert_exporter": "python",
   "pygments_lexer": "ipython3",
   "version": "3.10.9"
  }
 },
 "nbformat": 4,
 "nbformat_minor": 5
}
