{
 "cells": [
  {
   "cell_type": "markdown",
   "id": "fed3e24e",
   "metadata": {},
   "source": [
    "# JSON interface for diagram creation\n",
    "------\n",
    "## Example of Entity Relationship Diagram\n",
    "- [ER-example with simple structure](#ER-example-with-simple-structure)\n",
    "- [ER-second example with additional information](#ER-second-example-with-additional-information)\n",
    "\n",
    "## Example of Flowchart Diagram\n",
    "- [FC-example with simple structure](#FC-example-with-simple-structure)\n",
    "- [Example of NTV data](#Example-of-NTV-data)\n",
    "- [Example of NTV-TAB data](#Example-of-NTV-TAB-data)"
   ]
  },
  {
   "cell_type": "markdown",
   "id": "014c4e86",
   "metadata": {},
   "source": [
    "-------\n",
    "[Functions used to create diagram from json](https://github.com/loco-philippe/NTV/blob/main/json_ntv/json_mermaid.py)"
   ]
  },
  {
   "cell_type": "markdown",
   "id": "9a740b81",
   "metadata": {},
   "source": [
    "## Example of Entity Relationship Diagram"
   ]
  },
  {
   "cell_type": "markdown",
   "id": "2fc95986",
   "metadata": {},
   "source": [
    "### ER-example with simple structure"
   ]
  },
  {
   "cell_type": "code",
   "execution_count": 9,
   "id": "310d0101",
   "metadata": {},
   "outputs": [
    {
     "data": {
      "text/html": [
       "<img src=\"https://mermaid.ink/img/LS0tCnRpdGxlOiBqc29uIG9yZGVyIGV4YW1wbGUKLS0tCmVyRGlhZ3JhbQogICAgQ1VTVE9NRVIgewogICAgICAgIHN0cmluZyBuYW1lIFBLICJ0aGUgbmFtZSIKICAgICAgICBzdHJpbmcgY3VzdE51bWJlcgogICAgfQogICAgT1JERVIgewogICAgICAgIGludCBvcmRlck51bWJlciBQSwogICAgICAgIHN0cmluZyBkZWxpdmVyeUFkcmVzcwogICAgfQogICAgTElORS1JVEVNIHsKICAgICAgICBzdHJpbmcgcHJvZHVjdENvZGUgUEsKICAgICAgICBpbnQgcXVhbnRpdHkKICAgICAgICBmbG9hdCBwcmljZVBlclVuaXQKICAgIH0KICAgIENVU1RPTUVSIHx8LS1veyBPUkRFUiA6IHBsYWNlcwogICAgT1JERVIgfHwtLXx7IExJTkUtSVRFTSA6IGNvbnRhaW5z\"/>"
      ],
      "text/plain": [
       "<IPython.core.display.Image object>"
      ]
     },
     "metadata": {},
     "output_type": "display_data"
    }
   ],
   "source": [
    "# The Json syntax is enriched by separator ':' or '::' in dict key to indicate that:\n",
    "#  - the second part of the key string is the data type\n",
    "#  - the dict value is a json entity (':') or a list of Json-NTV entities.\n",
    "from base64 import b64encode\n",
    "from IPython.display import Image, display\n",
    "from json_ntv import Ntv, MermaidConnec\n",
    "\n",
    "order_example = { \n",
    "    'json order example:$erDiagram' : { \n",
    "        'relationship': [ \n",
    "            [ 'CUSTOMER', 'exactly one', 'identifying', 'zero or more', 'ORDER',     'places'],\n",
    "            [ 'ORDER',    'exactly one', 'identifying', 'one or more',  'LINE-ITEM', 'contains'] \n",
    "        ],\n",
    "        'entity': {\n",
    "            'CUSTOMER':  [ \n",
    "                ['string', 'name',         'PK', 'the name'], \n",
    "                ['string', 'custNumber'] \n",
    "            ], \n",
    "            'ORDER': [ \n",
    "                ['int',    'orderNumber',  'PK'],\n",
    "                ['string', 'deliveryAdress'] \n",
    "            ],\n",
    "            'LINE-ITEM': [ \n",
    "                ['string', 'productCode',  'PK'],\n",
    "                ['int',    'quantity'],\n",
    "                ['float',  'pricePerUnit'] \n",
    "            ]   \n",
    "        },\n",
    "     } }\n",
    "\n",
    "diag = MermaidConnec.diagram(order_example)\n",
    "display(Image(url=\"https://mermaid.ink/img/\" + b64encode(diag.encode(\"ascii\")).decode(\"ascii\")))"
   ]
  },
  {
   "cell_type": "markdown",
   "id": "ce75058b",
   "metadata": {},
   "source": [
    "### ER-second example with additional information"
   ]
  },
  {
   "cell_type": "code",
   "execution_count": 2,
   "id": "db4ed37c",
   "metadata": {},
   "outputs": [
    {
     "data": {
      "text/html": [
       "<img src=\"https://mermaid.ink/img/LS0tCnRpdGxlOiBqc29uIG9yZGVyIGV4YW1wbGUgMgotLS0KZXJEaWFncmFtCiAgICBDVVNUT01FUiB7CiAgICAgICAgc3RyaW5nIG5hbWUgUEsgInRoZSBuYW1lIgogICAgICAgIHN0cmluZyBjdXN0TnVtYmVyCiAgICB9CiAgICBPUkRFUiB7CiAgICAgICAgaW50IG9yZGVyTnVtYmVyIFBLCiAgICAgICAgc3RyaW5nIGRlbGl2ZXJ5QWRyZXNzCiAgICB9CiAgICBMSU5FLUlURU0gewogICAgICAgIHN0cmluZyBwcm9kdWN0Q29kZSBQSwogICAgICAgIGludCBxdWFudGl0eQogICAgICAgIGZsb2F0IHByaWNlUGVyVW5pdAogICAgfQogICAgQ1VTVE9NRVIgfHwtLW97IE9SREVSIDogcGxhY2VzCiAgICBPUkRFUiB8fC0tfHsgTElORS1JVEVNIDogY29udGFpbnM=\"/>"
      ],
      "text/plain": [
       "<IPython.core.display.Image object>"
      ]
     },
     "metadata": {},
     "output_type": "display_data"
    }
   ],
   "source": [
    "# in this example we use the potential of the NTV format to add additional information\n",
    "# (without changing either the code or the output data)\n",
    "\n",
    "order_example2 = { \n",
    "    'json order example 2:$erDiagram' : { \n",
    "        'relationship::': [ \n",
    "            [ {'1st entity':'CUSTOMER'}, 'exactly one', 'identifying', 'zero or more', {'2nd entity':'ORDER'}, 'places'],\n",
    "            [ 'ORDER', {'to be confirmed': 'exactly one'}, 'identifying', 'one or more',  'LINE-ITEM', {'label': 'contains'}] \n",
    "        ],\n",
    "        'entity::': {\n",
    "            'CUSTOMER':  [ \n",
    "                ['string', 'name', 'PK', {'comments': 'the name'}], \n",
    "                ['string', 'custNumber'] \n",
    "            ], \n",
    "            'ORDER': [ \n",
    "                {'type_att':'int', 'name_att':'orderNumber',  'key_att': 'PK'},\n",
    "                {'this attribute is not yet valid' : ['string', 'deliveryAdress']}\n",
    "            ],\n",
    "            'LINE-ITEM': { \n",
    "                'first attribute': ['string', 'productCode',  'PK'],\n",
    "                'second attribute': ['int',    'quantity'],\n",
    "                'third attribute': {'type_att':'float',  'name_att':'pricePerUnit'} \n",
    "            }   \n",
    "        },\n",
    "     } }\n",
    "\n",
    "diag = MermaidConnec.diagram(order_example2)\n",
    "display(Image(url=\"https://mermaid.ink/img/\" + b64encode(diag.encode(\"ascii\")).decode(\"ascii\")))"
   ]
  },
  {
   "cell_type": "markdown",
   "id": "0cb35f65",
   "metadata": {},
   "source": [
    "## Example of Flowchart Diagram"
   ]
  },
  {
   "cell_type": "markdown",
   "id": "226f9cc9",
   "metadata": {},
   "source": [
    "### FC-example with simple structure"
   ]
  },
  {
   "cell_type": "code",
   "execution_count": 3,
   "id": "2bac06b7",
   "metadata": {},
   "outputs": [
    {
     "data": {
      "text/html": [
       "<img src=\"https://mermaid.ink/img/LS0tCnRpdGxlOiBqc29uIGZsb3djaGFydCBleGFtcGxlCi0tLQpmbG93Y2hhcnQgVEQKICAgIDAoIjxiPnZhbHVlPC9iPiIpCiAgICAxNCgiZnJ1aXRzIikKICAgIDEzKCI8Yj46OjwvYj4iKQogICAgMlsiPGI+a2l3aTwvYj4KPGk+MzwvaT4iXQogICAgM1siPGI+bWFuZ3VlczwvYj4KPGk+NDwvaT4iXQogICAgMCAtLT4gMTQKICAgIDE0IC0tPiAxMwogICAgMTMgLS4tPnx0ZXN0fCAyCiAgICAxMyAtLT4gMwo=\"/>"
      ],
      "text/plain": [
       "<IPython.core.display.Image object>"
      ]
     },
     "metadata": {},
     "output_type": "display_data"
    }
   ],
   "source": [
    "fc_example = { \n",
    "    'json flowchart example:$flowchart' : { \n",
    "        'orientation': 'top-down',\n",
    "        'node::': {\n",
    "            '0' : ['roundedge', '<b>value</b>'],\n",
    "            '14': ['roundedge', 'fruits'],\n",
    "            '13': ['roundedge', '<b>::</b>'],\n",
    "            '2' : ['rectangle', '<b>kiwi</b>\\n<i>3</i>'], \n",
    "            '3' : ['rectangle', \"<b>mangues</b>\\n<i>4</i>\"]\n",
    "        },\n",
    "        'link::': [ \n",
    "            [ '0' , 'normalarrow', '14'],\n",
    "            [ '14', 'normalarrow', '13'],\n",
    "            [ '13', 'dottedarrow', '2', 'test'],\n",
    "            [ '13', 'normalarrow', '3'],         \n",
    "        ]\n",
    "     }\n",
    "}\n",
    "\n",
    "diag = MermaidConnec.diagram(fc_example)\n",
    "display(Image(url=\"https://mermaid.ink/img/\" + b64encode(diag.encode(\"ascii\")).decode(\"ascii\")))"
   ]
  },
  {
   "cell_type": "markdown",
   "id": "66a61661",
   "metadata": {},
   "source": [
    "### Example of simple JSON "
   ]
  },
  {
   "cell_type": "code",
   "execution_count": 4,
   "id": "da805b92",
   "metadata": {},
   "outputs": [
    {
     "data": {
      "text/html": [
       "<img src=\"https://mermaid.ink/img/LS0tCnRpdGxlOiBqc29uIGZsb3djaGFydAotLS0KZmxvd2NoYXJ0IFRECiAgICAvKCI8Yj5leGFtcGxlPC9iPiIpCiAgICAvMCgiPGI+ZnJ1aXRzPC9iPiIpCiAgICAvMC8wKCI8Yj46OjwvYj4iKQogICAgLzAvMC8wWyI8Yj5raXdpczwvYj4KPGk+MzwvaT4iXQogICAgLzAvMC8xWyI8Yj5tYW5ndWVzPC9iPgo8aT40PC9pPiJdCiAgICAvMC8wLzJbIjxiPnBvbW1lczwvYj4KPGk+bnVsbDwvaT4iXQogICAgLzAvMVsiPGI+cGFuaWVyPC9iPgo8aT50cnVlPC9pPiJdCiAgICAvMSgiPGI+bGVndW1lczwvYj4iKQogICAgLzEvMFsiPGI+cGF0YXRlczwvYj4KPGk+YW1hbmRpbmU8L2k+Il0KICAgIC8xLzFbIjxiPnBvaXJlYXV4PC9iPgo8aT5mYWxzZTwvaT4iXQogICAgLzIoIjxiPnZpYW5kZXM8L2I+IikKICAgIC8yLzBbIjxpPnBvaXNzb248L2k+Il0KICAgIC8yLzFbIjxpPnBvdWxldDwvaT4iXQogICAgLzIvMlsiPGk+Ym9ldWY8L2k+Il0KICAgIC8wLzAgLS0+IC8wLzAvMAogICAgLzAvMCAtLT4gLzAvMC8xCiAgICAvMC8wIC0tPiAvMC8wLzIKICAgIC8wIC0tPiAvMC8wCiAgICAvMCAtLT4gLzAvMQogICAgLyAtLT4gLzAKICAgIC8xIC0tPiAvMS8wCiAgICAvMSAtLT4gLzEvMQogICAgLyAtLT4gLzEKICAgIC8yIC0tPiAvMi8wCiAgICAvMiAtLT4gLzIvMQogICAgLzIgLS0+IC8yLzIKICAgIC8gLS0+IC8yCg==\"/>"
      ],
      "text/plain": [
       "<IPython.core.display.Image object>"
      ]
     },
     "metadata": {},
     "output_type": "display_data"
    }
   ],
   "source": [
    "json_example = { 'example::': {\n",
    "  \"fruits\": [\n",
    "    { \"kiwis\": 3, \"mangues\": 4, \"pommes\": None },\n",
    "    { \"panier\": True }\n",
    "  ],\n",
    "  \"legumes\": {\n",
    "      \"patates\": \"amandine\",\n",
    "      \"poireaux\": False\n",
    "   },\n",
    "   \"viandes\": [\"poisson\",\"poulet\",\"boeuf\"]\n",
    " }}\n",
    "Ntv.obj(json_example).to_mermaid('json flowchart', disp=True)"
   ]
  },
  {
   "cell_type": "markdown",
   "id": "196533ba",
   "metadata": {},
   "source": [
    "### Example of NTV data"
   ]
  },
  {
   "cell_type": "code",
   "execution_count": 5,
   "id": "19c404dc",
   "metadata": {},
   "outputs": [
    {
     "data": {
      "text/html": [
       "<img src=\"https://mermaid.ink/img/LS0tCnRpdGxlOiBOVFYgZmxvd2NoYXJ0Ci0tLQpmbG93Y2hhcnQgVEQKICAgIC8oIjxiPk5UViBleGFtcGxlPC9iPiIpCiAgICAvMCgiPGI+ZnJ1aXRzPC9iPiIpCiAgICAvMC8wKCI8Yj46OjwvYj4iKQogICAgLzAvMC8wWyI8Yj5raXdpczwvYj4KPGk+MzwvaT4iXQogICAgLzAvMC8xWyI8Yj5tYW5ndWVzPC9iPgppbnQKPGk+NDwvaT4iXQogICAgLzAvMC8yWyI8Yj5wb21tZXM8L2I+CjxpPm51bGw8L2k+Il0KICAgIC8wLzFbIjxiPnBhbmllcjwvYj4KPGk+dHJ1ZTwvaT4iXQogICAgLzEoIjxiPmxlZ3VtZXM8L2I+Cmpzb24iKQogICAgLzEvMFsiPGI+cGF0YXRlczwvYj4Kc3RyaW5nCjxpPmFtYW5kaW5lPC9pPiJdCiAgICAvMS8xWyI8Yj5wb2lyZWF1eDwvYj4KPGk+ZmFsc2U8L2k+Il0KICAgIC8yKCI8Yj52aWFuZGVzPC9iPiIpCiAgICAvMi8wWyI8aT5wb2lzc29uPC9pPiJdCiAgICAvMi8xWyJzdHJpbmcKPGk+cG91bGV0PC9pPiJdCiAgICAvMi8yWyI8aT5ib2V1ZjwvaT4iXQogICAgLzAvMCAtLT4gLzAvMC8wCiAgICAvMC8wIC0tPiAvMC8wLzEKICAgIC8wLzAgLS0+IC8wLzAvMgogICAgLzAgLS0+IC8wLzAKICAgIC8wIC0tPiAvMC8xCiAgICAvIC0tPiAvMAogICAgLzEgLS0+IC8xLzAKICAgIC8xIC0tPiAvMS8xCiAgICAvIC0tPiAvMQogICAgLzIgLS0+IC8yLzAKICAgIC8yIC0tPiAvMi8xCiAgICAvMiAtLT4gLzIvMgogICAgLyAtLT4gLzIK\"/>"
      ],
      "text/plain": [
       "<IPython.core.display.Image object>"
      ]
     },
     "metadata": {},
     "output_type": "display_data"
    }
   ],
   "source": [
    "ntv_example = { 'NTV example::': {\n",
    "  \"fruits\": [\n",
    "     {\"kiwis\": 3, \"mangues:int\": 4, \"pommes\": None },\n",
    "     {\"panier\": True }\n",
    "  ],\n",
    "  \"legumes::json\": {\n",
    "      \"patates:string\": \"amandine\",\n",
    "      \"poireaux\": False\n",
    "    },\n",
    "  \"viandes\": [\"poisson\",{\":string\": \"poulet\"},\"boeuf\"]\n",
    " }}\n",
    "Ntv.obj(ntv_example).to_mermaid('NTV flowchart', disp=True)"
   ]
  },
  {
   "cell_type": "code",
   "execution_count": 6,
   "id": "8660b3cc",
   "metadata": {},
   "outputs": [
    {
     "data": {
      "text/html": [
       "<img src=\"https://mermaid.ink/img/LS0tCnRpdGxlOiBOVFYgZmxvd2NoYXJ0Ci0tLQpmbG93Y2hhcnQgVEQKICAgIC8oIjxiPk5UViBleGFtcGxlPC9iPgo8aT4wPC9pPiIpCiAgICAvMCgiPGI+ZnJ1aXRzPC9iPgo8aT4xPC9pPiIpCiAgICAvMC8wKCI8aT4yPC9pPiIpCiAgICAvMC8wLzAoIjxiPmtpd2lzPC9iPgo8aT4zPC9pPiIpCiAgICAvMC8wLzEoIjxiPm1hbmd1ZXM8L2I+CmludAo8aT40PC9pPiIpCiAgICAvMC8wLzIoIjxiPnBvbW1lczwvYj4KPGk+NTwvaT4iKQogICAgLzAvMSgiPGI+cGFuaWVyPC9iPgo8aT42PC9pPiIpCiAgICAvMSgiPGI+bGVndW1lczwvYj4KanNvbgo8aT43PC9pPiIpCiAgICAvMS8wKCI8Yj5wYXRhdGVzPC9iPgpzdHJpbmcKPGk+ODwvaT4iKQogICAgLzEvMSgiPGI+cG9pcmVhdXg8L2I+CjxpPjk8L2k+IikKICAgIC8yKCI8Yj52aWFuZGVzPC9iPgo8aT4xMDwvaT4iKQogICAgLzIvMCgiPGk+MTE8L2k+IikKICAgIC8yLzEoInN0cmluZwo8aT4xMjwvaT4iKQogICAgLzIvMigiPGk+MTM8L2k+IikKICAgIC8wLzAgLS0+IC8wLzAvMAogICAgLzAvMCAtLT4gLzAvMC8xCiAgICAvMC8wIC0tPiAvMC8wLzIKICAgIC8wIC0tPiAvMC8wCiAgICAvMCAtLT4gLzAvMQogICAgLyAtLT4gLzAKICAgIC8xIC0tPiAvMS8wCiAgICAvMSAtLT4gLzEvMQogICAgLyAtLT4gLzEKICAgIC8yIC0tPiAvMi8wCiAgICAvMiAtLT4gLzIvMQogICAgLzIgLS0+IC8yLzIKICAgIC8gLS0+IC8yCg==\"/>"
      ],
      "text/plain": [
       "<IPython.core.display.Image object>"
      ]
     },
     "metadata": {},
     "output_type": "display_data"
    }
   ],
   "source": [
    "Ntv.obj(ntv_example).to_mermaid('NTV flowchart', disp=True, row=True)"
   ]
  },
  {
   "cell_type": "markdown",
   "id": "813f0dca",
   "metadata": {},
   "source": [
    "### Example of NTV-TAB data"
   ]
  },
  {
   "cell_type": "code",
   "execution_count": 7,
   "id": "2d153ca4",
   "metadata": {},
   "outputs": [
    {
     "data": {
      "text/html": [
       "<img src=\"https://mermaid.ink/img/LS0tCnRpdGxlOiB0YWIgZGF0YSBleGFtcGxlCi0tLQpmbG93Y2hhcnQgVEQKICAgIC8oIjxiPnRhYjwvYj4iKQogICAgLzAoIjxiPmluZGV4PC9iPiIpCiAgICAvMC8wWyI8aT4xPC9pPiJdCiAgICAvMC8xWyI8aT4yPC9pPiJdCiAgICAvMC8yWyI8aT4zPC9pPiJdCiAgICAvMSgiPGI+ZGF0ZXM8L2I+CmRhdGV0aW1lIikKICAgIC8xLzBbIjxpPjE5NjQtMDEtMDE8L2k+Il0KICAgIC8xLzFbIjxpPjE5ODUtMDItMDU8L2k+Il0KICAgIC8xLzJbIjxpPjIwMjItMDEtMjE8L2k+Il0KICAgIC8yKCI8Yj52YWx1ZTwvYj4iKQogICAgLzIvMFsiPGk+MTA8L2k+Il0KICAgIC8yLzFbIjxpPjIwPC9pPiJdCiAgICAvMi8yWyI8aT4zMDwvaT4iXQogICAgLzMoIjxiPnZhbHVlMzI8L2I+CmludDMyIikKICAgIC8zLzBbIjxpPjEwPC9pPiJdCiAgICAvMy8xWyI8aT4yMDwvaT4iXQogICAgLzMvMlsiPGk+MzA8L2k+Il0KICAgIC80KCI8Yj5jb29yZDwvYj4KcG9pbnQiKQogICAgLzQvMFsiPGk+WzEsIDJdPC9pPiJdCiAgICAvNC8xWyI8aT5bMywgNF08L2k+Il0KICAgIC80LzJbIjxpPls1LCA2XTwvaT4iXQogICAgLzUoIjxiPm5hbWVzPC9iPgpzdHJpbmciKQogICAgLzUvMFsiPGk+am9objwvaT4iXQogICAgLzUvMVsiPGk+ZXJpYzwvaT4iXQogICAgLzUvMlsiPGk+anVkaXRoPC9pPiJdCiAgICAvMCAtLT4gLzAvMAogICAgLzAgLS0+IC8wLzEKICAgIC8wIC0tPiAvMC8yCiAgICAvIC0tPiAvMAogICAgLzEgLS0+IC8xLzAKICAgIC8xIC0tPiAvMS8xCiAgICAvMSAtLT4gLzEvMgogICAgLyAtLT4gLzEKICAgIC8yIC0tPiAvMi8wCiAgICAvMiAtLT4gLzIvMQogICAgLzIgLS0+IC8yLzIKICAgIC8gLS0+IC8yCiAgICAvMyAtLT4gLzMvMAogICAgLzMgLS0+IC8zLzEKICAgIC8zIC0tPiAvMy8yCiAgICAvIC0tPiAvMwogICAgLzQgLS0+IC80LzAKICAgIC80IC0tPiAvNC8xCiAgICAvNCAtLT4gLzQvMgogICAgLyAtLT4gLzQKICAgIC81IC0tPiAvNS8wCiAgICAvNSAtLT4gLzUvMQogICAgLzUgLS0+IC81LzIKICAgIC8gLS0+IC81Cg==\"/>"
      ],
      "text/plain": [
       "<IPython.core.display.Image object>"
      ]
     },
     "metadata": {},
     "output_type": "display_data"
    }
   ],
   "source": [
    "tab_data   = {'index':           [1, 2, 3],\n",
    "              'dates::datetime': ['1964-01-01', '1985-02-05', '2022-01-21'], \n",
    "              'value':           [10, 20, 30],\n",
    "              'value32::int32':  [10, 20, 30],\n",
    "              'coord::point':    [[1,2], [3,4], [5,6]],\n",
    "              'names::string':   ['john', 'eric', 'judith']}\n",
    "Ntv.obj({'tab': tab_data}).to_mermaid('tab data example', disp=True)"
   ]
  }
 ],
 "metadata": {
  "kernelspec": {
   "display_name": "Python 3 (ipykernel)",
   "language": "python",
   "name": "python3"
  },
  "language_info": {
   "codemirror_mode": {
    "name": "ipython",
    "version": 3
   },
   "file_extension": ".py",
   "mimetype": "text/x-python",
   "name": "python",
   "nbconvert_exporter": "python",
   "pygments_lexer": "ipython3",
   "version": "3.10.9"
  }
 },
 "nbformat": 4,
 "nbformat_minor": 5
}
