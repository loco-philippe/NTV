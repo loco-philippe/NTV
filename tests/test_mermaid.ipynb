{
 "cells": [
  {
   "cell_type": "markdown",
   "id": "fed3e24e",
   "metadata": {},
   "source": [
    "# JSON interface for diagram creation\n",
    "------\n",
    "## Example of Entity Relationship Diagram\n",
    "- [Functions used to create diagram](#Functions-used-to-create-diagram)\n",
    "- [ER-example with simple JSON structure](#ER-example-with-simple-JSON-structure)\n",
    "- [ER-second example with additional information](#ER-second-example-with-additional-information)\n",
    "\n",
    "## Example of Flowchart Diagram\n",
    "- [FC-example with simple JSON structure](#FC-example-with-simple-JSON-structure)"
   ]
  },
  {
   "cell_type": "markdown",
   "id": "e285c015",
   "metadata": {},
   "source": [
    "### Functions used to create diagram"
   ]
  },
  {
   "cell_type": "code",
   "execution_count": 1,
   "id": "cffbd4f3",
   "metadata": {},
   "outputs": [],
   "source": [
    "# Example of converting a Json format to a diagram\n",
    "\n",
    "from json_ntv import Ntv\n",
    "\n",
    "def diagram(diag):\n",
    "    ntv = Ntv.obj(diag)\n",
    "    diag_type = ntv.type_str[1:]\n",
    "    diag_txt = '---\\ntitle: ' + ntv.name + '\\n---\\n' if ntv.name else ''\n",
    "    diag_txt += diag_type\n",
    "    match diag_type:\n",
    "        case 'erDiagram':\n",
    "            diag_txt += erDiagram(ntv)\n",
    "        case 'flowchart':\n",
    "            diag_txt += flowchart(ntv)\n",
    "    return diag_txt\n",
    "\n",
    "def flowchart(ntv):\n",
    "    orientation  = {'top-down' : 'TD', 'top-bottom' : 'TB','bottom-top': 'BT', 'right-left': 'RL', 'left-right': 'LR'}\n",
    "    fc = Ntv.obj(ntv.val)\n",
    "    diag_txt = ' ' + orientation[fc['orientation'].val]\n",
    "    for node in fc['node']:\n",
    "        diag_txt += fcNode(node)\n",
    "    for link in fc['link']:\n",
    "        diag_txt += fcLink(link)\n",
    "    return diag_txt + '\\n'    \n",
    "\n",
    "def fcLink(link):\n",
    "    link_t  = {'normal' : ' ---', 'normalarrow': ' -->', 'dotted': ' -.-', 'dottedarrow': ' -.->'}\n",
    "    link_txt = '\\n    ' + str(link[0].val) + link_t[link[1].val]\n",
    "    if len(link) == 4:\n",
    "        link_txt += '|' + link[3].val + '|'\n",
    "    return link_txt + ' ' + str(link[2].val)\n",
    "\n",
    "def fcNode(node):\n",
    "    shape_l  = {'rectangle' : '[', 'roundedge': '(', 'stadium': '(['}\n",
    "    shape_r  = {'rectangle' : ']', 'roundedge': ')', 'stadium': '])'}\n",
    "    return '\\n    ' + node.name + shape_l[node[0].val] + '\"' + node[1].val + '\"' + shape_r[node[0].val]\n",
    "\n",
    "def erDiagram(ntv):\n",
    "    diag_txt = ''\n",
    "    er = Ntv.obj(ntv.val)\n",
    "    for entity in er['entity']:\n",
    "        diag_txt += erEntity(entity)\n",
    "    for relation in er['relationship']:\n",
    "        diag_txt += erRelation(relation)\n",
    "    return diag_txt\n",
    "\n",
    "def erEntity(entity):\n",
    "    ent_txt = '\\n    ' + entity.name + ' {'\n",
    "    for att in entity:\n",
    "        ent_txt += '\\n        ' + att[0].val + ' ' + att[1].val\n",
    "        if len(att) > 2:\n",
    "            if att[2].val in ('PK', 'FK', 'UK'):\n",
    "                ent_txt += ' ' + att[2].val\n",
    "            else:\n",
    "                ent_txt += ' \"' + att[2].val + '\"'\n",
    "        if len(att) > 3:\n",
    "            ent_txt += ' \"' + att[3].val + '\"'\n",
    "    return ent_txt + '\\n    }'\n",
    "\n",
    "def erRelation(rel):\n",
    "    rel_left  = {'exactly one' : ' ||', 'zero or one': ' |o', 'zero or more': ' }o', 'one or more': ' }|'}\n",
    "    rel_right = {'exactly one' : '|| ', 'zero or one': 'o| ', 'zero or more': 'o{ ', 'one or more': '|{ '}\n",
    "    identif   = {'identifying' : '--', 'non-identifying' : '..'}\n",
    "    rel_txt = '\\n    ' + rel[0].val + rel_left[rel[1].val] + identif[rel[2].val] + rel_right[rel[3].val] + rel[4].val\n",
    "    if len(rel) > 5:\n",
    "        rel_txt += ' : ' + rel[5].val\n",
    "    return rel_txt"
   ]
  },
  {
   "cell_type": "code",
   "execution_count": 2,
   "id": "f4890fd7",
   "metadata": {},
   "outputs": [],
   "source": [
    "from base64 import b64encode\n",
    "from IPython.display import Image, display"
   ]
  },
  {
   "cell_type": "markdown",
   "id": "2fc95986",
   "metadata": {},
   "source": [
    "### ER-example with simple JSON structure"
   ]
  },
  {
   "cell_type": "code",
   "execution_count": 3,
   "id": "310d0101",
   "metadata": {},
   "outputs": [
    {
     "data": {
      "text/html": [
       "<img src=\"https://mermaid.ink/img/LS0tCnRpdGxlOiBqc29uIG9yZGVyIGV4YW1wbGUKLS0tCmVyRGlhZ3JhbQogICAgQ1VTVE9NRVIgewogICAgICAgIHN0cmluZyBuYW1lIFBLICJ0aGUgbmFtZSIKICAgICAgICBzdHJpbmcgY3VzdE51bWJlcgogICAgfQogICAgT1JERVIgewogICAgICAgIGludCBvcmRlck51bWJlciBQSwogICAgICAgIHN0cmluZyBkZWxpdmVyeUFkcmVzcwogICAgfQogICAgTElORS1JVEVNIHsKICAgICAgICBzdHJpbmcgcHJvZHVjdENvZGUgUEsKICAgICAgICBpbnQgcXVhbnRpdHkKICAgICAgICBmbG9hdCBwcmljZVBlclVuaXQKICAgIH0KICAgIENVU1RPTUVSIHx8LS1veyBPUkRFUiA6IHBsYWNlcwogICAgT1JERVIgfHwtLXx7IExJTkUtSVRFTSA6IGNvbnRhaW5z\"/>"
      ],
      "text/plain": [
       "<IPython.core.display.Image object>"
      ]
     },
     "metadata": {},
     "output_type": "display_data"
    }
   ],
   "source": [
    "# The Json syntax is enriched by separator ':' or '::' in dict key to indicate that:\n",
    "#  - the second part of the key string is the data type\n",
    "#  - the dict value is a json entity (':') or a list of Json-NTV entities.\n",
    "\n",
    "order_example = { \n",
    "    'json order example:$erDiagram' : { \n",
    "        'relationship::': [ \n",
    "            [ 'CUSTOMER', 'exactly one', 'identifying', 'zero or more', 'ORDER',     'places'],\n",
    "            [ 'ORDER',    'exactly one', 'identifying', 'one or more',  'LINE-ITEM', 'contains'] \n",
    "        ],\n",
    "        'entity::': {\n",
    "            'CUSTOMER':  [ \n",
    "                ['string', 'name',         'PK', 'the name'], \n",
    "                ['string', 'custNumber'] \n",
    "            ], \n",
    "            'ORDER': [ \n",
    "                ['int',    'orderNumber',  'PK'],\n",
    "                ['string', 'deliveryAdress'] \n",
    "            ],\n",
    "            'LINE-ITEM': [ \n",
    "                ['string', 'productCode',  'PK'],\n",
    "                ['int',    'quantity'],\n",
    "                ['float',  'pricePerUnit'] \n",
    "            ]   \n",
    "        },\n",
    "     } }\n",
    "\n",
    "diag = diagram(order_example)\n",
    "display(Image(url=\"https://mermaid.ink/img/\" + b64encode(diag.encode(\"ascii\")).decode(\"ascii\")))"
   ]
  },
  {
   "cell_type": "markdown",
   "id": "ce75058b",
   "metadata": {},
   "source": [
    "### ER-second example with additional information"
   ]
  },
  {
   "cell_type": "code",
   "execution_count": 4,
   "id": "db4ed37c",
   "metadata": {},
   "outputs": [
    {
     "data": {
      "text/html": [
       "<img src=\"https://mermaid.ink/img/LS0tCnRpdGxlOiBqc29uIG9yZGVyIGV4YW1wbGUgMgotLS0KZXJEaWFncmFtCiAgICBDVVNUT01FUiB7CiAgICAgICAgc3RyaW5nIG5hbWUgUEsgInRoZSBuYW1lIgogICAgICAgIHN0cmluZyBjdXN0TnVtYmVyCiAgICB9CiAgICBPUkRFUiB7CiAgICAgICAgaW50IG9yZGVyTnVtYmVyIFBLCiAgICAgICAgc3RyaW5nIGRlbGl2ZXJ5QWRyZXNzCiAgICB9CiAgICBMSU5FLUlURU0gewogICAgICAgIHN0cmluZyBwcm9kdWN0Q29kZSBQSwogICAgICAgIGludCBxdWFudGl0eQogICAgICAgIGZsb2F0IHByaWNlUGVyVW5pdAogICAgfQogICAgQ1VTVE9NRVIgfHwtLW97IE9SREVSIDogcGxhY2VzCiAgICBPUkRFUiB8fC0tfHsgTElORS1JVEVNIDogY29udGFpbnM=\"/>"
      ],
      "text/plain": [
       "<IPython.core.display.Image object>"
      ]
     },
     "metadata": {},
     "output_type": "display_data"
    }
   ],
   "source": [
    "# in this example we use the potential of the NTV format to add additional information\n",
    "# (without changing either the code or the output data)\n",
    "\n",
    "order_example2 = { \n",
    "    'json order example 2:$erDiagram' : { \n",
    "        'relationship::': [ \n",
    "            [ {'1st entity':'CUSTOMER'}, 'exactly one', 'identifying', 'zero or more', {'2nd entity':'ORDER'}, 'places'],\n",
    "            [ 'ORDER', {'to be confirmed': 'exactly one'}, 'identifying', 'one or more',  'LINE-ITEM', {'label': 'contains'}] \n",
    "        ],\n",
    "        'entity::': {\n",
    "            'CUSTOMER':  [ \n",
    "                ['string', 'name', 'PK', {'comments': 'the name'}], \n",
    "                ['string', 'custNumber'] \n",
    "            ], \n",
    "            'ORDER': [ \n",
    "                {'type_att':'int', 'name_att':'orderNumber',  'key_att': 'PK'},\n",
    "                {'this attribute is not yet valid' : ['string', 'deliveryAdress']}\n",
    "            ],\n",
    "            'LINE-ITEM': { \n",
    "                'first attribute': ['string', 'productCode',  'PK'],\n",
    "                'second attribute': ['int',    'quantity'],\n",
    "                'third attribute': ['float',  'pricePerUnit'] \n",
    "            }   \n",
    "        },\n",
    "     } }\n",
    "\n",
    "diag = diagram(order_example2)\n",
    "display(Image(url=\"https://mermaid.ink/img/\" + b64encode(diag.encode(\"ascii\")).decode(\"ascii\")))"
   ]
  },
  {
   "cell_type": "markdown",
   "id": "652d2dff",
   "metadata": {},
   "source": [
    "### FC-example with simple JSON structure"
   ]
  },
  {
   "cell_type": "code",
   "execution_count": 5,
   "id": "ca8cd277",
   "metadata": {},
   "outputs": [
    {
     "data": {
      "text/html": [
       "<img src=\"https://mermaid.ink/img/LS0tCnRpdGxlOiBqc29uIGZsb3djaGFydCBleGFtcGxlCi0tLQpmbG93Y2hhcnQgVEQKICAgIDAoIjxiPnZhbHVlPC9iPiIpCiAgICAxNCgiPGI+ZnJ1aXRzPC9iPiIpCiAgICAxMygiPGI+Ojo8L2I+IikKICAgIDJbIjxiPmtpd2k8L2I+CjxpPjM8L2k+Il0KICAgIDNbIjxiPm1hbmd1ZXM8L2I+CjxpPjQ8L2k+Il0KICAgIDRbIjxiPnBvbW1lczwvYj4KPGk+bnVsbDwvaT4iXQogICAgNVsiPGI+cGFuaWVyPC9iPgo8aT50cnVlPC9pPiJdCiAgICA3WyI8Yj5wYXRhdGVzPC9iPgo8aT5hbWFuZGluZTwvaT4iXQogICAgOFsiPGI+cG9pcmVhdXg8L2I+CjxpPmZhbHNlPC9pPiJdCiAgICA2KCI8Yj5sZWd1bWVzPC9iPiIpCiAgICA5KCI8Yj52aWFuZGVzPC9iPiIpCiAgICAxMFsiPGk+cG9pc3NvbjwvaT4iXQogICAgMTFbIjxpPnBvdWxldDwvaT4iXQogICAgMTJbIjxpPmJvZXVmPC9pPiJdCiAgICAwIC0tPiAxNAogICAgMTQgLS0+IDEzCiAgICAxMyAtLi0+fHRlc3R8IDIKICAgIDEzIC0tPiAzCiAgICAxMyAtLT4gNAogICAgMTQgLS0+IDUKICAgIDAgLS0+IDYKICAgIDYgLS0+IDcKICAgIDYgLS0+IDgKICAgIDAgLS0+IDkKICAgIDkgLS0+IDEwCiAgICA5IC0tPiAxMQogICAgOSAtLT4gMTIKICAgIDEzIC0tPiA0Cg==\"/>"
      ],
      "text/plain": [
       "<IPython.core.display.Image object>"
      ]
     },
     "metadata": {},
     "output_type": "display_data"
    }
   ],
   "source": [
    "json_example = { 'json flowchart example': {\n",
    "  \"fruits\": [\n",
    "    { \"kiwis\": 3,\n",
    "      \"mangues\": 4,\n",
    "      \"pommes\": None\n",
    "    },\n",
    "    { \"panier\": True }\n",
    "  ],\n",
    "  \"legumes\": {\n",
    "      \"patates\": \"amandine\",\n",
    "      \"poireaux\": False\n",
    "    },\n",
    "    \"viandes\": [\"poisson\",\"poulet\",\"boeuf\"]\n",
    " }}\n",
    "\n",
    "fc_example = { \n",
    "    'json flowchart example:$flowchart' : { \n",
    "        'orientation': 'top-down',\n",
    "        'node::': {\n",
    "            '0' : ['roundedge', '<b>value</b>'],\n",
    "            '14': ['roundedge', '<b>fruits</b>'],\n",
    "            '13': ['roundedge', '<b>::</b>'],\n",
    "            '2' : ['rectangle', '<b>kiwi</b>\\n<i>3</i>'], \n",
    "            '3' : ['rectangle', \"<b>mangues</b>\\n<i>4</i>\"],\n",
    "            '4' : ['rectangle', \"<b>pommes</b>\\n<i>null</i>\"],\n",
    "            '5' : ['rectangle', \"<b>panier</b>\\n<i>true</i>\"],\n",
    "            '7' : ['rectangle', '<b>patates</b>\\n<i>amandine</i>'],         \n",
    "            '8' : ['rectangle', \"<b>poireaux</b>\\n<i>false</i>\"],            \n",
    "            '6' : ['roundedge', '<b>legumes</b>'],\n",
    "            '9' : ['roundedge', '<b>viandes</b>'],\n",
    "            '10': ['rectangle', '<i>poisson</i>'],\n",
    "            '11': ['rectangle', '<i>poulet</i>'],\n",
    "            '12': ['rectangle', '<i>boeuf</i>']        \n",
    "        },\n",
    "        'link::': [ \n",
    "            [ '0' , 'normalarrow', '14'],\n",
    "            [ '14', 'normalarrow', '13'],\n",
    "            [ '13', 'dottedarrow', '2', 'test'],\n",
    "            [ '13', 'normalarrow', '3'],\n",
    "            [ '13', 'normalarrow', '4'],            \n",
    "            [ '14', 'normalarrow', '5'],            \n",
    "            [ '0' , 'normalarrow', '6'],            \n",
    "            [ '6' , 'normalarrow', '7'],            \n",
    "            [ '6' , 'normalarrow', '8'],            \n",
    "            [ '0' , 'normalarrow', '9'],            \n",
    "            [ '9' , 'normalarrow', '10'],            \n",
    "            [ '9' , 'normalarrow', '11'],            \n",
    "            [ '9', 'normalarrow', '12'],            \n",
    "            [ '13', 'normalarrow', '4']            \n",
    "        ]\n",
    "     }\n",
    "}\n",
    "\n",
    "diag = diagram(fc_example)\n",
    "display(Image(url=\"https://mermaid.ink/img/\" + b64encode(diag.encode(\"ascii\")).decode(\"ascii\")))"
   ]
  },
  {
   "cell_type": "code",
   "execution_count": 11,
   "id": "51d2ca65",
   "metadata": {},
   "outputs": [],
   "source": [
    "from json_ntv import NtvSingle, NtvList\n",
    "import json\n",
    "\n",
    "def mermaid_node(ntv, node, def_typ_str):\n",
    "    j_name, j_sep, j_type = ntv.json_name(def_typ_str)\n",
    "    name = ''\n",
    "    if j_name:\n",
    "        name += '<b>' + j_name + '</b>\\n'\n",
    "    if j_type:\n",
    "        name += j_type + '\\n'\n",
    "    if isinstance(ntv, NtvSingle):\n",
    "        if isinstance(ntv.val, str):\n",
    "            name += '<i>' + ntv.val + '</i>\\n'\n",
    "        else:\n",
    "            name += '<i>' + json.dumps(ntv.val) + '</i>\\n'\n",
    "        return [node, ['rectangle', name[:-1]]]\n",
    "    if not name:\n",
    "        name = '<b>::</b>\\n'\n",
    "    return [node, ['roundedge', name[:-1]]]\n",
    "    \n",
    "def mermaid_link(ntv, node, def_typ_str, node_list, link_list):\n",
    "    node_list.append(mermaid_node(ntv, node, def_typ_str))\n",
    "    if isinstance(ntv, NtvList):\n",
    "        for r_node, ntv_val in enumerate(ntv):\n",
    "            mermaid_link(ntv_val, node + str(r_node), ntv.type_str, node_list, link_list)\n",
    "            link_list.append([node, 'normalarrow', node + str(r_node)])\n",
    "\n",
    "def mermaid_json(ntv):\n",
    "    node_list = []\n",
    "    link_list = []\n",
    "    mermaid_link(Ntv.obj(ntv.val), '0', None, node_list, link_list)\n",
    "    mermaid_json = {ntv.name + ':$flowchart' : { \n",
    "        'orientation': 'top-down',\n",
    "        'node::': {node[0]: node[1] for node in node_list},\n",
    "        'link::': link_list}}\n",
    "    return diagram(mermaid_json)"
   ]
  },
  {
   "cell_type": "code",
   "execution_count": 12,
   "id": "31cd5987",
   "metadata": {},
   "outputs": [
    {
     "data": {
      "text/html": [
       "<img src=\"https://mermaid.ink/img/LS0tCnRpdGxlOiBqc29uIGZsb3djaGFydCBleGFtcGxlCi0tLQpmbG93Y2hhcnQgVEQKICAgIDAoIjxiPjo6PC9iPiIpCiAgICAwMCgiPGI+ZnJ1aXRzPC9iPiIpCiAgICAwMDAoIjxiPjo6PC9iPiIpCiAgICAwMDAwWyI8Yj5raXdpczwvYj4KPGk+MzwvaT4iXQogICAgMDAwMVsiPGI+bWFuZ3VlczwvYj4KPGk+NDwvaT4iXQogICAgMDAwMlsiPGI+cG9tbWVzPC9iPgo8aT5udWxsPC9pPiJdCiAgICAwMDFbIjxiPnBhbmllcjwvYj4KPGk+dHJ1ZTwvaT4iXQogICAgMDEoIjxiPmxlZ3VtZXM8L2I+IikKICAgIDAxMFsiPGI+cGF0YXRlczwvYj4KPGk+YW1hbmRpbmU8L2k+Il0KICAgIDAxMVsiPGI+cG9pcmVhdXg8L2I+CjxpPmZhbHNlPC9pPiJdCiAgICAwMigiPGI+dmlhbmRlczwvYj4iKQogICAgMDIwWyI8aT5wb2lzc29uPC9pPiJdCiAgICAwMjFbIjxpPnBvdWxldDwvaT4iXQogICAgMDIyWyI8aT5ib2V1ZjwvaT4iXQogICAgMDAwIC0tPiAwMDAwCiAgICAwMDAgLS0+IDAwMDEKICAgIDAwMCAtLT4gMDAwMgogICAgMDAgLS0+IDAwMAogICAgMDAgLS0+IDAwMQogICAgMCAtLT4gMDAKICAgIDAxIC0tPiAwMTAKICAgIDAxIC0tPiAwMTEKICAgIDAgLS0+IDAxCiAgICAwMiAtLT4gMDIwCiAgICAwMiAtLT4gMDIxCiAgICAwMiAtLT4gMDIyCiAgICAwIC0tPiAwMgo=\"/>"
      ],
      "text/plain": [
       "<IPython.core.display.Image object>"
      ]
     },
     "metadata": {},
     "output_type": "display_data"
    }
   ],
   "source": [
    "diag = mermaid_json(Ntv.obj(json_example))\n",
    "display(Image(url=\"https://mermaid.ink/img/\" + b64encode(diag.encode(\"ascii\")).decode(\"ascii\")))"
   ]
  },
  {
   "cell_type": "code",
   "execution_count": 13,
   "id": "15d95f76",
   "metadata": {},
   "outputs": [
    {
     "data": {
      "text/html": [
       "<img src=\"https://mermaid.ink/img/LS0tCnRpdGxlOiB0YWIKLS0tCmZsb3djaGFydCBURAogICAgMCgiPGI+Ojo8L2I+IikKICAgIDAwKCI8Yj5pbmRleDwvYj4iKQogICAgMDAwWyI8aT4xPC9pPiJdCiAgICAwMDFbIjxpPjI8L2k+Il0KICAgIDAwMlsiPGk+MzwvaT4iXQogICAgMDEoIjxiPmRhdGVzPC9iPgpkYXRldGltZSIpCiAgICAwMTBbIjxpPjE5NjQtMDEtMDE8L2k+Il0KICAgIDAxMVsiPGk+MTk4NS0wMi0wNTwvaT4iXQogICAgMDEyWyI8aT4yMDIyLTAxLTIxPC9pPiJdCiAgICAwMigiPGI+dmFsdWU8L2I+IikKICAgIDAyMFsiPGk+MTA8L2k+Il0KICAgIDAyMVsiPGk+MjA8L2k+Il0KICAgIDAyMlsiPGk+MzA8L2k+Il0KICAgIDAzKCI8Yj52YWx1ZTMyPC9iPgppbnQzMiIpCiAgICAwMzBbIjxpPjEwPC9pPiJdCiAgICAwMzFbIjxpPjIwPC9pPiJdCiAgICAwMzJbIjxpPjMwPC9pPiJdCiAgICAwNCgiPGI+Y29vcmQ8L2I+CnBvaW50IikKICAgIDA0MFsiPGk+WzEsIDJdPC9pPiJdCiAgICAwNDFbIjxpPlszLCA0XTwvaT4iXQogICAgMDQyWyI8aT5bNSwgNl08L2k+Il0KICAgIDA1KCI8Yj5uYW1lczwvYj4Kc3RyaW5nIikKICAgIDA1MFsiPGk+am9objwvaT4iXQogICAgMDUxWyI8aT5lcmljPC9pPiJdCiAgICAwNTJbIjxpPmp1ZGl0aDwvaT4iXQogICAgMDAgLS0+IDAwMAogICAgMDAgLS0+IDAwMQogICAgMDAgLS0+IDAwMgogICAgMCAtLT4gMDAKICAgIDAxIC0tPiAwMTAKICAgIDAxIC0tPiAwMTEKICAgIDAxIC0tPiAwMTIKICAgIDAgLS0+IDAxCiAgICAwMiAtLT4gMDIwCiAgICAwMiAtLT4gMDIxCiAgICAwMiAtLT4gMDIyCiAgICAwIC0tPiAwMgogICAgMDMgLS0+IDAzMAogICAgMDMgLS0+IDAzMQogICAgMDMgLS0+IDAzMgogICAgMCAtLT4gMDMKICAgIDA0IC0tPiAwNDAKICAgIDA0IC0tPiAwNDEKICAgIDA0IC0tPiAwNDIKICAgIDAgLS0+IDA0CiAgICAwNSAtLT4gMDUwCiAgICAwNSAtLT4gMDUxCiAgICAwNSAtLT4gMDUyCiAgICAwIC0tPiAwNQo=\"/>"
      ],
      "text/plain": [
       "<IPython.core.display.Image object>"
      ]
     },
     "metadata": {},
     "output_type": "display_data"
    }
   ],
   "source": [
    "tab_data   = {'index':           [1, 2, 3],\n",
    "              'dates::datetime': ['1964-01-01', '1985-02-05', '2022-01-21'], \n",
    "              'value':           [10, 20, 30],\n",
    "              'value32::int32':  [10, 20, 30],\n",
    "              'coord::point':    [[1,2], [3,4], [5,6]],\n",
    "              'names::string':   ['john', 'eric', 'judith']}\n",
    "diag = mermaid_json(Ntv.obj({'tab': tab_data}))\n",
    "display(Image(url=\"https://mermaid.ink/img/\" + b64encode(diag.encode(\"ascii\")).decode(\"ascii\")))"
   ]
  },
  {
   "cell_type": "code",
   "execution_count": 14,
   "id": "352b01f3",
   "metadata": {},
   "outputs": [
    {
     "data": {
      "text/html": [
       "<img src=\"https://mermaid.ink/img/LS0tCnRpdGxlOiBqc29uIGZsb3djaGFydCBleGFtcGxlCi0tLQpmbG93Y2hhcnQgVEQKICAgIDAoIjxiPjo6PC9iPiIpCiAgICAwMCgiPGI+ZnJ1aXRzPC9iPiIpCiAgICAwMDAoIjxiPjo6PC9iPiIpCiAgICAwMDAwWyI8Yj5raXdpczwvYj4KPGk+MzwvaT4iXQogICAgMDAwMVsiPGI+bWFuZ3VlczwvYj4KaW50CjxpPjQ8L2k+Il0KICAgIDAwMDJbIjxiPnBvbW1lczwvYj4KPGk+bnVsbDwvaT4iXQogICAgMDAxWyI8Yj5wYW5pZXI8L2I+CjxpPnRydWU8L2k+Il0KICAgIDAxKCI8Yj5sZWd1bWVzPC9iPiIpCiAgICAwMTBbIjxiPnBhdGF0ZXM8L2I+CnN0cmluZwo8aT5hbWFuZGluZTwvaT4iXQogICAgMDExWyI8Yj5wb2lyZWF1eDwvYj4KPGk+ZmFsc2U8L2k+Il0KICAgIDAyKCI8Yj52aWFuZGVzPC9iPiIpCiAgICAwMjBbIjxpPnBvaXNzb248L2k+Il0KICAgIDAyMVsic3RyaW5nCjxpPnBvdWxldDwvaT4iXQogICAgMDIyWyI8aT5ib2V1ZjwvaT4iXQogICAgMDAwIC0tPiAwMDAwCiAgICAwMDAgLS0+IDAwMDEKICAgIDAwMCAtLT4gMDAwMgogICAgMDAgLS0+IDAwMAogICAgMDAgLS0+IDAwMQogICAgMCAtLT4gMDAKICAgIDAxIC0tPiAwMTAKICAgIDAxIC0tPiAwMTEKICAgIDAgLS0+IDAxCiAgICAwMiAtLT4gMDIwCiAgICAwMiAtLT4gMDIxCiAgICAwMiAtLT4gMDIyCiAgICAwIC0tPiAwMgo=\"/>"
      ],
      "text/plain": [
       "<IPython.core.display.Image object>"
      ]
     },
     "metadata": {},
     "output_type": "display_data"
    }
   ],
   "source": [
    "json_example2 = { 'json flowchart example': {\n",
    "  \"fruits\": [\n",
    "    { \"kiwis\": 3,\n",
    "      \"mangues:int\": 4,\n",
    "      \"pommes\": None\n",
    "    },\n",
    "    { \"panier\": True }\n",
    "  ],\n",
    "  \"legumes::json\": {\n",
    "      \"patates:string\": \"amandine\",\n",
    "      \"poireaux\": False\n",
    "    },\n",
    "    \"viandes\": [\"poisson\",{\":string\": \"poulet\"},\"boeuf\"]\n",
    " }}\n",
    "diag = mermaid_json(Ntv.obj(json_example2))\n",
    "display(Image(url=\"https://mermaid.ink/img/\" + b64encode(diag.encode(\"ascii\")).decode(\"ascii\")))"
   ]
  }
 ],
 "metadata": {
  "kernelspec": {
   "display_name": "Python 3 (ipykernel)",
   "language": "python",
   "name": "python3"
  },
  "language_info": {
   "codemirror_mode": {
    "name": "ipython",
    "version": 3
   },
   "file_extension": ".py",
   "mimetype": "text/x-python",
   "name": "python",
   "nbconvert_exporter": "python",
   "pygments_lexer": "ipython3",
   "version": "3.10.9"
  }
 },
 "nbformat": 4,
 "nbformat_minor": 5
}
