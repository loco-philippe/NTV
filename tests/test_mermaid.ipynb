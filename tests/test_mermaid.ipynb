{
 "cells": [
  {
   "cell_type": "markdown",
   "id": "fed3e24e",
   "metadata": {},
   "source": [
    "# JSON interface for diagram creation\n",
    "------\n",
    "## Example of Entity Relationship Diagram\n",
    "- [Functions used to create diagram](#Functions-used-to-create-diagram)\n",
    "- [ER-example with simple JSON structure](#ER-example-with-simple-JSON-structure)\n",
    "- [ER-second example with additional information](#ER-second-example-with-additional-information)\n",
    "\n",
    "## Example of Flowchart Diagram\n",
    "- [FC-example with simple JSON structure](#FC-example-with-simple-JSON-structure)"
   ]
  },
  {
   "cell_type": "markdown",
   "id": "e285c015",
   "metadata": {},
   "source": [
    "### Functions used to create diagram"
   ]
  },
  {
   "cell_type": "code",
   "execution_count": 25,
   "id": "cffbd4f3",
   "metadata": {},
   "outputs": [],
   "source": [
    "# Example of converting a Json format to a diagram\n",
    "\n",
    "from json_ntv import Ntv\n",
    "\n",
    "def diagram(diag):\n",
    "    ntv = Ntv.obj(diag)\n",
    "    diag_type = ntv.type_str[1:]\n",
    "    diag_txt = '---\\ntitle: ' + ntv.name + '\\n---\\n' if ntv.name else ''\n",
    "    diag_txt += diag_type\n",
    "    match diag_type:\n",
    "        case 'erDiagram':\n",
    "            diag_txt += erDiagram(ntv)\n",
    "        case 'flowchart':\n",
    "            diag_txt += flowchart(ntv)\n",
    "    return diag_txt\n",
    "\n",
    "def flowchart(ntv):\n",
    "    orientation  = {'top-down' : 'TD', 'top-bottom' : 'TB','bottom-top': 'BT', 'right-left': 'RL', 'left-right': 'LR'}\n",
    "    fc = Ntv.obj(ntv.val)\n",
    "    diag_txt = ' ' + orientation[fc['orientation'].val]\n",
    "    for node in fc['node']:\n",
    "        diag_txt += fcNode(node)\n",
    "    for link in fc['link']:\n",
    "        diag_txt += fcLink(link)\n",
    "    return diag_txt + '\\n'    \n",
    "\n",
    "def fcLink(link):\n",
    "    link_t  = {'normal' : ' ---', 'normalarrow': ' -->', 'dotted': ' -.-', 'dottedarrow': ' -.->'}\n",
    "    link_txt = '\\n    ' + str(link[0].val) + link_t[link[1].val]\n",
    "    if len(link) == 4:\n",
    "        link_txt += '|' + link[3].val + '|'\n",
    "    return link_txt + ' ' + str(link[2].val)\n",
    "\n",
    "def fcNode(node):\n",
    "    shape_l  = {'rectangle' : '[', 'roundedge': '(', 'stadium': '(['}\n",
    "    shape_r  = {'rectangle' : ']', 'roundedge': ')', 'stadium': '])'}\n",
    "    return '\\n    ' + node.name + shape_l[node[0].val] + '\"' + node[1].val + '\"' + shape_r[node[0].val]\n",
    "\n",
    "def erDiagram(ntv):\n",
    "    diag_txt = ''\n",
    "    er = Ntv.obj(ntv.val)\n",
    "    for entity in er['entity']:\n",
    "        diag_txt += erEntity(entity)\n",
    "    for relation in er['relationship']:\n",
    "        diag_txt += erRelation(relation)\n",
    "    return diag_txt\n",
    "\n",
    "def erEntity(entity):\n",
    "    ent_txt = '\\n    ' + entity.name + ' {'\n",
    "    for att in entity:\n",
    "        ent_txt += '\\n        ' + att[0].val + ' ' + att[1].val\n",
    "        if len(att) > 2:\n",
    "            if att[2].val in ('PK', 'FK', 'UK'):\n",
    "                ent_txt += ' ' + att[2].val\n",
    "            else:\n",
    "                ent_txt += ' \"' + att[2].val + '\"'\n",
    "        if len(att) > 3:\n",
    "            ent_txt += ' \"' + att[3].val + '\"'\n",
    "    return ent_txt + '\\n    }'\n",
    "\n",
    "def erRelation(rel):\n",
    "    rel_left  = {'exactly one' : ' ||', 'zero or one': ' |o', 'zero or more': ' }o', 'one or more': ' }|'}\n",
    "    rel_right = {'exactly one' : '|| ', 'zero or one': 'o| ', 'zero or more': 'o{ ', 'one or more': '|{ '}\n",
    "    identif   = {'identifying' : '--', 'non-identifying' : '..'}\n",
    "    rel_txt = '\\n    ' + rel[0].val + rel_left[rel[1].val] + identif[rel[2].val] + rel_right[rel[3].val] + rel[4].val\n",
    "    if len(rel) > 5:\n",
    "        rel_txt += ' : ' + rel[5].val\n",
    "    return rel_txt"
   ]
  },
  {
   "cell_type": "code",
   "execution_count": 2,
   "id": "692e123d",
   "metadata": {},
   "outputs": [],
   "source": [
    "from base64 import b64encode\n",
    "from IPython.display import Image, display"
   ]
  },
  {
   "cell_type": "markdown",
   "id": "2fc95986",
   "metadata": {},
   "source": [
    "### ER-example with simple JSON structure"
   ]
  },
  {
   "cell_type": "code",
   "execution_count": 23,
   "id": "310d0101",
   "metadata": {},
   "outputs": [
    {
     "data": {
      "text/html": [
       "<img src=\"https://mermaid.ink/img/LS0tCnRpdGxlOiBqc29uIG9yZGVyIGV4YW1wbGUKLS0tCmVyRGlhZ3JhbQogICAgQ1VTVE9NRVIgewogICAgICAgIHN0cmluZyBuYW1lIFBLICJ0aGUgbmFtZSIKICAgICAgICBzdHJpbmcgY3VzdE51bWJlcgogICAgfQogICAgT1JERVIgewogICAgICAgIGludCBvcmRlck51bWJlciBQSwogICAgICAgIHN0cmluZyBkZWxpdmVyeUFkcmVzcwogICAgfQogICAgTElORS1JVEVNIHsKICAgICAgICBzdHJpbmcgcHJvZHVjdENvZGUgUEsKICAgICAgICBpbnQgcXVhbnRpdHkKICAgICAgICBmbG9hdCBwcmljZVBlclVuaXQKICAgIH0KICAgIENVU1RPTUVSIHx8LS1veyBPUkRFUiA6IHBsYWNlcwogICAgT1JERVIgfHwtLXx7IExJTkUtSVRFTSA6IGNvbnRhaW5z\"/>"
      ],
      "text/plain": [
       "<IPython.core.display.Image object>"
      ]
     },
     "metadata": {},
     "output_type": "display_data"
    }
   ],
   "source": [
    "# The Json syntax is enriched by separator ':' or '::' in dict key to indicate that:\n",
    "#  - the second part of the key string is the data type\n",
    "#  - the dict value is a json entity (':') or a list of Json-NTV entities.\n",
    "\n",
    "order_example = { \n",
    "    'json order example:$erDiagram' : { \n",
    "        'relationship::': [ \n",
    "            [ 'CUSTOMER', 'exactly one', 'identifying', 'zero or more', 'ORDER',     'places'],\n",
    "            [ 'ORDER',    'exactly one', 'identifying', 'one or more',  'LINE-ITEM', 'contains'] \n",
    "        ],\n",
    "        'entity::': {\n",
    "            'CUSTOMER':  [ \n",
    "                ['string', 'name',         'PK', 'the name'], \n",
    "                ['string', 'custNumber'] \n",
    "            ], \n",
    "            'ORDER': [ \n",
    "                ['int',    'orderNumber',  'PK'],\n",
    "                ['string', 'deliveryAdress'] \n",
    "            ],\n",
    "            'LINE-ITEM': [ \n",
    "                ['string', 'productCode',  'PK'],\n",
    "                ['int',    'quantity'],\n",
    "                ['float',  'pricePerUnit'] \n",
    "            ]   \n",
    "        },\n",
    "     } }\n",
    "\n",
    "diag = diagram(order_example)\n",
    "display(Image(url=\"https://mermaid.ink/img/\" + b64encode(diag.encode(\"ascii\")).decode(\"ascii\")))"
   ]
  },
  {
   "cell_type": "markdown",
   "id": "ce75058b",
   "metadata": {},
   "source": [
    "### ER-second example with additional information"
   ]
  },
  {
   "cell_type": "code",
   "execution_count": 22,
   "id": "db4ed37c",
   "metadata": {},
   "outputs": [
    {
     "data": {
      "text/html": [
       "<img src=\"https://mermaid.ink/img/LS0tCnRpdGxlOiBqc29uIG9yZGVyIGV4YW1wbGUgMgotLS0KZXJEaWFncmFtCiAgICBDVVNUT01FUiB7CiAgICAgICAgc3RyaW5nIG5hbWUgUEsgInRoZSBuYW1lIgogICAgICAgIHN0cmluZyBjdXN0TnVtYmVyCiAgICB9CiAgICBPUkRFUiB7CiAgICAgICAgaW50IG9yZGVyTnVtYmVyIFBLCiAgICAgICAgc3RyaW5nIGRlbGl2ZXJ5QWRyZXNzCiAgICB9CiAgICBMSU5FLUlURU0gewogICAgICAgIHN0cmluZyBwcm9kdWN0Q29kZSBQSwogICAgICAgIGludCBxdWFudGl0eQogICAgICAgIGZsb2F0IHByaWNlUGVyVW5pdAogICAgfQogICAgQ1VTVE9NRVIgfHwtLW97IE9SREVSIDogcGxhY2VzCiAgICBPUkRFUiB8fC0tfHsgTElORS1JVEVNIDogY29udGFpbnM=\"/>"
      ],
      "text/plain": [
       "<IPython.core.display.Image object>"
      ]
     },
     "metadata": {},
     "output_type": "display_data"
    }
   ],
   "source": [
    "# in this example we use the potential of the NTV format to add additional information\n",
    "# (without changing either the code or the output data)\n",
    "\n",
    "order_example2 = { \n",
    "    'json order example 2:$erDiagram' : { \n",
    "        'relationship::': [ \n",
    "            [ {'1st entity':'CUSTOMER'}, 'exactly one', 'identifying', 'zero or more', {'2nd entity':'ORDER'}, 'places'],\n",
    "            [ 'ORDER', {'to be confirmed': 'exactly one'}, 'identifying', 'one or more',  'LINE-ITEM', {'label': 'contains'}] \n",
    "        ],\n",
    "        'entity::': {\n",
    "            'CUSTOMER':  [ \n",
    "                ['string', 'name', 'PK', {'comments': 'the name'}], \n",
    "                ['string', 'custNumber'] \n",
    "            ], \n",
    "            'ORDER': [ \n",
    "                {'type_att':'int', 'name_att':'orderNumber',  'key_att': 'PK'},\n",
    "                {'this attribute is not yet valid' : ['string', 'deliveryAdress']}\n",
    "            ],\n",
    "            'LINE-ITEM': { \n",
    "                'first attribute': ['string', 'productCode',  'PK'],\n",
    "                'second attribute': ['int',    'quantity'],\n",
    "                'third attribute': ['float',  'pricePerUnit'] \n",
    "            }   \n",
    "        },\n",
    "     } }\n",
    "\n",
    "diag = diagram(order_example2)\n",
    "display(Image(url=\"https://mermaid.ink/img/\" + b64encode(diag.encode(\"ascii\")).decode(\"ascii\")))"
   ]
  },
  {
   "cell_type": "markdown",
   "id": "1ce647ff",
   "metadata": {},
   "source": [
    "### FC-example with simple JSON structure"
   ]
  },
  {
   "cell_type": "code",
   "execution_count": 26,
   "id": "e280a702",
   "metadata": {},
   "outputs": [
    {
     "data": {
      "text/html": [
       "<img src=\"https://mermaid.ink/img/LS0tCnRpdGxlOiBqc29uIGZsb3djaGFydCBleGFtcGxlCi0tLQpmbG93Y2hhcnQgVEQKICAgIDAoIjxiPnZhbHVlPC9iPiIpCiAgICAxNCgiPGI+ZnJ1aXRzPC9iPiIpCiAgICAxMygiPGI+Ojo8L2I+IikKICAgIDJbIjxiPmtpd2k8L2I+CjxpPjM8L2k+Il0KICAgIDNbIjxiPm1hbmd1ZXM8L2I+CjxpPjQ8L2k+Il0KICAgIDRbIjxiPnBvbW1lczwvYj4KPGk+bnVsbDwvaT4iXQogICAgNVsiPGI+cGFuaWVyPC9iPgo8aT50cnVlPC9pPiJdCiAgICA3WyI8Yj5wYXRhdGVzPC9iPgo8aT5hbWFuZGluZTwvaT4iXQogICAgOFsiPGI+cG9pcmVhdXg8L2I+CjxpPmZhbHNlPC9pPiJdCiAgICA2KCI8Yj5sZWd1bWVzPC9iPiIpCiAgICA5KCI8Yj52aWFuZGVzPC9iPiIpCiAgICAxMCgiPGI+cG9pc3NvbjwvYj4iKQogICAgMTEoIjxiPnBvdWxldDwvYj4iKQogICAgMTIoIjxiPmJvZXVmPC9iPiIpCiAgICAwIC0tPiAxNAogICAgMTQgLS0+IDEzCiAgICAxMyAtLi0+fHRlc3R8IDIKICAgIDEzIC0tPiAzCiAgICAxMyAtLT4gNAogICAgMTQgLS0+IDUKICAgIDAgLS0+IDYKICAgIDYgLS0+IDcKICAgIDYgLS0+IDgKICAgIDAgLS0+IDkKICAgIDkgLS0+IDEwCiAgICA5IC0tPiAxMQogICAgOSAtLT4gMTIKICAgIDEzIC0tPiA0Cg==\"/>"
      ],
      "text/plain": [
       "<IPython.core.display.Image object>"
      ]
     },
     "metadata": {},
     "output_type": "display_data"
    }
   ],
   "source": [
    "json_example = {\n",
    "  \"fruits\": [\n",
    "    { \"kiwis\": 3,\n",
    "      \"mangues\": 4,\n",
    "      \"pommes\": null\n",
    "    },\n",
    "    { \"panier\": true }\n",
    "  ],\n",
    "  \"legumes\": {\n",
    "      \"patates\": \"amandine\",\n",
    "      \"poireaux\": false\n",
    "    },\n",
    "    \"viandes\": [\"poisson\",\"poulet\",\"boeuf\"]\n",
    " }\n",
    "\n",
    "fc_example = { \n",
    "    'json flowchart example:$flowchart' : { \n",
    "        'orientation': 'top-down',\n",
    "        'node::': {\n",
    "            '0' : ['roundedge', '<b>value</b>'],\n",
    "            '14': ['roundedge', '<b>fruits</b>'],\n",
    "            '13': ['roundedge', '<b>::</b>'],\n",
    "            '2' : ['rectangle', '<b>kiwi</b>\\n<i>3</i>'], \n",
    "            '3' : ['rectangle', \"<b>mangues</b>\\n<i>4</i>\"],\n",
    "            '4' : ['rectangle', \"<b>pommes</b>\\n<i>null</i>\"],\n",
    "            '5' : ['rectangle', \"<b>panier</b>\\n<i>true</i>\"],\n",
    "            '7' : ['rectangle', \"<b>patates</b>\\n<i>amandine</i>\"],         \n",
    "            '8' : ['rectangle', \"<b>poireaux</b>\\n<i>false</i>\"],            \n",
    "            '6' : ['roundedge', '<b>legumes</b>'],\n",
    "            '9' : ['roundedge', '<b>viandes</b>'],\n",
    "            '10': ['roundedge', '<b>poisson</b>'],\n",
    "            '11': ['roundedge', '<b>poulet</b>'],\n",
    "            '12': ['roundedge', '<b>boeuf</b>']        \n",
    "        },\n",
    "        'link::': [ \n",
    "            [ '0' , 'normalarrow', '14'],\n",
    "            [ '14', 'normalarrow', '13'],\n",
    "            [ '13', 'dottedarrow', '2', 'test'],\n",
    "            [ '13', 'normalarrow', '3'],\n",
    "            [ '13', 'normalarrow', '4'],            \n",
    "            [ '14', 'normalarrow', '5'],            \n",
    "            [ '0' , 'normalarrow', '6'],            \n",
    "            [ '6' , 'normalarrow', '7'],            \n",
    "            [ '6' , 'normalarrow', '8'],            \n",
    "            [ '0' , 'normalarrow', '9'],            \n",
    "            [ '9' , 'normalarrow', '10'],            \n",
    "            [ '9' , 'normalarrow', '11'],            \n",
    "            [ '9', 'normalarrow', '12'],            \n",
    "            [ '13', 'normalarrow', '4']            \n",
    "        ]\n",
    "     }\n",
    "}\n",
    "\n",
    "diag = diagram(fc_example)\n",
    "display(Image(url=\"https://mermaid.ink/img/\" + b64encode(diag.encode(\"ascii\")).decode(\"ascii\")))"
   ]
  }
 ],
 "metadata": {
  "kernelspec": {
   "display_name": "Python 3 (ipykernel)",
   "language": "python",
   "name": "python3"
  },
  "language_info": {
   "codemirror_mode": {
    "name": "ipython",
    "version": 3
   },
   "file_extension": ".py",
   "mimetype": "text/x-python",
   "name": "python",
   "nbconvert_exporter": "python",
   "pygments_lexer": "ipython3",
   "version": "3.10.9"
  }
 },
 "nbformat": 4,
 "nbformat_minor": 5
}
