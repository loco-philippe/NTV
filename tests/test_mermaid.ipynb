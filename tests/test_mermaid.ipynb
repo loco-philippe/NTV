{
 "cells": [
  {
   "cell_type": "markdown",
   "id": "fed3e24e",
   "metadata": {},
   "source": [
    "# JSON interface for diagram creation\n",
    "## Example of Entity Relationship Diagram\n",
    "     \n",
    "      \n",
    "- [Functions used to create diagram](#Functions-used-to-create-diagram)\n",
    "- [Example with simple JSON structure](#Example-with-simple-JSON-structure)\n",
    "- [Second example with additional information](#Second-example-with-additional-information)"
   ]
  },
  {
   "cell_type": "markdown",
   "id": "e285c015",
   "metadata": {},
   "source": [
    "### Functions used to create diagram"
   ]
  },
  {
   "cell_type": "code",
   "execution_count": 1,
   "id": "cffbd4f3",
   "metadata": {},
   "outputs": [],
   "source": [
    "# Example of converting a Json format to a diagram\n",
    "\n",
    "from json_ntv import Ntv\n",
    "\n",
    "def diagram(diag):\n",
    "    ntv = Ntv.obj(diag)\n",
    "    diag_type = ntv.type_str[1:]\n",
    "    diag_txt = '---\\ntitle: ' + ntv.name + '\\n---\\n' if ntv.name else ''\n",
    "    diag_txt += diag_type\n",
    "    match diag_type:\n",
    "        case 'erDiagram':\n",
    "            diag_txt += erDiagram(ntv)\n",
    "    return diag_txt\n",
    "    \n",
    "def erDiagram(ntv):\n",
    "    diag_txt = ''\n",
    "    for item in Ntv.obj(ntv.val):\n",
    "        if item.name == 'entity':\n",
    "            for entity in item:\n",
    "                diag_txt += erEntity(entity)\n",
    "        if item.name == 'relationship':\n",
    "            for relation in item:\n",
    "                diag_txt += erRelation(relation)\n",
    "    return diag_txt\n",
    "\n",
    "def erEntity(entity):\n",
    "    ent_txt = '\\n    ' + entity.name + ' {'\n",
    "    for att in entity:\n",
    "        ent_txt += '\\n        ' + att[0].val + ' ' + att[1].val\n",
    "        if len(att) > 2:\n",
    "            if att[2].val in ('PK', 'FK', 'UK'):\n",
    "                ent_txt += ' ' + att[2].val\n",
    "            else:\n",
    "                ent_txt += ' \"' + att[2].val + '\"'\n",
    "        if len(att) > 3:\n",
    "            ent_txt += ' \"' + att[3].val + '\"'\n",
    "    return ent_txt + '\\n    }'\n",
    "\n",
    "def erRelation(rel):\n",
    "    rel_left  = {'exactly one' : ' ||', 'zero or one': ' |o', 'zero or more': ' }o', 'one or more': ' }|'}\n",
    "    rel_right = {'exactly one' : '|| ', 'zero or one': 'o| ', 'zero or more': 'o{ ', 'one or more': '|{ '}\n",
    "    identif   = {'identifying' : '--', 'non-identifying' : '..'}\n",
    "    rel_txt = '\\n    ' + rel[0].val + rel_left[rel[1].val] + identif[rel[2].val] + rel_right[rel[3].val] + rel[4].val\n",
    "    if len(rel) > 5:\n",
    "        rel_txt += ' : ' + rel[5].val\n",
    "    return rel_txt"
   ]
  },
  {
   "cell_type": "markdown",
   "id": "2fc95986",
   "metadata": {},
   "source": [
    "### Example with simple JSON structure"
   ]
  },
  {
   "cell_type": "code",
   "execution_count": 2,
   "id": "310d0101",
   "metadata": {},
   "outputs": [],
   "source": [
    "# The Json syntax is enriched by separator ':' or '::' in dict key to indicate that:\n",
    "#  - the second part of the key string is the data type\n",
    "#  - the dict value is a json entity (':') or a list of Json-NTV entities.\n",
    "\n",
    "order_example = { \n",
    "    'order example:$erDiagram' : { \n",
    "        'relationship::': [ \n",
    "            [ 'CUSTOMER', 'exactly one', 'identifying', 'zero or more', 'ORDER',     'places'],\n",
    "            [ 'ORDER',    'exactly one', 'identifying', 'one or more',  'LINE-ITEM', 'contains'] \n",
    "        ],\n",
    "        'entity::': {\n",
    "            'CUSTOMER':  [ \n",
    "                ['string', 'name',         'PK', 'the name'], \n",
    "                ['string', 'custNumber'] \n",
    "            ], \n",
    "            'ORDER': [ \n",
    "                ['int',    'orderNumber',  'PK'],\n",
    "                ['string', 'deliveryAdress'] \n",
    "            ],\n",
    "            'LINE-ITEM': [ \n",
    "                ['string', 'productCode',  'PK'],\n",
    "                ['int',    'quantity'],\n",
    "                ['float',  'pricePerUnit'] \n",
    "            ]   \n",
    "        },\n",
    "     } }\n",
    "\n",
    "diag = diagram(order_example)"
   ]
  },
  {
   "cell_type": "code",
   "execution_count": 3,
   "id": "1e929e0a",
   "metadata": {},
   "outputs": [
    {
     "data": {
      "text/html": [
       "<img src=\"https://mermaid.ink/img/LS0tCnRpdGxlOiBvcmRlciBleGFtcGxlCi0tLQplckRpYWdyYW0KICAgIENVU1RPTUVSIHx8LS1veyBPUkRFUiA6IHBsYWNlcwogICAgT1JERVIgfHwtLXx7IExJTkUtSVRFTSA6IGNvbnRhaW5zCiAgICBDVVNUT01FUiB7CiAgICAgICAgc3RyaW5nIG5hbWUgUEsgInRoZSBuYW1lIgogICAgICAgIHN0cmluZyBjdXN0TnVtYmVyCiAgICB9CiAgICBPUkRFUiB7CiAgICAgICAgaW50IG9yZGVyTnVtYmVyIFBLCiAgICAgICAgc3RyaW5nIGRlbGl2ZXJ5QWRyZXNzCiAgICB9CiAgICBMSU5FLUlURU0gewogICAgICAgIHN0cmluZyBwcm9kdWN0Q29kZSBQSwogICAgICAgIGludCBxdWFudGl0eQogICAgICAgIGZsb2F0IHByaWNlUGVyVW5pdAogICAgfQ==\"/>"
      ],
      "text/plain": [
       "<IPython.core.display.Image object>"
      ]
     },
     "metadata": {},
     "output_type": "display_data"
    }
   ],
   "source": [
    "from base64 import b64encode\n",
    "from IPython.display import Image, display\n",
    "\n",
    "display(Image(url=\"https://mermaid.ink/img/\" + b64encode(diag.encode(\"ascii\")).decode(\"ascii\")))"
   ]
  },
  {
   "cell_type": "markdown",
   "id": "ce75058b",
   "metadata": {},
   "source": [
    "### Second example with additional information"
   ]
  },
  {
   "cell_type": "code",
   "execution_count": 4,
   "id": "db4ed37c",
   "metadata": {},
   "outputs": [
    {
     "data": {
      "text/html": [
       "<img src=\"https://mermaid.ink/img/ZXJEaWFncmFtCiAgICBDVVNUT01FUiB8fC0tb3sgT1JERVIgOiBwbGFjZXMKICAgIE9SREVSIHx8LS18eyBMSU5FLUlURU0gOiBjb250YWlucwogICAgQ1VTVE9NRVIgewogICAgICAgIHN0cmluZyBuYW1lIFBLICJ0aGUgbmFtZSIKICAgICAgICBzdHJpbmcgY3VzdE51bWJlcgogICAgfQogICAgT1JERVIgewogICAgICAgIGludCBvcmRlck51bWJlciBQSwogICAgICAgIHN0cmluZyBkZWxpdmVyeUFkcmVzcwogICAgfQogICAgTElORS1JVEVNIHsKICAgICAgICBzdHJpbmcgcHJvZHVjdENvZGUgUEsKICAgICAgICBpbnQgcXVhbnRpdHkKICAgICAgICBmbG9hdCBwcmljZVBlclVuaXQKICAgIH0=\"/>"
      ],
      "text/plain": [
       "<IPython.core.display.Image object>"
      ]
     },
     "metadata": {},
     "output_type": "display_data"
    }
   ],
   "source": [
    "# in this example we use the potential of the NTV format to add additional information\n",
    "# (without changing either the code or the output data)\n",
    "\n",
    "order_example2 = { \n",
    "    ':$erDiagram' : { \n",
    "        'relationship::': [ \n",
    "            [ {'1st entity':'CUSTOMER'}, 'exactly one', 'identifying', 'zero or more', {'2nd entity':'ORDER'}, 'places'],\n",
    "            [ 'ORDER', {'to be confirmed': 'exactly one'}, 'identifying', 'one or more',  'LINE-ITEM', {'label': 'contains'}] \n",
    "        ],\n",
    "        'entity::': {\n",
    "            'CUSTOMER':  [ \n",
    "                ['string', 'name', 'PK', {'comments': 'the name'}], \n",
    "                ['string', 'custNumber'] \n",
    "            ], \n",
    "            'ORDER': [ \n",
    "                {'type_att':'int', 'name_att':'orderNumber',  'key_att': 'PK'},\n",
    "                {'this attribute is not yet valid' : ['string', 'deliveryAdress']}\n",
    "            ],\n",
    "            'LINE-ITEM': { \n",
    "                'first attribute': ['string', 'productCode',  'PK'],\n",
    "                'second attribute': ['int',    'quantity'],\n",
    "                'third attribute': ['float',  'pricePerUnit'] \n",
    "            }   \n",
    "        },\n",
    "     } }\n",
    "\n",
    "diag = diagram(order_example2)\n",
    "display(Image(url=\"https://mermaid.ink/img/\" + b64encode(diag.encode(\"ascii\")).decode(\"ascii\")))"
   ]
  }
 ],
 "metadata": {
  "kernelspec": {
   "display_name": "Python 3 (ipykernel)",
   "language": "python",
   "name": "python3"
  },
  "language_info": {
   "codemirror_mode": {
    "name": "ipython",
    "version": 3
   },
   "file_extension": ".py",
   "mimetype": "text/x-python",
   "name": "python",
   "nbconvert_exporter": "python",
   "pygments_lexer": "ipython3",
   "version": "3.10.9"
  }
 },
 "nbformat": 4,
 "nbformat_minor": 5
}
