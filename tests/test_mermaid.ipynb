{
 "cells": [
  {
   "cell_type": "markdown",
   "id": "fed3e24e",
   "metadata": {},
   "source": [
    "# JSON interface for diagram creation\n",
    "------\n",
    "## Example of Entity Relationship Diagram\n",
    "- [ER-example with simple structure](#ER-example-with-simple-structure)\n",
    "- [ER-second example with additional information](#ER-second-example-with-additional-information)\n",
    "\n",
    "## Example of Flowchart Diagram\n",
    "- [FC-example with simple structure](#FC-example-with-simple-structure)\n",
    "- [Example of NTV data](#Example-of-NTV-data)\n",
    "- [Example of NTV-TAB data](#Example-of-NTV-TAB-data)"
   ]
  },
  {
   "cell_type": "markdown",
   "id": "014c4e86",
   "metadata": {},
   "source": [
    "-------\n",
    "[Functions used to create diagram from json](https://github.com/loco-philippe/NTV/blob/main/json_ntv/json_mermaid.py)"
   ]
  },
  {
   "cell_type": "markdown",
   "id": "9a740b81",
   "metadata": {},
   "source": [
    "## Example of Entity Relationship Diagram"
   ]
  },
  {
   "cell_type": "markdown",
   "id": "2fc95986",
   "metadata": {},
   "source": [
    "### ER-example with simple structure"
   ]
  },
  {
   "cell_type": "code",
   "execution_count": 1,
   "id": "310d0101",
   "metadata": {},
   "outputs": [
    {
     "data": {
      "text/html": [
       "<img src=\"https://mermaid.ink/img/LS0tCnRpdGxlOiBqc29uIG9yZGVyIGV4YW1wbGUKLS0tCmVyRGlhZ3JhbQogICAgQ1VTVE9NRVIgewogICAgICAgIHN0cmluZyBuYW1lIFBLICJ0aGUgbmFtZSIKICAgICAgICBzdHJpbmcgY3VzdE51bWJlcgogICAgfQogICAgT1JERVIgewogICAgICAgIGludCBvcmRlck51bWJlciBQSwogICAgICAgIHN0cmluZyBkZWxpdmVyeUFkcmVzcwogICAgfQogICAgTElORS1JVEVNIHsKICAgICAgICBzdHJpbmcgcHJvZHVjdENvZGUgUEsKICAgICAgICBpbnQgcXVhbnRpdHkKICAgICAgICBmbG9hdCBwcmljZVBlclVuaXQKICAgIH0KICAgIENVU1RPTUVSIHx8LS1veyBPUkRFUiA6IHBsYWNlcwogICAgT1JERVIgfHwtLXx7IExJTkUtSVRFTSA6IGNvbnRhaW5z\"/>"
      ],
      "text/plain": [
       "<IPython.core.display.Image object>"
      ]
     },
     "metadata": {},
     "output_type": "display_data"
    }
   ],
   "source": [
    "# The Json syntax is enriched by separator ':' or '::' in dict key to indicate that:\n",
    "#  - the second part of the key string is the data type\n",
    "#  - the dict value is a json entity (':') or a list of Json-NTV entities.\n",
    "from base64 import b64encode\n",
    "from IPython.display import Image, display\n",
    "from json_ntv import Ntv, MermaidConnec\n",
    "\n",
    "order_example = { \n",
    "    'json order example:$erDiagram' : { \n",
    "        'relationship::': [ \n",
    "            [ 'CUSTOMER', 'exactly one', 'identifying', 'zero or more', 'ORDER',     'places'],\n",
    "            [ 'ORDER',    'exactly one', 'identifying', 'one or more',  'LINE-ITEM', 'contains'] \n",
    "        ],\n",
    "        'entity::': {\n",
    "            'CUSTOMER':  [ \n",
    "                ['string', 'name',         'PK', 'the name'], \n",
    "                ['string', 'custNumber'] \n",
    "            ], \n",
    "            'ORDER': [ \n",
    "                ['int',    'orderNumber',  'PK'],\n",
    "                ['string', 'deliveryAdress'] \n",
    "            ],\n",
    "            'LINE-ITEM': [ \n",
    "                ['string', 'productCode',  'PK'],\n",
    "                ['int',    'quantity'],\n",
    "                ['float',  'pricePerUnit'] \n",
    "            ]   \n",
    "        },\n",
    "     } }\n",
    "\n",
    "diag = MermaidConnec.diagram(order_example)\n",
    "display(Image(url=\"https://mermaid.ink/img/\" + b64encode(diag.encode(\"ascii\")).decode(\"ascii\")))"
   ]
  },
  {
   "cell_type": "markdown",
   "id": "ce75058b",
   "metadata": {},
   "source": [
    "### ER-second example with additional information"
   ]
  },
  {
   "cell_type": "code",
   "execution_count": 2,
   "id": "db4ed37c",
   "metadata": {},
   "outputs": [
    {
     "data": {
      "text/html": [
       "<img src=\"https://mermaid.ink/img/LS0tCnRpdGxlOiBqc29uIG9yZGVyIGV4YW1wbGUgMgotLS0KZXJEaWFncmFtCiAgICBDVVNUT01FUiB7CiAgICAgICAgc3RyaW5nIG5hbWUgUEsgInRoZSBuYW1lIgogICAgICAgIHN0cmluZyBjdXN0TnVtYmVyCiAgICB9CiAgICBPUkRFUiB7CiAgICAgICAgaW50IG9yZGVyTnVtYmVyIFBLCiAgICAgICAgc3RyaW5nIGRlbGl2ZXJ5QWRyZXNzCiAgICB9CiAgICBMSU5FLUlURU0gewogICAgICAgIHN0cmluZyBwcm9kdWN0Q29kZSBQSwogICAgICAgIGludCBxdWFudGl0eQogICAgICAgIGZsb2F0IHByaWNlUGVyVW5pdAogICAgfQogICAgQ1VTVE9NRVIgfHwtLW97IE9SREVSIDogcGxhY2VzCiAgICBPUkRFUiB8fC0tfHsgTElORS1JVEVNIDogY29udGFpbnM=\"/>"
      ],
      "text/plain": [
       "<IPython.core.display.Image object>"
      ]
     },
     "metadata": {},
     "output_type": "display_data"
    }
   ],
   "source": [
    "# in this example we use the potential of the NTV format to add additional information\n",
    "# (without changing either the code or the output data)\n",
    "\n",
    "order_example2 = { \n",
    "    'json order example 2:$erDiagram' : { \n",
    "        'relationship::': [ \n",
    "            [ {'1st entity':'CUSTOMER'}, 'exactly one', 'identifying', 'zero or more', {'2nd entity':'ORDER'}, 'places'],\n",
    "            [ 'ORDER', {'to be confirmed': 'exactly one'}, 'identifying', 'one or more',  'LINE-ITEM', {'label': 'contains'}] \n",
    "        ],\n",
    "        'entity::': {\n",
    "            'CUSTOMER':  [ \n",
    "                ['string', 'name', 'PK', {'comments': 'the name'}], \n",
    "                ['string', 'custNumber'] \n",
    "            ], \n",
    "            'ORDER': [ \n",
    "                {'type_att':'int', 'name_att':'orderNumber',  'key_att': 'PK'},\n",
    "                {'this attribute is not yet valid' : ['string', 'deliveryAdress']}\n",
    "            ],\n",
    "            'LINE-ITEM': { \n",
    "                'first attribute': ['string', 'productCode',  'PK'],\n",
    "                'second attribute': ['int',    'quantity'],\n",
    "                'third attribute': {'type_att':'float',  'name_att':'pricePerUnit'} \n",
    "            }   \n",
    "        },\n",
    "     } }\n",
    "\n",
    "diag = MermaidConnec.diagram(order_example2)\n",
    "display(Image(url=\"https://mermaid.ink/img/\" + b64encode(diag.encode(\"ascii\")).decode(\"ascii\")))"
   ]
  },
  {
   "cell_type": "markdown",
   "id": "0cb35f65",
   "metadata": {},
   "source": [
    "## Example of Flowchart Diagram"
   ]
  },
  {
   "cell_type": "markdown",
   "id": "226f9cc9",
   "metadata": {},
   "source": [
    "### FC-example with simple structure"
   ]
  },
  {
   "cell_type": "code",
   "execution_count": 3,
   "id": "2bac06b7",
   "metadata": {},
   "outputs": [
    {
     "data": {
      "text/html": [
       "<img src=\"https://mermaid.ink/img/LS0tCnRpdGxlOiBqc29uIGZsb3djaGFydCBleGFtcGxlCi0tLQpmbG93Y2hhcnQgVEQKICAgIDAoIjxiPnZhbHVlPC9iPiIpCiAgICAxNCgiZnJ1aXRzIikKICAgIDEzKCI8Yj46OjwvYj4iKQogICAgMlsiPGI+a2l3aTwvYj4KPGk+MzwvaT4iXQogICAgM1siPGI+bWFuZ3VlczwvYj4KPGk+NDwvaT4iXQogICAgMCAtLT4gMTQKICAgIDE0IC0tPiAxMwogICAgMTMgLS4tPnx0ZXN0fCAyCiAgICAxMyAtLT4gMwo=\"/>"
      ],
      "text/plain": [
       "<IPython.core.display.Image object>"
      ]
     },
     "metadata": {},
     "output_type": "display_data"
    }
   ],
   "source": [
    "fc_example = { \n",
    "    'json flowchart example:$flowchart' : { \n",
    "        'orientation': 'top-down',\n",
    "        'node::': {\n",
    "            '0' : ['roundedge', '<b>value</b>'],\n",
    "            '14': ['roundedge', 'fruits'],\n",
    "            '13': ['roundedge', '<b>::</b>'],\n",
    "            '2' : ['rectangle', '<b>kiwi</b>\\n<i>3</i>'], \n",
    "            '3' : ['rectangle', \"<b>mangues</b>\\n<i>4</i>\"]\n",
    "        },\n",
    "        'link::': [ \n",
    "            [ '0' , 'normalarrow', '14'],\n",
    "            [ '14', 'normalarrow', '13'],\n",
    "            [ '13', 'dottedarrow', '2', 'test'],\n",
    "            [ '13', 'normalarrow', '3'],         \n",
    "        ]\n",
    "     }\n",
    "}\n",
    "\n",
    "diag = MermaidConnec.diagram(fc_example)\n",
    "display(Image(url=\"https://mermaid.ink/img/\" + b64encode(diag.encode(\"ascii\")).decode(\"ascii\")))"
   ]
  },
  {
   "cell_type": "markdown",
   "id": "66a61661",
   "metadata": {},
   "source": [
    "### Example of simple JSON "
   ]
  },
  {
   "cell_type": "code",
   "execution_count": 4,
   "id": "da805b92",
   "metadata": {},
   "outputs": [
    {
     "data": {
      "text/html": [
       "<img src=\"https://mermaid.ink/img/LS0tCnRpdGxlOiBqc29uIGZsb3djaGFydAotLS0KZmxvd2NoYXJ0IFRECiAgICAwKCI8Yj5leGFtcGxlPC9iPiIpCiAgICAwLjAoIjxiPmZydWl0czwvYj4iKQogICAgMC4wLjAoIjxiPjo6PC9iPiIpCiAgICAwLjAuMC4wWyI8Yj5raXdpczwvYj4KPGk+MzwvaT4iXQogICAgMC4wLjAuMVsiPGI+bWFuZ3VlczwvYj4KPGk+NDwvaT4iXQogICAgMC4wLjAuMlsiPGI+cG9tbWVzPC9iPgo8aT5udWxsPC9pPiJdCiAgICAwLjAuMVsiPGI+cGFuaWVyPC9iPgo8aT50cnVlPC9pPiJdCiAgICAwLjEoIjxiPmxlZ3VtZXM8L2I+IikKICAgIDAuMS4wWyI8Yj5wYXRhdGVzPC9iPgo8aT5hbWFuZGluZTwvaT4iXQogICAgMC4xLjFbIjxiPnBvaXJlYXV4PC9iPgo8aT5mYWxzZTwvaT4iXQogICAgMC4yKCI8Yj52aWFuZGVzPC9iPiIpCiAgICAwLjIuMFsiPGk+cG9pc3NvbjwvaT4iXQogICAgMC4yLjFbIjxpPnBvdWxldDwvaT4iXQogICAgMC4yLjJbIjxpPmJvZXVmPC9pPiJdCiAgICAwLjAuMCAtLT4gMC4wLjAuMAogICAgMC4wLjAgLS0+IDAuMC4wLjEKICAgIDAuMC4wIC0tPiAwLjAuMC4yCiAgICAwLjAgLS0+IDAuMC4wCiAgICAwLjAgLS0+IDAuMC4xCiAgICAwIC0tPiAwLjAKICAgIDAuMSAtLT4gMC4xLjAKICAgIDAuMSAtLT4gMC4xLjEKICAgIDAgLS0+IDAuMQogICAgMC4yIC0tPiAwLjIuMAogICAgMC4yIC0tPiAwLjIuMQogICAgMC4yIC0tPiAwLjIuMgogICAgMCAtLT4gMC4yCg==\"/>"
      ],
      "text/plain": [
       "<IPython.core.display.Image object>"
      ]
     },
     "metadata": {},
     "output_type": "display_data"
    }
   ],
   "source": [
    "json_example = { 'example::': {\n",
    "  \"fruits\": [\n",
    "    { \"kiwis\": 3, \"mangues\": 4, \"pommes\": None },\n",
    "    { \"panier\": True }\n",
    "  ],\n",
    "  \"legumes\": {\n",
    "      \"patates\": \"amandine\",\n",
    "      \"poireaux\": False\n",
    "   },\n",
    "   \"viandes\": [\"poisson\",\"poulet\",\"boeuf\"]\n",
    " }}\n",
    "Ntv.obj(json_example).to_mermaid('json flowchart', disp=True)"
   ]
  },
  {
   "cell_type": "markdown",
   "id": "196533ba",
   "metadata": {},
   "source": [
    "### Example of NTV data"
   ]
  },
  {
   "cell_type": "code",
   "execution_count": 5,
   "id": "19c404dc",
   "metadata": {},
   "outputs": [
    {
     "data": {
      "text/html": [
       "<img src=\"https://mermaid.ink/img/LS0tCnRpdGxlOiBOVFYgZmxvd2NoYXJ0Ci0tLQpmbG93Y2hhcnQgVEQKICAgIDAoIjxiPk5UViBleGFtcGxlPC9iPiIpCiAgICAwLjAoIjxiPmZydWl0czwvYj4iKQogICAgMC4wLjAoIjxiPjo6PC9iPiIpCiAgICAwLjAuMC4wWyI8Yj5raXdpczwvYj4KPGk+MzwvaT4iXQogICAgMC4wLjAuMVsiPGI+bWFuZ3VlczwvYj4KaW50CjxpPjQ8L2k+Il0KICAgIDAuMC4wLjJbIjxiPnBvbW1lczwvYj4KPGk+bnVsbDwvaT4iXQogICAgMC4wLjFbIjxiPnBhbmllcjwvYj4KPGk+dHJ1ZTwvaT4iXQogICAgMC4xKCI8Yj5sZWd1bWVzPC9iPgpzdHJpbmciKQogICAgMC4xLjBbIjxiPnBhdGF0ZXM8L2I+CjxpPmFtYW5kaW5lPC9pPiJdCiAgICAwLjEuMVsiPGI+cG9pcmVhdXg8L2I+Cmpzb24KPGk+ZmFsc2U8L2k+Il0KICAgIDAuMigiPGI+dmlhbmRlczwvYj4iKQogICAgMC4yLjBbIjxpPnBvaXNzb248L2k+Il0KICAgIDAuMi4xWyJzdHJpbmcKPGk+cG91bGV0PC9pPiJdCiAgICAwLjIuMlsiPGk+Ym9ldWY8L2k+Il0KICAgIDAuMC4wIC0tPiAwLjAuMC4wCiAgICAwLjAuMCAtLT4gMC4wLjAuMQogICAgMC4wLjAgLS0+IDAuMC4wLjIKICAgIDAuMCAtLT4gMC4wLjAKICAgIDAuMCAtLT4gMC4wLjEKICAgIDAgLS0+IDAuMAogICAgMC4xIC0tPiAwLjEuMAogICAgMC4xIC0tPiAwLjEuMQogICAgMCAtLT4gMC4xCiAgICAwLjIgLS0+IDAuMi4wCiAgICAwLjIgLS0+IDAuMi4xCiAgICAwLjIgLS0+IDAuMi4yCiAgICAwIC0tPiAwLjIK\"/>"
      ],
      "text/plain": [
       "<IPython.core.display.Image object>"
      ]
     },
     "metadata": {},
     "output_type": "display_data"
    }
   ],
   "source": [
    "ntv_example = { 'NTV example::': {\n",
    "  \"fruits\": [\n",
    "     {\"kiwis\": 3, \"mangues:int\": 4, \"pommes\": None },\n",
    "     {\"panier\": True }\n",
    "  ],\n",
    "  \"legumes::json\": {\n",
    "      \"patates:string\": \"amandine\",\n",
    "      \"poireaux\": False\n",
    "    },\n",
    "  \"viandes\": [\"poisson\",{\":string\": \"poulet\"},\"boeuf\"]\n",
    " }}\n",
    "Ntv.obj(ntv_example).to_mermaid('NTV flowchart', disp=True)"
   ]
  },
  {
   "cell_type": "code",
   "execution_count": 6,
   "id": "8660b3cc",
   "metadata": {},
   "outputs": [
    {
     "data": {
      "text/html": [
       "<img src=\"https://mermaid.ink/img/LS0tCnRpdGxlOiBOVFYgZmxvd2NoYXJ0Ci0tLQpmbG93Y2hhcnQgVEQKICAgIDAoIjxiPk5UViBleGFtcGxlPC9iPgo8aT4wPC9pPiIpCiAgICAwLjAoIjxiPmZydWl0czwvYj4KPGk+MTwvaT4iKQogICAgMC4wLjAoIjxpPjI8L2k+IikKICAgIDAuMC4wLjAoIjxiPmtpd2lzPC9iPgo8aT4zPC9pPiIpCiAgICAwLjAuMC4xKCI8Yj5tYW5ndWVzPC9iPgppbnQKPGk+NDwvaT4iKQogICAgMC4wLjAuMigiPGI+cG9tbWVzPC9iPgo8aT41PC9pPiIpCiAgICAwLjAuMSgiPGI+cGFuaWVyPC9iPgo8aT42PC9pPiIpCiAgICAwLjEoIjxiPmxlZ3VtZXM8L2I+CnN0cmluZwo8aT43PC9pPiIpCiAgICAwLjEuMCgiPGI+cGF0YXRlczwvYj4KPGk+ODwvaT4iKQogICAgMC4xLjEoIjxiPnBvaXJlYXV4PC9iPgpqc29uCjxpPjk8L2k+IikKICAgIDAuMigiPGI+dmlhbmRlczwvYj4KPGk+MTA8L2k+IikKICAgIDAuMi4wKCI8aT4xMTwvaT4iKQogICAgMC4yLjEoInN0cmluZwo8aT4xMjwvaT4iKQogICAgMC4yLjIoIjxpPjEzPC9pPiIpCiAgICAwLjAuMCAtLT4gMC4wLjAuMAogICAgMC4wLjAgLS0+IDAuMC4wLjEKICAgIDAuMC4wIC0tPiAwLjAuMC4yCiAgICAwLjAgLS0+IDAuMC4wCiAgICAwLjAgLS0+IDAuMC4xCiAgICAwIC0tPiAwLjAKICAgIDAuMSAtLT4gMC4xLjAKICAgIDAuMSAtLT4gMC4xLjEKICAgIDAgLS0+IDAuMQogICAgMC4yIC0tPiAwLjIuMAogICAgMC4yIC0tPiAwLjIuMQogICAgMC4yIC0tPiAwLjIuMgogICAgMCAtLT4gMC4yCg==\"/>"
      ],
      "text/plain": [
       "<IPython.core.display.Image object>"
      ]
     },
     "metadata": {},
     "output_type": "display_data"
    }
   ],
   "source": [
    "Ntv.obj(ntv_example).to_mermaid('NTV flowchart', disp=True, row=True)"
   ]
  },
  {
   "cell_type": "markdown",
   "id": "813f0dca",
   "metadata": {},
   "source": [
    "### Example of NTV-TAB data"
   ]
  },
  {
   "cell_type": "code",
   "execution_count": 7,
   "id": "2d153ca4",
   "metadata": {},
   "outputs": [
    {
     "data": {
      "text/html": [
       "<img src=\"https://mermaid.ink/img/LS0tCnRpdGxlOiB0YWIgZGF0YSBleGFtcGxlCi0tLQpmbG93Y2hhcnQgVEQKICAgIDAoIjxiPnRhYjwvYj4iKQogICAgMC4wKCI8Yj5pbmRleDwvYj4iKQogICAgMC4wLjBbIjxpPjE8L2k+Il0KICAgIDAuMC4xWyI8aT4yPC9pPiJdCiAgICAwLjAuMlsiPGk+MzwvaT4iXQogICAgMC4xKCI8Yj5kYXRlczwvYj4KZGF0ZXRpbWUiKQogICAgMC4xLjBbIjxpPjE5NjQtMDEtMDE8L2k+Il0KICAgIDAuMS4xWyI8aT4xOTg1LTAyLTA1PC9pPiJdCiAgICAwLjEuMlsiPGk+MjAyMi0wMS0yMTwvaT4iXQogICAgMC4yKCI8Yj52YWx1ZTwvYj4iKQogICAgMC4yLjBbIjxpPjEwPC9pPiJdCiAgICAwLjIuMVsiPGk+MjA8L2k+Il0KICAgIDAuMi4yWyI8aT4zMDwvaT4iXQogICAgMC4zKCI8Yj52YWx1ZTMyPC9iPgppbnQzMiIpCiAgICAwLjMuMFsiPGk+MTA8L2k+Il0KICAgIDAuMy4xWyI8aT4yMDwvaT4iXQogICAgMC4zLjJbIjxpPjMwPC9pPiJdCiAgICAwLjQoIjxiPmNvb3JkPC9iPgpwb2ludCIpCiAgICAwLjQuMFsiPGk+WzEsIDJdPC9pPiJdCiAgICAwLjQuMVsiPGk+WzMsIDRdPC9pPiJdCiAgICAwLjQuMlsiPGk+WzUsIDZdPC9pPiJdCiAgICAwLjUoIjxiPm5hbWVzPC9iPgpzdHJpbmciKQogICAgMC41LjBbIjxpPmpvaG48L2k+Il0KICAgIDAuNS4xWyI8aT5lcmljPC9pPiJdCiAgICAwLjUuMlsiPGk+anVkaXRoPC9pPiJdCiAgICAwLjAgLS0+IDAuMC4wCiAgICAwLjAgLS0+IDAuMC4xCiAgICAwLjAgLS0+IDAuMC4yCiAgICAwIC0tPiAwLjAKICAgIDAuMSAtLT4gMC4xLjAKICAgIDAuMSAtLT4gMC4xLjEKICAgIDAuMSAtLT4gMC4xLjIKICAgIDAgLS0+IDAuMQogICAgMC4yIC0tPiAwLjIuMAogICAgMC4yIC0tPiAwLjIuMQogICAgMC4yIC0tPiAwLjIuMgogICAgMCAtLT4gMC4yCiAgICAwLjMgLS0+IDAuMy4wCiAgICAwLjMgLS0+IDAuMy4xCiAgICAwLjMgLS0+IDAuMy4yCiAgICAwIC0tPiAwLjMKICAgIDAuNCAtLT4gMC40LjAKICAgIDAuNCAtLT4gMC40LjEKICAgIDAuNCAtLT4gMC40LjIKICAgIDAgLS0+IDAuNAogICAgMC41IC0tPiAwLjUuMAogICAgMC41IC0tPiAwLjUuMQogICAgMC41IC0tPiAwLjUuMgogICAgMCAtLT4gMC41Cg==\"/>"
      ],
      "text/plain": [
       "<IPython.core.display.Image object>"
      ]
     },
     "metadata": {},
     "output_type": "display_data"
    }
   ],
   "source": [
    "tab_data   = {'index':           [1, 2, 3],\n",
    "              'dates::datetime': ['1964-01-01', '1985-02-05', '2022-01-21'], \n",
    "              'value':           [10, 20, 30],\n",
    "              'value32::int32':  [10, 20, 30],\n",
    "              'coord::point':    [[1,2], [3,4], [5,6]],\n",
    "              'names::string':   ['john', 'eric', 'judith']}\n",
    "Ntv.obj({'tab': tab_data}).to_mermaid('tab data example', disp=True)"
   ]
  }
 ],
 "metadata": {
  "kernelspec": {
   "display_name": "Python 3 (ipykernel)",
   "language": "python",
   "name": "python3"
  },
  "language_info": {
   "codemirror_mode": {
    "name": "ipython",
    "version": 3
   },
   "file_extension": ".py",
   "mimetype": "text/x-python",
   "name": "python",
   "nbconvert_exporter": "python",
   "pygments_lexer": "ipython3",
   "version": "3.10.9"
  }
 },
 "nbformat": 4,
 "nbformat_minor": 5
}
