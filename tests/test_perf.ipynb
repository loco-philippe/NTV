{
 "cells": [
  {
   "cell_type": "code",
   "execution_count": 1,
   "id": "561942d5",
   "metadata": {},
   "outputs": [],
   "source": [
    "from json_ntv import Ntv, NtvSingle, NtvList, NtvSet\n",
    "from namespace import Namespace, NtvType\n",
    "from time import time\n",
    "\n",
    "def ntvobj(nb, jname='', jdefname=''):\n",
    "    if jdefname:\n",
    "        return {jdefname: [{jname : i} for i in range(nb)]}\n",
    "    return [{jname : i} for i in range(nb)]\n",
    "\n",
    "def ntvl(nb, lis=True, jname='', deftyp=None, obj=None):\n",
    "    dic = {True: NtvList, False: NtvSet}\n",
    "    t0 = time()\n",
    "    if obj:\n",
    "        ntv = Ntv.obj(obj)\n",
    "    else:\n",
    "        if jname:\n",
    "            ntv = dic[lis]([Ntv.from_obj({jname : i}, deftyp) for i in range(nb)])\n",
    "        else:\n",
    "            ntv = dic[lis]([Ntv.from_obj(i, deftyp) for i in range(nb)])            \n",
    "    t1 = time()\n",
    "    js = ntv.to_obj()\n",
    "    t2 = time()\n",
    "    return (t1-t0, t2-t1)"
   ]
  },
  {
   "cell_type": "code",
   "execution_count": 12,
   "id": "50a929ed",
   "metadata": {},
   "outputs": [
    {
     "name": "stdout",
     "output_type": "stream",
     "text": [
      "(0.0, 0.0)\n",
      "(0.0004980564117431641, 0.0)\n",
      "(0.055266618728637695, 0.031865596771240234)\n",
      "(0.2683591842651367, 0.029871702194213867)\n",
      "(0.359529972076416, 0.0308687686920166)\n",
      "(0.3395576477050781, 0.03435397148132324)\n",
      "(0.339557409286499, 0.034354448318481445) \n",
      "\n",
      "(0.20363450050354004, 0.07518124580383301)\n",
      "(0.2603929042816162, 0.06621885299682617)\n",
      "(0.3465275764465332, 0.0672152042388916)\n",
      "(0.34602856636047363, 0.07667326927185059)\n",
      "(0.3305962085723877, 0.08015942573547363) \n",
      "\n",
      "['json', 'number', 'boolean', 'null', 'string', 'array', 'object', 'int', 'int8', 'int16', 'int32', 'int64', 'uint8', 'uint16', 'uint32', 'uint64', 'float', 'float16', 'float32', 'float64', 'year', 'month', 'week', 'day', 'hour', 'minute', 'second', 'dat', 'date', 'time', 'datetime', 'multipoint', 'multiline', 'multipolygon', 'loc', 'point', 'line', 'polygon', 'tab', 'field', 'ntv', 'uic', 'iata']\n"
     ]
    }
   ],
   "source": [
    "nb = 10000\n",
    "print(ntvl(1, True))\n",
    "print(ntvl(10, True))\n",
    "for cl in (True, False):\n",
    "    if cl:\n",
    "        print(ntvl(nb, cl))\n",
    "    else:\n",
    "        print(ntvl(nb, cl, 'test'))\n",
    "    print(ntvl(nb, cl, ':int'))\n",
    "    print(ntvl(nb, cl, ':int', 'int'))\n",
    "    print(ntvl(nb, cl, ':int', 'json'))\n",
    "    print(ntvl(nb, cl, ':int', 'point'), '\\n')\n",
    "#print(NtvType.types())"
   ]
  },
  {
   "cell_type": "code",
   "execution_count": 8,
   "id": "afe42754",
   "metadata": {},
   "outputs": [
    {
     "name": "stdout",
     "output_type": "stream",
     "text": [
      "['']\n"
     ]
    }
   ],
   "source": [
    "from namespace import Namespace, NtvType\n",
    "print(Namespace.namespaces())"
   ]
  }
 ],
 "metadata": {
  "kernelspec": {
   "display_name": "Python 3 (ipykernel)",
   "language": "python",
   "name": "python3"
  },
  "language_info": {
   "codemirror_mode": {
    "name": "ipython",
    "version": 3
   },
   "file_extension": ".py",
   "mimetype": "text/x-python",
   "name": "python",
   "nbconvert_exporter": "python",
   "pygments_lexer": "ipython3",
   "version": "3.10.9"
  }
 },
 "nbformat": 4,
 "nbformat_minor": 5
}
