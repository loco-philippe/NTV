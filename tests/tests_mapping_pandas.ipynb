{
 "cells": [
  {
   "cell_type": "code",
   "execution_count": 1,
   "id": "13bca0c5",
   "metadata": {},
   "outputs": [],
   "source": [
    "import pandas as pd\n",
    "from json_ntv import Ntv\n",
    "from datetime import date, time, datetime"
   ]
  },
  {
   "cell_type": "code",
   "execution_count": 57,
   "id": "e1dcccaf",
   "metadata": {},
   "outputs": [
    {
     "name": "stdout",
     "output_type": "stream",
     "text": [
      "True\n",
      "True\n",
      "True\n",
      "True\n",
      "True\n",
      "True\n",
      "True\n",
      "True\n",
      "True\n",
      "True\n",
      "True\n",
      "False\n",
      "False\n",
      "False\n",
      "False\n",
      "False\n",
      "False\n",
      "False\n"
     ]
    }
   ],
   "source": [
    "srs = [pd.Series([1,2,3], dtype='int64'),\n",
    "       pd.Series([True, False, True], dtype='bool'),\n",
    "       pd.Series([datetime(2022, 1, 1), datetime(2022, 1, 2)], dtype='datetime64[ns]'),\n",
    "       pd.Series([{'a': 3, 'e':5}, {'a': 4, 'e':6}]),  \n",
    "       pd.Series([[3,4], [5,6]]),  \n",
    "       pd.Series([[3,4], {'a': 3, 'e':5}]),  \n",
    "       pd.Series([pd.NaT, pd.NaT, pd.NaT]),\n",
    "       pd.Series([True, False, True]),\n",
    "       pd.Series(['az', 'er', 'cd']),\n",
    "       pd.Series([1,2,3]),\n",
    "       pd.Series([1.1,2,3]),\n",
    "       \n",
    "       pd.Series([datetime(2022, 1, 1), datetime(2022, 1, 2)], dtype='datetime64[ns, UTC]'),\n",
    "       pd.Series([1,2,3], dtype='int32'),\n",
    "       pd.Series([1,2,3], dtype='UInt64'),\n",
    "       pd.Series([1,2,3], dtype='float64'),\n",
    "       pd.Series([1,2,3], dtype='object'),\n",
    "       pd.Series(['az', 'er', 'cd'], dtype='string'),\n",
    "       pd.Series([None, None, None])\n",
    "]\n",
    "for sr in srs:\n",
    "    print(sr.equals(pd.read_json(sr.to_json(orient='records', date_format='iso', default_handler=str), typ='series')))\n"
   ]
  },
  {
   "cell_type": "code",
   "execution_count": 53,
   "id": "e5f1c6a2",
   "metadata": {},
   "outputs": [
    {
     "name": "stdout",
     "output_type": "stream",
     "text": [
      "[true,false,true]\n",
      "0     True\n",
      "1    False\n",
      "2     True\n",
      "dtype: bool\n",
      "0     True\n",
      "1    False\n",
      "2     True\n",
      "dtype: bool\n"
     ]
    }
   ],
   "source": [
    "sr = pd.Series([True, False, True])\n",
    "\n",
    "print(sr.to_json(orient='records', date_format='iso', default_handler=str))\n",
    "print(pd.read_json(sr.to_json(orient='records', date_format='iso', default_handler=str), typ='series'))\n",
    "print(pd.read_json(sr.to_json(orient='records', default_handler=str), typ='series'))\n"
   ]
  },
  {
   "cell_type": "markdown",
   "id": "590b8521",
   "metadata": {},
   "source": [
    "## mapping des types\n",
    "Type json implicite (pas de ::name):\n",
    "- json(number) - float64, int64\n",
    "- json(string) - object(string)\n",
    "- json(object) - object(dict)\n",
    "- json(array) - object(tuple)\n",
    "- json(bool) - bool\n",
    "- json(null) - NaT\n",
    "\n",
    "Type pandas spécifique (::name non maintenu sur pandas):\n",
    "- datetime - datetime64[ns]\n",
    "- intxx, uintxx - Intxx, UIntxx\n",
    "- floatxx - floatxx\n",
    "- string - string\n",
    "\n",
    "Type pandas explicite (::name maintenu sur pandas):\n",
    "- float64 - float64\n",
    "- int64 - Int64\n",
    "- object - object\n",
    "- array - object\n",
    "- bool - bool\n",
    "- null - NaT\n",
    "\n",
    "Type  externe (::name maintenu sur pandas)\n",
    "\n",
    "A voir\n",
    "- datetime64[ns, <tz>]\n",
    "- category\n",
    "- period[<freq>]\n",
    "- Sparse\n",
    "- Interval"
   ]
  },
  {
   "cell_type": "markdown",
   "id": "31152a44",
   "metadata": {},
   "source": [
    "## conversion \n",
    "Type json:\n",
    "- -> read_json(sans dtype)\n",
    "- <- to_json\n",
    "\n",
    "Type pandas spécifique ou explicite:\n",
    "- -> read_json(avec dtype)\n",
    "- <- to_json\n",
    "\n",
    "Type externe:\n",
    "- -> to_obj(format='obj') -> Series\n",
    "- <- from_obj() <- Series"
   ]
  },
  {
   "cell_type": "code",
   "execution_count": 58,
   "id": "a1c60bce",
   "metadata": {},
   "outputs": [
    {
     "name": "stdout",
     "output_type": "stream",
     "text": [
      "<class 'numpy.int32'>\n",
      "1\n"
     ]
    }
   ],
   "source": [
    "a = pd.read_json('[1,2]', typ='series', dtype='Int32' )\n",
    "print(type(a[0]))\n",
    "print(a[0])"
   ]
  }
 ],
 "metadata": {
  "kernelspec": {
   "display_name": "Python 3 (ipykernel)",
   "language": "python",
   "name": "python3"
  },
  "language_info": {
   "codemirror_mode": {
    "name": "ipython",
    "version": 3
   },
   "file_extension": ".py",
   "mimetype": "text/x-python",
   "name": "python",
   "nbconvert_exporter": "python",
   "pygments_lexer": "ipython3",
   "version": "3.10.9"
  }
 },
 "nbformat": 4,
 "nbformat_minor": 5
}
