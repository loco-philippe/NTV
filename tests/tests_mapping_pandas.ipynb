{
 "cells": [
  {
   "cell_type": "code",
   "execution_count": 23,
   "id": "13bca0c5",
   "metadata": {},
   "outputs": [],
   "source": [
    "import json\n",
    "import pandas as pd\n",
    "from json_ntv import Ntv, NtvList, NtvSingle\n",
    "from datetime import date, time, datetime, timezone, timedelta"
   ]
  },
  {
   "cell_type": "code",
   "execution_count": 99,
   "id": "dc26ffde",
   "metadata": {},
   "outputs": [],
   "source": [
    "# pas les 'json'\n",
    "types = pd.DataFrame({'ntv_type':  ['durationiso', 'uint64', 'float32', 'string', 'datetime', 'int32', 'int64', \n",
    "                                    'float64', 'array', 'boolean'], \n",
    "                      'name_type': [None, None, None, None, None, None, 'int64', 'float64', 'array', 'boolean'], \n",
    "                      'dtype':     ['timedelta64[ns]', 'UInt64', 'Float32', 'string', 'datetime64[ns]', 'Int32', 'Int64', \n",
    "                                    'Float64', 'object', 'boolean']})\n",
    "\n",
    "def from_ntv(ntv_value, **kwargs):\n",
    "    ''' convert ntv_value into the return object'''\n",
    "    option = {'index':None, 'leng':None} | kwargs \n",
    "    ntv = Ntv.obj(ntv_value)\n",
    "    ntv_name = ntv.name\n",
    "    codes = len(ntv) == 2 and len(ntv[1]) > 1 # categorical\n",
    "    if codes:\n",
    "        cod = ntv[1].to_obj(simpleval=True)\n",
    "        ntv = ntv[0]\n",
    "    ntv_type = ntv.type_str if ntv.type_str != 'json' else ''\n",
    "    pd_convert = ntv_type in types['ntv_type'].values or ntv_type == '' # pandas conversion\n",
    "\n",
    "    if pd_convert:\n",
    "        dtype = types.set_index('ntv_type').loc[ntv_type]['dtype'] if ntv_type != '' else None\n",
    "        name_type = types.set_index('ntv_type').loc[ntv_type]['name_type'] if ntv_type != '' else ''\n",
    "        pd_name = ntv_name + '::' + name_type if name_type else ntv_name\n",
    "        pd_name = pd_name if pd_name else None\n",
    "        list_val = ntv.obj_value()\n",
    "        ntv_list = NtvList(list_val) if isinstance(list_val, list) else  NtvList([list_val])\n",
    "        ntv_obj = ntv_list.to_obj() # add simpleval=True ?\n",
    "    else:    \n",
    "        dtype = 'object'\n",
    "        name_type = ntv_type\n",
    "        pd_name = ntv_name+'::'+name_type\n",
    "        ntv_obj = ntv.to_obj(format='obj', simpleval=True, def_type=ntv_type)\n",
    "\n",
    "    if codes:\n",
    "        if pd_convert:\n",
    "            dtype = types.set_index('ntv_type').loc[ntv_type]['dtype'] if ntv_type != '' else None\n",
    "            print('dtype :', dtype)\n",
    "            categories = pd.read_json(json.dumps(ntv_obj), dtype=dtype, typ='series')\n",
    "            print('categories :', categories)\n",
    "        else:\n",
    "            #categories = pd.Series(ntv_obj, dtype=dtype)\n",
    "            categories = pd.Series(ntv_obj, dtype='object')\n",
    "        cat = pd.CategoricalDtype(categories=categories)\n",
    "        cat.categories.astype()\n",
    "        print('\\ncat : ', cat.categories.dtype)\n",
    "        data = pd.Categorical.from_codes(codes=cod, dtype=cat)\n",
    "        print('data : ', data)\n",
    "        return pd.Series(data, name=pd_name, index=option['index'] , dtype='category')\n",
    "    \n",
    "    data = ntv_obj * option['leng'] if len(ntv) == 1 and option['leng'] else ntv_obj\n",
    "    if pd_convert:\n",
    "        return pd.read_json(json.dumps(data), dtype=dtype, typ='series').rename(pd_name)\n",
    "    return pd.Series(data, name=pd_name, dtype=dtype)\n",
    "\n",
    "def ntv_type_val(name_type, sr):\n",
    "    dtype = sr.dtype.name\n",
    "    if not name_type:\n",
    "        types_none = types.set_index('name_type').loc[None]\n",
    "        if dtype in types_none.dtype.values:\n",
    "            ntv_type = types_none.set_index('dtype').loc[dtype].ntv_type\n",
    "        else:\n",
    "            ntv_type = 'json'\n",
    "        ntv_value = json.loads(sr.to_json(orient='records', date_format='iso', default_handler=str))\n",
    "    else:\n",
    "        ntv_type = name_type\n",
    "        if dtype == 'object':\n",
    "            ntv_value = sr.to_list()   \n",
    "        else:\n",
    "            ntv_value = json.loads(sr.to_json(orient='records', date_format='iso', default_handler=str))\n",
    "    return (ntv_type, ntv_value)\n",
    "\n",
    "def to_ntv(sr):\n",
    "    ''' convert object into the NTV entity'''\n",
    "    sr_name = sr.name if sr.name else ''\n",
    "    ntv_name, name_type = Ntv.from_obj_name(sr_name)[:2]\n",
    "    if sr.dtype.name == 'category':\n",
    "        cdc = pd.Series(sr.cat.categories)    \n",
    "        ntv_type, cat_value = ntv_type_val(name_type, cdc)\n",
    "        ntv_value = [cat_value, NtvList(list(sr.cat.codes))]     \n",
    "    else:\n",
    "        ntv_type, ntv_value = ntv_type_val(name_type, sr)\n",
    "    return NtvList(ntv_value, ntv_name, ntv_type).to_obj()\n"
   ]
  },
  {
   "cell_type": "code",
   "execution_count": null,
   "id": "215a94a7",
   "metadata": {},
   "outputs": [],
   "source": [
    "def to_ntv(self):\n",
    "    ''' convert object into the NTV entity (name, type, value)'''\n",
    "    to_type = SeriesConnec.dtype_to_type\n",
    "    dtype = self.dtype.name\n",
    "    ntv_type = None\n",
    "    ntv_name = self.name if self.name else ''\n",
    "    if dtype in to_type and to_type[dtype] != 'json':\n",
    "        ntv_type = to_type[dtype]\n",
    "    if dtype in to_type:\n",
    "        js = self.to_json(orient='records', date_format='iso', default_handler=str)\n",
    "        ntv_value = json.loads(js)\n",
    "    elif dtype == 'object':\n",
    "        ntv_name, ntv_type, sep = Ntv.from_obj_name(ntv_name)\n",
    "        ntv_value = self.to_list()\n",
    "    elif dtype == 'category':\n",
    "        ntv_name, ntv_type, sep = Ntv.from_obj_name(ntv_name)\n",
    "        cdc = pd.Series(self.cat.categories)\n",
    "        if cdc.dtype.name == 'object':\n",
    "            ntv_value = [Ntv.obj(Ntv.obj(cdc).val),\n",
    "                         NtvList(list(self.cat.codes))] \n",
    "        else:\n",
    "            js = cdc.to_json(orient='records', date_format='iso', default_handler=str)\n",
    "            ntv_value = [NtvList(json.loads(js), ntv_type=ntv_type),\n",
    "                         NtvList(list(self.cat.codes))] \n",
    "        ntv_type = 'json'\n",
    "    return (None, 'field', NtvList(ntv_value, ntv_name, ntv_type).to_obj())"
   ]
  },
  {
   "cell_type": "code",
   "execution_count": 85,
   "id": "e1dcccaf",
   "metadata": {},
   "outputs": [
    {
     "name": "stdout",
     "output_type": "stream",
     "text": [
      "[{'a': 2, 'e': 4}, {'a': 3, 'e': 5}, {'a': 4, 'e': 6}] True True\n",
      "[[1, 2], [3, 4], [5, 6]] True True\n",
      "[[1, 2], [3, 4], {'a': 3, 'e': 5}] True True\n",
      "[True, False, True] True True\n",
      "['az', 'er', 'cd'] True True\n",
      "[1, 2, 3] True True\n",
      "[1.1, 2.0, 3.0] True True\n",
      "[None, None] False True\n",
      "[1, 2, 3] True True\n",
      "[True, False, True] True True\n",
      "[1, 2, 3] True True\n",
      "{'::datetime': [{':json': None}, {':json': None}, {':json': None}]} True True\n",
      "{'::datetime': ['2022-01-01T00:00:00.000', '2022-01-02T00:00:00.000']} True True\n",
      "{'::durationiso': ['P1DT0H0M0S', 'P2DT0H0M0S']} True True\n",
      "{'::int32': [1, 2, 3]} True True\n",
      "{'::string': ['az', 'er', 'cd']} True True\n",
      "{'::uint64': [1, 2, 3]} True True\n",
      "{'::int64': [1, 2, 3]} True True\n",
      "{'::uint64': [1, 2, 3]} True False\n",
      "{'::float64': [1.0, 2.0, 3.0]} True True\n",
      "{'::array': [[1, 2], [3, 4], [5, 6]]} True True\n",
      "{'::null': [{':json': None}, {':json': None}, {':json': None}]} True True\n",
      "{'::date': ['2022-01-01', '2022-01-02']} True True\n",
      "{'::point': [[1.0, 0.0], [1.0, 1.0], [1.0, 2.0]]} True True\n",
      "{'::day': [1, 2, 3]} True True\n",
      "['2022-01-01T00:00:00.000', '2022-01-02T00:00:00.000', '2022-01-03T00:00:00.000'] False True\n"
     ]
    },
    {
     "name": "stderr",
     "output_type": "stream",
     "text": [
      "C:\\Opensource\\anaconda3\\envs\\observ_v10_20230430\\lib\\site-packages\\pandas\\core\\dtypes\\cast.py:127: ShapelyDeprecationWarning: The array interface is deprecated and will no longer work in Shapely 2.0. Convert the '.coords' to a numpy array instead.\n",
      "  arr = construct_1d_object_array_from_listlike(values)\n",
      "C:\\Opensource\\anaconda3\\envs\\observ_v10_20230430\\lib\\site-packages\\pandas\\core\\construction.py:809: ShapelyDeprecationWarning: The array interface is deprecated and will no longer work in Shapely 2.0. Convert the '.coords' to a numpy array instead.\n",
      "  subarr = construct_1d_object_array_from_listlike(arr)\n"
     ]
    }
   ],
   "source": [
    "import math\n",
    "from shapely import geometry\n",
    "\n",
    "srs = [# pas de ntv_type\n",
    "       pd.Series([{'a': 2, 'e':4}, {'a': 3, 'e':5}, {'a': 4, 'e':6}]),  \n",
    "       pd.Series([[1,2], [3,4], [5,6]]),  \n",
    "       pd.Series([[1,2], [3,4], {'a': 3, 'e':5}]),  \n",
    "       pd.Series([True, False, True]),\n",
    "       pd.Series(['az', 'er', 'cd']),\n",
    "       pd.Series([1,2,3]),\n",
    "       pd.Series([1.1,2,3]),\n",
    "       pd.Series([math.nan, math.nan]), # bug conversion json : datetime NaT\n",
    "       \n",
    "       pd.Series([1,2,3], dtype='Int64'),\n",
    "       pd.Series([True, False, True], dtype='boolean'),\n",
    "       pd.Series([1,2,3], dtype='Int64'), \n",
    "       \n",
    "       # ajout d'un ntv_type dans le json uniquement\n",
    "       pd.Series([pd.NaT, pd.NaT, pd.NaT]),\n",
    "       pd.Series([datetime(2022, 1, 1), datetime(2022, 1, 2)], dtype='datetime64[ns]'),\n",
    "       pd.Series(pd.to_timedelta(['1D', '2D'])),\n",
    "       pd.Series([1,2,3], dtype='Int32'), \n",
    "       pd.Series(['az', 'er', 'cd'], dtype='string'), \n",
    "       pd.Series([1,2,3], dtype='UInt64'), # not reversible\n",
    "    \n",
    "       # ajout d'un ntv_type dans le json et dans le nom\n",
    "       pd.Series([1,2,3], name='::int64'),\n",
    "       pd.Series([1,2,3], dtype='UInt64', name='::uint64'),   # name inutile\n",
    "       pd.Series([1,2,3], dtype='Float64', name='::float64'), # force dtype dans la conversion json\n",
    "       pd.Series([[1,2], [3,4], [5,6]], name='::array'),  \n",
    "       pd.Series([None, None, None], name='::null'), \n",
    "       \n",
    "       # type non connu de pandas\n",
    "       pd.Series([date(2022, 1, 1), date(2022, 1, 2)], name='::date'),\n",
    "       pd.Series([geometry.Point(1, 0), geometry.Point(1, 1), geometry.Point(1, 2)], name='::point'),\n",
    "       pd.Series([1,2,3], dtype='object', name='::day'), # \n",
    "\n",
    "       pd.Series([datetime(2022, 1, 1), datetime(2022, 1, 2), datetime(2022, 1, 3)], dtype='datetime64[ns, UTC]'), #1\n",
    "]\n",
    "for sr in srs:\n",
    "    print(to_ntv(sr), from_ntv(to_ntv(sr)).equals(sr), from_ntv(to_ntv(sr)).name == sr.name)\n"
   ]
  },
  {
   "cell_type": "code",
   "execution_count": 86,
   "id": "3965e267",
   "metadata": {},
   "outputs": [
    {
     "name": "stdout",
     "output_type": "stream",
     "text": [
      "True\n",
      "True\n",
      "True\n",
      "True\n",
      "True\n",
      "True\n",
      "True\n",
      "True\n",
      "True\n",
      "True\n",
      "True\n"
     ]
    }
   ],
   "source": [
    "for a in [{'test::int32': [1,2,3]},\n",
    "          {'test': [1,2,3]},\n",
    "          [1.0, 2.1, 3.0],\n",
    "          ['er', 'et', 'ez'],\n",
    "          [True, False, True],\n",
    "          {'::boolean': [True, False, True]},\n",
    "          {'::array': [{'a': 3, 'e':5}, {'a': 4, 'e':6}]},\n",
    "          {'::string': ['er', 'et', 'ez']},\n",
    "          {'test::float32': [1.0, 2.5, 3.0]},\n",
    "          {'::int64': [1,2,3]},\n",
    "          {'::datetime': [\"2021-12-31T23:00:00.000\",\"2022-01-01T23:00:00.000\"] }]:\n",
    "    print(to_ntv(from_ntv(a)) == a)"
   ]
  },
  {
   "cell_type": "code",
   "execution_count": 98,
   "id": "0ee24a6b",
   "metadata": {},
   "outputs": [
    {
     "name": "stdout",
     "output_type": "stream",
     "text": [
      "dtype : float32\n",
      "categories : 0    1.0\n",
      "1    2.5\n",
      "2    3.0\n",
      "dtype: float32\n",
      "\n",
      "cat :  float64\n",
      "data :  [1.0, 2.5, 3.0, 1.0, 2.5, 3.0]\n",
      "Categories (3, float64): [1.0, 2.5, 3.0]\n",
      "0    1.0\n",
      "1    2.5\n",
      "2    3.0\n",
      "3    1.0\n",
      "4    2.5\n",
      "5    3.0\n",
      "Name: test, dtype: category\n",
      "Categories (3, float64): [1.0, 2.5, 3.0]\n"
     ]
    },
    {
     "name": "stderr",
     "output_type": "stream",
     "text": [
      "C:\\Users\\a lab in the Air\\AppData\\Local\\Temp\\ipykernel_11072\\3538629589.py:44: FutureWarning: Index.ravel returning ndarray is deprecated; in a future version this will return a view on self.\n",
      "  print('data : ', data)\n",
      "C:\\Users\\a lab in the Air\\AppData\\Local\\Temp\\ipykernel_11072\\2085081995.py:1: FutureWarning: Index.ravel returning ndarray is deprecated; in a future version this will return a view on self.\n",
      "  print(from_ntv({'test':[{'::float32': [1.0, 2.5, 3.0]}, [0,1,2,0,1,2]]},))\n"
     ]
    }
   ],
   "source": [
    "print(from_ntv({'test':[{'::float32': [1.0, 2.5, 3.0]}, [0,1,2,0,1,2]]},))"
   ]
  },
  {
   "cell_type": "code",
   "execution_count": 87,
   "id": "4711d95e",
   "metadata": {},
   "outputs": [
    {
     "name": "stdout",
     "output_type": "stream",
     "text": [
      "0    1\n",
      "1    2\n",
      "2    3\n",
      "3    1\n",
      "4    2\n",
      "5    3\n",
      "Name: test, dtype: category\n",
      "Categories (3, int64): [1, 2, 3]\n",
      "0    1\n",
      "1    2\n",
      "2    3\n",
      "3    1\n",
      "4    2\n",
      "5    3\n",
      "Name: test, dtype: category\n",
      "Categories (3, int64): [1, 2, 3]\n",
      "0    1.0\n",
      "1    2.1\n",
      "2    3.0\n",
      "3    1.0\n",
      "4    2.1\n",
      "5    3.0\n",
      "dtype: category\n",
      "Categories (3, float64): [1.0, 2.1, 3.0]\n",
      "0    er\n",
      "1    et\n",
      "2    ez\n",
      "3    er\n",
      "4    et\n",
      "5    ez\n",
      "dtype: category\n",
      "Categories (3, object): ['er', 'et', 'ez']\n",
      "0     True\n",
      "1    False\n",
      "2     True\n",
      "3    False\n",
      "4     True\n",
      "5    False\n",
      "dtype: category\n",
      "Categories (2, bool): [True, False]\n",
      "0     True\n",
      "1    False\n",
      "2     True\n",
      "3    False\n",
      "4     True\n",
      "5    False\n",
      "Name: ::boolean, dtype: category\n",
      "Categories (2, bool): [True, False]\n",
      "0    er\n",
      "1    et\n",
      "2    ez\n",
      "3    er\n",
      "4    et\n",
      "5    ez\n",
      "dtype: category\n",
      "Categories (3, string): [er, et, ez]\n",
      "0    1.0\n",
      "1    2.5\n",
      "2    3.0\n",
      "3    1.0\n",
      "4    2.5\n",
      "5    3.0\n",
      "Name: test, dtype: category\n",
      "Categories (3, float64): [1.0, 2.5, 3.0]\n",
      "0    1\n",
      "1    2\n",
      "2    3\n",
      "3    1\n",
      "4    2\n",
      "5    3\n",
      "Name: ::int64, dtype: category\n",
      "Categories (3, int64): [1, 2, 3]\n",
      "0   2021-12-31 23:00:00\n",
      "1   2022-01-01 23:00:00\n",
      "2   2021-12-31 23:00:00\n",
      "3   2022-01-01 23:00:00\n",
      "4   2021-12-31 23:00:00\n",
      "5   2022-01-01 23:00:00\n",
      "dtype: category\n",
      "Categories (2, datetime64[ns]): [2021-12-31 23:00:00, 2022-01-01 23:00:00]\n"
     ]
    },
    {
     "name": "stderr",
     "output_type": "stream",
     "text": [
      "C:\\Users\\a lab in the Air\\AppData\\Local\\Temp\\ipykernel_11072\\898656675.py:12: FutureWarning: Index.ravel returning ndarray is deprecated; in a future version this will return a view on self.\n",
      "  print(from_ntv(a))\n",
      "C:\\Users\\a lab in the Air\\AppData\\Local\\Temp\\ipykernel_11072\\898656675.py:12: FutureWarning: Index.ravel returning ndarray is deprecated; in a future version this will return a view on self.\n",
      "  print(from_ntv(a))\n"
     ]
    }
   ],
   "source": [
    "for a in [{'test::int32': [[1,2,3], [0,1,2,0,1,2]]},\n",
    "          {'test': [[1,2,3], [0,1,2,0,1,2]]},\n",
    "          [[1.0, 2.1, 3.0], [0,1,2,0,1,2]],\n",
    "          [['er', 'et', 'ez'], [0,1,2,0,1,2]],\n",
    "          [[True, False], [0,1,0,1,0,1]],\n",
    "          [{'::boolean': [True, False]}, [0,1,0,1,0,1]],\n",
    "          #[{'::array': [{'a': 3, 'e':5}, {'a': 4, 'e':6}]}, [0,1,0,1]],\n",
    "          [{'::string': ['er', 'et', 'ez']}, [0,1,2,0,1,2]],\n",
    "          {'test':[{'::float32': [1.0, 2.5, 3.0]}, [0,1,2,0,1,2]]},\n",
    "          [{'::int64': [1,2,3]}, [0,1,2,0,1,2]],\n",
    "          [{'::datetime': [\"2021-12-31T23:00:00.000\",\"2022-01-01T23:00:00.000\"] }, [0,1,0,1,0,1]]]:\n",
    "    print(from_ntv(a))\n",
    "    #print(to_ntv(from_ntv(a)))\n",
    "    #print(to_ntv(from_ntv(a)) == a)\n",
    "    #print(len(from_ntv(a)) == 6)"
   ]
  },
  {
   "cell_type": "code",
   "execution_count": 80,
   "id": "62d563ee",
   "metadata": {},
   "outputs": [
    {
     "name": "stdout",
     "output_type": "stream",
     "text": [
      "True\n",
      "True\n",
      "True\n",
      "True\n",
      "True\n",
      "True\n",
      "True\n",
      "True\n",
      "True\n",
      "True\n",
      "True\n"
     ]
    }
   ],
   "source": [
    "for a in [{'test::int32': [1]},\n",
    "          {'test': 1},\n",
    "          [2.1],\n",
    "          'er',\n",
    "          [True],\n",
    "          {'::boolean': [True]},\n",
    "          {':array': {'a': 3, 'e':5}},\n",
    "          {'::string': ['er']},\n",
    "          {'test:float32': 1.0},\n",
    "          {'::int64': [1]},\n",
    "          {':datetime': \"2021-12-31T23:00:00.000\" }]:\n",
    "    #print(Ntv.obj(a).obj_value())\n",
    "    print(len(from_ntv(a, leng=3)) == 3)"
   ]
  },
  {
   "cell_type": "code",
   "execution_count": 38,
   "id": "e99e2837",
   "metadata": {},
   "outputs": [],
   "source": [
    "ntv = Ntv.obj({'test:float32': 1.0})"
   ]
  },
  {
   "cell_type": "markdown",
   "id": "590b8521",
   "metadata": {},
   "source": [
    "## mapping des types\n",
    "Type json implicite (pas de ::type):\n",
    "- json(number) - float64, int64\n",
    "- json(string) - object(string)\n",
    "- json(bool) - bool\n",
    "- json(null) - NaT\n",
    "\n",
    "Type pandas spécifique (::type non maintenu sur pandas):\n",
    "- datetime - datetime64[ns]\n",
    "- intxx, uintxx - Intxx, UIntxx\n",
    "- floatxx - floatxx\n",
    "- string - string\n",
    "\n",
    "Type pandas explicite (::type maintenu sur pandas):\n",
    "- float64 - float64\n",
    "- int64 - Int64\n",
    "- array - object\n",
    "- boolean - bool\n",
    "- null - NaT\n",
    "\n",
    "Type  externe (::type maintenu sur pandas)\n",
    "\n",
    "A voir\n",
    "- datetime64[ns, <tz>]\n",
    "- category\n",
    "- period[<freq>]\n",
    "- Sparse\n",
    "- Interval"
   ]
  },
  {
   "cell_type": "markdown",
   "id": "31152a44",
   "metadata": {},
   "source": [
    "## conversion \n",
    "Type json:\n",
    "- -> read_json(sans dtype)\n",
    "- <- to_json\n",
    "\n",
    "Type pandas spécifique ou explicite:\n",
    "- -> read_json(avec dtype)\n",
    "- <- to_json\n",
    "\n",
    "Type externe:\n",
    "- -> Ntv.to_obj(format='obj') -> Series\n",
    "- <- Ntv.from_obj() <- Series"
   ]
  },
  {
   "cell_type": "code",
   "execution_count": 6,
   "id": "2bef2dd7",
   "metadata": {},
   "outputs": [
    {
     "name": "stdout",
     "output_type": "stream",
     "text": [
      "True\n",
      "True\n",
      "True\n",
      "True\n",
      "True\n",
      "True\n",
      "True\n",
      "True\n",
      "True\n",
      "True\n",
      "True\n",
      "False\n",
      "False\n",
      "False\n",
      "False\n",
      "False\n",
      "False\n",
      "False\n",
      "False\n",
      "False\n"
     ]
    }
   ],
   "source": [
    "srs = [pd.Series([1,2,3], dtype='Int64'),\n",
    "       pd.Series([True, False, True], dtype='boolean'),\n",
    "       pd.Series([datetime(2022, 1, 1), datetime(2022, 1, 2)], dtype='datetime64[ns]'),\n",
    "       pd.Series([{'a': 3, 'e':5}, {'a': 4, 'e':6}]),  \n",
    "       pd.Series([[3,4], [5,6]]),  \n",
    "       pd.Series([[3,4], {'a': 3, 'e':5}]),  \n",
    "       pd.Series([pd.NaT, pd.NaT, pd.NaT]),\n",
    "       pd.Series([True, False, True]),\n",
    "       pd.Series(['az', 'er', 'cd']),\n",
    "       pd.Series([1,2,3]),\n",
    "       pd.Series([1.1,2,3]),\n",
    "       \n",
    "       pd.Series([datetime(2022, 1, 1), datetime(2022, 1, 2)], dtype='datetime64[ns, UTC]'),\n",
    "       pd.Series([1,2,3], dtype='Int32'),\n",
    "       pd.Series([1,2,3], dtype='UInt64'),\n",
    "       pd.Series([1,2,3], dtype='Float64'),\n",
    "       pd.Series([1,2,3], dtype='object'),\n",
    "       pd.Series([(3,4), (5,6)]),  \n",
    "       pd.Series(['az', 'er', 'cd'], dtype='string'),\n",
    "       pd.Series([None, None, None]),\n",
    "       pd.Series([date(2022, 1, 1), date(2022, 1, 2)])\n",
    "]\n",
    "for sr in srs:\n",
    "    print(sr.equals(pd.read_json(sr.to_json(orient='records', date_format='iso', default_handler=str), typ='series')))\n"
   ]
  },
  {
   "cell_type": "code",
   "execution_count": 7,
   "id": "32325de4",
   "metadata": {},
   "outputs": [
    {
     "name": "stdout",
     "output_type": "stream",
     "text": [
      "[1, 2, 3]\n",
      "[1, 2, 3]\n",
      "[\"sT\", \"sT\", \"sT\"]\n",
      "0    1\n",
      "1    2\n",
      "2    3\n",
      "Name: test, dtype: int32\n",
      "0    1\n",
      "1    2\n",
      "2    3\n",
      "dtype: int32\n",
      "True\n"
     ]
    }
   ],
   "source": [
    "a =  {'test::int32': [1,2,3]}\n",
    "#a = [{'a': 3, 'e':5}, {'a': 4, 'e':6}]\n",
    "print(Ntv.obj(a).obj_value())\n",
    "print([ntv.val for ntv in Ntv.obj(a).val])\n",
    "print(NtvList(Ntv.obj(a).val).val)\n",
    "print(from_ntv(a))\n",
    "print(from_ntv(NtvList(Ntv.obj(a).val).val))\n",
    "print(to_ntv(from_ntv(a)) == a)"
   ]
  },
  {
   "cell_type": "code",
   "execution_count": 8,
   "id": "17cf01ce",
   "metadata": {},
   "outputs": [
    {
     "name": "stdout",
     "output_type": "stream",
     "text": [
      "0    1.0\n",
      "1    2.0\n",
      "2    3.0\n",
      "dtype: float64\n",
      "float64\n"
     ]
    }
   ],
   "source": [
    "sr = pd.Series([1,2,3], dtype='float64')\n",
    "print(sr)\n",
    "print(sr.dtype.name)"
   ]
  },
  {
   "cell_type": "code",
   "execution_count": 9,
   "id": "459603ff",
   "metadata": {},
   "outputs": [
    {
     "name": "stdout",
     "output_type": "stream",
     "text": [
      "[\"2022-01-01\", \"2022-01-02\"]\n",
      "[datetime.date(2022, 1, 1), datetime.date(2022, 1, 2)]\n",
      "<class 'datetime.date'>\n"
     ]
    }
   ],
   "source": [
    "ntv_value = {'::date': ['2022-01-01', '2022-01-02']}\n",
    "ntv_val = Ntv.obj(ntv_value)\n",
    "ntv_name = ntv_val.name\n",
    "ntv_type = ntv_val.type_str if ntv_val.type_str != 'json' else ''\n",
    "#ntv = NtvList(ntv.val)\n",
    "ntv = NtvList(ntv_val.obj_value())\n",
    "print(ntv)\n",
    "obj = ntv_val.to_obj(format='obj', simpleval=True, def_type=ntv_type)\n",
    "print(obj)\n",
    "print(type(obj[0]))"
   ]
  },
  {
   "cell_type": "code",
   "execution_count": 10,
   "id": "f2bd92cd",
   "metadata": {},
   "outputs": [
    {
     "name": "stdout",
     "output_type": "stream",
     "text": [
      " uint64\n",
      "::uint64 None uint64 uint64\n",
      "0    1\n",
      "1    2\n",
      "2    3\n",
      "Name: ::uint64, dtype: uint64\n",
      "{'::uint64': [1, 2, 3]}\n",
      "0    1\n",
      "1    2\n",
      "2    3\n",
      "dtype: uint64\n",
      "True\n",
      "<class 'numpy.uint64'>\n"
     ]
    }
   ],
   "source": [
    "sr = pd.Series([{'a': 3, 'e':5}, {'a': 4, 'e':6}])\n",
    "sr = pd.Series([1,2,3], dtype='Int64')\n",
    "sr = pd.Series([1,2,3], dtype='Float64')\n",
    "sr = pd.Series([date(2022, 1, 1), date(2022, 1, 2)], name='::date')\n",
    "sr = pd.Series([None, None, None], name='::null')\n",
    "sr = pd.Series([math.nan, math.nan])\n",
    "sr = pd.Series([1,2,3], dtype='UInt64', name='::uint64')\n",
    "       \n",
    "ntv = to_ntv(sr)\n",
    "\n",
    "ntv = Ntv.obj(ntv)\n",
    "ntv_name = ntv.name\n",
    "ntv_type = ntv.type_str if ntv.type_str != 'json' else ''\n",
    "print(ntv_name, ntv_type)\n",
    "#print(type(ntv_name), type(ntv_type))\n",
    "sr_name = sr.name if sr.name else ''\n",
    "ntv_name, name_type = Ntv.from_obj_name(sr_name)[:2]\n",
    "dtype = sr.dtype.name\n",
    "print(sr_name, ntv_name, name_type, dtype)\n",
    "print(sr)\n",
    "print(to_ntv(sr))\n",
    "print(from_ntv(to_ntv(sr)))\n",
    "print(sr.equals(from_ntv(to_ntv(sr))))\n",
    "print(type(from_ntv(to_ntv(sr))[0]))"
   ]
  },
  {
   "cell_type": "code",
   "execution_count": 11,
   "id": "e5f1c6a2",
   "metadata": {},
   "outputs": [
    {
     "name": "stdout",
     "output_type": "stream",
     "text": [
      "0   2022-01-01 00:00:00+01:00\n",
      "1   2022-01-02 00:00:00+01:00\n",
      "dtype: datetime64[ns, CET]\n",
      "0    2022-01-01 00:00:00+00:00\n",
      "1    2022-01-02 00:00:00+02:00\n",
      "dtype: object\n",
      "<class 'datetime.datetime'>\n",
      "[\"2021-12-31T23:00:00.000\",\"2022-01-01T23:00:00.000\"]\n",
      "0   2021-12-31 23:00:00\n",
      "1   2022-01-01 23:00:00\n",
      "dtype: datetime64[ns]\n",
      "0   1970-01-01 00:27:20.991600+00:00\n",
      "1   1970-01-01 00:27:21.078000+00:00\n",
      "dtype: datetime64[ns, UTC]\n"
     ]
    }
   ],
   "source": [
    "sr = pd.Series([date(2022, 1, 1), date(2022, 1, 2)], dtype='datetime64[ns, CET]')\n",
    "print(sr)\n",
    "sr2 = pd.Series([datetime(2022, 1, 1, tzinfo=timezone.utc), datetime(2022, 1, 2, tzinfo=timezone(timedelta(hours=2)))])\n",
    "print(sr2)\n",
    "print(type(sr2[1]))\n",
    "print(sr.to_json(orient='records', date_format='iso', default_handler=str))\n",
    "print(pd.read_json(sr.to_json(orient='records', date_format='iso', default_handler=str), typ='series'))\n",
    "print(pd.read_json(sr.to_json(orient='records', default_handler=str), dtype='datetime64[ns, UTC]', typ='series'))\n"
   ]
  },
  {
   "cell_type": "code",
   "execution_count": 12,
   "id": "22aed0c7",
   "metadata": {},
   "outputs": [
    {
     "name": "stdout",
     "output_type": "stream",
     "text": [
      "0   2022-01-01 00:00:00+01:00\n",
      "1   2022-01-02 00:00:00+01:00\n",
      "Name: test, dtype: datetime64[ns, CET]\n",
      "0   2021-12-31 23:00:00+00:00\n",
      "1   2022-01-01 23:00:00+00:00\n",
      "Name: test2, dtype: datetime64[ns, UTC]\n"
     ]
    }
   ],
   "source": [
    "sr = pd.Series([date(2022, 1, 1), date(2022, 1, 2)], dtype='datetime64[ns, CET]', name='test')\n",
    "print(sr)\n",
    "js = sr.to_json(orient='records', date_format='iso', default_handler=str)\n",
    "sr2 = pd.read_json(js, dtype='datetime64[ns, UTC]', typ='series').rename('test2')\n",
    "print(sr2)"
   ]
  },
  {
   "cell_type": "code",
   "execution_count": 13,
   "id": "a1c60bce",
   "metadata": {},
   "outputs": [
    {
     "name": "stdout",
     "output_type": "stream",
     "text": [
      "<class 'bool'>\n",
      "<class 'NoneType'>\n",
      "False \n",
      "\n",
      "0    False\n",
      "1     True\n",
      "2     None\n",
      "dtype: object\n",
      "{\"0\":false,\"1\":true,\"2\":null}\n"
     ]
    }
   ],
   "source": [
    "a = pd.read_json('[false,true,null]', typ='series', dtype='Bool' )\n",
    "print(type(a[0]))\n",
    "print(type(a[2]))\n",
    "print(a[0], '\\n')\n",
    "print(a)\n",
    "print(a.to_json())"
   ]
  },
  {
   "cell_type": "code",
   "execution_count": 14,
   "id": "675a6b7f",
   "metadata": {},
   "outputs": [
    {
     "name": "stdout",
     "output_type": "stream",
     "text": [
      "<class 'str'>\n",
      "<class 'NoneType'>\n",
      "str1 \n",
      "\n",
      "0    str1\n",
      "1    str2\n",
      "2    None\n",
      "dtype: object\n",
      "{\"0\":\"str1\",\"1\":\"str2\",\"2\":null}\n"
     ]
    }
   ],
   "source": [
    "a = pd.read_json('[\"str1\",\"str2\",null]', typ='series')\n",
    "print(type(a[0]))\n",
    "print(type(a[2]))\n",
    "print(a[0], '\\n')\n",
    "print(a)\n",
    "print(a.to_json())"
   ]
  }
 ],
 "metadata": {
  "kernelspec": {
   "display_name": "Python 3 (ipykernel)",
   "language": "python",
   "name": "python3"
  },
  "language_info": {
   "codemirror_mode": {
    "name": "ipython",
    "version": 3
   },
   "file_extension": ".py",
   "mimetype": "text/x-python",
   "name": "python",
   "nbconvert_exporter": "python",
   "pygments_lexer": "ipython3",
   "version": "3.10.9"
  }
 },
 "nbformat": 4,
 "nbformat_minor": 5
}
