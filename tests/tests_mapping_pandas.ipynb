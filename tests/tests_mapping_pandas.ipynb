{
 "cells": [
  {
   "cell_type": "code",
   "execution_count": 1,
   "id": "13bca0c5",
   "metadata": {},
   "outputs": [],
   "source": [
    "import json\n",
    "import pandas as pd\n",
    "from json_ntv import Ntv, NtvList\n",
    "from datetime import date, time, datetime, timezone, timedelta"
   ]
  },
  {
   "cell_type": "code",
   "execution_count": 79,
   "id": "dc26ffde",
   "metadata": {},
   "outputs": [],
   "source": [
    "# pas les 'json'\n",
    "types = pd.DataFrame({'ntv_type':  ['uint64', 'float32', 'string', 'datetime', 'int32', 'int64', 'float64', 'array', 'boolean'], \n",
    "                      'name_type': [None, None, None, None, None, 'int64', 'float64', 'array', 'boolean'], \n",
    "                      'dtype':     ['uint64', 'float32', 'string', 'datetime64[ns]', 'int32', 'int64', 'float64', 'object', 'bool']})\n",
    "\n",
    "def from_ntv(ntv_value):\n",
    "    ''' convert ntv_value into the return object'''\n",
    "    ntv = Ntv.obj(ntv_value)\n",
    "    ntv_name = ntv.name\n",
    "    ntv_type = ntv.type_str if ntv.type_str != 'json' else ''\n",
    "    #ntv = NtvList(ntv.val)\n",
    "    ntv = NtvList(ntv.obj_value())\n",
    "    \n",
    "    if ntv_type in  types['ntv_type'].values or ntv_type == '':\n",
    "        if ntv_type == '':\n",
    "            dtype = None\n",
    "            name_type = ''\n",
    "        else:\n",
    "            dtype = types.set_index('ntv_type').loc[ntv_type]['dtype']\n",
    "            name_type = types.set_index('ntv_type').loc[ntv_type]['name_type']\n",
    "        pd_name = ntv_name + '::' + name_type if name_type else ntv_name\n",
    "        pd_name = pd_name if pd_name else None\n",
    "        ntv_obj = ntv.to_obj(encoded=True) # simpleval=True\n",
    "        return pd.read_json(ntv_obj, dtype=dtype, typ='series').rename(pd_name)\n",
    "    dtype = 'object'\n",
    "    name_type = ntv_type\n",
    "    pd_name = ntv_name+'::'+name_type\n",
    "    ntv_obj = ntv.to_obj(format='obj', simpleval=True)\n",
    "    return pd.Series(ntv_obj, name=pd_name, dtype=dtype)\n",
    "\n",
    "def to_ntv(sr):\n",
    "    ''' convert object into the NTV entity'''\n",
    "    sr_name = sr.name if sr.name else ''\n",
    "    ntv_name, name_type = Ntv.from_obj_name(sr_name)[:2]\n",
    "    dtype = sr.dtype.name\n",
    "    \n",
    "    if not name_type:\n",
    "        types_none = types.set_index('name_type').loc[None]\n",
    "        if dtype in types_none.dtype.values:\n",
    "            ntv_type = types_none.set_index('dtype').loc[dtype].ntv_type\n",
    "        else:\n",
    "            ntv_type = 'json'\n",
    "        ntv_value = json.loads(sr.to_json(orient='records', date_format='iso', default_handler=str))\n",
    "    else:\n",
    "        ntv_type = name_type\n",
    "        if dtype == 'object':\n",
    "            ntv_value = sr.to_list()   \n",
    "        else:\n",
    "            ntv_value = json.loads(sr.to_json(orient='records', date_format='iso', default_handler=str))\n",
    "    return NtvList(ntv_value, ntv_name, ntv_type).to_obj()"
   ]
  },
  {
   "cell_type": "code",
   "execution_count": 75,
   "id": "32325de4",
   "metadata": {},
   "outputs": [
    {
     "name": "stdout",
     "output_type": "stream",
     "text": [
      "[1, 2, 3]\n",
      "[1, 2, 3]\n",
      "[\"sT\", \"sT\", \"sT\"]\n",
      "0    1\n",
      "1    2\n",
      "2    3\n",
      "Name: test, dtype: int32\n",
      "0    1\n",
      "1    2\n",
      "2    3\n",
      "dtype: int32\n",
      "True\n"
     ]
    }
   ],
   "source": [
    "a =  {'test::int32': [1,2,3]}\n",
    "#a = [{'a': 3, 'e':5}, {'a': 4, 'e':6}]\n",
    "print(Ntv.obj(a).obj_value())\n",
    "print([ntv.val for ntv in Ntv.obj(a).val])\n",
    "print(NtvList(Ntv.obj(a).val).val)\n",
    "print(from_ntv(a))\n",
    "print(from_ntv(NtvList(Ntv.obj(a).val).val))\n",
    "print(to_ntv(from_ntv(a)) == a)"
   ]
  },
  {
   "cell_type": "code",
   "execution_count": 76,
   "id": "3965e267",
   "metadata": {},
   "outputs": [
    {
     "name": "stdout",
     "output_type": "stream",
     "text": [
      "True\n",
      "True\n",
      "True\n",
      "True\n",
      "True\n",
      "True\n",
      "True\n",
      "True\n",
      "True\n",
      "True\n",
      "True\n"
     ]
    }
   ],
   "source": [
    "for a in [{'test::int32': [1,2,3]},\n",
    "          {'test': [1,2,3]},\n",
    "          [1.0, 2.1, 3.0],\n",
    "          ['er', 'et', 'ez'],\n",
    "          [True, False, True],\n",
    "          {'::boolean': [True, False, True]},\n",
    "          {'::array': [{'a': 3, 'e':5}, {'a': 4, 'e':6}]},\n",
    "          {'::string': ['er', 'et', 'ez']},\n",
    "          {'test::float32': [1.0, 2.5, 3.0]},\n",
    "          {'::int64': [1,2,3]},\n",
    "          {'::datetime': [\"2021-12-31T23:00:00.000\",\"2022-01-01T23:00:00.000\"] }]:\n",
    "    #print(from_ntv(a))\n",
    "    print(to_ntv(from_ntv(a)) == a)\n",
    "#print(from_ntv({'test::float32': [1.0, 2.5, 3.0]}))\n",
    "#print(to_ntv(from_ntv({'test::float32': [1.0, 2.5, 3.0]})))\n",
    "\n"
   ]
  },
  {
   "cell_type": "code",
   "execution_count": 86,
   "id": "17cf01ce",
   "metadata": {},
   "outputs": [
    {
     "name": "stdout",
     "output_type": "stream",
     "text": [
      "0    1.0\n",
      "1    2.0\n",
      "2    3.0\n",
      "dtype: float64\n",
      "float64\n"
     ]
    }
   ],
   "source": [
    "sr = pd.Series([1,2,3], dtype='float64')\n",
    "print(sr)\n",
    "print(sr.dtype.name)"
   ]
  },
  {
   "cell_type": "code",
   "execution_count": 95,
   "id": "459603ff",
   "metadata": {},
   "outputs": [
    {
     "name": "stdout",
     "output_type": "stream",
     "text": [
      "['2022-01-01', '2022-01-02']\n"
     ]
    }
   ],
   "source": [
    "ntv_value = {'::date': ['2022-01-01', '2022-01-02']}\n",
    "ntv = Ntv.obj(ntv_value)\n",
    "ntv_name = ntv.name\n",
    "ntv_type = ntv.type_str if ntv.type_str != 'json' else ''\n",
    "#ntv = NtvList(ntv.val)\n",
    "ntv = NtvList(ntv.obj_value())\n",
    "obj = ntv.to_obj(format='obj', simpleval=True)\n",
    "print(obj)"
   ]
  },
  {
   "cell_type": "code",
   "execution_count": 94,
   "id": "f2bd92cd",
   "metadata": {},
   "outputs": [
    {
     "name": "stdout",
     "output_type": "stream",
     "text": [
      " date\n",
      "<class 'str'> <class 'str'>\n",
      "::date None date object\n",
      "0    2022-01-01\n",
      "1    2022-01-02\n",
      "Name: ::date, dtype: object\n",
      "{'::date': ['2022-01-01', '2022-01-02']}\n",
      "0    2022-01-01\n",
      "1    2022-01-02\n",
      "Name: ::date, dtype: object\n",
      "False\n",
      "<class 'str'>\n"
     ]
    }
   ],
   "source": [
    "sr = pd.Series([{'a': 3, 'e':5}, {'a': 4, 'e':6}])\n",
    "sr = pd.Series([1,2,3], dtype='int64')\n",
    "sr = pd.Series([1,2,3], dtype='float64')\n",
    "sr = pd.Series([date(2022, 1, 1), date(2022, 1, 2)], name='::date')\n",
    "ntv = to_ntv(sr)\n",
    "\n",
    "ntv = Ntv.obj(ntv)\n",
    "ntv_name = ntv.name\n",
    "ntv_type = ntv.type_str if ntv.type_str != 'json' else ''\n",
    "print(ntv_name, ntv_type)\n",
    "print(type(ntv_name), type(ntv_type))\n",
    "sr_name = sr.name if sr.name else ''\n",
    "ntv_name, name_type = Ntv.from_obj_name(sr_name)[:2]\n",
    "dtype = sr.dtype.name\n",
    "print(sr_name, ntv_name, name_type, dtype)\n",
    "print(sr)\n",
    "print(to_ntv(sr))\n",
    "print(from_ntv(to_ntv(sr)))\n",
    "print(sr.equals(from_ntv(to_ntv(sr))))\n",
    "print(type(from_ntv(to_ntv(sr))[0]))"
   ]
  },
  {
   "cell_type": "code",
   "execution_count": 90,
   "id": "e1dcccaf",
   "metadata": {},
   "outputs": [
    {
     "name": "stdout",
     "output_type": "stream",
     "text": [
      "True\n",
      "True\n",
      "True\n",
      "True\n",
      "True\n",
      "True\n",
      "True\n",
      "True\n",
      "True\n",
      "True\n",
      "True\n",
      "False\n",
      "True\n",
      "True\n",
      "True\n",
      "False\n",
      "True\n",
      "True\n",
      "False\n",
      "False\n"
     ]
    }
   ],
   "source": [
    "srs = [pd.Series([1,2,3], dtype='int64'),\n",
    "       pd.Series([True, False, True], dtype='bool'),\n",
    "       pd.Series([datetime(2022, 1, 1), datetime(2022, 1, 2)], dtype='datetime64[ns]'),\n",
    "       pd.Series([{'a': 3, 'e':5}, {'a': 4, 'e':6}]),  \n",
    "       pd.Series([[3,4], [5,6]]),  \n",
    "       pd.Series([[3,4], {'a': 3, 'e':5}]),  \n",
    "       pd.Series([pd.NaT, pd.NaT, pd.NaT]),\n",
    "       pd.Series([True, False, True]),\n",
    "       pd.Series(['az', 'er', 'cd']),\n",
    "       pd.Series([1,2,3]),\n",
    "       pd.Series([1.1,2,3]),\n",
    "       \n",
    "       pd.Series([datetime(2022, 1, 1), datetime(2022, 1, 2)], dtype='datetime64[ns, UTC]'), #1\n",
    "       pd.Series([1,2,3], dtype='int32'), \n",
    "       pd.Series([1,2,3], dtype='uint64', name='::uint64'),\n",
    "       pd.Series([1,2,3], dtype='float64', name='::float64'),\n",
    "       pd.Series([1,2,3], dtype='object'), #\n",
    "       pd.Series([[3,4], [5,6]], name='::array'),  \n",
    "       pd.Series(['az', 'er', 'cd'], dtype='string'), \n",
    "       pd.Series([None, None, None]), #\n",
    "       pd.Series([date(2022, 1, 1), date(2022, 1, 2)], name='::date') #\n",
    "]\n",
    "for sr in srs:\n",
    "    print(from_ntv(to_ntv(sr)).equals(sr))\n",
    "    #print(sr.equals(pd.read_json(sr.to_json(orient='records', date_format='iso', default_handler=str), typ='series')))\n"
   ]
  },
  {
   "cell_type": "code",
   "execution_count": null,
   "id": "2bef2dd7",
   "metadata": {},
   "outputs": [],
   "source": [
    "srs = [pd.Series([1,2,3], dtype='int64'),\n",
    "       pd.Series([True, False, True], dtype='bool'),\n",
    "       pd.Series([datetime(2022, 1, 1), datetime(2022, 1, 2)], dtype='datetime64[ns]'),\n",
    "       pd.Series([{'a': 3, 'e':5}, {'a': 4, 'e':6}]),  \n",
    "       pd.Series([[3,4], [5,6]]),  \n",
    "       pd.Series([[3,4], {'a': 3, 'e':5}]),  \n",
    "       pd.Series([pd.NaT, pd.NaT, pd.NaT]),\n",
    "       pd.Series([True, False, True]),\n",
    "       pd.Series(['az', 'er', 'cd']),\n",
    "       pd.Series([1,2,3]),\n",
    "       pd.Series([1.1,2,3]),\n",
    "       \n",
    "       pd.Series([datetime(2022, 1, 1), datetime(2022, 1, 2)], dtype='datetime64[ns, UTC]'),\n",
    "       pd.Series([1,2,3], dtype='int32'),\n",
    "       pd.Series([1,2,3], dtype='UInt64'),\n",
    "       pd.Series([1,2,3], dtype='float64'),\n",
    "       pd.Series([1,2,3], dtype='object'),\n",
    "       pd.Series([(3,4), (5,6)]),  \n",
    "       pd.Series(['az', 'er', 'cd'], dtype='string'),\n",
    "       pd.Series([None, None, None]),\n",
    "       pd.Series([date(2022, 1, 1), date(2022, 1, 2)])\n",
    "]\n",
    "for sr in srs:\n",
    "    print(sr.equals(pd.read_json(sr.to_json(orient='records', date_format='iso', default_handler=str), typ='series')))\n"
   ]
  },
  {
   "cell_type": "code",
   "execution_count": null,
   "id": "e5f1c6a2",
   "metadata": {},
   "outputs": [],
   "source": [
    "sr = pd.Series([date(2022, 1, 1), date(2022, 1, 2)], dtype='datetime64[ns, CET]')\n",
    "print(sr)\n",
    "sr2 = pd.Series([datetime(2022, 1, 1, tzinfo=timezone.utc), datetime(2022, 1, 2, tzinfo=timezone(timedelta(hours=2)))])\n",
    "print(sr2)\n",
    "print(type(sr2[1]))\n",
    "print(sr.to_json(orient='records', date_format='iso', default_handler=str))\n",
    "print(pd.read_json(sr.to_json(orient='records', date_format='iso', default_handler=str), typ='series'))\n",
    "print(pd.read_json(sr.to_json(orient='records', default_handler=str), dtype='datetime64[ns, UTC]', typ='series'))\n"
   ]
  },
  {
   "cell_type": "code",
   "execution_count": null,
   "id": "22aed0c7",
   "metadata": {},
   "outputs": [],
   "source": [
    "sr = pd.Series([date(2022, 1, 1), date(2022, 1, 2)], dtype='datetime64[ns, CET]', name='test')\n",
    "print(sr)\n",
    "js = sr.to_json(orient='records', date_format='iso', default_handler=str)\n",
    "sr2 = pd.read_json(js, dtype='datetime64[ns, UTC]', typ='series').rename('test2')\n",
    "print(sr2)"
   ]
  },
  {
   "cell_type": "markdown",
   "id": "590b8521",
   "metadata": {},
   "source": [
    "## mapping des types\n",
    "Type json implicite (pas de ::type):\n",
    "- json(number) - float64, int64\n",
    "- json(string) - object(string)\n",
    "- json(bool) - bool\n",
    "- json(null) - NaT\n",
    "\n",
    "Type pandas spécifique (::type non maintenu sur pandas):\n",
    "- datetime - datetime64[ns]\n",
    "- intxx, uintxx - Intxx, UIntxx\n",
    "- floatxx - floatxx\n",
    "- string - string\n",
    "\n",
    "Type pandas explicite (::type maintenu sur pandas):\n",
    "- float64 - float64\n",
    "- int64 - Int64\n",
    "- array - object\n",
    "- boolean - bool\n",
    "- null - NaT\n",
    "\n",
    "Type  externe (::type maintenu sur pandas)\n",
    "\n",
    "A voir\n",
    "- datetime64[ns, <tz>]\n",
    "- category\n",
    "- period[<freq>]\n",
    "- Sparse\n",
    "- Interval"
   ]
  },
  {
   "cell_type": "markdown",
   "id": "31152a44",
   "metadata": {},
   "source": [
    "## conversion \n",
    "Type json:\n",
    "- -> read_json(sans dtype)\n",
    "- <- to_json\n",
    "\n",
    "Type pandas spécifique ou explicite:\n",
    "- -> read_json(avec dtype)\n",
    "- <- to_json\n",
    "\n",
    "Type externe:\n",
    "- -> Ntv.to_obj(format='obj') -> Series\n",
    "- <- Ntv.from_obj() <- Series"
   ]
  },
  {
   "cell_type": "code",
   "execution_count": null,
   "id": "a1c60bce",
   "metadata": {},
   "outputs": [],
   "source": [
    "a = pd.read_json('[false,true,null]', typ='series', dtype='Bool' )\n",
    "print(type(a[0]))\n",
    "print(type(a[2]))\n",
    "print(a[0], '\\n')\n",
    "print(a)"
   ]
  }
 ],
 "metadata": {
  "kernelspec": {
   "display_name": "Python 3 (ipykernel)",
   "language": "python",
   "name": "python3"
  },
  "language_info": {
   "codemirror_mode": {
    "name": "ipython",
    "version": 3
   },
   "file_extension": ".py",
   "mimetype": "text/x-python",
   "name": "python",
   "nbconvert_exporter": "python",
   "pygments_lexer": "ipython3",
   "version": "3.10.9"
  }
 },
 "nbformat": 4,
 "nbformat_minor": 5
}
