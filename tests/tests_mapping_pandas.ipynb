{
 "cells": [
  {
   "cell_type": "code",
   "execution_count": 65,
   "id": "13bca0c5",
   "metadata": {},
   "outputs": [],
   "source": [
    "import json\n",
    "import pandas as pd\n",
    "from json_ntv import Ntv, NtvList\n",
    "from datetime import date, time, datetime, timezone, timedelta"
   ]
  },
  {
   "cell_type": "code",
   "execution_count": 105,
   "id": "dc26ffde",
   "metadata": {},
   "outputs": [],
   "source": [
    "# pas les 'json'\n",
    "types = pd.DataFrame({'ntv_type':  ['float32', 'string', 'datetime', 'int32', 'int64', 'float64', 'array', 'boolean'], \n",
    "                      'name_type': [None, None, None, None, 'int64', 'float64', 'array', 'boolean'], \n",
    "                      'dtype':     ['float32', 'string', 'datetime64[ns]', 'Int32', 'Int64', 'float64', 'object', 'bool']})\n",
    "\n",
    "'''type_to_dtype = {'datetime': 'datetime64[ns]',\n",
    "                 'string': 'string', 'int32': 'int32', 'int64': 'int64',\n",
    "                 'float': 'float', 'float32': 'float32', 'boolean': 'bool',\n",
    "                 'json': None}\n",
    "dtype_to_type = {'datetime64[ns]': 'datetime', 'string': 'string', \n",
    "                 'int32': 'int32', 'int64': 'json', 'float': 'json', \n",
    "                 'float32': 'float32', 'bool': 'json'}'''\n",
    "\n",
    "def from_ntv(ntv_value):\n",
    "    ''' convert ntv_value into the return object'''\n",
    "    ntv = Ntv.obj(ntv_value)\n",
    "    ntv_name = ntv.name\n",
    "    ntv_type = ntv.type_str\n",
    "    ntv_obj = ntv.to_obj(encoded=True, simpleval=True)\n",
    "    \n",
    "    dtype = 'json'\n",
    "    name_type = None    \n",
    "    if ntv_type in  types['ntv_type'].values:\n",
    "        dtype = types.set_index('ntv_type').loc[ntv_type]['dtype']\n",
    "        name_type = types.set_index('ntv_type').loc[ntv_type]['name_type']\n",
    "    pd_name = ntv_name + '::' + name_type if name_type else ntv_name\n",
    "    pd_name = pd_name if pd_name else None\n",
    "    \n",
    "    return pd.read_json(ntv_obj, dtype=dtype, typ='series').rename(pd_name)\n",
    "\n",
    "def to_ntv(sr):\n",
    "    ''' convert object into the NTV entity'''\n",
    "    sr_name = sr.name if sr.name else ''\n",
    "    ntv_name, name_type = Ntv.from_obj_name(sr_name)[:2]\n",
    "    dtype = sr.dtype.name\n",
    "    \n",
    "    ntv_type = name_type\n",
    "    types_none = types.set_index('name_type').loc[None]\n",
    "    if not name_type and dtype in types_none.dtype.values:\n",
    "        ntv_type = types_none.set_index('dtype').loc[dtype].ntv_type\n",
    "    elif not name_type:\n",
    "        ntv_type = 'json'\n",
    "    ntv_value = json.loads(sr.to_json(orient='records', date_format='iso', default_handler=str))\n",
    "    return NtvList(ntv_value, ntv_name, ntv_type).to_obj()\n",
    "        \n",
    "    '''to_type = SeriesConnec.dtype_to_type\n",
    "    \n",
    "    ntv_type = None\n",
    "    ntv_name = self.name if self.name else ''\n",
    "    if dtype in to_type and to_type[dtype] != 'json':\n",
    "        ntv_type = to_type[dtype]\n",
    "    if dtype in to_type:\n",
    "        js = self.to_json(orient='records', date_format='iso', default_handler=str)\n",
    "        ntv_value = json.loads(js)\n",
    "    elif dtype == 'object':\n",
    "        ntv_name, ntv_type, sep = Ntv.from_obj_name(ntv_name)\n",
    "        ntv_value = self.to_list()\n",
    "    return (None, 'field', NtvList(ntv_value, ntv_name, ntv_type).to_obj())'''"
   ]
  },
  {
   "cell_type": "code",
   "execution_count": 114,
   "id": "3965e267",
   "metadata": {},
   "outputs": [
    {
     "name": "stdout",
     "output_type": "stream",
     "text": [
      "True\n",
      "True\n",
      "True\n",
      "True\n",
      "True\n",
      "True\n",
      "True\n",
      "True\n",
      "True\n",
      "True\n",
      "True\n",
      "0    1.0\n",
      "1    2.5\n",
      "2    3.0\n",
      "Name: test, dtype: float32\n"
     ]
    }
   ],
   "source": [
    "for a in [{'test::int32': [1,2,3]},\n",
    "          {'test': [1,2,3]},\n",
    "          [1.0, 2.1, 3.0],\n",
    "          ['er', 'et', 'ez'],\n",
    "          [True, False, True],\n",
    "          {'::boolean': [True, False, True]},\n",
    "          {'::array': [{'a': 3, 'e':5}, {'a': 4, 'e':6}]},\n",
    "          {'::string': ['er', 'et', 'ez']},\n",
    "          {'test::float32': [1.0, 2.5, 3.0]},\n",
    "          {'::int64': [1,2,3]},\n",
    "          {'::datetime': [\"2021-12-31T23:00:00.000\",\"2022-01-01T23:00:00.000\"] }]:\n",
    "    #print(from_ntv(a))\n",
    "    print(to_ntv(from_ntv(a)) == a)\n",
    "print(from_ntv({'test::float32': [1.0, 2.5, 3.0]}))\n",
    "#print(to_ntv(from_ntv({'test::float32': [1.0, 2.5, 3.0]})))\n",
    "\n"
   ]
  },
  {
   "cell_type": "code",
   "execution_count": 109,
   "id": "f1548cf3",
   "metadata": {},
   "outputs": [
    {
     "name": "stdout",
     "output_type": "stream",
     "text": [
      "0    1.0\n",
      "1    2.1\n",
      "2    3.0\n",
      "Name: test, dtype: float32\n",
      "float32\n",
      "name_type\n",
      "None           float32\n",
      "None            string\n",
      "None    datetime64[ns]\n",
      "None             Int32\n",
      "Name: dtype, dtype: object\n"
     ]
    },
    {
     "data": {
      "text/plain": [
       "False"
      ]
     },
     "execution_count": 109,
     "metadata": {},
     "output_type": "execute_result"
    }
   ],
   "source": [
    "a = {'test::float32': [1.0, 2.1, 3.0]}\n",
    "sr = from_ntv(a)\n",
    "print(sr)\n",
    "print(sr.dtype.name)\n",
    "types_none = types.set_index('name_type').loc[None]\n",
    "print(types_none.dtype)\n",
    "'Int32' in types_none.dtype"
   ]
  },
  {
   "cell_type": "code",
   "execution_count": 29,
   "id": "e1dcccaf",
   "metadata": {},
   "outputs": [
    {
     "name": "stdout",
     "output_type": "stream",
     "text": [
      "True\n",
      "True\n",
      "True\n",
      "True\n",
      "True\n",
      "True\n",
      "True\n",
      "True\n",
      "True\n",
      "True\n",
      "True\n",
      "False\n",
      "False\n",
      "False\n",
      "False\n",
      "False\n",
      "False\n",
      "False\n",
      "False\n",
      "False\n"
     ]
    }
   ],
   "source": [
    "srs = [pd.Series([1,2,3], dtype='int64'),\n",
    "       pd.Series([True, False, True], dtype='bool'),\n",
    "       pd.Series([datetime(2022, 1, 1), datetime(2022, 1, 2)], dtype='datetime64[ns]'),\n",
    "       pd.Series([{'a': 3, 'e':5}, {'a': 4, 'e':6}]),  \n",
    "       pd.Series([[3,4], [5,6]]),  \n",
    "       pd.Series([[3,4], {'a': 3, 'e':5}]),  \n",
    "       pd.Series([pd.NaT, pd.NaT, pd.NaT]),\n",
    "       pd.Series([True, False, True]),\n",
    "       pd.Series(['az', 'er', 'cd']),\n",
    "       pd.Series([1,2,3]),\n",
    "       pd.Series([1.1,2,3]),\n",
    "       \n",
    "       pd.Series([datetime(2022, 1, 1), datetime(2022, 1, 2)], dtype='datetime64[ns, UTC]'),\n",
    "       pd.Series([1,2,3], dtype='int32'),\n",
    "       pd.Series([1,2,3], dtype='UInt64'),\n",
    "       pd.Series([1,2,3], dtype='float64'),\n",
    "       pd.Series([1,2,3], dtype='object'),\n",
    "       pd.Series([(3,4), (5,6)]),  \n",
    "       pd.Series(['az', 'er', 'cd'], dtype='string'),\n",
    "       pd.Series([None, None, None]),\n",
    "       pd.Series([date(2022, 1, 1), date(2022, 1, 2)])\n",
    "]\n",
    "for sr in srs:\n",
    "    print(sr.equals(pd.read_json(sr.to_json(orient='records', date_format='iso', default_handler=str), typ='series')))\n"
   ]
  },
  {
   "cell_type": "code",
   "execution_count": 25,
   "id": "e5f1c6a2",
   "metadata": {},
   "outputs": [
    {
     "name": "stdout",
     "output_type": "stream",
     "text": [
      "0   2022-01-01 00:00:00+01:00\n",
      "1   2022-01-02 00:00:00+01:00\n",
      "dtype: datetime64[ns, CET]\n",
      "0    2022-01-01 00:00:00+00:00\n",
      "1    2022-01-02 00:00:00+02:00\n",
      "dtype: object\n",
      "<class 'datetime.datetime'>\n",
      "[\"2021-12-31T23:00:00.000\",\"2022-01-01T23:00:00.000\"]\n",
      "0   2021-12-31 23:00:00\n",
      "1   2022-01-01 23:00:00\n",
      "dtype: datetime64[ns]\n",
      "0   1970-01-01 00:27:20.991600+00:00\n",
      "1   1970-01-01 00:27:21.078000+00:00\n",
      "dtype: datetime64[ns, UTC]\n"
     ]
    }
   ],
   "source": [
    "sr = pd.Series([date(2022, 1, 1), date(2022, 1, 2)], dtype='datetime64[ns, CET]')\n",
    "print(sr)\n",
    "sr2 = pd.Series([datetime(2022, 1, 1, tzinfo=timezone.utc), datetime(2022, 1, 2, tzinfo=timezone(timedelta(hours=2)))])\n",
    "print(sr2)\n",
    "print(type(sr2[1]))\n",
    "print(sr.to_json(orient='records', date_format='iso', default_handler=str))\n",
    "print(pd.read_json(sr.to_json(orient='records', date_format='iso', default_handler=str), typ='series'))\n",
    "print(pd.read_json(sr.to_json(orient='records', default_handler=str), dtype='datetime64[ns, UTC]', typ='series'))\n"
   ]
  },
  {
   "cell_type": "code",
   "execution_count": 35,
   "id": "22aed0c7",
   "metadata": {},
   "outputs": [
    {
     "name": "stdout",
     "output_type": "stream",
     "text": [
      "0   2022-01-01 00:00:00+01:00\n",
      "1   2022-01-02 00:00:00+01:00\n",
      "Name: test, dtype: datetime64[ns, CET]\n",
      "0   2021-12-31 23:00:00+00:00\n",
      "1   2022-01-01 23:00:00+00:00\n",
      "Name: test2, dtype: datetime64[ns, UTC]\n"
     ]
    }
   ],
   "source": [
    "sr = pd.Series([date(2022, 1, 1), date(2022, 1, 2)], dtype='datetime64[ns, CET]', name='test')\n",
    "print(sr)\n",
    "js = sr.to_json(orient='records', date_format='iso', default_handler=str)\n",
    "sr2 = pd.read_json(js, dtype='datetime64[ns, UTC]', typ='series').rename('test2')\n",
    "print(sr2)"
   ]
  },
  {
   "cell_type": "markdown",
   "id": "590b8521",
   "metadata": {},
   "source": [
    "## mapping des types\n",
    "Type json implicite (pas de ::type):\n",
    "- json(number) - float64, int64\n",
    "- json(string) - object(string)\n",
    "- json(bool) - bool\n",
    "- json(null) - NaT\n",
    "\n",
    "Type pandas spécifique (::type non maintenu sur pandas):\n",
    "- datetime - datetime64[ns]\n",
    "- intxx, uintxx - Intxx, UIntxx\n",
    "- floatxx - floatxx\n",
    "- string - string\n",
    "\n",
    "Type pandas explicite (::type maintenu sur pandas):\n",
    "- float64 - float64\n",
    "- int64 - Int64\n",
    "- array - object\n",
    "- boolean - bool\n",
    "- null - NaT\n",
    "\n",
    "Type  externe (::type maintenu sur pandas)\n",
    "\n",
    "A voir\n",
    "- datetime64[ns, <tz>]\n",
    "- category\n",
    "- period[<freq>]\n",
    "- Sparse\n",
    "- Interval"
   ]
  },
  {
   "cell_type": "markdown",
   "id": "31152a44",
   "metadata": {},
   "source": [
    "## conversion \n",
    "Type json:\n",
    "- -> read_json(sans dtype)\n",
    "- <- to_json\n",
    "\n",
    "Type pandas spécifique ou explicite:\n",
    "- -> read_json(avec dtype)\n",
    "- <- to_json\n",
    "\n",
    "Type externe:\n",
    "- -> Ntv.to_obj(format='obj') -> Series\n",
    "- <- Ntv.from_obj() <- Series"
   ]
  },
  {
   "cell_type": "code",
   "execution_count": 39,
   "id": "a1c60bce",
   "metadata": {},
   "outputs": [
    {
     "name": "stdout",
     "output_type": "stream",
     "text": [
      "<class 'bool'>\n",
      "<class 'NoneType'>\n",
      "False \n",
      "\n",
      "0    False\n",
      "1     True\n",
      "2     None\n",
      "dtype: object\n"
     ]
    }
   ],
   "source": [
    "a = pd.read_json('[false,true,null]', typ='series', dtype='Bool' )\n",
    "print(type(a[0]))\n",
    "print(type(a[2]))\n",
    "print(a[0], '\\n')\n",
    "print(a)"
   ]
  }
 ],
 "metadata": {
  "kernelspec": {
   "display_name": "Python 3 (ipykernel)",
   "language": "python",
   "name": "python3"
  },
  "language_info": {
   "codemirror_mode": {
    "name": "ipython",
    "version": 3
   },
   "file_extension": ".py",
   "mimetype": "text/x-python",
   "name": "python",
   "nbconvert_exporter": "python",
   "pygments_lexer": "ipython3",
   "version": "3.10.9"
  }
 },
 "nbformat": 4,
 "nbformat_minor": 5
}
