{
 "cells": [
  {
   "cell_type": "markdown",
   "id": "de2c7f8f",
   "metadata": {},
   "source": [
    "# tests format - pointer"
   ]
  },
  {
   "cell_type": "code",
   "execution_count": 1,
   "id": "d6a1156b",
   "metadata": {},
   "outputs": [
    {
     "data": {
      "text/plain": [
       "True"
      ]
     },
     "execution_count": 1,
     "metadata": {},
     "output_type": "execute_result"
    }
   ],
   "source": [
    "from json_ntv import Ntv\n",
    "from jsonpointer import resolve_pointer\n",
    "\n",
    "examples = [ {'data': {'a': 1, 'test': 'ok'}, 'pointer': '/test', 'canonical': '/1'},\n",
    "             {'data': [{'a': 1}, 'ok'],       'pointer': '/1',    'canonical': '/1'},\n",
    "             {'data': {'a': 1, '1': 'ok'},    'pointer': '/1',    'canonical': '/1'},\n",
    "             {'data': ['a', 'ok'],            'pointer': '/1',    'canonical': '/1'}]\n",
    "equal = True\n",
    "\n",
    "for example in examples:\n",
    "    data      = example['data']\n",
    "    pointer   = example['pointer']\n",
    "    canonical = example['canonical']\n",
    "\n",
    "    ntv = Ntv.obj(data)\n",
    "    equal &= ntv['#'+canonical] == ntv['#'+pointer]\n",
    "\n",
    "    equal &= ntv['#'+pointer].val == resolve_pointer(data, pointer) == 'ok'\n",
    "equal"
   ]
  },
  {
   "cell_type": "code",
   "execution_count": 2,
   "id": "6b668af2",
   "metadata": {},
   "outputs": [
    {
     "data": {
      "text/plain": [
       "True"
      ]
     },
     "execution_count": 2,
     "metadata": {},
     "output_type": "execute_result"
    }
   ],
   "source": [
    "examples = [ {'data': {'test': 'ok'},         'pointer': 'test' ,   'pointer json': '/test'},\n",
    "             {'data': [1, {'test': 'ok'}],    'pointer': '/test',   'pointer json': '/1/test'}]\n",
    "equal = True\n",
    "\n",
    "for example in examples:\n",
    "    data         = example['data']\n",
    "    pointer      = example['pointer']\n",
    "    pointer_json = example['pointer json']\n",
    "\n",
    "    ntv = Ntv.obj(data)\n",
    "\n",
    "    equal &= ntv['#'+pointer].val == resolve_pointer(data, pointer_json)\n",
    "equal"
   ]
  },
  {
   "cell_type": "code",
   "execution_count": 3,
   "id": "fb8635fc",
   "metadata": {},
   "outputs": [
    {
     "name": "stdout",
     "output_type": "stream",
     "text": [
      "$openAPI./servers./test 0/0/1\n"
     ]
    },
    {
     "data": {
      "text/plain": [
       "True"
      ]
     },
     "execution_count": 3,
     "metadata": {},
     "output_type": "execute_result"
    }
   ],
   "source": [
    "from json_ntv import Namespace, Datatype\n",
    "from namespace import from_file\n",
    "file = \"D:\\\\philippe\\\\python ESstandard\\\\NTV\\\\RFC\\\\NTV_openAPI_namespace.ini\"\n",
    "#file = \"C:\\\\Users\\\\phili\\\\github\\\\NTV\\\\RFC\\\\NTV_openAPI_namespace.ini\"\n",
    "from_file(file, '$openAPI.')\n",
    "\n",
    "data = {\"$openAPI.\": {'servers.': {\":url\": \"adr1\", \"test\": \"ok\" }}}\n",
    "ntv = Ntv.obj(data)\n",
    "\n",
    "print(ntv[0][1].pointer(), ntv[0][1].pointer(index=True))\n",
    "ntv['#$openAPI./servers./test'].val == resolve_pointer(data, '/$openAPI./servers./test')"
   ]
  },
  {
   "cell_type": "code",
   "execution_count": 4,
   "id": "5da08e06",
   "metadata": {},
   "outputs": [
    {
     "data": {
      "text/plain": [
       "'$openAPI.'"
      ]
     },
     "execution_count": 4,
     "metadata": {},
     "output_type": "execute_result"
    }
   ],
   "source": [
    "ntv.json_name(string=True)"
   ]
  }
 ],
 "metadata": {
  "kernelspec": {
   "display_name": "Python 3 (ipykernel)",
   "language": "python",
   "name": "python3"
  },
  "language_info": {
   "codemirror_mode": {
    "name": "ipython",
    "version": 3
   },
   "file_extension": ".py",
   "mimetype": "text/x-python",
   "name": "python",
   "nbconvert_exporter": "python",
   "pygments_lexer": "ipython3",
   "version": "3.10.9"
  }
 },
 "nbformat": 4,
 "nbformat_minor": 5
}
