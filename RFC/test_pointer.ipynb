{
 "cells": [
  {
   "cell_type": "markdown",
   "id": "de2c7f8f",
   "metadata": {},
   "source": [
    "# tests format - pointer"
   ]
  },
  {
   "cell_type": "code",
   "execution_count": 1,
   "id": "d6a1156b",
   "metadata": {},
   "outputs": [
    {
     "data": {
      "text/plain": [
       "True"
      ]
     },
     "execution_count": 1,
     "metadata": {},
     "output_type": "execute_result"
    }
   ],
   "source": [
    "from json_ntv import Ntv\n",
    "from json_ntv.ntv_util import NtvUtil\n",
    "from jsonpointer import resolve_pointer\n",
    "\n",
    "examples = [ {'data': {'a': 1, 'test': 'ok'}, 'pointer': '/test', 'canonical': '/1'},\n",
    "             {'data': [{'a': 1}, 'ok'],       'pointer': '/1',    'canonical': '/1'},\n",
    "             {'data': {'a': 1, '1': 'ok'},    'pointer': '/1',    'canonical': '/1'},\n",
    "             {'data': ['a', 'ok'],            'pointer': '/1',    'canonical': '/1'}]\n",
    "equal = True\n",
    "\n",
    "for example in examples:\n",
    "    data      = example['data']\n",
    "    pointer   = example['pointer']\n",
    "    canonical = example['canonical']\n",
    "\n",
    "    ntv = Ntv.obj(data)\n",
    "    equal &= ntv['#'+canonical] == ntv['#'+pointer]\n",
    "\n",
    "    equal &= ntv['#'+pointer].val == resolve_pointer(data, pointer) == 'ok'\n",
    "equal"
   ]
  },
  {
   "cell_type": "code",
   "execution_count": 2,
   "id": "6b668af2",
   "metadata": {},
   "outputs": [
    {
     "data": {
      "text/plain": [
       "True"
      ]
     },
     "execution_count": 2,
     "metadata": {},
     "output_type": "execute_result"
    }
   ],
   "source": [
    "examples = [ {'data': {'test': 'ok'},                    'pointer': 'test' ,     'pointer json': '/test'},\n",
    "             {'data': [1, {'test': 'ok'}],               'pointer': '/test',     'pointer json': '/1/test'},\n",
    "             {'data': [1, [2, {'test': 'ok'}]],          'pointer': '/1/test',   'pointer json': '/1/1/test'},\n",
    "             {'data': [1, {'a': {'test': 'ok'}}],        'pointer': '/a/test',   'pointer json': '/1/a/test'},\n",
    "             {'data': {'b': [1, {'a': {'test': 'ok'}}]}, 'pointer': 'b/a/test',  'pointer json': '/b/1/a/test'},\n",
    "             {'data': {'b': [1, {'a': {'test': 'ok'}}]}, 'pointer': '0/a/test',  'pointer json': '/b/1/a/test'},\n",
    "             {'data': {'b': {'a': 1, 'test': 'ok'}},     'pointer': 'b/test',    'pointer json': '/b/test'},\n",
    "             {'data': {'a': 1, 'test': 'ok'},            'pointer': '/test',     'pointer json': '/test'},\n",
    "             {'data': [1, {'a': {'test': [1,'ok']}}],    'pointer': '/a/test/1', 'pointer json': '/1/a/test/1'}]\n",
    "equal = True\n",
    "\n",
    "for example in examples:\n",
    "    data         = example['data']\n",
    "    pointer      = example['pointer']\n",
    "    pointer_json = example['pointer json']\n",
    "    unique_root  = len(data) == 1\n",
    "\n",
    "    ntv = Ntv.obj(data)\n",
    "    equal &= ntv['#'+pointer].val == resolve_pointer(data, pointer_json)\n",
    "    if pointer[0] != '0':\n",
    "        equal &= NtvUtil.to_ntvpointer(pointer_json, unique_root) == pointer\n",
    "equal"
   ]
  },
  {
   "cell_type": "code",
   "execution_count": 3,
   "id": "caa09171",
   "metadata": {},
   "outputs": [
    {
     "name": "stdout",
     "output_type": "stream",
     "text": [
      "{\"b\": [1, {\"a\": {\"test\": \"ok\"}}]}\n"
     ]
    },
    {
     "data": {
      "text/plain": [
       "True"
      ]
     },
     "execution_count": 3,
     "metadata": {},
     "output_type": "execute_result"
    }
   ],
   "source": [
    "examples = [ \n",
    "             {'data': {'b': [1, {'a': {'test': 'ok'}}]}, 'pointer': 'b/a/test',  'pointer json': '/b/1/a/test'} ]\n",
    "equal = True\n",
    "\n",
    "for example in examples:\n",
    "    data         = example['data']\n",
    "    pointer      = example['pointer']\n",
    "    pointer_json = example['pointer json']\n",
    "    unique_root  = len(data) == 1\n",
    "    \n",
    "    ntv = Ntv.obj(data)\n",
    "    print(ntv['#0'])\n",
    "    equal &= ntv['#'+pointer].val == resolve_pointer(data, pointer_json)\n",
    "    if pointer[0] != '0':\n",
    "        equal &= NtvUtil.to_ntvpointer(pointer_json, unique_root) == pointer\n",
    "equal"
   ]
  },
  {
   "cell_type": "code",
   "execution_count": 4,
   "id": "fb8635fc",
   "metadata": {},
   "outputs": [
    {
     "name": "stdout",
     "output_type": "stream",
     "text": [
      "$openAPI./servers./test 0/0/1\n"
     ]
    },
    {
     "data": {
      "text/plain": [
       "True"
      ]
     },
     "execution_count": 4,
     "metadata": {},
     "output_type": "execute_result"
    }
   ],
   "source": [
    "import json_ntv\n",
    "from json_ntv import Namespace, Datatype\n",
    "from namespace import from_file\n",
    "import pathlib\n",
    "\n",
    "file = pathlib.Path(json_ntv.__file__).parent.parent / \"RFC\" / \"NTV_openAPI_namespace.ini\"\n",
    "from_file(file, '$openAPI.')\n",
    "\n",
    "data = {\"$openAPI.\": {'servers.': {\":url\": \"adr1\", \"test\": \"ok\" }}}\n",
    "ntv = Ntv.obj(data)\n",
    "\n",
    "print(ntv[0][1].pointer(), ntv[0][1].pointer(index=True))\n",
    "ntv['#$openAPI./servers./test'].val == resolve_pointer(data, '/$openAPI./servers./test')"
   ]
  },
  {
   "cell_type": "code",
   "execution_count": 5,
   "id": "83ee0409",
   "metadata": {},
   "outputs": [
    {
     "name": "stdout",
     "output_type": "stream",
     "text": [
      "[('123', '/a'), ('45', '/r')]\n",
      "21/b/abcd/test/456/rte\n",
      "21/b/abcd/test/456/rte\n"
     ]
    },
    {
     "data": {
      "text/plain": [
       "'21/b/abcd/test/456/rte'"
      ]
     },
     "execution_count": 5,
     "metadata": {},
     "output_type": "execute_result"
    }
   ],
   "source": [
    "import re\n",
    "p = re.compile('/([0-9]+)(/[a-z])')\n",
    "reg = '/b/1/a/test'\n",
    "reg = '21/b/123/abcd/test/456/45/rte'\n",
    "#reg = '/b/c123/abcd/test'\n",
    "print(p.findall(reg))\n",
    "print(re.sub(r'/([0-9]+)(/[a-z])', r'\\g<2>', reg))\n",
    "print(re.sub('/([0-9]+)(/[a-z])', '\\g<2>', reg))\n",
    "p.sub('\\g<2>',reg)"
   ]
  },
  {
   "cell_type": "code",
   "execution_count": 6,
   "id": "8153b3ab",
   "metadata": {},
   "outputs": [
    {
     "data": {
      "text/plain": [
       "'21/b/bcd/test/456/te'"
      ]
     },
     "execution_count": 6,
     "metadata": {},
     "output_type": "execute_result"
    }
   ],
   "source": [
    "def single(match):\n",
    "    return '/'\n",
    "p.sub(single, reg)"
   ]
  },
  {
   "cell_type": "code",
   "execution_count": 7,
   "id": "8719c6ed",
   "metadata": {},
   "outputs": [
    {
     "name": "stdout",
     "output_type": "stream",
     "text": [
      "/b/1/a/test\n",
      "/b/1/a/test\n"
     ]
    }
   ],
   "source": [
    "q = re.compile('^(//)')\n",
    "reg = '//b/1/a/test'\n",
    "#reg = '/21/b/123/abcd/test/456/45/rte'\n",
    "\n",
    "q.findall(reg)\n",
    "q.sub('/', reg)\n",
    "print(re.sub(r'^(//)', '/', reg))\n",
    "print(re.sub('^(//)', '/', reg))"
   ]
  }
 ],
 "metadata": {
  "kernelspec": {
   "display_name": "Python 3 (ipykernel)",
   "language": "python",
   "name": "python3"
  },
  "language_info": {
   "codemirror_mode": {
    "name": "ipython",
    "version": 3
   },
   "file_extension": ".py",
   "mimetype": "text/x-python",
   "name": "python",
   "nbconvert_exporter": "python",
   "pygments_lexer": "ipython3",
   "version": "3.10.9"
  }
 },
 "nbformat": 4,
 "nbformat_minor": 5
}
