{
 "cells": [
  {
   "cell_type": "markdown",
   "id": "7def286f",
   "metadata": {},
   "source": [
    "# tests format - pointer"
   ]
  },
  {
   "cell_type": "code",
   "execution_count": 11,
   "id": "0e05710b",
   "metadata": {},
   "outputs": [
    {
     "name": "stdout",
     "output_type": "stream",
     "text": [
      "True\n"
     ]
    },
    {
     "data": {
      "text/plain": [
       "True"
      ]
     },
     "execution_count": 11,
     "metadata": {},
     "output_type": "execute_result"
    }
   ],
   "source": [
    "from json_ntv import Ntv\n",
    "from jsonpointer import resolve_pointer\n",
    "\n",
    "example = {'data': {'a': 1, 'test': 'ok'}, 'pointer': '/test', 'canonical': '/1'}\n",
    "example = {'data': [{'a': 1}, 'ok'],       'pointer': '/1',    'canonical': '/1'}\n",
    "example = {'data': {'a': 1, '1': 'ok'},    'pointer': '/1',    'canonical': '/1'}\n",
    "example = {'data': ['a', 'ok'],            'pointer': '/1',    'canonical': '/1'}\n",
    "\n",
    "data      = example['data']\n",
    "pointer   = example['pointer']\n",
    "canonical = example['canonical']\n",
    "\n",
    "ntv = Ntv.obj(data)\n",
    "print(ntv[canonical] == ntv[pointer])\n",
    "\n",
    "ntv[pointer].val == resolve_pointer(data, pointer) == 'ok'\n"
   ]
  }
 ],
 "metadata": {
  "kernelspec": {
   "display_name": "Python 3 (ipykernel)",
   "language": "python",
   "name": "python3"
  },
  "language_info": {
   "codemirror_mode": {
    "name": "ipython",
    "version": 3
   },
   "file_extension": ".py",
   "mimetype": "text/x-python",
   "name": "python",
   "nbconvert_exporter": "python",
   "pygments_lexer": "ipython3",
   "version": "3.10.9"
  }
 },
 "nbformat": 4,
 "nbformat_minor": 5
}
