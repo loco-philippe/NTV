{
 "cells": [
  {
   "cell_type": "markdown",
   "id": "c76e61bf",
   "metadata": {},
   "source": [
    "# Use JSON Pointers instead of 'properties' or 'prefixItems' keywords"
   ]
  },
  {
   "cell_type": "markdown",
   "id": "a42dd71a",
   "metadata": {},
   "source": [
    "'properties' keyword is defined in chapter 10.3.2.1 of the [core specification](https://json-schema.org/draft/2020-12/draft-bhutton-json-schema-01#section-10.3.2.1): \n",
    "\n",
    "\n",
    "*Validation succeeds if, for each name that appears in both the instance and as a name within this keyword's value, the child instance for that name successfully validates against the corresponding schema.*\n",
    "\n",
    "\n",
    "The keyword 'properties' is therefore used to identify child instances to associate them with a subschema. This association is made by matching names.\n",
    "\n",
    "\n",
    "However, there is a dedicated way to identify a child instance: the JSON Pointer.\n",
    "\n",
    "We can therefore make this association in a simpler way by indicating in the Schema only the JSON Pointer of the corresponding child instance. \n",
    "This way of identifying a child instance is more understandable because it clearly separates a name in an instance and a pointer in a schema.\n",
    "\n",
    "\n",
    "Furthermore, the use of the json-pointer is not limited to json-objects and can be generalized to json-arrays, which is an alternative to 'prefixItems'. It also allows you to associate a subschema only with the targeted json element.\n",
    "\n",
    "\n",
    "The examples below demonstrate this usage.\n",
    "The Python functions below also show the conversion between a schema with keyword properties and one without.\n",
    "\n",
    "Note: This principle can also be extended to pointers of rank greater than 1 (e.g. {'/adress/state': {'type': 'string'})"
   ]
  },
  {
   "cell_type": "markdown",
   "id": "80e44990",
   "metadata": {},
   "source": [
    "## Conversion between schema with and without 'properties' keyword\n",
    "Example of functions"
   ]
  },
  {
   "cell_type": "code",
   "execution_count": 1,
   "id": "72e649ed",
   "metadata": {},
   "outputs": [],
   "source": [
    "from pprint import pprint\n",
    "from copy import copy\n",
    "\n",
    "keywords = ['anyOf', 'properties', 'not', 'const', 'fields', 'anyOf', 'allOf', 'oneOf', 'if', 'then', 'else', 'enum'\n",
    "           '$id', '$schema', 'title', 'type', 'minimum', 'maximum', 'pattern', 'required', 'items', 'enum', 'prefixItems']\n",
    " \n",
    "def add_prop(json_val):\n",
    "    '''add \"properties\" keyword for JSON Schema check'''\n",
    "    json_value = copy(json_val)\n",
    "    if isinstance(json_value, list):\n",
    "        return [add_prop(val) for val in json_value]\n",
    "    if isinstance(json_value, dict):\n",
    "        prop = {k[1:]: add_prop(v) for k,v in json_value.items() if k[0] == '/'}\n",
    "        return {k: add_prop(v) for k,v in json_value.items() if k[0] != '/'\n",
    "               } | ({'properties': prop} if prop else prop)\n",
    "    #print(json_value)\n",
    "    return json_value[1:] if isinstance(json_value, str) and json_value[0] == '/' else json_value\n",
    "\n",
    "def del_prop(json_val):\n",
    "    json_value = copy(json_val)\n",
    "    if isinstance(json_value, list):\n",
    "        return [del_prop(val) for val in json_value]\n",
    "    if isinstance(json_value, dict):\n",
    "        if 'required' in json_value:\n",
    "            json_value['required'] = ['/' + val for val in json_value['required']]\n",
    "        if 'properties' in json_value:\n",
    "            json_value |= {'/' + k: v for k, v in json_value['properties'].items()}\n",
    "            del(json_value['properties'])\n",
    "        return {k: del_prop(v) for k, v in json_value.items()}\n",
    "    return json_value"
   ]
  },
  {
   "cell_type": "markdown",
   "id": "ce54e8c2",
   "metadata": {},
   "source": [
    "## Example of schema"
   ]
  },
  {
   "cell_type": "code",
   "execution_count": 2,
   "id": "5f583867",
   "metadata": {},
   "outputs": [],
   "source": [
    "complex = {\n",
    "  \"$id\": \"https://example.com/complex-object.schema.json\",\n",
    "  \"$schema\": \"https://json-schema.org/draft/2020-12/schema\",\n",
    "  \"title\": \"Complex Object\",\n",
    "  \"type\": \"object\",\n",
    "  \"properties\": {\n",
    "    \"name\": {\n",
    "        \"type\": \"string\"},\n",
    "    \"age\": {\n",
    "        \"type\": \"integer\",\n",
    "        \"minimum\": 0},\n",
    "    \"address\": {\n",
    "        \"type\": \"object\",\n",
    "        \"properties\": {\n",
    "            \"street\": {\n",
    "                \"type\": \"string\"},\n",
    "            \"city\": {\n",
    "                \"type\": \"string\"},\n",
    "            \"state\": {\n",
    "                \"type\": \"string\"},\n",
    "            \"postalCode\": {\n",
    "                \"type\": \"string\",\n",
    "                \"pattern\": \"\\\\d{5}\"}},\n",
    "        \"required\": [\"street\", \"city\", \"state\", \"postalCode\"]},\n",
    "    \"hobbies\": {\n",
    "        \"type\": \"array\",\n",
    "        \"items\": {\n",
    "            \"type\": \"string\"}}},\n",
    "  \"required\": [\"name\", \"age\"]}"
   ]
  },
  {
   "cell_type": "code",
   "execution_count": 3,
   "id": "c8b58d04",
   "metadata": {
    "scrolled": false
   },
   "outputs": [
    {
     "name": "stdout",
     "output_type": "stream",
     "text": [
      "Schema utilisant des JSON Pointer :\n",
      "\n",
      "{'$id': 'https://example.com/complex-object.schema.json',\n",
      " '$schema': 'https://json-schema.org/draft/2020-12/schema',\n",
      " 'title': 'Complex Object',\n",
      " 'type': 'object',\n",
      " 'required': ['/name', '/age'],\n",
      " '/name': {'type': 'string'},\n",
      " '/age': {'type': 'integer', 'minimum': 0},\n",
      " '/address': {'type': 'object',\n",
      "              'required': ['/street', '/city', '/state', '/postalCode'],\n",
      "              '/street': {'type': 'string'},\n",
      "              '/city': {'type': 'string'},\n",
      "              '/state': {'type': 'string'},\n",
      "              '/postalCode': {'type': 'string', 'pattern': '\\\\d{5}'}},\n",
      " '/hobbies': {'type': 'array', 'items': {'type': 'string'}}}\n",
      "\n",
      "round-trip between schema with and without 'properties' keyword :  True\n"
     ]
    }
   ],
   "source": [
    "print('Schema utilisant des JSON Pointer :\\n')\n",
    "pprint(del_prop(complex), sort_dicts=False)\n",
    "print(\"\\nround-trip between schema with and without 'properties' keyword : \", complex == add_prop(del_prop(complex)))"
   ]
  },
  {
   "cell_type": "code",
   "execution_count": 7,
   "id": "8608d977",
   "metadata": {},
   "outputs": [
    {
     "data": {
      "text/plain": [
       "'{\"$id\": \"https://example.com/complex-object.schema.json\", \"$schema\": \"https://json-schema.org/draft/2020-12/schema\", \"title\": \"Complex Object\", \"type\": \"object\", \"required\": [\"/name\", \"/age\"], \"/name\": {\"type\": \"string\"}, \"/age\": {\"type\": \"integer\", \"minimum\": 0}, \"/address\": {\"type\": \"object\", \"required\": [\"/street\", \"/city\", \"/state\", \"/postalCode\"], \"/street\": {\"type\": \"string\"}, \"/city\": {\"type\": \"string\"}, \"/state\": {\"type\": \"string\"}, \"/postalCode\": {\"type\": \"string\", \"pattern\": \"\\\\\\\\d{5}\"}}, \"/hobbies\": {\"type\": \"array\", \"items\": {\"type\": \"string\"}}}'"
      ]
     },
     "execution_count": 7,
     "metadata": {},
     "output_type": "execute_result"
    }
   ],
   "source": [
    "import json\n",
    "\n",
    "json.dumps(del_prop(complex))"
   ]
  },
  {
   "cell_type": "markdown",
   "id": "96cd7cc3",
   "metadata": {},
   "source": [
    "## Example of schema with 'prefixItems'"
   ]
  },
  {
   "cell_type": "code",
   "execution_count": 4,
   "id": "e1a81e76",
   "metadata": {},
   "outputs": [],
   "source": [
    "array = {\n",
    "  \"type\": \"array\",\n",
    "  \"prefixItems\": [\n",
    "    { \"type\": \"number\" },\n",
    "    { \"type\": \"string\" },\n",
    "    { \"enum\": [\"Street\", \"Avenue\", \"Boulevard\"] },\n",
    "    { \"enum\": [\"NW\", \"NE\", \"SW\", \"SE\"] }]}\n",
    "\n",
    "array_pointer = {\n",
    "  \"type\": \"array\",\n",
    "  \"/0\": \n",
    "    { \"type\": \"number\" },\n",
    "  \"/1\":    \n",
    "    { \"type\": \"string\" },\n",
    "  \"/2\": \n",
    "    { \"enum\": [\"Street\", \"Avenue\", \"Boulevard\"] },\n",
    "  \"/3\": \n",
    "    { \"enum\": [\"NW\", \"NE\", \"SW\", \"SE\"] }}"
   ]
  }
 ],
 "metadata": {
  "kernelspec": {
   "display_name": "Python 3 (ipykernel)",
   "language": "python",
   "name": "python3"
  },
  "language_info": {
   "codemirror_mode": {
    "name": "ipython",
    "version": 3
   },
   "file_extension": ".py",
   "mimetype": "text/x-python",
   "name": "python",
   "nbconvert_exporter": "python",
   "pygments_lexer": "ipython3",
   "version": "3.10.9"
  }
 },
 "nbformat": 4,
 "nbformat_minor": 5
}
