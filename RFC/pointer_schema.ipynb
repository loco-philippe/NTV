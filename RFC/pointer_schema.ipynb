{
 "cells": [
  {
   "cell_type": "code",
   "execution_count": 29,
   "id": "72e649ed",
   "metadata": {},
   "outputs": [],
   "source": [
    "from pprint import pprint\n",
    "from copy import copy\n",
    "\n",
    "keywords = ['anyOf', 'properties', 'not', 'const', 'fields', 'anyOf', 'allOf', 'oneOf', 'if', 'then', 'else', 'enum'\n",
    "           '$id', '$schema', 'title', 'type', 'minimum', 'maximum', 'pattern', 'required', 'items', 'enum', 'prefixItems']\n",
    " \n",
    "def add_prop(json_val):\n",
    "    '''add \"properties\" keyword for JSON Schema check'''\n",
    "    json_value = copy(json_val)\n",
    "    if isinstance(json_value, list):\n",
    "        return [add_prop(val) for val in json_value]\n",
    "    if isinstance(json_value, dict):\n",
    "        prop = {k[1:]: add_prop(v) for k,v in json_value.items() if k[0] == '/'}\n",
    "        return {k: add_prop(v) for k,v in json_value.items() if k[0] != '/'\n",
    "               } | ({'properties': prop} if prop else prop)\n",
    "    #print(json_value)\n",
    "    return json_value[1:] if isinstance(json_value, str) and json_value[0] == '/' else json_value\n",
    "\n",
    "def del_prop(json_val):\n",
    "    json_value = copy(json_val)\n",
    "    if isinstance(json_value, list):\n",
    "        return [del_prop(val) for val in json_value]\n",
    "    if isinstance(json_value, dict):\n",
    "        if 'required' in json_value:\n",
    "            json_value['required'] = ['/' + val for val in json_value['required']]\n",
    "        if 'properties' in json_value:\n",
    "            json_value |= {'/' + k: v for k, v in json_value['properties'].items()}\n",
    "            del(json_value['properties'])\n",
    "        return {k: del_prop(v) for k, v in json_value.items()}\n",
    "    return json_value"
   ]
  },
  {
   "cell_type": "markdown",
   "id": "0c64c1dc",
   "metadata": {},
   "source": [
    "chapter 10.3.2.1 : Properties\n",
    "Validation succeeds if, for each name that appears in both the instance and as a name within this keyword's value, the child instance for that name successfully validates against the corresponding schema.\n",
    "\n"
   ]
  },
  {
   "cell_type": "code",
   "execution_count": 30,
   "id": "5f583867",
   "metadata": {},
   "outputs": [],
   "source": [
    "complex = {\n",
    "  \"$id\": \"https://example.com/complex-object.schema.json\",\n",
    "  \"$schema\": \"https://json-schema.org/draft/2020-12/schema\",\n",
    "  \"title\": \"Complex Object\",\n",
    "  \"type\": \"object\",\n",
    "  \"properties\": {\n",
    "    \"name\": {\n",
    "        \"type\": \"string\"},\n",
    "    \"age\": {\n",
    "        \"type\": \"integer\",\n",
    "        \"minimum\": 0},\n",
    "    \"address\": {\n",
    "        \"type\": \"object\",\n",
    "        \"properties\": {\n",
    "            \"street\": {\n",
    "                \"type\": \"string\"},\n",
    "            \"city\": {\n",
    "                \"type\": \"string\"},\n",
    "            \"state\": {\n",
    "                \"type\": \"string\"},\n",
    "            \"postalCode\": {\n",
    "                \"type\": \"string\",\n",
    "                \"pattern\": \"\\\\d{5}\"}},\n",
    "        \"required\": [\"street\", \"city\", \"state\", \"postalCode\"]},\n",
    "    \"hobbies\": {\n",
    "        \"type\": \"array\",\n",
    "        \"items\": {\n",
    "            \"type\": \"string\"}}},\n",
    "  \"required\": [\"name\", \"age\"]}"
   ]
  },
  {
   "cell_type": "code",
   "execution_count": 33,
   "id": "c8b58d04",
   "metadata": {
    "scrolled": false
   },
   "outputs": [
    {
     "name": "stdout",
     "output_type": "stream",
     "text": [
      "{'$id': 'https://example.com/complex-object.schema.json',\n",
      " '$schema': 'https://json-schema.org/draft/2020-12/schema',\n",
      " 'title': 'Complex Object',\n",
      " 'type': 'object',\n",
      " 'required': ['/name', '/age'],\n",
      " '/name': {'type': 'string'},\n",
      " '/age': {'type': 'integer', 'minimum': 0},\n",
      " '/address': {'type': 'object',\n",
      "              'required': ['/street', '/city', '/state', '/postalCode'],\n",
      "              '/street': {'type': 'string'},\n",
      "              '/city': {'type': 'string'},\n",
      "              '/state': {'type': 'string'},\n",
      "              '/postalCode': {'type': 'string', 'pattern': '\\\\d{5}'}},\n",
      " '/hobbies': {'type': 'array', 'items': {'type': 'string'}}}\n"
     ]
    },
    {
     "data": {
      "text/plain": [
       "True"
      ]
     },
     "execution_count": 33,
     "metadata": {},
     "output_type": "execute_result"
    }
   ],
   "source": [
    "pprint(del_prop(complex), sort_dicts=False)\n",
    "complex == add_prop(del_prop(complex))"
   ]
  },
  {
   "cell_type": "code",
   "execution_count": null,
   "id": "e1a81e76",
   "metadata": {},
   "outputs": [],
   "source": [
    "array = {\n",
    "  \"type\": \"array\",\n",
    "  \"prefixItems\": [\n",
    "    { \"type\": \"number\" },\n",
    "    { \"type\": \"string\" },\n",
    "    { \"enum\": [\"Street\", \"Avenue\", \"Boulevard\"] },\n",
    "    { \"enum\": [\"NW\", \"NE\", \"SW\", \"SE\"] }]}\n",
    "\n",
    "array_p = {\n",
    "  \"type\": \"array\",\n",
    "  \"/0\": \n",
    "    { \"type\": \"number\" },\n",
    "  \"/1\":    \n",
    "    { \"type\": \"string\" },\n",
    "  \"/2\": \n",
    "    { \"enum\": [\"Street\", \"Avenue\", \"Boulevard\"] },\n",
    "  \"/3\": \n",
    "    { \"enum\": [\"NW\", \"NE\", \"SW\", \"SE\"] }}"
   ]
  }
 ],
 "metadata": {
  "kernelspec": {
   "display_name": "Python 3 (ipykernel)",
   "language": "python",
   "name": "python3"
  },
  "language_info": {
   "codemirror_mode": {
    "name": "ipython",
    "version": 3
   },
   "file_extension": ".py",
   "mimetype": "text/x-python",
   "name": "python",
   "nbconvert_exporter": "python",
   "pygments_lexer": "ipython3",
   "version": "3.10.9"
  }
 },
 "nbformat": 4,
 "nbformat_minor": 5
}
