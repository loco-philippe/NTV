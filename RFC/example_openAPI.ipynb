{
 "cells": [
  {
   "cell_type": "markdown",
   "id": "843fa440",
   "metadata": {},
   "source": [
    "# Tests schema"
   ]
  },
  {
   "cell_type": "markdown",
   "id": "d6353260",
   "metadata": {},
   "source": [
    "## OpenAPI example\n"
   ]
  },
  {
   "cell_type": "code",
   "execution_count": 1,
   "id": "36e73ab3",
   "metadata": {},
   "outputs": [],
   "source": [
    "# example found in the OpenAPI documentation\n",
    "example_OAS = {\n",
    "    \"servers\": [\n",
    "        {\n",
    "            \"url\": \"https://{username}.gigantic-server.com:{port}/{basePath}\",\n",
    "            \"description\": \"The production API server\",\n",
    "            \"variables\": {\n",
    "                \"username\": {\n",
    "                    \"default\": \"demo\",\n",
    "                    \"description\": \"this value is assigned by the service provider, in this example `gigantic-server.com`\",\n",
    "                },\n",
    "                \"port\": {\"enum\": [\"8443\", \"443\"], \"default\": \"8443\"},\n",
    "                \"basePath\": {\"default\": \"v2\"},\n",
    "            },\n",
    "        }\n",
    "    ]\n",
    "}"
   ]
  },
  {
   "cell_type": "markdown",
   "id": "92f487d8",
   "metadata": {},
   "source": [
    "## Example - with NTV types"
   ]
  },
  {
   "cell_type": "code",
   "execution_count": 11,
   "id": "81e4fe98",
   "metadata": {},
   "outputs": [
    {
     "name": "stdout",
     "output_type": "stream",
     "text": [
      "{\":$openAPI.servers.variables.default\": \"demo\"}\n",
      "{\":$openAPI.servers.variables.default\": \"demo\"}\n",
      "$openAPI.servers.variables.default\n"
     ]
    }
   ],
   "source": [
    "import pathlib\n",
    "import json_ntv\n",
    "\n",
    "file = (\n",
    "    pathlib.Path(json_ntv.__file__).parent.parent / \"RFC\" / \"NTV_openAPI_namespace.ini\"\n",
    ")\n",
    "from_file(file, \"$openAPI.\")\n",
    "\n",
    "example_NTV = {\n",
    "    \"example:$openAPI.\": {\n",
    "        \"servers.\": [\n",
    "            {\n",
    "                \":url\": \"https://{username}.gigantic-server.com:{port}/{basePath}\",\n",
    "                \":description\": \"The production API server\",\n",
    "                \"variables.\": {\n",
    "                    \"username\": {\n",
    "                        \":default\": \"demo\",\n",
    "                        \":description\": \"this value is assigned by the service provider, in this example `gigantic-server.com`\",\n",
    "                    },\n",
    "                    \"port\": {\":enum\": [\"8443\", \"443\"], \"default\": \"8443\"},\n",
    "                    \"basePath\": {\":default\": \"v2\"},\n",
    "                },\n",
    "            }\n",
    "        ]\n",
    "    }\n",
    "}\n",
    "schema_NTV = Ntv.obj(example_NTV)\n",
    "print(schema_NTV[\"#example:$openAPI./servers./0/variables./username/:default\"])\n",
    "print(schema_NTV[\"#example/servers./0/variables./username/:default\"])\n",
    "print(schema_NTV[\"#example/servers./0/variables./username/:default\"].ntv_type)\n",
    "# schema_NTV['#example openAPI:$openAPI./servers./0/variables./username/:default']"
   ]
  },
  {
   "cell_type": "markdown",
   "id": "19b80ba7",
   "metadata": {},
   "source": [
    "## Example - with comments"
   ]
  },
  {
   "cell_type": "code",
   "execution_count": 12,
   "id": "e011c368",
   "metadata": {},
   "outputs": [
    {
     "name": "stdout",
     "output_type": "stream",
     "text": [
      "{\"user:$openAPI.servers.variables.default\": \"demo\"}\n",
      "{\"user:$openAPI.servers.variables.default\": \"demo\"}\n"
     ]
    }
   ],
   "source": [
    "schema_NTV2 = Ntv.obj(\n",
    "    {\n",
    "        \"example:$openAPI.servers.\": {\n",
    "            \"server1\": {\n",
    "                \":url\": \"https://{username}.gigantic-server.com:{port}/{basePath}\",\n",
    "                \"prod:description\": \"The production API server\",\n",
    "                \"variables.\": {\n",
    "                    \"username\": {\n",
    "                        \"user:default\": \"demo\",\n",
    "                        \":description\": \"this value is assigned by the service provider, in this example `gigantic-server.com`\",\n",
    "                    },\n",
    "                    \"port\": {\":enum\": [\"8443\", \"443\"], \"default\": \"8443\"},\n",
    "                    \"basePath\": {\":default\": \"v2\"},\n",
    "                },\n",
    "            }\n",
    "        }\n",
    "    }\n",
    ")\n",
    "print(\n",
    "    schema_NTV2[\"#example:$openAPI.servers./server1/variables./username/user:default\"]\n",
    ")\n",
    "print(schema_NTV2[\"#example/server1/variables./username/user\"])\n",
    "# print(schema_NTV2['#example:$openAPI.servers./server1'])"
   ]
  }
 ],
 "metadata": {
  "kernelspec": {
   "display_name": "Python 3 (ipykernel)",
   "language": "python",
   "name": "python3"
  },
  "language_info": {
   "codemirror_mode": {
    "name": "ipython",
    "version": 3
   },
   "file_extension": ".py",
   "mimetype": "text/x-python",
   "name": "python",
   "nbconvert_exporter": "python",
   "pygments_lexer": "ipython3",
   "version": "3.10.9"
  }
 },
 "nbformat": 4,
 "nbformat_minor": 5
}
