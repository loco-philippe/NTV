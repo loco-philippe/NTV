{
 "cells": [
  {
   "cell_type": "markdown",
   "id": "843fa440",
   "metadata": {},
   "source": [
    "# Tests schema"
   ]
  },
  {
   "cell_type": "markdown",
   "id": "d6353260",
   "metadata": {},
   "source": [
    "## OpenAPI example\n"
   ]
  },
  {
   "cell_type": "code",
   "execution_count": 1,
   "id": "36e73ab3",
   "metadata": {},
   "outputs": [
    {
     "data": {
      "text/plain": [
       "{'servers': [{'url': 'https://{username}.gigantic-server.com:{port}/{basePath}',\n",
       "   'description': 'The production API server',\n",
       "   'variables': {'username': {'default': 'demo',\n",
       "     'description': 'this value is assigned by the service provider, in this example `gigantic-server.com`'},\n",
       "    'port': {'enum': ['8443', '443'], 'default': '8443'},\n",
       "    'basePath': {'default': 'v2'}}}]}"
      ]
     },
     "execution_count": 1,
     "metadata": {},
     "output_type": "execute_result"
    }
   ],
   "source": [
    "{\"servers\": [\n",
    "    {\"url\": \"https://{username}.gigantic-server.com:{port}/{basePath}\",\n",
    "      \"description\": \"The production API server\",\n",
    "      \"variables\": {\n",
    "        \"username\": {\n",
    "          \"default\": \"demo\",\n",
    "          \"description\": \"this value is assigned by the service provider, in this example `gigantic-server.com`\"},\n",
    "        \"port\": {\n",
    "          \"enum\": [\"8443\", \"443\"],\n",
    "          \"default\": \"8443\"},\n",
    "        \"basePath\": {\n",
    "          \"default\": \"v2\"\n",
    "        }}}]\n",
    "}"
   ]
  },
  {
   "cell_type": "code",
   "execution_count": 2,
   "id": "81e4fe98",
   "metadata": {},
   "outputs": [
    {
     "data": {
      "text/plain": [
       "{'$openAPI.servers.': [{':url': 'https://{username}.gigantic-server.com:{port}/{basePath}',\n",
       "   ':description': 'The production API server',\n",
       "   'variables.': {'username': {':default': 'demo',\n",
       "     ':description': 'this value is assigned by the service provider, in this example `gigantic-server.com`'},\n",
       "    'port': {':enum': ['8443', '443'], 'default': '8443'},\n",
       "    'basePath': {':default': 'v2'}}}]}"
      ]
     },
     "execution_count": 2,
     "metadata": {},
     "output_type": "execute_result"
    }
   ],
   "source": [
    "import pathlib\n",
    "import json_ntv\n",
    "from namespace import from_file, Namespace, Datatype\n",
    "from json_ntv import Ntv\n",
    "from json_ntv.ntv_util import NtvUtil\n",
    "\n",
    "file = pathlib.Path(json_ntv.__file__).parent.parent / \"RFC\" / \"NTV_openAPI_namespace.ini\"\n",
    "from_file(file, '$openAPI.')\n",
    "\n",
    "ex1 = Ntv.obj(\n",
    "    {\"$openAPI.servers.\": [\n",
    "        {\":url\": \"https://{username}.gigantic-server.com:{port}/{basePath}\",\n",
    "         \":description\": \"The production API server\", \n",
    "         \"variables.\": {\n",
    "            \"username\": {\n",
    "              \":default\": \"demo\",\n",
    "              \":description\": \"this value is assigned by the service provider, in this example `gigantic-server.com`\"},\n",
    "            \"port\": {\n",
    "              \":enum\": [\"8443\", \"443\"],\n",
    "              \"default\": \"8443\" },\n",
    "            \"basePath\": {\n",
    "              \":default\": \"v2\"}\n",
    "            }}]\n",
    "    })\n",
    "ex1.to_obj()"
   ]
  },
  {
   "cell_type": "code",
   "execution_count": 3,
   "id": "585101bb",
   "metadata": {},
   "outputs": [
    {
     "name": "stdout",
     "output_type": "stream",
     "text": [
      "{\":$openAPI.servers.description\": \"The production API server\"}\n",
      "{\":$openAPI.servers.description\": \"The production API server\"}\n"
     ]
    }
   ],
   "source": [
    "print(ex1[0][1])\n",
    "print(ex1[\"#0/0/1\"])"
   ]
  },
  {
   "cell_type": "code",
   "execution_count": 4,
   "id": "e011c368",
   "metadata": {},
   "outputs": [
    {
     "data": {
      "text/plain": [
       "{'example::$openAPI.servers.': {'server1': {':url': 'https://{username}.gigantic-server.com:{port}/{basePath}',\n",
       "   'prod:description': 'The production API server',\n",
       "   'variables.': {'username': {'user:default': 'demo',\n",
       "     ':description': 'this value is assigned by the service provider, in this example `gigantic-server.com`'},\n",
       "    'port': {':enum': ['8443', '443'], 'default': '8443'},\n",
       "    'basePath': {':default': 'v2'}}}}}"
      ]
     },
     "execution_count": 4,
     "metadata": {},
     "output_type": "execute_result"
    }
   ],
   "source": [
    "ex2 = Ntv.obj(\n",
    "    {\"example:$openAPI.servers.\" : { \n",
    "        \"server1::\": {\n",
    "             \":url\": \"https://{username}.gigantic-server.com:{port}/{basePath}\",\n",
    "             \"prod:description\": \"The production API server\", \n",
    "             \"variables.\": {\n",
    "                \"username\": {\n",
    "                  \"user:default\": \"demo\",\n",
    "                  \":description\": \"this value is assigned by the service provider, in this example `gigantic-server.com`\"},\n",
    "                \"port\": {\n",
    "                  \":enum\": [\"8443\", \"443\"],\n",
    "                  \"default\": \"8443\" },\n",
    "                \"basePath\": {\n",
    "                  \":default\": \"v2\"}\n",
    "             }}}\n",
    "    })\n",
    "ex2.to_obj()"
   ]
  },
  {
   "cell_type": "code",
   "execution_count": 5,
   "id": "3c007d23",
   "metadata": {},
   "outputs": [
    {
     "data": {
      "text/plain": [
       "{\"prod:$openAPI.servers.description\": \"The production API server\"}"
      ]
     },
     "execution_count": 5,
     "metadata": {},
     "output_type": "execute_result"
    }
   ],
   "source": [
    "ex2[\"#example/server1/prod\"]"
   ]
  },
  {
   "cell_type": "code",
   "execution_count": 6,
   "id": "1a0b2194",
   "metadata": {},
   "outputs": [
    {
     "data": {
      "text/plain": [
       "{'$openAPI.servers.': [{':url': 'https://{username}.gigantic-server.com:{port}/{basePath}',\n",
       "   ':description': 'The production API server',\n",
       "   'variables.': [{':default': 'demo',\n",
       "     ':description': 'this value is assigned by the service provider, in this example `gigantic-server.com`'},\n",
       "    [{':enum': ['8443', '443']}, '8443'],\n",
       "    [{':default': 'v2'}]]}]}"
      ]
     },
     "execution_count": 6,
     "metadata": {},
     "output_type": "execute_result"
    }
   ],
   "source": [
    "#print(ex2.to_obj(name=False))\n",
    "ex2.no_name().to_obj()\n"
   ]
  },
  {
   "cell_type": "code",
   "execution_count": 7,
   "id": "2eefb276",
   "metadata": {},
   "outputs": [
    {
     "data": {
      "text/plain": [
       "{'example': {'server1': ['https://{username}.gigantic-server.com:{port}/{basePath}',\n",
       "   {'prod': 'The production API server'},\n",
       "   {'username': [{'user': 'demo'},\n",
       "     'this value is assigned by the service provider, in this example `gigantic-server.com`'],\n",
       "    'port': {':': ['8443', '443'], 'default': '8443'},\n",
       "    'basePath': ['v2']}]}}"
      ]
     },
     "execution_count": 7,
     "metadata": {},
     "output_type": "execute_result"
    }
   ],
   "source": [
    "ex2.no_type().to_obj()\n"
   ]
  },
  {
   "cell_type": "code",
   "execution_count": 8,
   "id": "0713ae2d",
   "metadata": {},
   "outputs": [
    {
     "data": {
      "text/plain": [
       "[['https://{username}.gigantic-server.com:{port}/{basePath}',\n",
       "  'The production API server',\n",
       "  [['demo',\n",
       "    'this value is assigned by the service provider, in this example `gigantic-server.com`'],\n",
       "   [{':': ['8443', '443']}, '8443'],\n",
       "   ['v2']]]]"
      ]
     },
     "execution_count": 8,
     "metadata": {},
     "output_type": "execute_result"
    }
   ],
   "source": [
    "ex2.no_type().no_name().to_obj()"
   ]
  },
  {
   "cell_type": "code",
   "execution_count": 9,
   "id": "b05718df",
   "metadata": {
    "scrolled": true
   },
   "outputs": [
    {
     "data": {
      "text/plain": [
       "{'example::$openAPI.servers.': {'server1': ['$openAPI.servers.url',\n",
       "   {'prod': '$openAPI.servers.description'},\n",
       "   {'variables.': {'username': [{'user': '$openAPI.servers.variables.default'},\n",
       "      '$openAPI.servers.variables.description'],\n",
       "     'port': ['$openAPI.servers.variables.enum', {'default': 'json'}],\n",
       "     'basePath': ['$openAPI.servers.variables.default']}}]}}"
      ]
     },
     "execution_count": 9,
     "metadata": {},
     "output_type": "execute_result"
    }
   ],
   "source": [
    "ex2.no_value().to_obj()"
   ]
  },
  {
   "cell_type": "code",
   "execution_count": 10,
   "id": "fb636f11",
   "metadata": {},
   "outputs": [
    {
     "data": {
      "text/plain": [
       "{'example::$openAPI.servers.': {'server1': {':url': 'https://{username}.gigantic-server.com:{port}/{basePath}',\n",
       "   'prod:description': 'The production API server',\n",
       "   'variables.': {'username': {'user:default': 'demo',\n",
       "     ':description': 'this value is assigned by the service provider, in this example `gigantic-server.com`'},\n",
       "    'port': {':enum': ['8443', '443'], 'default': '8443'},\n",
       "    'basePath': {':default': 'v2'}},\n",
       "   'server1': ['a', 'b']}}}"
      ]
     },
     "execution_count": 10,
     "metadata": {},
     "output_type": "execute_result"
    }
   ],
   "source": [
    "ex3 = Ntv.obj(\n",
    "    {\"example:$openAPI.servers.\" : { \n",
    "        \"server1::\": {\n",
    "             \":url\": \"https://{username}.gigantic-server.com:{port}/{basePath}\",\n",
    "             \"prod:description\": \"The production API server\", \n",
    "             \"variables.\": {\n",
    "                \"username\": {\n",
    "                  \"user:default\": \"demo\",\n",
    "                  \":description\": \"this value is assigned by the service provider, in this example `gigantic-server.com`\"},\n",
    "                \"port\": {\n",
    "                  \":enum\": [\"8443\", \"443\"],\n",
    "                  \"default\": \"8443\" },\n",
    "                \"basePath\": {\n",
    "                  \":default\": \"v2\"}},\n",
    "              \"server1::\": [\"a\", \"b\"]  }}\n",
    "    })\n",
    "ex3.to_obj()"
   ]
  },
  {
   "cell_type": "code",
   "execution_count": 13,
   "id": "74bd6008",
   "metadata": {},
   "outputs": [
    {
     "ename": "ValueError",
     "evalue": "'example' is not in list",
     "output_type": "error",
     "traceback": [
      "\u001b[1;31m---------------------------------------------------------------------------\u001b[0m",
      "\u001b[1;31mValueError\u001b[0m                                Traceback (most recent call last)",
      "\u001b[1;32m~\\AppData\\Local\\Temp\\ipykernel_13564\\1430778211.py\u001b[0m in \u001b[0;36m<module>\u001b[1;34m\u001b[0m\n\u001b[1;32m----> 1\u001b[1;33m \u001b[0mex3\u001b[0m\u001b[1;33m[\u001b[0m\u001b[1;34m\"example\"\u001b[0m\u001b[1;33m]\u001b[0m\u001b[1;33m\u001b[0m\u001b[1;33m\u001b[0m\u001b[0m\n\u001b[0m",
      "\u001b[1;32m~\\github\\NTV\\json_ntv\\ntv.py\u001b[0m in \u001b[0;36m__getitem__\u001b[1;34m(self, selec)\u001b[0m\n\u001b[0;32m    260\u001b[0m             \u001b[1;32mreturn\u001b[0m \u001b[1;33m[\u001b[0m\u001b[0mself\u001b[0m\u001b[1;33m[\u001b[0m\u001b[0mi\u001b[0m\u001b[1;33m]\u001b[0m \u001b[1;32mfor\u001b[0m \u001b[0mi\u001b[0m \u001b[1;32min\u001b[0m \u001b[0mselec\u001b[0m\u001b[1;33m]\u001b[0m\u001b[1;33m\u001b[0m\u001b[1;33m\u001b[0m\u001b[0m\n\u001b[0;32m    261\u001b[0m         \u001b[1;32mif\u001b[0m \u001b[0misinstance\u001b[0m\u001b[1;33m(\u001b[0m\u001b[0mselec\u001b[0m\u001b[1;33m,\u001b[0m \u001b[0mstr\u001b[0m\u001b[1;33m)\u001b[0m\u001b[1;33m:\u001b[0m\u001b[1;33m\u001b[0m\u001b[1;33m\u001b[0m\u001b[0m\n\u001b[1;32m--> 262\u001b[1;33m             \u001b[1;32mreturn\u001b[0m \u001b[0mself\u001b[0m\u001b[1;33m.\u001b[0m\u001b[0mntv_value\u001b[0m\u001b[1;33m[\u001b[0m\u001b[0mself\u001b[0m\u001b[1;33m.\u001b[0m\u001b[0m_string_to_ind\u001b[0m\u001b[1;33m(\u001b[0m\u001b[0mselec\u001b[0m\u001b[1;33m)\u001b[0m\u001b[1;33m]\u001b[0m\u001b[1;33m\u001b[0m\u001b[1;33m\u001b[0m\u001b[0m\n\u001b[0m\u001b[0;32m    263\u001b[0m         \u001b[1;32mif\u001b[0m \u001b[0misinstance\u001b[0m\u001b[1;33m(\u001b[0m\u001b[0mselec\u001b[0m\u001b[1;33m,\u001b[0m \u001b[0mlist\u001b[0m\u001b[1;33m)\u001b[0m\u001b[1;33m:\u001b[0m\u001b[1;33m\u001b[0m\u001b[1;33m\u001b[0m\u001b[0m\n\u001b[0;32m    264\u001b[0m             \u001b[1;32mreturn\u001b[0m \u001b[0mself\u001b[0m\u001b[1;33m[\u001b[0m\u001b[0mselec\u001b[0m\u001b[1;33m[\u001b[0m\u001b[1;36m0\u001b[0m\u001b[1;33m]\u001b[0m\u001b[1;33m]\u001b[0m\u001b[1;33m[\u001b[0m\u001b[0mselec\u001b[0m\u001b[1;33m[\u001b[0m\u001b[1;36m1\u001b[0m\u001b[1;33m:\u001b[0m\u001b[1;33m]\u001b[0m\u001b[1;33m]\u001b[0m\u001b[1;33m\u001b[0m\u001b[1;33m\u001b[0m\u001b[0m\n",
      "\u001b[1;32m~\\github\\NTV\\json_ntv\\ntv.py\u001b[0m in \u001b[0;36m_string_to_ind\u001b[1;34m(self, json_name)\u001b[0m\n\u001b[0;32m    283\u001b[0m             return [ntv.json_name(def_type=self.type_str, string=True) \n\u001b[0;32m    284\u001b[0m                    for ntv in self.ntv_value].index(json_name)     \n\u001b[1;32m--> 285\u001b[1;33m         \u001b[1;32mreturn\u001b[0m \u001b[1;33m[\u001b[0m\u001b[0mntv\u001b[0m\u001b[1;33m.\u001b[0m\u001b[0mntv_name\u001b[0m \u001b[1;32mfor\u001b[0m \u001b[0mntv\u001b[0m \u001b[1;32min\u001b[0m \u001b[0mself\u001b[0m\u001b[1;33m.\u001b[0m\u001b[0mntv_value\u001b[0m\u001b[1;33m]\u001b[0m\u001b[1;33m.\u001b[0m\u001b[0mindex\u001b[0m\u001b[1;33m(\u001b[0m\u001b[0mjson_name\u001b[0m\u001b[1;33m)\u001b[0m\u001b[1;33m\u001b[0m\u001b[1;33m\u001b[0m\u001b[0m\n\u001b[0m\u001b[0;32m    286\u001b[0m \u001b[1;33m\u001b[0m\u001b[0m\n\u001b[0;32m    287\u001b[0m     \u001b[1;32mdef\u001b[0m \u001b[0m__lt__\u001b[0m\u001b[1;33m(\u001b[0m\u001b[0mself\u001b[0m\u001b[1;33m,\u001b[0m \u001b[0mother\u001b[0m\u001b[1;33m)\u001b[0m\u001b[1;33m:\u001b[0m\u001b[1;33m\u001b[0m\u001b[1;33m\u001b[0m\u001b[0m\n",
      "\u001b[1;31mValueError\u001b[0m: 'example' is not in list"
     ]
    }
   ],
   "source": [
    "ex3[\"example\"]"
   ]
  }
 ],
 "metadata": {
  "kernelspec": {
   "display_name": "Python 3 (ipykernel)",
   "language": "python",
   "name": "python3"
  },
  "language_info": {
   "codemirror_mode": {
    "name": "ipython",
    "version": 3
   },
   "file_extension": ".py",
   "mimetype": "text/x-python",
   "name": "python",
   "nbconvert_exporter": "python",
   "pygments_lexer": "ipython3",
   "version": "3.10.9"
  }
 },
 "nbformat": 4,
 "nbformat_minor": 5
}
