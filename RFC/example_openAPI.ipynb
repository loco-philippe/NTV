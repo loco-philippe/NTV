{
 "cells": [
  {
   "cell_type": "markdown",
   "id": "843fa440",
   "metadata": {},
   "source": [
    "# Tests schema"
   ]
  },
  {
   "cell_type": "markdown",
   "id": "d6353260",
   "metadata": {},
   "source": [
    "## OpenAPI example\n"
   ]
  },
  {
   "cell_type": "code",
   "execution_count": 33,
   "id": "36e73ab3",
   "metadata": {
    "collapsed": true
   },
   "outputs": [
    {
     "data": {
      "text/plain": [
       "{'servers': [{'url': 'https://{username}.gigantic-server.com:{port}/{basePath}',\n",
       "   'description': 'The production API server',\n",
       "   'variables': {'username': {'default': 'demo',\n",
       "     'description': 'this value is assigned by the service provider, in this example `gigantic-server.com`'},\n",
       "    'port': {'enum': ['8443', '443'], 'default': '8443'},\n",
       "    'basePath': {'default': 'v2'}}}]}"
      ]
     },
     "execution_count": 33,
     "metadata": {},
     "output_type": "execute_result"
    }
   ],
   "source": [
    "{\"servers\": [\n",
    "    {\"url\": \"https://{username}.gigantic-server.com:{port}/{basePath}\",\n",
    "      \"description\": \"The production API server\",\n",
    "      \"variables\": {\n",
    "        \"username\": {\n",
    "          \"default\": \"demo\",\n",
    "          \"description\": \"this value is assigned by the service provider, in this example `gigantic-server.com`\"},\n",
    "        \"port\": {\n",
    "          \"enum\": [\"8443\", \"443\"],\n",
    "          \"default\": \"8443\"},\n",
    "        \"basePath\": {\n",
    "          \"default\": \"v2\"\n",
    "        }}}]\n",
    "}"
   ]
  },
  {
   "cell_type": "code",
   "execution_count": 35,
   "id": "81e4fe98",
   "metadata": {},
   "outputs": [
    {
     "name": "stdout",
     "output_type": "stream",
     "text": [
      "{\"$openAPI.servers.\": [[{\":url\": \"https://{username}.gigantic-server.com:{port}/{basePath}\"}, {\":description\": \"The production API server\"}, {\"variables.\": {\"username\": [{\":default\": \"demo\"}, {\":description\": \"this value is assigned by the service provider, in this example `gigantic-server.com`\"}], \"port\": [{\":enum\": [\"8443\", \"443\"]}, {\"default\": \"8443\"}], \"basePath\": {\":default\": \"v2\"}}}]]}\n"
     ]
    }
   ],
   "source": [
    "from namespace import from_file, Namespace, NtvType\n",
    "from json_ntv import Ntv\n",
    "from json_ntv.ntv_util import NtvUtil\n",
    "\n",
    "file = \"D:\\\\philippe\\\\python ESstandard\\\\NTV\\\\RFC\\\\NTV_openAPI_namespace.ini\"\n",
    "from_file(file, '$openAPI.')\n",
    "\n",
    "ex1 = Ntv.obj(\n",
    "    {\"$openAPI.servers.\": [\n",
    "        {\":url\": \"https://{username}.gigantic-server.com:{port}/{basePath}\",\n",
    "         \":description\": \"The production API server\", \n",
    "         \"variables.\": {\n",
    "            \"username\": {\n",
    "              \":default\": \"demo\",\n",
    "              \":description\": \"this value is assigned by the service provider, in this example `gigantic-server.com`\"},\n",
    "            \"port\": {\n",
    "              \":enum\": [\"8443\", \"443\"],\n",
    "              \"default\": \"8443\" },\n",
    "            \"basePath\": {\n",
    "              \":default\": \"v2\"}\n",
    "            }}]\n",
    "    })\n",
    "print(ex1)"
   ]
  },
  {
   "cell_type": "code",
   "execution_count": 36,
   "id": "585101bb",
   "metadata": {},
   "outputs": [
    {
     "name": "stdout",
     "output_type": "stream",
     "text": [
      "{\":$openAPI.servers.description\": \"The production API server\"}\n",
      "{\":$openAPI.servers.description\": \"The production API server\"}\n"
     ]
    }
   ],
   "source": [
    "print(ex1[0][1])\n",
    "print(ex1[\"/0/1\"])"
   ]
  },
  {
   "cell_type": "code",
   "execution_count": 37,
   "id": "e011c368",
   "metadata": {},
   "outputs": [
    {
     "name": "stdout",
     "output_type": "stream",
     "text": [
      "{\"$openAPI.servers.\": {\"server1\": [{\":url\": \"https://{username}.gigantic-server.com:{port}/{basePath}\"}, {\"prod:description\": \"The production API server\"}, {\"variables.\": {\"username\": [{\":default\": \"demo\"}, {\":description\": \"this value is assigned by the service provider, in this example `gigantic-server.com`\"}], \"port\": [{\":enum\": [\"8443\", \"443\"]}, {\"default\": \"8443\"}], \"basePath\": {\":default\": \"v2\"}}}]}}\n"
     ]
    }
   ],
   "source": [
    "ex2 = Ntv.obj(\n",
    "    {\"$openAPI.servers.\": { \n",
    "        \"server1::\": {\n",
    "             \":url\": \"https://{username}.gigantic-server.com:{port}/{basePath}\",\n",
    "             \"prod:description\": \"The production API server\", \n",
    "             \"variables.\": {\n",
    "                \"username\": {\n",
    "                  \":default\": \"demo\",\n",
    "                  \":description\": \"this value is assigned by the service provider, in this example `gigantic-server.com`\"},\n",
    "                \"port\": {\n",
    "                  \":enum\": [\"8443\", \"443\"],\n",
    "                  \"default\": \"8443\" },\n",
    "                \"basePath\": {\n",
    "                  \":default\": \"v2\"}\n",
    "             }}}\n",
    "    })\n",
    "print(ex2)"
   ]
  },
  {
   "cell_type": "code",
   "execution_count": 38,
   "id": "3c007d23",
   "metadata": {},
   "outputs": [
    {
     "name": "stdout",
     "output_type": "stream",
     "text": [
      "{\"prod:$openAPI.servers.description\": \"The production API server\"}\n"
     ]
    }
   ],
   "source": [
    "print(ex2[\"/server1/prod\"])"
   ]
  }
 ],
 "metadata": {
  "kernelspec": {
   "display_name": "Python 3 (ipykernel)",
   "language": "python",
   "name": "python3"
  },
  "language_info": {
   "codemirror_mode": {
    "name": "ipython",
    "version": 3
   },
   "file_extension": ".py",
   "mimetype": "text/x-python",
   "name": "python",
   "nbconvert_exporter": "python",
   "pygments_lexer": "ipython3",
   "version": "3.10.9"
  }
 },
 "nbformat": 4,
 "nbformat_minor": 5
}
