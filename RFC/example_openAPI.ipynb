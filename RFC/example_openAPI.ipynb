{
 "cells": [
  {
   "cell_type": "markdown",
   "id": "843fa440",
   "metadata": {},
   "source": [
    "# Tests schema"
   ]
  },
  {
   "cell_type": "markdown",
   "id": "d6353260",
   "metadata": {},
   "source": [
    "## OpenAPI example\n"
   ]
  },
  {
   "cell_type": "code",
   "execution_count": 1,
   "id": "36e73ab3",
   "metadata": {},
   "outputs": [
    {
     "data": {
      "text/plain": [
       "{'servers': [{'url': 'https://{username}.gigantic-server.com:{port}/{basePath}',\n",
       "   'description': 'The production API server',\n",
       "   'variables': {'username': {'default': 'demo',\n",
       "     'description': 'this value is assigned by the service provider, in this example `gigantic-server.com`'},\n",
       "    'port': {'enum': ['8443', '443'], 'default': '8443'},\n",
       "    'basePath': {'default': 'v2'}}}]}"
      ]
     },
     "execution_count": 1,
     "metadata": {},
     "output_type": "execute_result"
    }
   ],
   "source": [
    "{\"servers\": [\n",
    "    {\"url\": \"https://{username}.gigantic-server.com:{port}/{basePath}\",\n",
    "      \"description\": \"The production API server\",\n",
    "      \"variables\": {\n",
    "        \"username\": {\n",
    "          \"default\": \"demo\",\n",
    "          \"description\": \"this value is assigned by the service provider, in this example `gigantic-server.com`\"},\n",
    "        \"port\": {\n",
    "          \"enum\": [\"8443\", \"443\"],\n",
    "          \"default\": \"8443\"},\n",
    "        \"basePath\": {\n",
    "          \"default\": \"v2\"\n",
    "        }}}]\n",
    "}"
   ]
  },
  {
   "cell_type": "code",
   "execution_count": 2,
   "id": "81e4fe98",
   "metadata": {},
   "outputs": [
    {
     "ename": "DatatypeError",
     "evalue": "$openAPI. is not present in C:\\Users\\phili\\github\\NTV\\RFC\\NTV_openAPI_namespace.ini",
     "output_type": "error",
     "traceback": [
      "\u001b[1;31m---------------------------------------------------------------------------\u001b[0m",
      "\u001b[1;31mDatatypeError\u001b[0m                             Traceback (most recent call last)",
      "\u001b[1;32m~\\AppData\\Local\\Temp\\ipykernel_12108\\3914985132.py\u001b[0m in \u001b[0;36m<module>\u001b[1;34m\u001b[0m\n\u001b[0;32m      5\u001b[0m \u001b[1;31m#file = \"D:\\\\philippe\\\\python ESstandard\\\\NTV\\\\RFC\\\\NTV_openAPI_namespace.ini\"\u001b[0m\u001b[1;33m\u001b[0m\u001b[1;33m\u001b[0m\u001b[0m\n\u001b[0;32m      6\u001b[0m \u001b[0mfile\u001b[0m \u001b[1;33m=\u001b[0m \u001b[1;34m\"C:\\\\Users\\\\phili\\\\github\\\\NTV\\\\RFC\\\\NTV_openAPI_namespace.ini\"\u001b[0m\u001b[1;33m\u001b[0m\u001b[1;33m\u001b[0m\u001b[0m\n\u001b[1;32m----> 7\u001b[1;33m \u001b[0mfrom_file\u001b[0m\u001b[1;33m(\u001b[0m\u001b[0mfile\u001b[0m\u001b[1;33m,\u001b[0m \u001b[1;34m'$openAPI.'\u001b[0m\u001b[1;33m)\u001b[0m\u001b[1;33m\u001b[0m\u001b[1;33m\u001b[0m\u001b[0m\n\u001b[0m\u001b[0;32m      8\u001b[0m \u001b[1;33m\u001b[0m\u001b[0m\n\u001b[0;32m      9\u001b[0m ex1 = Ntv.obj(\n",
      "\u001b[1;32mD:\\philippe\\python ESstandard\\NTV\\json_ntv\\namespace.py\u001b[0m in \u001b[0;36mfrom_file\u001b[1;34m(file, name, long_parent)\u001b[0m\n\u001b[0;32m     67\u001b[0m     \u001b[0mconfig\u001b[0m\u001b[1;33m.\u001b[0m\u001b[0mread\u001b[0m\u001b[1;33m(\u001b[0m\u001b[0mfile\u001b[0m\u001b[1;33m)\u001b[0m\u001b[1;33m\u001b[0m\u001b[1;33m\u001b[0m\u001b[0m\n\u001b[0;32m     68\u001b[0m     \u001b[1;32mif\u001b[0m \u001b[1;32mnot\u001b[0m \u001b[0mname\u001b[0m \u001b[1;32min\u001b[0m \u001b[0mconfig\u001b[0m\u001b[1;33m.\u001b[0m\u001b[0msections\u001b[0m\u001b[1;33m(\u001b[0m\u001b[1;33m)\u001b[0m\u001b[1;33m:\u001b[0m\u001b[1;33m\u001b[0m\u001b[1;33m\u001b[0m\u001b[0m\n\u001b[1;32m---> 69\u001b[1;33m         \u001b[1;32mraise\u001b[0m \u001b[0mDatatypeError\u001b[0m\u001b[1;33m(\u001b[0m\u001b[0mname\u001b[0m \u001b[1;33m+\u001b[0m \u001b[1;34m' is not present in '\u001b[0m \u001b[1;33m+\u001b[0m \u001b[0mfile\u001b[0m \u001b[1;33m)\u001b[0m\u001b[1;33m\u001b[0m\u001b[1;33m\u001b[0m\u001b[0m\n\u001b[0m\u001b[0;32m     70\u001b[0m     \u001b[0m_add_namespace\u001b[0m\u001b[1;33m(\u001b[0m\u001b[0mconfig\u001b[0m\u001b[1;33m,\u001b[0m \u001b[0mschema_nsp\u001b[0m\u001b[1;33m)\u001b[0m\u001b[1;33m\u001b[0m\u001b[1;33m\u001b[0m\u001b[0m\n\u001b[0;32m     71\u001b[0m \u001b[1;33m\u001b[0m\u001b[0m\n",
      "\u001b[1;31mDatatypeError\u001b[0m: $openAPI. is not present in C:\\Users\\phili\\github\\NTV\\RFC\\NTV_openAPI_namespace.ini"
     ]
    }
   ],
   "source": [
    "from namespace import from_file, Namespace, Datatype\n",
    "from json_ntv import Ntv\n",
    "from json_ntv.ntv_util import NtvUtil\n",
    "\n",
    "#file = \"D:\\\\philippe\\\\python ESstandard\\\\NTV\\\\RFC\\\\NTV_openAPI_namespace.ini\"\n",
    "file = \"C:\\\\Users\\\\phili\\\\github\\\\NTV\\\\RFC\\\\NTV_openAPI_namespace.ini\"\n",
    "from_file(file, '$openAPI.')\n",
    "\n",
    "ex1 = Ntv.obj(\n",
    "    {\"$openAPI.servers.\": [\n",
    "        {\":url\": \"https://{username}.gigantic-server.com:{port}/{basePath}\",\n",
    "         \":description\": \"The production API server\", \n",
    "         \"variables.\": {\n",
    "            \"username\": {\n",
    "              \":default\": \"demo\",\n",
    "              \":description\": \"this value is assigned by the service provider, in this example `gigantic-server.com`\"},\n",
    "            \"port\": {\n",
    "              \":enum\": [\"8443\", \"443\"],\n",
    "              \"default\": \"8443\" },\n",
    "            \"basePath\": {\n",
    "              \":default\": \"v2\"}\n",
    "            }}]\n",
    "    })\n",
    "print(ex1)"
   ]
  },
  {
   "cell_type": "code",
   "execution_count": null,
   "id": "585101bb",
   "metadata": {},
   "outputs": [],
   "source": [
    "print(ex1[0][1])\n",
    "print(ex1[\"/0/1\"])"
   ]
  },
  {
   "cell_type": "code",
   "execution_count": null,
   "id": "e011c368",
   "metadata": {},
   "outputs": [],
   "source": [
    "ex2 = Ntv.obj(\n",
    "    {\"$openAPI.servers.\": { \n",
    "        \"server1::\": {\n",
    "             \":url\": \"https://{username}.gigantic-server.com:{port}/{basePath}\",\n",
    "             \"prod:description\": \"The production API server\", \n",
    "             \"variables.\": {\n",
    "                \"username\": {\n",
    "                  \":default\": \"demo\",\n",
    "                  \":description\": \"this value is assigned by the service provider, in this example `gigantic-server.com`\"},\n",
    "                \"port\": {\n",
    "                  \":enum\": [\"8443\", \"443\"],\n",
    "                  \"default\": \"8443\" },\n",
    "                \"basePath\": {\n",
    "                  \":default\": \"v2\"}\n",
    "             }}}\n",
    "    })\n",
    "print(ex2)"
   ]
  },
  {
   "cell_type": "code",
   "execution_count": null,
   "id": "3c007d23",
   "metadata": {},
   "outputs": [],
   "source": [
    "print(ex2[\"/server1/prod\"])"
   ]
  },
  {
   "cell_type": "code",
   "execution_count": null,
   "id": "1a0b2194",
   "metadata": {},
   "outputs": [],
   "source": [
    "#print(ex2.to_obj(name=False))\n",
    "for ntv in ex2.tree:\n",
    "    ntv.ntv_name=None\n",
    "print(ex2)    \n"
   ]
  },
  {
   "cell_type": "code",
   "execution_count": null,
   "id": "e139ce50",
   "metadata": {
    "scrolled": true
   },
   "outputs": [],
   "source": [
    "ex = Ntv.obj(\n",
    "    {\"test\": [{'a':1, 'b':2}]})\n",
    "print(ex.expand())\n",
    "ex\n"
   ]
  },
  {
   "cell_type": "code",
   "execution_count": null,
   "id": "2d5e6bfd",
   "metadata": {},
   "outputs": [],
   "source": [
    "ex = Ntv.obj([{'a':1, 'b':2}])\n",
    "ex"
   ]
  },
  {
   "cell_type": "code",
   "execution_count": null,
   "id": "d13b5f1f",
   "metadata": {},
   "outputs": [],
   "source": [
    "ex.obj_value()\n"
   ]
  },
  {
   "cell_type": "code",
   "execution_count": null,
   "id": "dd53bd5c",
   "metadata": {},
   "outputs": [],
   "source": [
    "ex2 = Ntv.obj(\n",
    "    {\"$openAPI.servers.\": { \n",
    "        \"server1::\": { \":url\": \"a\", \"prod:description\": \"test\"}}})\n",
    "ex2"
   ]
  },
  {
   "cell_type": "code",
   "execution_count": null,
   "id": "eaac0cbb",
   "metadata": {},
   "outputs": [],
   "source": [
    "ex.obj_value()\n",
    "self=ex\n",
    "def_type=None\n",
    "maxv = len(self.ntv_value)\n",
    "def_type = self.ntv_type.long_name if self.ntv_type else def_type\n",
    "values = [ntv.to_obj(def_type=def_type)\n",
    "                  for ntv in self.ntv_value[:maxv]]\n"
   ]
  },
  {
   "cell_type": "code",
   "execution_count": null,
   "id": "3a844fa8",
   "metadata": {},
   "outputs": [],
   "source": [
    "ex = Ntv.obj({'a':1, 'b':2})\n",
    "ex"
   ]
  },
  {
   "cell_type": "code",
   "execution_count": null,
   "id": "01be0c99",
   "metadata": {},
   "outputs": [],
   "source": [
    "ex = Ntv.obj([[1,2]])\n",
    "ex"
   ]
  },
  {
   "cell_type": "code",
   "execution_count": null,
   "id": "2eefb276",
   "metadata": {},
   "outputs": [],
   "source": [
    "for ntv in ex2.tree:\n",
    "    ntv.ntv_name=None\n",
    "print(ex2)    \n"
   ]
  }
 ],
 "metadata": {
  "kernelspec": {
   "display_name": "Python 3 (ipykernel)",
   "language": "python",
   "name": "python3"
  },
  "language_info": {
   "codemirror_mode": {
    "name": "ipython",
    "version": 3
   },
   "file_extension": ".py",
   "mimetype": "text/x-python",
   "name": "python",
   "nbconvert_exporter": "python",
   "pygments_lexer": "ipython3",
   "version": "3.10.9"
  }
 },
 "nbformat": 4,
 "nbformat_minor": 5
}
