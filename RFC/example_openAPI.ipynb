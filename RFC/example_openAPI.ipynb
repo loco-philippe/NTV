{
 "cells": [
  {
   "cell_type": "markdown",
   "id": "843fa440",
   "metadata": {},
   "source": [
    "# Tests schema"
   ]
  },
  {
   "cell_type": "markdown",
   "id": "d6353260",
   "metadata": {},
   "source": [
    "## OpenAPI example\n"
   ]
  },
  {
   "cell_type": "code",
   "execution_count": 1,
   "id": "36e73ab3",
   "metadata": {},
   "outputs": [
    {
     "data": {
      "text/plain": [
       "{'servers': [{'url': 'https://{username}.gigantic-server.com:{port}/{basePath}',\n",
       "   'description': 'The production API server',\n",
       "   'variables': {'username': {'default': 'demo',\n",
       "     'description': 'this value is assigned by the service provider, in this example `gigantic-server.com`'},\n",
       "    'port': {'enum': ['8443', '443'], 'default': '8443'},\n",
       "    'basePath': {'default': 'v2'}}}]}"
      ]
     },
     "execution_count": 1,
     "metadata": {},
     "output_type": "execute_result"
    }
   ],
   "source": [
    "{\"servers\": [\n",
    "    {\"url\": \"https://{username}.gigantic-server.com:{port}/{basePath}\",\n",
    "      \"description\": \"The production API server\",\n",
    "      \"variables\": {\n",
    "        \"username\": {\n",
    "          \"default\": \"demo\",\n",
    "          \"description\": \"this value is assigned by the service provider, in this example `gigantic-server.com`\"},\n",
    "        \"port\": {\n",
    "          \"enum\": [\"8443\", \"443\"],\n",
    "          \"default\": \"8443\"},\n",
    "        \"basePath\": {\n",
    "          \"default\": \"v2\"\n",
    "        }}}]\n",
    "}"
   ]
  },
  {
   "cell_type": "code",
   "execution_count": 2,
   "id": "81e4fe98",
   "metadata": {},
   "outputs": [
    {
     "name": "stdout",
     "output_type": "stream",
     "text": [
      "{\"$openAPI.servers.\": [[{\":url\": \"https://{username}.gigantic-server.com:{port}/{basePath}\"}, {\":description\": \"The production API server\"}, {\"variables.\": {\"username\": [{\":default\": \"demo\"}, {\":description\": \"this value is assigned by the service provider, in this example `gigantic-server.com`\"}], \"port\": [{\":enum\": [\"8443\", \"443\"]}, {\"default\": \"8443\"}], \"basePath\": {\":default\": \"v2\"}}}]]}\n"
     ]
    }
   ],
   "source": [
    "from namespace import from_file, Namespace, Datatype\n",
    "from json_ntv import Ntv\n",
    "from json_ntv.ntv_util import NtvUtil\n",
    "\n",
    "#file = \"D:\\\\philippe\\\\python ESstandard\\\\NTV\\\\RFC\\\\NTV_openAPI_namespace.ini\"\n",
    "file = \"C:\\\\Users\\\\phili\\\\github\\\\NTV\\\\RFC\\\\NTV_openAPI_namespace.ini\"\n",
    "from_file(file, '$openAPI.')\n",
    "\n",
    "ex1 = Ntv.obj(\n",
    "    {\"$openAPI.servers.\": [\n",
    "        {\":url\": \"https://{username}.gigantic-server.com:{port}/{basePath}\",\n",
    "         \":description\": \"The production API server\", \n",
    "         \"variables.\": {\n",
    "            \"username\": {\n",
    "              \":default\": \"demo\",\n",
    "              \":description\": \"this value is assigned by the service provider, in this example `gigantic-server.com`\"},\n",
    "            \"port\": {\n",
    "              \":enum\": [\"8443\", \"443\"],\n",
    "              \"default\": \"8443\" },\n",
    "            \"basePath\": {\n",
    "              \":default\": \"v2\"}\n",
    "            }}]\n",
    "    })\n",
    "print(ex1)"
   ]
  },
  {
   "cell_type": "code",
   "execution_count": 3,
   "id": "585101bb",
   "metadata": {},
   "outputs": [
    {
     "name": "stdout",
     "output_type": "stream",
     "text": [
      "{\":$openAPI.servers.description\": \"The production API server\"}\n",
      "{\":$openAPI.servers.description\": \"The production API server\"}\n"
     ]
    }
   ],
   "source": [
    "print(ex1[0][1])\n",
    "print(ex1[\"/0/1\"])"
   ]
  },
  {
   "cell_type": "code",
   "execution_count": 4,
   "id": "e011c368",
   "metadata": {},
   "outputs": [
    {
     "name": "stdout",
     "output_type": "stream",
     "text": [
      "{\"$openAPI.servers.\": [{\"server1\": [{\":url\": \"https://{username}.gigantic-server.com:{port}/{basePath}\"}, {\"prod:description\": \"The production API server\"}, {\"variables.\": {\"username\": [{\":default\": \"demo\"}, {\":description\": \"this value is assigned by the service provider, in this example `gigantic-server.com`\"}], \"port\": [{\":enum\": [\"8443\", \"443\"]}, {\"default\": \"8443\"}], \"basePath\": {\":default\": \"v2\"}}}]}]}\n"
     ]
    }
   ],
   "source": [
    "ex2 = Ntv.obj(\n",
    "    {\"$openAPI.servers.\": { \n",
    "        \"server1::\": {\n",
    "             \":url\": \"https://{username}.gigantic-server.com:{port}/{basePath}\",\n",
    "             \"prod:description\": \"The production API server\", \n",
    "             \"variables.\": {\n",
    "                \"username\": {\n",
    "                  \":default\": \"demo\",\n",
    "                  \":description\": \"this value is assigned by the service provider, in this example `gigantic-server.com`\"},\n",
    "                \"port\": {\n",
    "                  \":enum\": [\"8443\", \"443\"],\n",
    "                  \"default\": \"8443\" },\n",
    "                \"basePath\": {\n",
    "                  \":default\": \"v2\"}\n",
    "             }}}\n",
    "    })\n",
    "print(ex2)"
   ]
  },
  {
   "cell_type": "code",
   "execution_count": 5,
   "id": "3c007d23",
   "metadata": {},
   "outputs": [
    {
     "name": "stdout",
     "output_type": "stream",
     "text": [
      "{\"prod:$openAPI.servers.description\": \"The production API server\"}\n"
     ]
    }
   ],
   "source": [
    "print(ex2[\"/server1/prod\"])"
   ]
  },
  {
   "cell_type": "code",
   "execution_count": 6,
   "id": "1a0b2194",
   "metadata": {},
   "outputs": [
    {
     "name": "stdout",
     "output_type": "stream",
     "text": [
      "{\"$openAPI.servers.\": [[{\":url\": \"https://{username}.gigantic-server.com:{port}/{basePath}\"}, {\":description\": \"The production API server\"}, {\"variables.\": [[{\":default\": \"demo\"}, {\":description\": \"this value is assigned by the service provider, in this example `gigantic-server.com`\"}], [{\":enum\": [\"8443\", \"443\"]}, \"8443\"], [{\":default\": \"v2\"}]]}]]}\n"
     ]
    }
   ],
   "source": [
    "#print(ex2.to_obj(name=False))\n",
    "for ntv in ex2.tree:\n",
    "    ntv.ntv_name=None\n",
    "print(ex2)    \n"
   ]
  },
  {
   "cell_type": "code",
   "execution_count": 7,
   "id": "e139ce50",
   "metadata": {
    "scrolled": true
   },
   "outputs": [
    {
     "name": "stdout",
     "output_type": "stream",
     "text": [
      "{'E': 'NtvList', 'N': 'test', 'T': '', 'V': [{'E': 'NtvList', 'N': '', 'T': '', 'V': [{'E': 'NtvSingle', 'N': 'a', 'T': 'json', 'V': 1}, {'E': 'NtvSingle', 'N': 'b', 'T': 'json', 'V': 2}]}]}\n"
     ]
    },
    {
     "data": {
      "text/plain": [
       "{\"test\": [{\"a\": 1, \"b\": 2}]}"
      ]
     },
     "execution_count": 7,
     "metadata": {},
     "output_type": "execute_result"
    }
   ],
   "source": [
    "ex = Ntv.obj(\n",
    "    {\"test\": [{'a':1, 'b':2}]})\n",
    "print(ex.expand())\n",
    "ex\n"
   ]
  },
  {
   "cell_type": "code",
   "execution_count": 8,
   "id": "2d5e6bfd",
   "metadata": {},
   "outputs": [
    {
     "data": {
      "text/plain": [
       "[{\"a\": 1, \"b\": 2}]"
      ]
     },
     "execution_count": 8,
     "metadata": {},
     "output_type": "execute_result"
    }
   ],
   "source": [
    "ex = Ntv.obj([{'a':1, 'b':2}])\n",
    "ex"
   ]
  },
  {
   "cell_type": "code",
   "execution_count": 9,
   "id": "d13b5f1f",
   "metadata": {},
   "outputs": [
    {
     "data": {
      "text/plain": [
       "[{'a': 1, 'b': 2}]"
      ]
     },
     "execution_count": 9,
     "metadata": {},
     "output_type": "execute_result"
    }
   ],
   "source": [
    "ex.obj_value()\n"
   ]
  },
  {
   "cell_type": "code",
   "execution_count": 10,
   "id": "eaac0cbb",
   "metadata": {},
   "outputs": [],
   "source": [
    "ex.obj_value()\n",
    "self=ex\n",
    "def_type=None\n",
    "maxv = len(self.ntv_value)\n",
    "def_type = self.ntv_type.long_name if self.ntv_type else def_type\n",
    "values = [ntv.to_obj(def_type=def_type)\n",
    "                  for ntv in self.ntv_value[:maxv]]\n"
   ]
  },
  {
   "cell_type": "code",
   "execution_count": 11,
   "id": "3a844fa8",
   "metadata": {},
   "outputs": [
    {
     "data": {
      "text/plain": [
       "{\"a\": 1, \"b\": 2}"
      ]
     },
     "execution_count": 11,
     "metadata": {},
     "output_type": "execute_result"
    }
   ],
   "source": [
    "ex = Ntv.obj({'a':1, 'b':2})\n",
    "ex"
   ]
  },
  {
   "cell_type": "code",
   "execution_count": 12,
   "id": "01be0c99",
   "metadata": {},
   "outputs": [
    {
     "data": {
      "text/plain": [
       "[[1, 2]]"
      ]
     },
     "execution_count": 12,
     "metadata": {},
     "output_type": "execute_result"
    }
   ],
   "source": [
    "ex = Ntv.obj([[1,2]])\n",
    "ex"
   ]
  },
  {
   "cell_type": "code",
   "execution_count": 13,
   "id": "2eefb276",
   "metadata": {},
   "outputs": [
    {
     "name": "stdout",
     "output_type": "stream",
     "text": [
      "{\"$openAPI.servers.\": [[{\":url\": \"https://{username}.gigantic-server.com:{port}/{basePath}\"}, {\":description\": \"The production API server\"}, {\"variables.\": [[{\":default\": \"demo\"}, {\":description\": \"this value is assigned by the service provider, in this example `gigantic-server.com`\"}], [{\":enum\": [\"8443\", \"443\"]}, \"8443\"], [{\":default\": \"v2\"}]]}]]}\n"
     ]
    }
   ],
   "source": [
    "for ntv in ex2.tree:\n",
    "    ntv.ntv_name=None\n",
    "print(ex2)    \n"
   ]
  }
 ],
 "metadata": {
  "kernelspec": {
   "display_name": "Python 3 (ipykernel)",
   "language": "python",
   "name": "python3"
  },
  "language_info": {
   "codemirror_mode": {
    "name": "ipython",
    "version": 3
   },
   "file_extension": ".py",
   "mimetype": "text/x-python",
   "name": "python",
   "nbconvert_exporter": "python",
   "pygments_lexer": "ipython3",
   "version": "3.10.9"
  }
 },
 "nbformat": 4,
 "nbformat_minor": 5
}
