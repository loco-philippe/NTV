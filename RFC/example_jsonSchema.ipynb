{
 "cells": [
  {
   "cell_type": "markdown",
   "id": "02d9a514",
   "metadata": {},
   "source": [
    "# Example JsonSchema"
   ]
  },
  {
   "cell_type": "code",
   "execution_count": 1,
   "id": "570278ab",
   "metadata": {
    "scrolled": true
   },
   "outputs": [],
   "source": [
    "import pathlib\n",
    "import json_ntv\n",
    "from json_ntv.namespace import from_file\n",
    "from json_ntv.ntv_schema import ntv_validate\n",
    "from json_ntv import Ntv\n",
    "from jsonschema import validate\n",
    "\n",
    "file = pathlib.Path(json_ntv.__file__).parent.parent / \"RFC\" / \"NTV_NTVschema_namespace.ini\"\n",
    "from_file(file, '$NTVschema.')"
   ]
  },
  {
   "cell_type": "markdown",
   "id": "ab5c0f1b",
   "metadata": {},
   "source": [
    "## JSONschema"
   ]
  },
  {
   "cell_type": "code",
   "execution_count": 2,
   "id": "8c47de8f",
   "metadata": {},
   "outputs": [],
   "source": [
    "json_test = {'family' : 'white', \n",
    "             'children': [15, \n",
    "                          24, \n",
    "                          {'walter jr': None}, \n",
    "                          {'judith': 22}]}\n",
    "\n",
    "json_schema = {'properties': {'family':{\n",
    "                                    'maxLength':10},\n",
    "                              'children':{\n",
    "                                    'maxItems': 4,\n",
    "                                    'items': {\n",
    "                                        'maximum': 25, \n",
    "                                        'propertyNames': {'maxLength':10}}}}}\n",
    "\n",
    "validate(json_test, json_schema)"
   ]
  },
  {
   "cell_type": "markdown",
   "id": "b618faba",
   "metadata": {},
   "source": [
    "`properties` and `prefixItems` are used to navigate in the Json tree"
   ]
  },
  {
   "cell_type": "code",
   "execution_count": 3,
   "id": "7cda23b9",
   "metadata": {},
   "outputs": [],
   "source": [
    "list_json_test = [\n",
    " ['',                   '',         ''     , 2],\n",
    " ['/family',            'family',   'white', 1],\n",
    " ['/children',          'children', ''     , 4],\n",
    " ['/children/0',        '',         15     , 1],\n",
    " ['/children/1',        '',         21     , 1],\n",
    " ['/children/2',        '',         ''     , 1],\n",
    " ['/children/2/simon',  'walter jr',None   , 1],\n",
    " ['/children/3',        '',         ''     , 1],\n",
    " ['/children/3/judith', 'judith',   22     , 1] ]\n",
    "\n",
    "list_json_schema = [\n",
    " ['/family',     {'maxLength':10}],\n",
    " ['/children',   {'maxItems': 4, 'items': {'maximum': 25, 'propertyNames': {'maxLength':10}}}] ]"
   ]
  },
  {
   "cell_type": "markdown",
   "id": "cd1ca7b2",
   "metadata": {},
   "source": [
    "## NTVschema"
   ]
  },
  {
   "cell_type": "code",
   "execution_count": 13,
   "id": "796988a2",
   "metadata": {},
   "outputs": [
    {
     "name": "stdout",
     "output_type": "stream",
     "text": [
      "True \n",
      "\n",
      "validate :  global \n",
      "validate :  properties family\n",
      "     white {'maxLength': 10}\n",
      "     string {'const': 'string'}\n",
      "     family {}\n",
      "validate :  properties children\n",
      "     {'value': [15, 21, None, 22, [{\"hector:$dogs\": 10}, {\"tom:$cat\": 5}]], 'name': [None, None, 'walter jr', 'judith', 'pets'], 'type': ['int', 'json', 'json', 'json', '']} {'properties': {'value': {'items': {'maximum': 25}}, 'name': {'items': {'maxLength': 10}}, 'type': {'items': {'enum': ['json', 'int', '']}}}}\n",
      "     [15, 21, None, 22, [{\"hector:$dogs\": 10}, {\"tom:$cat\": 5}]] {'maxItems': 5}\n",
      "     ['int', 'json', 'json', 'json', ''] {}\n",
      "     [None, None, 'walter jr', 'judith', 'pets'] {}\n",
      "validate :  prefixItems 0 \n",
      "     15 {}\n",
      "     int {'const': 'int'}\n",
      "      {}\n",
      "not include /children/1\n",
      "not include /children/2\n",
      "not include /children/3\n",
      "validate :  properties pets\n",
      "     {'value': [10, 5], 'name': ['hector', 'tom'], 'type': ['$dogs', '$cat']} {'properties': {'value': {'items': {}}, 'type': {'items': {'enum': ['$dog', '$cat']}}}}\n"
     ]
    },
    {
     "ename": "ValidationError",
     "evalue": "'$dogs' is not one of ['$dog', '$cat']\n\nFailed validating 'enum' in schema['properties']['type']['items']:\n    {'enum': ['$dog', '$cat']}\n\nOn instance['type'][0]:\n    '$dogs'",
     "output_type": "error",
     "traceback": [
      "\u001b[1;31m---------------------------------------------------------------------------\u001b[0m",
      "\u001b[1;31mValidationError\u001b[0m                           Traceback (most recent call last)",
      "\u001b[1;32m~\\AppData\\Local\\Temp\\ipykernel_21948\\3010192315.py\u001b[0m in \u001b[0;36m<module>\u001b[1;34m\u001b[0m\n\u001b[0;32m     46\u001b[0m                                    }\n\u001b[0;32m     47\u001b[0m                            }}}}}\n\u001b[1;32m---> 48\u001b[1;33m \u001b[0mprint\u001b[0m\u001b[1;33m(\u001b[0m\u001b[0mntv_validate\u001b[0m\u001b[1;33m(\u001b[0m\u001b[0mntv_test2\u001b[0m\u001b[1;33m,\u001b[0m \u001b[0mntv_schema2\u001b[0m\u001b[1;33m,\u001b[0m \u001b[0mmode\u001b[0m\u001b[1;33m=\u001b[0m\u001b[1;36m3\u001b[0m\u001b[1;33m)\u001b[0m\u001b[1;33m)\u001b[0m\u001b[1;33m\u001b[0m\u001b[1;33m\u001b[0m\u001b[0m\n\u001b[0m",
      "\u001b[1;32mD:\\philippe\\python ESstandard\\NTV\\json_ntv\\ntv_schema.py\u001b[0m in \u001b[0;36mntv_validate\u001b[1;34m(data, sch, mode)\u001b[0m\n\u001b[0;32m    106\u001b[0m             \u001b[1;32mif\u001b[0m \u001b[0mntv\u001b[0m\u001b[1;33m.\u001b[0m\u001b[0mntv_name\u001b[0m \u001b[1;32min\u001b[0m \u001b[0mparent_sch\u001b[0m\u001b[1;33m[\u001b[0m\u001b[1;34m'properties.'\u001b[0m\u001b[1;33m]\u001b[0m\u001b[1;33m:\u001b[0m\u001b[1;33m\u001b[0m\u001b[1;33m\u001b[0m\u001b[0m\n\u001b[0;32m    107\u001b[0m                 \u001b[0mmapping\u001b[0m\u001b[1;33m[\u001b[0m\u001b[0mnew_p_data\u001b[0m\u001b[1;33m]\u001b[0m \u001b[1;33m=\u001b[0m \u001b[0mmapping\u001b[0m\u001b[1;33m[\u001b[0m\u001b[0mstr\u001b[0m\u001b[1;33m(\u001b[0m\u001b[0mparent_ntv\u001b[0m\u001b[1;33m)\u001b[0m\u001b[1;33m]\u001b[0m \u001b[1;33m+\u001b[0m \u001b[1;34m'/properties.'\u001b[0m \u001b[1;33m+\u001b[0m \u001b[1;34m'/'\u001b[0m \u001b[1;33m+\u001b[0m \u001b[0mntv\u001b[0m\u001b[1;33m.\u001b[0m\u001b[0mntv_name\u001b[0m\u001b[1;33m\u001b[0m\u001b[1;33m\u001b[0m\u001b[0m\n\u001b[1;32m--> 108\u001b[1;33m                 valid &= kw_validate('properties', ntv_data['#' + new_p_data], \n\u001b[0m\u001b[0;32m    109\u001b[0m                          _pure(parent_sch['properties.'][ntv.ntv_name]), mode)\n\u001b[0;32m    110\u001b[0m         \u001b[1;32mif\u001b[0m \u001b[1;34m'prefixItems.'\u001b[0m \u001b[1;32min\u001b[0m \u001b[0mparent_sch\u001b[0m\u001b[1;33m:\u001b[0m\u001b[1;33m\u001b[0m\u001b[1;33m\u001b[0m\u001b[0m\n",
      "\u001b[1;32mD:\\philippe\\python ESstandard\\NTV\\json_ntv\\ntv_schema.py\u001b[0m in \u001b[0;36mkw_validate\u001b[1;34m(keyword, ntv_data, sch, mode)\u001b[0m\n\u001b[0;32m     78\u001b[0m         print('validate : ', keyword, \n\u001b[0;32m     79\u001b[0m               ntv_data.ntv_name if keyword == 'properties' else '')\n\u001b[1;32m---> 80\u001b[1;33m     \u001b[0mvalid\u001b[0m \u001b[1;33m=\u001b[0m \u001b[0mval_items\u001b[0m\u001b[1;33m(\u001b[0m\u001b[0mntv_data\u001b[0m\u001b[1;33m,\u001b[0m \u001b[0msch\u001b[0m\u001b[1;33m[\u001b[0m\u001b[1;34m'items.'\u001b[0m\u001b[1;33m]\u001b[0m\u001b[1;33m,\u001b[0m \u001b[0mmode\u001b[0m\u001b[1;33m)\u001b[0m \u001b[1;32mif\u001b[0m \u001b[1;34m'items.'\u001b[0m \u001b[1;32min\u001b[0m \u001b[0msch\u001b[0m\u001b[1;33m.\u001b[0m\u001b[0mkeys\u001b[0m\u001b[1;33m(\u001b[0m\u001b[1;33m)\u001b[0m \u001b[1;32melse\u001b[0m \u001b[1;32mTrue\u001b[0m\u001b[1;33m\u001b[0m\u001b[1;33m\u001b[0m\u001b[0m\n\u001b[0m\u001b[0;32m     81\u001b[0m     valid &= val_simple(ntv_data, {key: val for key, val in sch.items() \n\u001b[0;32m     82\u001b[0m                                    if not key == 'items.'}, mode)\n",
      "\u001b[1;32mD:\\philippe\\python ESstandard\\NTV\\json_ntv\\ntv_schema.py\u001b[0m in \u001b[0;36mval_items\u001b[1;34m(ntv_data, sch, mode)\u001b[0m\n\u001b[0;32m     62\u001b[0m \u001b[1;33m\u001b[0m\u001b[0m\n\u001b[0;32m     63\u001b[0m \u001b[1;32mdef\u001b[0m \u001b[0mval_items\u001b[0m\u001b[1;33m(\u001b[0m\u001b[0mntv_data\u001b[0m\u001b[1;33m,\u001b[0m \u001b[0msch\u001b[0m\u001b[1;33m,\u001b[0m \u001b[0mmode\u001b[0m\u001b[1;33m)\u001b[0m \u001b[1;33m:\u001b[0m\u001b[1;33m\u001b[0m\u001b[1;33m\u001b[0m\u001b[0m\n\u001b[1;32m---> 64\u001b[1;33m     \u001b[1;32mreturn\u001b[0m \u001b[0mvalidat\u001b[0m\u001b[1;33m(\u001b[0m\u001b[0msh_expand\u001b[0m\u001b[1;33m(\u001b[0m\u001b[0mntv_data\u001b[0m\u001b[1;33m)\u001b[0m\u001b[1;33m,\u001b[0m \u001b[0msh_items\u001b[0m\u001b[1;33m(\u001b[0m\u001b[0msch\u001b[0m\u001b[1;33m)\u001b[0m\u001b[1;33m,\u001b[0m \u001b[0mmode\u001b[0m\u001b[1;33m)\u001b[0m\u001b[1;33m\u001b[0m\u001b[1;33m\u001b[0m\u001b[0m\n\u001b[0m\u001b[0;32m     65\u001b[0m \u001b[1;33m\u001b[0m\u001b[0m\n\u001b[0;32m     66\u001b[0m \u001b[1;32mdef\u001b[0m \u001b[0mval_simple\u001b[0m\u001b[1;33m(\u001b[0m\u001b[0mntv_data\u001b[0m\u001b[1;33m,\u001b[0m \u001b[0msch\u001b[0m\u001b[1;33m,\u001b[0m \u001b[0mmode\u001b[0m\u001b[1;33m)\u001b[0m \u001b[1;33m:\u001b[0m\u001b[1;33m\u001b[0m\u001b[1;33m\u001b[0m\u001b[0m\n",
      "\u001b[1;32mD:\\philippe\\python ESstandard\\NTV\\json_ntv\\ntv_schema.py\u001b[0m in \u001b[0;36mvalidat\u001b[1;34m(ntv_data, sch, mode)\u001b[0m\n\u001b[0;32m     32\u001b[0m                 \u001b[0mprint\u001b[0m\u001b[1;33m(\u001b[0m\u001b[1;34m'error : '\u001b[0m\u001b[1;33m,\u001b[0m \u001b[0mntv_data\u001b[0m\u001b[1;33m,\u001b[0m \u001b[1;34m'is not valid with schema : '\u001b[0m\u001b[1;33m,\u001b[0m \u001b[0msch\u001b[0m\u001b[1;33m)\u001b[0m\u001b[1;33m\u001b[0m\u001b[1;33m\u001b[0m\u001b[0m\n\u001b[0;32m     33\u001b[0m     \u001b[1;32melse\u001b[0m\u001b[1;33m:\u001b[0m\u001b[1;33m\u001b[0m\u001b[1;33m\u001b[0m\u001b[0m\n\u001b[1;32m---> 34\u001b[1;33m         \u001b[0mvalid\u001b[0m \u001b[1;33m=\u001b[0m \u001b[0mvalidate\u001b[0m\u001b[1;33m(\u001b[0m\u001b[0mntv_data\u001b[0m\u001b[1;33m,\u001b[0m \u001b[0msch\u001b[0m\u001b[1;33m)\u001b[0m \u001b[1;32mis\u001b[0m \u001b[1;32mNone\u001b[0m\u001b[1;33m\u001b[0m\u001b[1;33m\u001b[0m\u001b[0m\n\u001b[0m\u001b[0;32m     35\u001b[0m     \u001b[1;32mreturn\u001b[0m \u001b[0mvalid\u001b[0m\u001b[1;33m\u001b[0m\u001b[1;33m\u001b[0m\u001b[0m\n\u001b[0;32m     36\u001b[0m \u001b[1;33m\u001b[0m\u001b[0m\n",
      "\u001b[1;32mC:\\Opensource\\anaconda3\\envs\\observ_v10_20240111\\lib\\site-packages\\jsonschema\\validators.py\u001b[0m in \u001b[0;36mvalidate\u001b[1;34m(instance, schema, cls, *args, **kwargs)\u001b[0m\n\u001b[0;32m   1119\u001b[0m     \u001b[0merror\u001b[0m \u001b[1;33m=\u001b[0m \u001b[0mexceptions\u001b[0m\u001b[1;33m.\u001b[0m\u001b[0mbest_match\u001b[0m\u001b[1;33m(\u001b[0m\u001b[0mvalidator\u001b[0m\u001b[1;33m.\u001b[0m\u001b[0miter_errors\u001b[0m\u001b[1;33m(\u001b[0m\u001b[0minstance\u001b[0m\u001b[1;33m)\u001b[0m\u001b[1;33m)\u001b[0m\u001b[1;33m\u001b[0m\u001b[1;33m\u001b[0m\u001b[0m\n\u001b[0;32m   1120\u001b[0m     \u001b[1;32mif\u001b[0m \u001b[0merror\u001b[0m \u001b[1;32mis\u001b[0m \u001b[1;32mnot\u001b[0m \u001b[1;32mNone\u001b[0m\u001b[1;33m:\u001b[0m\u001b[1;33m\u001b[0m\u001b[1;33m\u001b[0m\u001b[0m\n\u001b[1;32m-> 1121\u001b[1;33m         \u001b[1;32mraise\u001b[0m \u001b[0merror\u001b[0m\u001b[1;33m\u001b[0m\u001b[1;33m\u001b[0m\u001b[0m\n\u001b[0m\u001b[0;32m   1122\u001b[0m \u001b[1;33m\u001b[0m\u001b[0m\n\u001b[0;32m   1123\u001b[0m \u001b[1;33m\u001b[0m\u001b[0m\n",
      "\u001b[1;31mValidationError\u001b[0m: '$dogs' is not one of ['$dog', '$cat']\n\nFailed validating 'enum' in schema['properties']['type']['items']:\n    {'enum': ['$dog', '$cat']}\n\nOn instance['type'][0]:\n    '$dogs'"
     ]
    }
   ],
   "source": [
    "ntv_test = {'family:string' : 'white', \n",
    "            'children': [{':int': 15}, \n",
    "                         21, \n",
    "                         {'walter jr':None}, \n",
    "                         {'judith': 22}]}\n",
    "\n",
    "ntv_schema = {'test::$NTVschema.':\n",
    "                  {'properties.': {\n",
    "                          'family': {\n",
    "                                 ':maxLength': 10}, #no_type\n",
    "                           'children':{  \n",
    "                                 ':maxItems': 5, #no_type\n",
    "                                 'items.': {\n",
    "                                   ':maximum': 25, # no_type, no_name\n",
    "                                   'name.': {':maxLength': 10}}\n",
    "                           }}}}\n",
    "print(ntv_validate(ntv_test, ntv_schema), '\\n')\n",
    "\n",
    "ntv_test2 = {'family:string' : 'white', \n",
    "             'children': [{':int': 15}, \n",
    "                          21, \n",
    "                          {'walter jr':None}, \n",
    "                          {'judith': 22}, \n",
    "                          {'pets':{\n",
    "                              'hector:$dog': 10, \n",
    "                              'tom:$cat': 5}}]}\n",
    "\n",
    "ntv_schema2  = {'test::$NTVschema.':\n",
    "                    {'properties.': {\n",
    "                           'family': {\n",
    "                               ':maxLength': 10,\n",
    "                               'type.': {':const': 'string'} },\n",
    "                           'children':{  \n",
    "                               ':maxItems': 5,\n",
    "                               'items.': {\n",
    "                                   ':maximum': 25,\n",
    "                                   'type.': {':enum': ['json', 'int', '']},\n",
    "                                   'name.': {':maxLength': 10}},\n",
    "                               'prefixItems.':[\n",
    "                                   {'type.': {':const':'int'}}],\n",
    "                               'properties.': {\n",
    "                                   'pets':{\n",
    "                                       'items.':{\n",
    "                                           'type.': {':enum': ['$dog', '$cat']}\n",
    "                                       }\n",
    "                                   }\n",
    "                           }}}}}\n",
    "print(ntv_validate(ntv_test2, ntv_schema2, mode=1))"
   ]
  },
  {
   "cell_type": "code",
   "execution_count": 5,
   "id": "ea399a53",
   "metadata": {},
   "outputs": [],
   "source": [
    "list_ntv_test = [\n",
    " ['',                   '',         ''     , None    , 2],\n",
    " ['/family',            'family',   'thomy', 'string', 1],\n",
    " ['/children',          'children', ''     , None    , 4],\n",
    " ['/children/0',        '',         15     , 'int'   , 1],\n",
    " ['/children/1',        '',         21     , 'json'  , 1],\n",
    " ['/children/simon',    'simon',    None   , 'json'  , 1],\n",
    " ['/children/judith',   'judith',   22     , 'json'  , 1] ]\n",
    "\n",
    "list_ntv_schema = [\n",
    " ['/family',     None,          {':maxLength': 10 }], # ntv_value\n",
    " ['/children',   None,          {':maxItems': 4}], # ntv_value\n",
    " ['/children',   'items.',      {':maximum': 25}], # ntv_value\n",
    " ['/children',   'items.name.', {':maxLength': 10}] ] #ntv_name\n",
    "\n",
    "list_ntv_schema2 = [\n",
    " ['/family',     None,          {':maxLength': 10 }  ],  # ntv_value\n",
    " ['/family',     'type.',       {':const': 'string'} ], # ntv_type\n",
    " ['/children',   None,          {':maxItems': 4}], # ntv_value\n",
    " ['/children',   'items.',      {':maximum': 25} ], # ntv_value\n",
    " ['/children',   'items.type.', {':enum': ['json', 'int']} ], # ntv_type\n",
    " ['/children',   'items.name.', {':maxLength': 10} ], # ntv_name\n",
    " ['/children/0', 'type.',       {':const':'int'}] ] # ntv_type"
   ]
  },
  {
   "cell_type": "markdown",
   "id": "daca0fb0",
   "metadata": {},
   "source": [
    "## Ntv Pointer"
   ]
  },
  {
   "cell_type": "code",
   "execution_count": 11,
   "id": "afc0780b",
   "metadata": {},
   "outputs": [
    {
     "name": "stdout",
     "output_type": "stream",
     "text": [
      "{\"$NTVschema.properties.type.\": {\":$NTVschema.const\": \"string\"}}\n",
      "{\"$NTVschema.properties.type.\": {\":$NTVschema.const\": \"string\"}}\n",
      "{\"family::$NTVschema.properties.\": {\":$NTVschema.maxLength\": 10, \"type.\": {\":$NTVschema.const\": \"string\"}}}\n",
      "{\"family::$NTVschema.properties.\": {\":$NTVschema.maxLength\": 10, \"type.\": {\":$NTVschema.const\": \"string\"}}}\n",
      "{\"family::$NTVschema.properties.\": {\":$NTVschema.maxLength\": 10, \"type.\": {\":$NTVschema.const\": \"string\"}}}\n",
      "{\"family::$NTVschema.properties.\": {\":$NTVschema.maxLength\": 10, \"type.\": {\":$NTVschema.const\": \"string\"}}}\n",
      "{\"family::$NTVschema.properties.\": {\":$NTVschema.maxLength\": 10, \"type.\": {\":$NTVschema.const\": \"string\"}}}\n",
      "{\"family::$NTVschema.properties.\": {\":$NTVschema.maxLength\": 10, \"type.\": {\":$NTVschema.const\": \"string\"}}}\n"
     ]
    }
   ],
   "source": [
    "ntv_sch2 = Ntv.obj(ntv_schema2)\n",
    "print(ntv_sch2['properties.']['family']['type.'])\n",
    "print(ntv_sch2['#test/properties./family/type.'])\n",
    "\n",
    "print(ntv_sch2['properties.']['family'])\n",
    "print(ntv_sch2[0][0])\n",
    "print(ntv_sch2['#0/0/0'])\n",
    "print(ntv_sch2['#test/0/0'])\n",
    "print(ntv_sch2['#test/properties./0'])\n",
    "print(ntv_sch2['#test/properties./family'])"
   ]
  },
  {
   "cell_type": "markdown",
   "id": "006d3dd9",
   "metadata": {},
   "source": [
    "## JsonSchema keywords\n"
   ]
  },
  {
   "cell_type": "markdown",
   "id": "b978735f",
   "metadata": {},
   "source": [
    "### type\n",
    "Type of a value \n",
    "\n",
    "* schema applicable to NTVvalue\n",
    "```json\n",
    "{ \"type\": [\"number\", \"string\"] } check if the NTVvalue is a number or a string\n",
    "```\n",
    "\n",
    "### String type\n",
    "length, format, regex \n",
    "\n",
    "* schema applicable to NTVvalue \n",
    "```json\n",
    "{ \"type\": \"string\", \"minLength\": 2, \"maxLength\": 3 } check the length of the NTVvalue\n",
    "```\n",
    "\n",
    "\n",
    "### Number type\n",
    "multiples, range \n",
    "\n",
    "* schema applicable to NTVvalue\n",
    "```json\n",
    "{ \"type\": \"number\", \"multipleOf\" : 10 } check if the NTVvalue is a multiple of 10\n",
    "```\n"
   ]
  },
  {
   "cell_type": "markdown",
   "id": "1ecc73f8",
   "metadata": {},
   "source": [
    "### Object : properties\n",
    "Schema for a value defined by a name \n",
    "\n",
    "* schema applicable to the NTVvalue of the NTV entity defined by his relative NTV-pointer \n",
    "```json\n",
    "{ \"properties\": { \"street_name\": value_schema } } check the value_schema for the NTVvalue of the NTV entity defined by \"street_name\" (relative NTV-pointer)\n",
    " ```\n",
    "\n",
    "\n",
    "### Object : patternProperties\n",
    "Schema for values defined by a name matches a pattern \n",
    "\n",
    "* schema applicable to the NTVvalue of the NTV entity whose relative NTV-pointer matches a pattern.\n",
    "```json\n",
    "{ \"patternProperties\": { \"^S_\": pat_schema } } check the pat_schema for the NTVvalue of the NTV entity whose relative NTV-pointer matches \"^S_\"\n",
    " ```\n",
    "\n",
    "\n",
    "### Object : additionalProperties\n",
    "Schema for values whose names are not listed in the properties or patternProperties \n",
    "\n",
    "* schema applicable to the NTVvalue of the NTV entity not listed in the properties or patternProperties.\n",
    "```json\n",
    "{ \"additionalProperties\": add_schema } } check the add_schema for the NTVvalue of the NTV entity not listed in the properties or patternProperties.\n",
    " ```\n",
    "\n",
    "\n",
    "### Object : propertyNames\n",
    "Schema for names \n",
    "\n",
    "* schema applicable to the NTVname of the NTV entities \n",
    "```json\n",
    "{ \"propertyNames\": names_schema } check the names_schema for the NTVnames of the NTV entity \n",
    " ```\n",
    "\n",
    "\n",
    "### Object : size\n",
    "Number of properties \n",
    "\n",
    "* Number of NTV entities included in the NTV entity\n",
    "```json\n",
    "{ \"minProperties\": 2, \"maxProperties\": 3 } check the number of NTV entities \n",
    " ```\n",
    "\n",
    "\n",
    "### Object : other\n",
    "Required : applicable,\n",
    "\n",
    "unevaluatedProperties : idem as additionalProperties"
   ]
  },
  {
   "cell_type": "markdown",
   "id": "a7415718",
   "metadata": {},
   "source": [
    "### Array : items\n",
    "Schema for values included in an array \n",
    "\n",
    "* schema applicable to the NTVvalue of the NTV entities included in the NTV entity \n",
    "```json\n",
    "{ \"items\": items_schema } } check the items_schema for the NTVvalue of the NTV entities included in the NTV entity.\n",
    " ```\n",
    "\n",
    "\n",
    "### Array : uniqueItems\n",
    "Schema to ensure that each of the items in an array is unique \n",
    "\n",
    "* schema applicable to the NTVvalue of the NTV entities included in the NTV entity \n",
    "```json\n",
    "{ \"uniqueItems\": true } } check the uniqueness of the NTVvalue of the NTV entities.\n",
    " ```\n",
    "\n",
    "\n",
    "### Array : prefixItems\n",
    "Array of schemas for values included in an array \n",
    "\n",
    "* schemas applicable to the NTVvalue of the NTV entities included in the NTV entity \n",
    "```json\n",
    "{ \"prefixItems\": [ item_schema ] } \n",
    "check the item_schema for the NTVvalue of the corresponding NTV entity included in the NTV entity.\n",
    " ```\n",
    "\n",
    "\n",
    "### Array : contains, maxContains, minContains\n",
    "schema for at least one (or number as defined with maxContains or minContains) value included in an array \n",
    "\n",
    "* schema applicable to the NTVvalues of the NTV entities included in the NTV entity \n",
    "```json\n",
    "{ \"contains\": cont_schema, \"minContains\": 2, \"maxContains\": 3 } \n",
    "check if the cont_schema is valid for 2 or 3 NTVvalue of the NTV entity included.\n",
    " ```\n",
    "\n",
    "\n",
    "### Array : other\n",
    "unevaluatedItems : applies to any NTVvalues not evaluated by an items, prefixItems, or contains keyword.\n",
    "\n",
    "minItems, maxItems : equivalent to minProperties, maxProperties\n"
   ]
  },
  {
   "cell_type": "markdown",
   "id": "34257523",
   "metadata": {},
   "source": [
    "## NTV extension"
   ]
  },
  {
   "cell_type": "markdown",
   "id": "edf77a8f",
   "metadata": {},
   "source": [
    "### xxproperties\n",
    "\"pointer:part\": schema\n",
    "\n",
    "* pointer : relative NTV pointer (integer, NTVname, NTVtype)\n",
    "* part : name, type or value (default)\n",
    "\n",
    "### propertyNames \n",
    "equivalent to items:name\n",
    "\n",
    "### required\n",
    "list of pointers\n",
    "\n",
    "### xxitems\n",
    "\"xxitems:part\": schema\n",
    "\n",
    "### xxcontains\n",
    "\"xxcontains:part\": schema"
   ]
  }
 ],
 "metadata": {
  "kernelspec": {
   "display_name": "Python 3 (ipykernel)",
   "language": "python",
   "name": "python3"
  },
  "language_info": {
   "codemirror_mode": {
    "name": "ipython",
    "version": 3
   },
   "file_extension": ".py",
   "mimetype": "text/x-python",
   "name": "python",
   "nbconvert_exporter": "python",
   "pygments_lexer": "ipython3",
   "version": "3.10.9"
  }
 },
 "nbformat": 4,
 "nbformat_minor": 5
}
