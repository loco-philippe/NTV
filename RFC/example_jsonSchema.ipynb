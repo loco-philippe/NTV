{
 "cells": [
  {
   "cell_type": "markdown",
   "id": "02d9a514",
   "metadata": {},
   "source": [
    "# Example JsonSchema"
   ]
  },
  {
   "cell_type": "code",
   "execution_count": 2,
   "id": "2b57befd",
   "metadata": {},
   "outputs": [],
   "source": [
    "from pprint import pprint\n",
    "from jsonschema import validate\n",
    "from json_ntv import Ntv\n",
    "schema = {\"properties\" : { \"price\" : {\"type\" : \"number\"}}}\n",
    "data = {\"price\": 5}\n",
    "\n",
    "validate(data, schema)"
   ]
  },
  {
   "cell_type": "code",
   "execution_count": 2,
   "id": "570278ab",
   "metadata": {
    "scrolled": true
   },
   "outputs": [
    {
     "name": "stdout",
     "output_type": "stream",
     "text": [
      "D:\\philippe\\python ESstandard\\NTV\\RFC\\NTV_NTVschema_namespace.ini\n"
     ]
    }
   ],
   "source": [
    "import pathlib\n",
    "import json_ntv\n",
    "from json_ntv.namespace import from_file\n",
    "\n",
    "file = pathlib.Path(json_ntv.__file__).parent.parent / \"RFC\" / \"NTV_NTVschema_namespace.ini\"\n",
    "print(file)\n",
    "from_file(file, '$NTVschema.')"
   ]
  },
  {
   "cell_type": "markdown",
   "id": "ab5c0f1b",
   "metadata": {},
   "source": [
    "## JSONschema"
   ]
  },
  {
   "cell_type": "code",
   "execution_count": 3,
   "id": "8c47de8f",
   "metadata": {},
   "outputs": [],
   "source": [
    "json_test = {'family' : 'thomy', 'children': [15, 24, {'simon': None}, {'judith': 22}]}\n",
    "\n",
    "json_schema = {'properties': {'family':{\n",
    "                                    'maxLength':10}, #no_type\n",
    "                              'children':{\n",
    "                                    'maxItems': 4, #no_type\n",
    "                                    'items': {\n",
    "                                        'maximum': 25, \n",
    "                                        'propertyNames': {'maxLength':10}}} # no_type, no_name\n",
    "                              }}\n",
    "validate(json_test, json_schema)"
   ]
  },
  {
   "cell_type": "code",
   "execution_count": 9,
   "id": "1a1fff4d",
   "metadata": {},
   "outputs": [],
   "source": [
    "data = \"thomy\"\n",
    "sch = {'maxLength': 10}\n",
    "validate(data, sch)"
   ]
  },
  {
   "cell_type": "code",
   "execution_count": 18,
   "id": "4e0d9ef9",
   "metadata": {},
   "outputs": [],
   "source": [
    "data = [{\":int\": 15}, 21, {\"simon\": None}, {\"judith\": 22}]\n",
    "data = [15, 21, None, 22]\n",
    "sch = {'maxItems': 4, 'items': {'maximum': 25}}\n",
    "     \n",
    "validate(data, sch)"
   ]
  },
  {
   "cell_type": "code",
   "execution_count": null,
   "id": "48ddcd34",
   "metadata": {},
   "outputs": [],
   "source": []
  },
  {
   "cell_type": "code",
   "execution_count": 4,
   "id": "ede95258",
   "metadata": {},
   "outputs": [],
   "source": [
    "data = 'ertdfghs'\n",
    "sch = {'maximum': 30 }\n",
    "#sch = {'type': 'integer' }\n",
    "#sch = {'maxLength': 5 }\n",
    "\n",
    "validate(data, sch)"
   ]
  },
  {
   "cell_type": "markdown",
   "id": "b618faba",
   "metadata": {},
   "source": [
    "`properties` and `prefixItems` are used to navigate in the Json tree"
   ]
  },
  {
   "cell_type": "code",
   "execution_count": 5,
   "id": "7cda23b9",
   "metadata": {},
   "outputs": [],
   "source": [
    "list_json_test = [\n",
    " ['',                   '',         ''     , 2],\n",
    " ['/family',            'family',   'thomy', 1],\n",
    " ['/children',          'children', ''     , 4],\n",
    " ['/children/0',        '',         15     , 1],\n",
    " ['/children/1',        '',         21     , 1],\n",
    " ['/children/2',        '',         ''     , 1],\n",
    " ['/children/2/simon',  'simon',    None   , 1],\n",
    " ['/children/3',        '',         ''     , 1],\n",
    " ['/children/3/judith', 'judith',   22     , 1] ]\n",
    "\n",
    "list_json_schema = [\n",
    " ['/family',     {'maxLength':10}],\n",
    " ['/children',   {'maxItems': 4, 'items': {'maximum': 25, 'propertyNames': {'maxLength':10}}}] ]"
   ]
  },
  {
   "cell_type": "markdown",
   "id": "cd1ca7b2",
   "metadata": {},
   "source": [
    "## NTVschema"
   ]
  },
  {
   "cell_type": "code",
   "execution_count": 7,
   "id": "796988a2",
   "metadata": {},
   "outputs": [
    {
     "name": "stdout",
     "output_type": "stream",
     "text": [
      "{'E': 'NtvList', 'N': '', 'T': '', 'V': [{'E': 'NtvSingle', 'N': 'family', 'T': 'string', 'V': 'thomy'}, {'E': 'NtvList', 'N': 'children', 'T': '', 'V': [{'E': 'NtvSingle', 'N': '', 'T': 'int', 'V': 15}, {'E': 'NtvSingle', 'N': '', 'T': 'json', 'V': 21}, {'E': 'NtvSingle', 'N': 'simon', 'T': 'json', 'V': None}, {'E': 'NtvSingle', 'N': 'judith', 'T': 'json', 'V': 22}]}]}\n"
     ]
    }
   ],
   "source": [
    "ntv_test = {'family:string' : 'thomy', 'children': [{':int': 15}, 21, {'simon':None}, {'judith': 22}]}\n",
    "\n",
    "ntv_schema = {'test::$NTVschema.':\n",
    "          {'properties.': {'family': {\n",
    "                                  ':maxLength': 10}, #no_type\n",
    "                           'children':{  \n",
    "                                 ':maxItems': 4, #no_type\n",
    "                                 'items.': {\n",
    "                                   ':maximum': 25, # no_type, no_name\n",
    "                                   'name.': {':maxLength': 10}}\n",
    "                           }}}}\n",
    "ntv_schema2 = {'test::$NTVschema.':\n",
    "          {'properties.': {'family': {\n",
    "                               ':maxLength': 10, #no_type\n",
    "                               'type.': {':const': 'string'} }, #no_value\n",
    "                           'children':{  \n",
    "                               ':maxItems': 4, #no_type\n",
    "                               'items.': {\n",
    "                                   ':maximum': 25, # no_type, no_name\n",
    "                                   'type.': {':enum': ['json', 'int']}, #no_value, no_name\n",
    "                                   'name.': {':maxLength': 10}},\n",
    "                               'prefixItems.':[\n",
    "                                   {'type.': {':const':'int'}}]}}}}\n",
    "\n",
    "ntv_tst = Ntv.obj(ntv_test)\n",
    "ntv_sch = Ntv.obj(ntv_schema)\n",
    "ntv_sch2 = Ntv.obj(ntv_schema2)\n",
    "print(ntv_tst.expand())\n",
    "ntv_schema_exp = {'test::$NTVschema.':\n",
    "          {'properties': {'V': {'family': {\n",
    "                                  ':maxLength': 10}, #no_type\n",
    "                           'children':{  \n",
    "                                 ':maxItems': 4, #no_type\n",
    "                                 'items.': {\n",
    "                                   ':maximum': 25, # no_type, no_name\n",
    "                                   'name.': {':maxLength': 10}}\n",
    "                           }}}}"
   ]
  },
  {
   "cell_type": "code",
   "execution_count": null,
   "id": "ea399a53",
   "metadata": {},
   "outputs": [],
   "source": [
    "list_ntv_test = [\n",
    " ['',                   '',         ''     , None    , 2],\n",
    " ['/family',            'family',   'thomy', 'string', 1],\n",
    " ['/children',          'children', ''     , None    , 4],\n",
    " ['/children/0',        '',         15     , 'int'   , 1],\n",
    " ['/children/1',        '',         21     , 'json'  , 1],\n",
    " ['/children/simon',    'simon',    None   , 'json'  , 1],\n",
    " ['/children/judith',   'judith',   22     , 'json'  , 1] ]\n",
    "\n",
    "list_ntv_schema = [\n",
    " ['/family',     None,          {':maxLength': 10 }], # ntv_value\n",
    " ['/children',   None,          {':maxItems': 4}], # ntv_value\n",
    " ['/children',   'items.',      {':maximum': 25}], # ntv_value\n",
    " ['/children',   'items.name.', {':maxLength': 10}] ] #ntv_name\n",
    "\n",
    "list_ntv_schema2 = [\n",
    " ['/family',     None,          {':maxLength': 10 }  ],  # ntv_value\n",
    " ['/family',     'type.',       {':const': 'string'} ], # ntv_type\n",
    " ['/children',   None,          {':maxItems': 4}], # ntv_value\n",
    " ['/children',   'items.',      {':maximum': 25} ], # ntv_value\n",
    " ['/children',   'items.type.', {':enum': ['json', 'int']} ], # ntv_type\n",
    " ['/children',   'items.name.', {':maxLength': 10} ], # ntv_name\n",
    " ['/children/0', 'type.',       {':const':'int'}] ] # ntv_type"
   ]
  },
  {
   "cell_type": "code",
   "execution_count": null,
   "id": "884149b0",
   "metadata": {},
   "outputs": [],
   "source": [
    "from ntv_schema import sh_expand, sh_items\n",
    "\n",
    "children =  [{':int': 15}, 21, {'simon':None}, {'judith': 22}]\n",
    "#child_js = {'value' : [ 15, 21, None, 22], 'name': [ None, None, 'simon', 'judith'], 'type': ['int', 'json', 'json', 'json']}\n",
    "#child_js = sh_expand(Ntv.obj(children))\n",
    "\n",
    "child_sh = {'items.': {':maximum': 25, 'type.': {':enum': ['json', 'int']}, 'name.': {':maxLength': 10}}}\n",
    "child_sh = {'items.': {'maximum': 25, 'type.': {'enum': ['json', 'int']}, 'name.': {'maxLength': 10}}}\n",
    "#child_sj = {'properties': {'value': {'items': {'maximum': 25}}, 'type': {'items': {'enum': ['json', 'int']}},\n",
    "#                           'name': {'items': {'minLength': 2}}}}\n",
    "#child_sj = sh_items(child_sh)\n",
    "validate(sh_expand(Ntv.obj(children)), sh_items(child_sh))"
   ]
  },
  {
   "cell_type": "code",
   "execution_count": null,
   "id": "afc0780b",
   "metadata": {},
   "outputs": [],
   "source": [
    "print(ntv_sch2['properties.']['family']['type.'])\n",
    "print(ntv_sch2['properties.']['family'])\n",
    "print(ntv_sch2[0][0])\n",
    "print(ntv_sch2['#0/0/0'])\n",
    "print(ntv_sch2['#test/0/0'])\n",
    "print(ntv_sch2['#test/properties./0'])\n",
    "print(ntv_sch2['#test/properties./family'])\n",
    "print(ntv_sch2['#test/properties./family/type.'])\n",
    "\n",
    "print(ntv_sch2[0][1][1])"
   ]
  },
  {
   "cell_type": "code",
   "execution_count": null,
   "id": "bde088c2",
   "metadata": {},
   "outputs": [],
   "source": [
    "#print(ntv_schema.no_name())\n",
    "#print(ntv_schema.no_type())\n",
    "pprint(ntv_sch.no_value())\n",
    "#print(ntv_schema.no_value().no_name())\n",
    "#print(ntv_schema.no_name().no_type())\n",
    "sch = Ntv.obj({\"$NTVschema.items.\": {\":$NTVschema.maximum\": 25, \"type.\": {\":$NTVschema.enum\": [\"json\", \"int\"]}, \"name.\": {\":$NTVschema.maxLength\": 10}}})\n",
    "sch"
   ]
  },
  {
   "cell_type": "code",
   "execution_count": null,
   "id": "7073fd1e",
   "metadata": {},
   "outputs": [],
   "source": [
    "print(ntv_sch.only_type())\n",
    "print(ntv_sch.only_name())\n",
    "print(ntv_sch.only_value())"
   ]
  },
  {
   "cell_type": "code",
   "execution_count": null,
   "id": "2d399c92",
   "metadata": {},
   "outputs": [],
   "source": [
    "print(ntv_tst.no_name())\n",
    "print(ntv_tst.no_type())\n",
    "print(ntv_tst.no_value())\n",
    "print(ntv_tst.no_value().no_name())\n",
    "print(ntv_tst.no_name().no_type())"
   ]
  },
  {
   "cell_type": "code",
   "execution_count": null,
   "id": "2ff6ae37",
   "metadata": {},
   "outputs": [],
   "source": [
    "print(ntv_tst.only_type())\n",
    "print(ntv_tst.only_name())\n",
    "print(ntv_tst.only_value())"
   ]
  },
  {
   "cell_type": "markdown",
   "id": "006d3dd9",
   "metadata": {},
   "source": [
    "## JsonSchema keywords\n"
   ]
  },
  {
   "cell_type": "markdown",
   "id": "b978735f",
   "metadata": {},
   "source": [
    "### type\n",
    "Type of a value \n",
    "\n",
    "* schema applicable to NTVvalue\n",
    "```json\n",
    "{ \"type\": [\"number\", \"string\"] } check if the NTVvalue is a number or a string\n",
    "```\n",
    "\n",
    "### String type\n",
    "length, format, regex \n",
    "\n",
    "* schema applicable to NTVvalue \n",
    "```json\n",
    "{ \"type\": \"string\", \"minLength\": 2, \"maxLength\": 3 } check the length of the NTVvalue\n",
    "```\n",
    "\n",
    "\n",
    "### Number type\n",
    "multiples, range \n",
    "\n",
    "* schema applicable to NTVvalue\n",
    "```json\n",
    "{ \"type\": \"number\", \"multipleOf\" : 10 } check if the NTVvalue is a multiple of 10\n",
    "```\n"
   ]
  },
  {
   "cell_type": "markdown",
   "id": "1ecc73f8",
   "metadata": {},
   "source": [
    "### Object : properties\n",
    "Schema for a value defined by a name \n",
    "\n",
    "* schema applicable to the NTVvalue of the NTV entity defined by his relative NTV-pointer \n",
    "```json\n",
    "{ \"properties\": { \"street_name\": value_schema } } check the value_schema for the NTVvalue of the NTV entity defined by \"street_name\" (relative NTV-pointer)\n",
    " ```\n",
    "\n",
    "\n",
    "### Object : patternProperties\n",
    "Schema for values defined by a name matches a pattern \n",
    "\n",
    "* schema applicable to the NTVvalue of the NTV entity whose relative NTV-pointer matches a pattern.\n",
    "```json\n",
    "{ \"patternProperties\": { \"^S_\": pat_schema } } check the pat_schema for the NTVvalue of the NTV entity whose relative NTV-pointer matches \"^S_\"\n",
    " ```\n",
    "\n",
    "\n",
    "### Object : additionalProperties\n",
    "Schema for values whose names are not listed in the properties or patternProperties \n",
    "\n",
    "* schema applicable to the NTVvalue of the NTV entity not listed in the properties or patternProperties.\n",
    "```json\n",
    "{ \"additionalProperties\": add_schema } } check the add_schema for the NTVvalue of the NTV entity not listed in the properties or patternProperties.\n",
    " ```\n",
    "\n",
    "\n",
    "### Object : propertyNames\n",
    "Schema for names \n",
    "\n",
    "* schema applicable to the NTVname of the NTV entities \n",
    "```json\n",
    "{ \"propertyNames\": names_schema } check the names_schema for the NTVnames of the NTV entity \n",
    " ```\n",
    "\n",
    "\n",
    "### Object : size\n",
    "Number of properties \n",
    "\n",
    "* Number of NTV entities included in the NTV entity\n",
    "```json\n",
    "{ \"minProperties\": 2, \"maxProperties\": 3 } check the number of NTV entities \n",
    " ```\n",
    "\n",
    "\n",
    "### Object : other\n",
    "Required : applicable,\n",
    "\n",
    "unevaluatedProperties : idem as additionalProperties"
   ]
  },
  {
   "cell_type": "markdown",
   "id": "a7415718",
   "metadata": {},
   "source": [
    "### Array : items\n",
    "Schema for values included in an array \n",
    "\n",
    "* schema applicable to the NTVvalue of the NTV entities included in the NTV entity \n",
    "```json\n",
    "{ \"items\": items_schema } } check the items_schema for the NTVvalue of the NTV entities included in the NTV entity.\n",
    " ```\n",
    "\n",
    "\n",
    "### Array : uniqueItems\n",
    "Schema to ensure that each of the items in an array is unique \n",
    "\n",
    "* schema applicable to the NTVvalue of the NTV entities included in the NTV entity \n",
    "```json\n",
    "{ \"uniqueItems\": true } } check the uniqueness of the NTVvalue of the NTV entities.\n",
    " ```\n",
    "\n",
    "\n",
    "### Array : prefixItems\n",
    "Array of schemas for values included in an array \n",
    "\n",
    "* schemas applicable to the NTVvalue of the NTV entities included in the NTV entity \n",
    "```json\n",
    "{ \"prefixItems\": [ item_schema ] } \n",
    "check the item_schema for the NTVvalue of the corresponding NTV entity included in the NTV entity.\n",
    " ```\n",
    "\n",
    "\n",
    "### Array : contains, maxContains, minContains\n",
    "schema for at least one (or number as defined with maxContains or minContains) value included in an array \n",
    "\n",
    "* schema applicable to the NTVvalues of the NTV entities included in the NTV entity \n",
    "```json\n",
    "{ \"contains\": cont_schema, \"minContains\": 2, \"maxContains\": 3 } \n",
    "check if the cont_schema is valid for 2 or 3 NTVvalue of the NTV entity included.\n",
    " ```\n",
    "\n",
    "\n",
    "### Array : other\n",
    "unevaluatedItems : applies to any NTVvalues not evaluated by an items, prefixItems, or contains keyword.\n",
    "\n",
    "minItems, maxItems : equivalent to minProperties, maxProperties\n"
   ]
  },
  {
   "cell_type": "markdown",
   "id": "34257523",
   "metadata": {},
   "source": [
    "## NTV extension"
   ]
  },
  {
   "cell_type": "markdown",
   "id": "edf77a8f",
   "metadata": {},
   "source": [
    "### xxproperties\n",
    "\"pointer:part\": schema\n",
    "\n",
    "* pointer : relative NTV pointer (integer, NTVname, NTVtype)\n",
    "* part : name, type or value (default)\n",
    "\n",
    "### propertyNames \n",
    "equivalent to items:name\n",
    "\n",
    "### required\n",
    "list of pointers\n",
    "\n",
    "### xxitems\n",
    "\"xxitems:part\": schema\n",
    "\n",
    "### xxcontains\n",
    "\"xxcontains:part\": schema"
   ]
  }
 ],
 "metadata": {
  "kernelspec": {
   "display_name": "Python 3 (ipykernel)",
   "language": "python",
   "name": "python3"
  },
  "language_info": {
   "codemirror_mode": {
    "name": "ipython",
    "version": 3
   },
   "file_extension": ".py",
   "mimetype": "text/x-python",
   "name": "python",
   "nbconvert_exporter": "python",
   "pygments_lexer": "ipython3",
   "version": "3.10.9"
  }
 },
 "nbformat": 4,
 "nbformat_minor": 5
}
