{
 "cells": [
  {
   "cell_type": "markdown",
   "id": "02d9a514",
   "metadata": {},
   "source": [
    "# Example JsonSchema"
   ]
  },
  {
   "cell_type": "code",
   "execution_count": 1,
   "id": "2b57befd",
   "metadata": {},
   "outputs": [],
   "source": [
    "from pprint import pprint\n",
    "from jsonschema import validate\n",
    "from json_ntv import Ntv\n",
    "schema = {\"properties\" : { \"price\" : {\"type\" : \"number\"}}}\n",
    "data = {\"price\": 5}\n",
    "\n",
    "validate(data, schema)"
   ]
  },
  {
   "cell_type": "code",
   "execution_count": 2,
   "id": "6be35d34",
   "metadata": {},
   "outputs": [
    {
     "ename": "JSONDecodeError",
     "evalue": "Expecting value: line 1 column 2 (char 1)",
     "output_type": "error",
     "traceback": [
      "\u001b[1;31m---------------------------------------------------------------------------\u001b[0m",
      "\u001b[1;31mJSONDecodeError\u001b[0m                           Traceback (most recent call last)",
      "\u001b[1;32m~\\AppData\\Local\\Temp\\ipykernel_28004\\3385697830.py\u001b[0m in \u001b[0;36m<module>\u001b[1;34m\u001b[0m\n\u001b[0;32m      4\u001b[0m \u001b[1;33m\u001b[0m\u001b[0m\n\u001b[0;32m      5\u001b[0m \u001b[0mfile\u001b[0m \u001b[1;33m=\u001b[0m \u001b[0mpathlib\u001b[0m\u001b[1;33m.\u001b[0m\u001b[0mPath\u001b[0m\u001b[1;33m(\u001b[0m\u001b[0mjson_ntv\u001b[0m\u001b[1;33m.\u001b[0m\u001b[0m__file__\u001b[0m\u001b[1;33m)\u001b[0m\u001b[1;33m.\u001b[0m\u001b[0mparent\u001b[0m\u001b[1;33m.\u001b[0m\u001b[0mparent\u001b[0m \u001b[1;33m/\u001b[0m \u001b[1;34m\"RFC\"\u001b[0m \u001b[1;33m/\u001b[0m \u001b[1;34m\"NTV_NTVschema_namespace.ini\"\u001b[0m\u001b[1;33m\u001b[0m\u001b[1;33m\u001b[0m\u001b[0m\n\u001b[1;32m----> 6\u001b[1;33m \u001b[0mfrom_file\u001b[0m\u001b[1;33m(\u001b[0m\u001b[0mfile\u001b[0m\u001b[1;33m,\u001b[0m \u001b[1;34m'$NTVschema.'\u001b[0m\u001b[1;33m)\u001b[0m\u001b[1;33m\u001b[0m\u001b[1;33m\u001b[0m\u001b[0m\n\u001b[0m",
      "\u001b[1;32mD:\\philippe\\python ESstandard\\NTV\\json_ntv\\namespace.py\u001b[0m in \u001b[0;36mfrom_file\u001b[1;34m(file, name, long_parent)\u001b[0m\n\u001b[0;32m     81\u001b[0m     \u001b[1;32mif\u001b[0m \u001b[1;32mnot\u001b[0m \u001b[0mname\u001b[0m \u001b[1;32min\u001b[0m \u001b[0mconfig\u001b[0m\u001b[1;33m.\u001b[0m\u001b[0msections\u001b[0m\u001b[1;33m(\u001b[0m\u001b[1;33m)\u001b[0m\u001b[1;33m:\u001b[0m\u001b[1;33m\u001b[0m\u001b[1;33m\u001b[0m\u001b[0m\n\u001b[0;32m     82\u001b[0m         \u001b[1;32mraise\u001b[0m \u001b[0mDatatypeError\u001b[0m\u001b[1;33m(\u001b[0m\u001b[0mname\u001b[0m \u001b[1;33m+\u001b[0m \u001b[1;34m' is not present in '\u001b[0m \u001b[1;33m+\u001b[0m \u001b[0mfile\u001b[0m \u001b[1;33m)\u001b[0m\u001b[1;33m\u001b[0m\u001b[1;33m\u001b[0m\u001b[0m\n\u001b[1;32m---> 83\u001b[1;33m     \u001b[0m_add_namespace\u001b[0m\u001b[1;33m(\u001b[0m\u001b[0mconfig\u001b[0m\u001b[1;33m,\u001b[0m \u001b[0mschema_nsp\u001b[0m\u001b[1;33m)\u001b[0m\u001b[1;33m\u001b[0m\u001b[1;33m\u001b[0m\u001b[0m\n\u001b[0m\u001b[0;32m     84\u001b[0m \u001b[1;33m\u001b[0m\u001b[0m\n\u001b[0;32m     85\u001b[0m \u001b[1;32mdef\u001b[0m \u001b[0mrelative_type\u001b[0m\u001b[1;33m(\u001b[0m\u001b[0mstr_def\u001b[0m\u001b[1;33m,\u001b[0m \u001b[0mstr_typ\u001b[0m\u001b[1;33m)\u001b[0m\u001b[1;33m:\u001b[0m\u001b[1;33m\u001b[0m\u001b[1;33m\u001b[0m\u001b[0m\n",
      "\u001b[1;32mD:\\philippe\\python ESstandard\\NTV\\json_ntv\\namespace.py\u001b[0m in \u001b[0;36m_add_namespace\u001b[1;34m(config, namesp)\u001b[0m\n\u001b[0;32m    133\u001b[0m             \u001b[1;32mfor\u001b[0m \u001b[0mnspname\u001b[0m \u001b[1;32min\u001b[0m \u001b[0mjson\u001b[0m\u001b[1;33m.\u001b[0m\u001b[0mloads\u001b[0m\u001b[1;33m(\u001b[0m\u001b[0mconfname\u001b[0m\u001b[1;33m[\u001b[0m\u001b[1;34m'namespace'\u001b[0m\u001b[1;33m]\u001b[0m\u001b[1;33m)\u001b[0m\u001b[1;33m:\u001b[0m\u001b[1;33m\u001b[0m\u001b[1;33m\u001b[0m\u001b[0m\n\u001b[0;32m    134\u001b[0m                 \u001b[0mnsp\u001b[0m \u001b[1;33m=\u001b[0m \u001b[0mNamespace\u001b[0m\u001b[1;33m(\u001b[0m\u001b[0mnspname\u001b[0m\u001b[1;33m,\u001b[0m \u001b[0mnamesp\u001b[0m\u001b[1;33m,\u001b[0m \u001b[0mforce\u001b[0m\u001b[1;33m=\u001b[0m\u001b[1;32mTrue\u001b[0m\u001b[1;33m)\u001b[0m\u001b[1;33m\u001b[0m\u001b[1;33m\u001b[0m\u001b[0m\n\u001b[1;32m--> 135\u001b[1;33m                 \u001b[0m_add_namespace\u001b[0m\u001b[1;33m(\u001b[0m\u001b[0mconfig\u001b[0m\u001b[1;33m,\u001b[0m \u001b[0mnsp\u001b[0m\u001b[1;33m)\u001b[0m\u001b[1;33m\u001b[0m\u001b[1;33m\u001b[0m\u001b[0m\n\u001b[0m\u001b[0;32m    136\u001b[0m         \u001b[1;32mif\u001b[0m \u001b[1;34m'type'\u001b[0m \u001b[1;32min\u001b[0m \u001b[0mconfname\u001b[0m\u001b[1;33m:\u001b[0m\u001b[1;33m\u001b[0m\u001b[1;33m\u001b[0m\u001b[0m\n\u001b[0;32m    137\u001b[0m             \u001b[1;32mfor\u001b[0m \u001b[0mtyp\u001b[0m \u001b[1;32min\u001b[0m \u001b[0mjson\u001b[0m\u001b[1;33m.\u001b[0m\u001b[0mloads\u001b[0m\u001b[1;33m(\u001b[0m\u001b[0mconfname\u001b[0m\u001b[1;33m[\u001b[0m\u001b[1;34m'type'\u001b[0m\u001b[1;33m]\u001b[0m\u001b[1;33m)\u001b[0m\u001b[1;33m:\u001b[0m\u001b[1;33m\u001b[0m\u001b[1;33m\u001b[0m\u001b[0m\n",
      "\u001b[1;32mD:\\philippe\\python ESstandard\\NTV\\json_ntv\\namespace.py\u001b[0m in \u001b[0;36m_add_namespace\u001b[1;34m(config, namesp)\u001b[0m\n\u001b[0;32m    135\u001b[0m                 \u001b[0m_add_namespace\u001b[0m\u001b[1;33m(\u001b[0m\u001b[0mconfig\u001b[0m\u001b[1;33m,\u001b[0m \u001b[0mnsp\u001b[0m\u001b[1;33m)\u001b[0m\u001b[1;33m\u001b[0m\u001b[1;33m\u001b[0m\u001b[0m\n\u001b[0;32m    136\u001b[0m         \u001b[1;32mif\u001b[0m \u001b[1;34m'type'\u001b[0m \u001b[1;32min\u001b[0m \u001b[0mconfname\u001b[0m\u001b[1;33m:\u001b[0m\u001b[1;33m\u001b[0m\u001b[1;33m\u001b[0m\u001b[0m\n\u001b[1;32m--> 137\u001b[1;33m             \u001b[1;32mfor\u001b[0m \u001b[0mtyp\u001b[0m \u001b[1;32min\u001b[0m \u001b[0mjson\u001b[0m\u001b[1;33m.\u001b[0m\u001b[0mloads\u001b[0m\u001b[1;33m(\u001b[0m\u001b[0mconfname\u001b[0m\u001b[1;33m[\u001b[0m\u001b[1;34m'type'\u001b[0m\u001b[1;33m]\u001b[0m\u001b[1;33m)\u001b[0m\u001b[1;33m:\u001b[0m\u001b[1;33m\u001b[0m\u001b[1;33m\u001b[0m\u001b[0m\n\u001b[0m\u001b[0;32m    138\u001b[0m                 \u001b[0mDatatype\u001b[0m\u001b[1;33m(\u001b[0m\u001b[0mtyp\u001b[0m\u001b[1;33m,\u001b[0m \u001b[0mnamesp\u001b[0m\u001b[1;33m,\u001b[0m \u001b[0mforce\u001b[0m\u001b[1;33m=\u001b[0m\u001b[1;32mTrue\u001b[0m\u001b[1;33m)\u001b[0m\u001b[1;33m\u001b[0m\u001b[1;33m\u001b[0m\u001b[0m\n\u001b[0;32m    139\u001b[0m \u001b[1;33m\u001b[0m\u001b[0m\n",
      "\u001b[1;32mC:\\Opensource\\anaconda3\\envs\\observ_v10_20230430\\lib\\json\\__init__.py\u001b[0m in \u001b[0;36mloads\u001b[1;34m(s, cls, object_hook, parse_float, parse_int, parse_constant, object_pairs_hook, **kw)\u001b[0m\n\u001b[0;32m    344\u001b[0m             \u001b[0mparse_int\u001b[0m \u001b[1;32mis\u001b[0m \u001b[1;32mNone\u001b[0m \u001b[1;32mand\u001b[0m \u001b[0mparse_float\u001b[0m \u001b[1;32mis\u001b[0m \u001b[1;32mNone\u001b[0m \u001b[1;32mand\u001b[0m\u001b[1;33m\u001b[0m\u001b[1;33m\u001b[0m\u001b[0m\n\u001b[0;32m    345\u001b[0m             parse_constant is None and object_pairs_hook is None and not kw):\n\u001b[1;32m--> 346\u001b[1;33m         \u001b[1;32mreturn\u001b[0m \u001b[0m_default_decoder\u001b[0m\u001b[1;33m.\u001b[0m\u001b[0mdecode\u001b[0m\u001b[1;33m(\u001b[0m\u001b[0ms\u001b[0m\u001b[1;33m)\u001b[0m\u001b[1;33m\u001b[0m\u001b[1;33m\u001b[0m\u001b[0m\n\u001b[0m\u001b[0;32m    347\u001b[0m     \u001b[1;32mif\u001b[0m \u001b[0mcls\u001b[0m \u001b[1;32mis\u001b[0m \u001b[1;32mNone\u001b[0m\u001b[1;33m:\u001b[0m\u001b[1;33m\u001b[0m\u001b[1;33m\u001b[0m\u001b[0m\n\u001b[0;32m    348\u001b[0m         \u001b[0mcls\u001b[0m \u001b[1;33m=\u001b[0m \u001b[0mJSONDecoder\u001b[0m\u001b[1;33m\u001b[0m\u001b[1;33m\u001b[0m\u001b[0m\n",
      "\u001b[1;32mC:\\Opensource\\anaconda3\\envs\\observ_v10_20230430\\lib\\json\\decoder.py\u001b[0m in \u001b[0;36mdecode\u001b[1;34m(self, s, _w)\u001b[0m\n\u001b[0;32m    335\u001b[0m \u001b[1;33m\u001b[0m\u001b[0m\n\u001b[0;32m    336\u001b[0m         \"\"\"\n\u001b[1;32m--> 337\u001b[1;33m         \u001b[0mobj\u001b[0m\u001b[1;33m,\u001b[0m \u001b[0mend\u001b[0m \u001b[1;33m=\u001b[0m \u001b[0mself\u001b[0m\u001b[1;33m.\u001b[0m\u001b[0mraw_decode\u001b[0m\u001b[1;33m(\u001b[0m\u001b[0ms\u001b[0m\u001b[1;33m,\u001b[0m \u001b[0midx\u001b[0m\u001b[1;33m=\u001b[0m\u001b[0m_w\u001b[0m\u001b[1;33m(\u001b[0m\u001b[0ms\u001b[0m\u001b[1;33m,\u001b[0m \u001b[1;36m0\u001b[0m\u001b[1;33m)\u001b[0m\u001b[1;33m.\u001b[0m\u001b[0mend\u001b[0m\u001b[1;33m(\u001b[0m\u001b[1;33m)\u001b[0m\u001b[1;33m)\u001b[0m\u001b[1;33m\u001b[0m\u001b[1;33m\u001b[0m\u001b[0m\n\u001b[0m\u001b[0;32m    338\u001b[0m         \u001b[0mend\u001b[0m \u001b[1;33m=\u001b[0m \u001b[0m_w\u001b[0m\u001b[1;33m(\u001b[0m\u001b[0ms\u001b[0m\u001b[1;33m,\u001b[0m \u001b[0mend\u001b[0m\u001b[1;33m)\u001b[0m\u001b[1;33m.\u001b[0m\u001b[0mend\u001b[0m\u001b[1;33m(\u001b[0m\u001b[1;33m)\u001b[0m\u001b[1;33m\u001b[0m\u001b[1;33m\u001b[0m\u001b[0m\n\u001b[0;32m    339\u001b[0m         \u001b[1;32mif\u001b[0m \u001b[0mend\u001b[0m \u001b[1;33m!=\u001b[0m \u001b[0mlen\u001b[0m\u001b[1;33m(\u001b[0m\u001b[0ms\u001b[0m\u001b[1;33m)\u001b[0m\u001b[1;33m:\u001b[0m\u001b[1;33m\u001b[0m\u001b[1;33m\u001b[0m\u001b[0m\n",
      "\u001b[1;32mC:\\Opensource\\anaconda3\\envs\\observ_v10_20230430\\lib\\json\\decoder.py\u001b[0m in \u001b[0;36mraw_decode\u001b[1;34m(self, s, idx)\u001b[0m\n\u001b[0;32m    353\u001b[0m             \u001b[0mobj\u001b[0m\u001b[1;33m,\u001b[0m \u001b[0mend\u001b[0m \u001b[1;33m=\u001b[0m \u001b[0mself\u001b[0m\u001b[1;33m.\u001b[0m\u001b[0mscan_once\u001b[0m\u001b[1;33m(\u001b[0m\u001b[0ms\u001b[0m\u001b[1;33m,\u001b[0m \u001b[0midx\u001b[0m\u001b[1;33m)\u001b[0m\u001b[1;33m\u001b[0m\u001b[1;33m\u001b[0m\u001b[0m\n\u001b[0;32m    354\u001b[0m         \u001b[1;32mexcept\u001b[0m \u001b[0mStopIteration\u001b[0m \u001b[1;32mas\u001b[0m \u001b[0merr\u001b[0m\u001b[1;33m:\u001b[0m\u001b[1;33m\u001b[0m\u001b[1;33m\u001b[0m\u001b[0m\n\u001b[1;32m--> 355\u001b[1;33m             \u001b[1;32mraise\u001b[0m \u001b[0mJSONDecodeError\u001b[0m\u001b[1;33m(\u001b[0m\u001b[1;34m\"Expecting value\"\u001b[0m\u001b[1;33m,\u001b[0m \u001b[0ms\u001b[0m\u001b[1;33m,\u001b[0m \u001b[0merr\u001b[0m\u001b[1;33m.\u001b[0m\u001b[0mvalue\u001b[0m\u001b[1;33m)\u001b[0m \u001b[1;32mfrom\u001b[0m \u001b[1;32mNone\u001b[0m\u001b[1;33m\u001b[0m\u001b[1;33m\u001b[0m\u001b[0m\n\u001b[0m\u001b[0;32m    356\u001b[0m         \u001b[1;32mreturn\u001b[0m \u001b[0mobj\u001b[0m\u001b[1;33m,\u001b[0m \u001b[0mend\u001b[0m\u001b[1;33m\u001b[0m\u001b[1;33m\u001b[0m\u001b[0m\n",
      "\u001b[1;31mJSONDecodeError\u001b[0m: Expecting value: line 1 column 2 (char 1)"
     ]
    }
   ],
   "source": [
    "import pathlib\n",
    "import json_ntv\n",
    "from json_ntv.namespace import from_file\n",
    "\n",
    "file = pathlib.Path(json_ntv.__file__).parent.parent / \"RFC\" / \"NTV_NTVschema_namespace.ini\"\n",
    "from_file(file, '$NTVschema.')"
   ]
  },
  {
   "cell_type": "markdown",
   "id": "d9142e43",
   "metadata": {},
   "source": [
    "## JSONschema"
   ]
  },
  {
   "cell_type": "code",
   "execution_count": null,
   "id": "c3b1f5e5",
   "metadata": {},
   "outputs": [],
   "source": [
    "test = {'family' : 'thomy', 'children': [15, 24, {'simon': None}, {'judith': 22}]}\n",
    "\n",
    "json_schema = {'properties': {'family':{\n",
    "                                    'maxLength':10}, #no_type\n",
    "                              'children':{\n",
    "                                    'maxItems': 4, #no_type\n",
    "                                    'items': {\n",
    "                                        'maximum': 25, \n",
    "                                        'propertyNames': {'maxLength':10}}} # no_type, no_name\n",
    "                              }}\n",
    "validate(test, json_schema)"
   ]
  },
  {
   "cell_type": "markdown",
   "id": "3a54ed99",
   "metadata": {},
   "source": [
    "`properties` and `prefixItems` are used to navigate in the Json tree"
   ]
  },
  {
   "cell_type": "code",
   "execution_count": null,
   "id": "7de86787",
   "metadata": {},
   "outputs": [],
   "source": [
    "list_test = [\n",
    " ['',                   '',         ''     , 2],\n",
    " ['/family',            'family',   'thomy', 1],\n",
    " ['/children',          'children', ''     , 4],\n",
    " ['/children/0',        '',         15     , 1],\n",
    " ['/children/1',        '',         21     , 1],\n",
    " ['/children/2',        '',         ''     , 1],\n",
    " ['/children/2/simon',  'simon',    None   , 1],\n",
    " ['/children/3',        '',         ''     , 1],\n",
    " ['/children/3/judith', 'judith',   22     , 1] ]\n",
    "\n",
    "list_schema = [\n",
    " ['/family',     {'maxLength':10}],\n",
    " ['/children',   {'maxItems': 4, 'items': {'maximum': 25, 'propertyNames': {'maxLength':10}}}] ]"
   ]
  },
  {
   "cell_type": "markdown",
   "id": "6675bca5",
   "metadata": {},
   "source": [
    "## NTVschema"
   ]
  },
  {
   "cell_type": "code",
   "execution_count": null,
   "id": "796988a2",
   "metadata": {},
   "outputs": [],
   "source": [
    "test = {'family:string' : 'thomy', 'children': [{':int': 15}, 21, {'simon':None}, {'judith': 22}]}\n",
    "\n",
    "schema = {'test::$NTVschema.':\n",
    "          {'properties.': {'family': {\n",
    "                                  ':maxLength': 10}, #no_type\n",
    "                           'children':{  \n",
    "                                 ':maxItems': 4, #no_type\n",
    "                                 'items.': {\n",
    "                                   ':maximum': 25, # no_type, no_name\n",
    "                                   'name.': {':maxLength': 10}}\n",
    "                           }}}}\n",
    "schema = {'test::$NTVschema.':\n",
    "          {'properties.': {'family': {\n",
    "                               ':maxLength': 10, #no_type\n",
    "                               'type.': {':const': 'string'} }, #no_value\n",
    "                           'children':{  \n",
    "                               ':maxItems': 4, #no_type\n",
    "                               'items.': {\n",
    "                                   ':maximum': 25, # no_type, no_name\n",
    "                                   'type.': {':enum': ['json', 'int']}, #no_value, no_name\n",
    "                                   'name.': {':maxLength': 10}},\n",
    "                               'prefixItems.':[\n",
    "                                   {'type.': {':const':'int'}}]}}}}\n",
    "\n",
    "ntv_test = Ntv.obj(test)\n",
    "ntv_schema = Ntv.obj(schema)"
   ]
  },
  {
   "cell_type": "code",
   "execution_count": null,
   "id": "f28aab4c",
   "metadata": {},
   "outputs": [],
   "source": [
    "ntv_test = [\n",
    " ['',                   '',         ''     , None    , 2],\n",
    " ['/family',            'family',   'thomy', 'string', 1],\n",
    " ['/children',          'children', ''     , None    , 4],\n",
    " ['/children/0',        '',         15     , 'int'   , 1],\n",
    " ['/children/1',        '',         21     , 'json'  , 1],\n",
    " ['/children/simon',    'simon',    None   , 'json'  , 1],\n",
    " ['/children/judith',   'judith',   22     , 'json'  , 1] ]\n",
    "\n",
    "list_schema = [\n",
    " ['/family',     None,          {':maxLength': 10 }  ], \n",
    " ['/family',     'type.',       {':const': 'string'} ],\n",
    " ['/children',   None,          {':maxItems': 4}],\n",
    " ['/children',   'items.',      {':maximum': 25} ],\n",
    " ['/children',   'items.type.', {':enum': ['json', 'int']} ], \n",
    " ['/children',   'items.name.', {':maxLength': 10} ], \n",
    " ['/children/0', 'type.',       {':const':'int'}] ]"
   ]
  },
  {
   "cell_type": "code",
   "execution_count": null,
   "id": "0a9936ef",
   "metadata": {},
   "outputs": [],
   "source": [
    "print(ntv_schema['properties.']['family::type.'])\n",
    "print(ntv_schema['properties.']['family'])\n",
    "print(ntv_schema[0][0])\n",
    "print(ntv_schema['#0/0/0'])\n",
    "print(ntv_schema['#test/0/0'])\n",
    "print(ntv_schema['#test/properties./0'])\n",
    "print(ntv_schema['#test/properties./family'])\n",
    "print(ntv_schema['#test/properties./family::type.'])\n",
    "\n",
    "print(ntv_schema[0][2][1])"
   ]
  },
  {
   "cell_type": "code",
   "execution_count": null,
   "id": "bde088c2",
   "metadata": {},
   "outputs": [],
   "source": [
    "#print(ntv_schema.no_name())\n",
    "#print(ntv_schema.no_type())\n",
    "pprint(ntv_schema.no_value())\n",
    "#print(ntv_schema.no_value().no_name())\n",
    "#print(ntv_schema.no_name().no_type())"
   ]
  },
  {
   "cell_type": "code",
   "execution_count": null,
   "id": "f5f8030c",
   "metadata": {},
   "outputs": [],
   "source": [
    "print(ntv_schema.only_type())\n",
    "print(ntv_schema.only_name())\n",
    "print(ntv_schema.only_value())"
   ]
  },
  {
   "cell_type": "code",
   "execution_count": null,
   "id": "7cb50720",
   "metadata": {},
   "outputs": [],
   "source": [
    "print(ntv_test.no_name())\n",
    "print(ntv_test.no_type())\n",
    "print(ntv_test.no_value())\n",
    "print(ntv_test.no_value().no_name())\n",
    "print(ntv_test.no_name().no_type())"
   ]
  },
  {
   "cell_type": "code",
   "execution_count": null,
   "id": "2ff6ae37",
   "metadata": {},
   "outputs": [],
   "source": [
    "print(ntv_test.only_type())\n",
    "print(ntv_test.only_name())\n",
    "print(ntv_test.only_value())"
   ]
  },
  {
   "cell_type": "markdown",
   "id": "006d3dd9",
   "metadata": {},
   "source": [
    "## JsonSchema keywords\n"
   ]
  },
  {
   "cell_type": "markdown",
   "id": "b978735f",
   "metadata": {},
   "source": [
    "### type\n",
    "Type of a value \n",
    "\n",
    "* schema applicable to NTVvalue\n",
    "```json\n",
    "{ \"type\": [\"number\", \"string\"] } check if the NTVvalue is a number or a string\n",
    "```\n",
    "\n",
    "### String type\n",
    "length, format, regex \n",
    "\n",
    "* schema applicable to NTVvalue \n",
    "```json\n",
    "{ \"type\": \"string\", \"minLength\": 2, \"maxLength\": 3 } check the length of the NTVvalue\n",
    "```\n",
    "\n",
    "\n",
    "### Number type\n",
    "multiples, range \n",
    "\n",
    "* schema applicable to NTVvalue\n",
    "```json\n",
    "{ \"type\": \"number\", \"multipleOf\" : 10 } check if the NTVvalue is a multiple of 10\n",
    "```\n"
   ]
  },
  {
   "cell_type": "markdown",
   "id": "1ecc73f8",
   "metadata": {},
   "source": [
    "### Object : properties\n",
    "Schema for a value defined by a name \n",
    "\n",
    "* schema applicable to the NTVvalue of the NTV entity defined by his relative NTV-pointer \n",
    "```json\n",
    "{ \"properties\": { \"street_name\": value_schema } } check the value_schema for the NTVvalue of the NTV entity defined by \"street_name\" (relative NTV-pointer)\n",
    " ```\n",
    "\n",
    "\n",
    "### Object : patternProperties\n",
    "Schema for values defined by a name matches a pattern \n",
    "\n",
    "* schema applicable to the NTVvalue of the NTV entity whose relative NTV-pointer matches a pattern.\n",
    "```json\n",
    "{ \"patternProperties\": { \"^S_\": pat_schema } } check the pat_schema for the NTVvalue of the NTV entity whose relative NTV-pointer matches \"^S_\"\n",
    " ```\n",
    "\n",
    "\n",
    "### Object : additionalProperties\n",
    "Schema for values whose names are not listed in the properties or patternProperties \n",
    "\n",
    "* schema applicable to the NTVvalue of the NTV entity not listed in the properties or patternProperties.\n",
    "```json\n",
    "{ \"additionalProperties\": add_schema } } check the add_schema for the NTVvalue of the NTV entity not listed in the properties or patternProperties.\n",
    " ```\n",
    "\n",
    "\n",
    "### Object : propertyNames\n",
    "Schema for names \n",
    "\n",
    "* schema applicable to the NTVname of the NTV entities \n",
    "```json\n",
    "{ \"propertyNames\": names_schema } check the names_schema for the NTVnames of the NTV entity \n",
    " ```\n",
    "\n",
    "\n",
    "### Object : size\n",
    "Number of properties \n",
    "\n",
    "* Number of NTV entities included in the NTV entity\n",
    "```json\n",
    "{ \"minProperties\": 2, \"maxProperties\": 3 } check the number of NTV entities \n",
    " ```\n",
    "\n",
    "\n",
    "### Object : other\n",
    "Required : applicable,\n",
    "\n",
    "unevaluatedProperties : idem as additionalProperties"
   ]
  },
  {
   "cell_type": "markdown",
   "id": "a7415718",
   "metadata": {},
   "source": [
    "### Array : items\n",
    "Schema for values included in an array \n",
    "\n",
    "* schema applicable to the NTVvalue of the NTV entities included in the NTV entity \n",
    "```json\n",
    "{ \"items\": items_schema } } check the items_schema for the NTVvalue of the NTV entities included in the NTV entity.\n",
    " ```\n",
    "\n",
    "\n",
    "### Array : uniqueItems\n",
    "Schema to ensure that each of the items in an array is unique \n",
    "\n",
    "* schema applicable to the NTVvalue of the NTV entities included in the NTV entity \n",
    "```json\n",
    "{ \"uniqueItems\": true } } check the uniqueness of the NTVvalue of the NTV entities.\n",
    " ```\n",
    "\n",
    "\n",
    "### Array : prefixItems\n",
    "Array of schemas for values included in an array \n",
    "\n",
    "* schemas applicable to the NTVvalue of the NTV entities included in the NTV entity \n",
    "```json\n",
    "{ \"prefixItems\": [ item_schema ] } \n",
    "check the item_schema for the NTVvalue of the corresponding NTV entity included in the NTV entity.\n",
    " ```\n",
    "\n",
    "\n",
    "### Array : contains, maxContains, minContains\n",
    "schema for at least one (or number as defined with maxContains or minContains) value included in an array \n",
    "\n",
    "* schema applicable to the NTVvalues of the NTV entities included in the NTV entity \n",
    "```json\n",
    "{ \"contains\": cont_schema, \"minContains\": 2, \"maxContains\": 3 } \n",
    "check if the cont_schema is valid for 2 or 3 NTVvalue of the NTV entity included.\n",
    " ```\n",
    "\n",
    "\n",
    "### Array : other\n",
    "unevaluatedItems : applies to any NTVvalues not evaluated by an items, prefixItems, or contains keyword.\n",
    "\n",
    "minItems, maxItems : equivalent to minProperties, maxProperties\n"
   ]
  },
  {
   "cell_type": "markdown",
   "id": "34257523",
   "metadata": {},
   "source": [
    "## NTV extension"
   ]
  },
  {
   "cell_type": "markdown",
   "id": "edf77a8f",
   "metadata": {},
   "source": [
    "### xxproperties\n",
    "\"pointer:part\": schema\n",
    "\n",
    "* pointer : relative NTV pointer (integer, NTVname, NTVtype)\n",
    "* part : name, type or value (default)\n",
    "\n",
    "### propertyNames \n",
    "equivalent to items:name\n",
    "\n",
    "### required\n",
    "list of pointers\n",
    "\n",
    "### xxitems\n",
    "\"xxitems:part\": schema\n",
    "\n",
    "### xxcontains\n",
    "\"xxcontains:part\": schema"
   ]
  }
 ],
 "metadata": {
  "kernelspec": {
   "display_name": "Python 3 (ipykernel)",
   "language": "python",
   "name": "python3"
  },
  "language_info": {
   "codemirror_mode": {
    "name": "ipython",
    "version": 3
   },
   "file_extension": ".py",
   "mimetype": "text/x-python",
   "name": "python",
   "nbconvert_exporter": "python",
   "pygments_lexer": "ipython3",
   "version": "3.10.9"
  }
 },
 "nbformat": 4,
 "nbformat_minor": 5
}
