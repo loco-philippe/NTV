{
 "cells": [
  {
   "cell_type": "markdown",
   "id": "02d9a514",
   "metadata": {},
   "source": [
    "# Example JsonSchema"
   ]
  },
  {
   "cell_type": "code",
   "execution_count": 1,
   "id": "2b57befd",
   "metadata": {},
   "outputs": [],
   "source": [
    "from jsonschema import validate\n",
    "from json_ntv import Ntv\n",
    "schema = {\"properties\" : { \"price\" : {\"type\" : \"number\"}}}\n",
    "data = {\"price\": 5}\n",
    "\n",
    "validate(data, schema)"
   ]
  },
  {
   "cell_type": "code",
   "execution_count": 2,
   "id": "796988a2",
   "metadata": {},
   "outputs": [],
   "source": [
    "test = {'family:string' : 'thomy', 'children': [{':int': 15}, {':': 21}, {'simon':None}, {'judith': 22}]}\n",
    "\n",
    "schema = {'test:$NTVschema.':\n",
    "          {'properties.': {'family:type':{':const':'string'}, #no_value\n",
    "                         'family':{':maxLength':10}, #no_type\n",
    "                         'children':{':maxItems': 3, #no_type\n",
    "                                     'items:type': {'enum': ['json', 'int']}, #no_value, no_name\n",
    "                                     'items:value': {'maximum': 25}, # no_type, no_name\n",
    "                                     'items:name': {'maxLength': 10}}}}\n",
    "ntv_test = Ntv.obj(test)"
   ]
  },
  {
   "cell_type": "code",
   "execution_count": 3,
   "id": "bde088c2",
   "metadata": {},
   "outputs": [
    {
     "name": "stdout",
     "output_type": "stream",
     "text": [
      "[{\":string\": \"thomy\"}, [{\":int\": 15}, 21, null, 22]]\n",
      "{\"family\": \"thomy\", \"children\": [15, 21, {\"simon\": null}, {\"judith\": 22}]}\n",
      "{\"family\": \"string\", \"children\": [\"int\", \"json\", {\"simon\": \"json\"}, {\"judith\": \"json\"}]}\n",
      "[\"string\", [\"int\", \"json\", \"json\", \"json\"]]\n",
      "[\"thomy\", [15, 21, null, 22]]\n"
     ]
    }
   ],
   "source": [
    "print(ntv_test.no_name())\n",
    "print(ntv_test.no_type())\n",
    "print(ntv_test.no_value())\n",
    "print(ntv_test.no_value().no_name())\n",
    "print(ntv_test.no_name().no_type())"
   ]
  },
  {
   "cell_type": "code",
   "execution_count": 4,
   "id": "2ff6ae37",
   "metadata": {},
   "outputs": [
    {
     "name": "stdout",
     "output_type": "stream",
     "text": [
      "[\"string\", [\"int\", \"json\", \"json\", \"json\"]]\n",
      "[\"family\", {\"children\": [\"\", \"\", \"simon\", \"judith\"]}]\n",
      "[\"thomy\", [15, 21, null, 22]]\n"
     ]
    }
   ],
   "source": [
    "print(ntv_test.only_type())\n",
    "print(ntv_test.only_name())\n",
    "print(ntv_test.only_value())"
   ]
  },
  {
   "cell_type": "markdown",
   "id": "006d3dd9",
   "metadata": {},
   "source": [
    "## JsonSchema keywords\n"
   ]
  },
  {
   "cell_type": "markdown",
   "id": "b978735f",
   "metadata": {},
   "source": [
    "### type\n",
    "Type of a value \n",
    "\n",
    "* schema applicable to NTVvalue\n",
    "```json\n",
    "{ \"type\": [\"number\", \"string\"] } check if the NTVvalue is a number or a string\n",
    "```\n",
    "\n",
    "### String type\n",
    "length, format, regex \n",
    "\n",
    "* schema applicable to NTVvalue \n",
    "```json\n",
    "{ \"type\": \"string\", \"minLength\": 2, \"maxLength\": 3 } check the length of the NTVvalue\n",
    "```\n",
    "\n",
    "\n",
    "### Number type\n",
    "multiples, range \n",
    "\n",
    "* schema applicable to NTVvalue\n",
    "```json\n",
    "{ \"type\": \"number\", \"multipleOf\" : 10 } check if the NTVvalue is a multiple of 10\n",
    "```\n"
   ]
  },
  {
   "cell_type": "markdown",
   "id": "1ecc73f8",
   "metadata": {},
   "source": [
    "### Object : properties\n",
    "Schema for a value defined by a name \n",
    "\n",
    "* schema applicable to the NTVvalue of the NTV entity defined by his relative NTV-pointer \n",
    "```json\n",
    "{ \"properties\": { \"street_name\": value_schema } } check the value_schema for the NTVvalue of the NTV entity defined by \"street_name\" (relative NTV-pointer)\n",
    " ```\n",
    "\n",
    "\n",
    "### Object : patternProperties\n",
    "Schema for values defined by a name matches a pattern \n",
    "\n",
    "* schema applicable to the NTVvalue of the NTV entity whose relative NTV-pointer matches a pattern.\n",
    "```json\n",
    "{ \"patternProperties\": { \"^S_\": pat_schema } } check the pat_schema for the NTVvalue of the NTV entity whose relative NTV-pointer matches \"^S_\"\n",
    " ```\n",
    "\n",
    "\n",
    "### Object : additionalProperties\n",
    "Schema for values whose names are not listed in the properties or patternProperties \n",
    "\n",
    "* schema applicable to the NTVvalue of the NTV entity not listed in the properties or patternProperties.\n",
    "```json\n",
    "{ \"additionalProperties\": add_schema } } check the add_schema for the NTVvalue of the NTV entity not listed in the properties or patternProperties.\n",
    " ```\n",
    "\n",
    "\n",
    "### Object : propertyNames\n",
    "Schema for names \n",
    "\n",
    "* schema applicable to the NTVname of the NTV entities \n",
    "```json\n",
    "{ \"propertyNames\": names_schema } check the names_schema for the NTVnames of the NTV entity \n",
    " ```\n",
    "\n",
    "\n",
    "### Object : size\n",
    "Number of properties \n",
    "\n",
    "* Number of NTV entities included in the NTV entity\n",
    "```json\n",
    "{ \"minProperties\": 2, \"maxProperties\": 3 } check the number of NTV entities \n",
    " ```\n",
    "\n",
    "\n",
    "### Object : other\n",
    "Required : applicable,\n",
    "\n",
    "unevaluatedProperties : idem as additionalProperties"
   ]
  },
  {
   "cell_type": "markdown",
   "id": "a7415718",
   "metadata": {},
   "source": [
    "### Array : items\n",
    "Schema for values included in an array \n",
    "\n",
    "* schema applicable to the NTVvalue of the NTV entities included in the NTV entity \n",
    "```json\n",
    "{ \"items\": items_schema } } check the items_schema for the NTVvalue of the NTV entities included in the NTV entity.\n",
    " ```\n",
    "\n",
    "\n",
    "### Array : uniqueItems\n",
    "Schema to ensure that each of the items in an array is unique \n",
    "\n",
    "* schema applicable to the NTVvalue of the NTV entities included in the NTV entity \n",
    "```json\n",
    "{ \"uniqueItems\": true } } check the uniqueness of the NTVvalue of the NTV entities.\n",
    " ```\n",
    "\n",
    "\n",
    "### Array : prefixItems\n",
    "Array of schemas for values included in an array \n",
    "\n",
    "* schemas applicable to the NTVvalue of the NTV entities included in the NTV entity \n",
    "```json\n",
    "{ \"prefixItems\": [ item_schema ] } \n",
    "check the item_schema for the NTVvalue of the corresponding NTV entity included in the NTV entity.\n",
    " ```\n",
    "\n",
    "\n",
    "### Array : contains, maxContains, minContains\n",
    "schema for at least one (or number as defined with maxContains or minContains) value included in an array \n",
    "\n",
    "* schema applicable to the NTVvalues of the NTV entities included in the NTV entity \n",
    "```json\n",
    "{ \"contains\": cont_schema, \"minContains\": 2, \"maxContains\": 3 } \n",
    "check if the cont_schema is valid for 2 or 3 NTVvalue of the NTV entity included.\n",
    " ```\n",
    "\n",
    "\n",
    "### Array : other\n",
    "unevaluatedItems : applies to any NTVvalues not evaluated by an items, prefixItems, or contains keyword.\n",
    "\n",
    "minItems, maxItems : equivalent to minProperties, maxProperties\n"
   ]
  },
  {
   "cell_type": "markdown",
   "id": "34257523",
   "metadata": {},
   "source": [
    "## NTV extension"
   ]
  },
  {
   "cell_type": "markdown",
   "id": "edf77a8f",
   "metadata": {},
   "source": [
    "### xxproperties\n",
    "\"pointer:part\": schema\n",
    "\n",
    "* pointer : relative NTV pointer (integer, NTVname, NTVtype)\n",
    "* part : name, type or value (default)\n",
    "\n",
    "### propertyNames \n",
    "equivalent to items:name\n",
    "\n",
    "### required\n",
    "list of pointers\n",
    "\n",
    "### xxitems\n",
    "\"xxitems:part\": schema\n",
    "\n",
    "### xxcontains\n",
    "\"xxcontains:part\": schema"
   ]
  },
  {
   "cell_type": "code",
   "execution_count": null,
   "id": "fe006f5c",
   "metadata": {},
   "outputs": [],
   "source": [
    "from jsonschema import validate\n",
    "schema = {\"properties\" : { \"price\" : {\"type\" : \"number\"}}}\n",
    "\n",
    "data = {\"price\": 2}\n",
    "\n",
    "va"
   ]
  }
 ],
 "metadata": {
  "kernelspec": {
   "display_name": "Python 3 (ipykernel)",
   "language": "python",
   "name": "python3"
  },
  "language_info": {
   "codemirror_mode": {
    "name": "ipython",
    "version": 3
   },
   "file_extension": ".py",
   "mimetype": "text/x-python",
   "name": "python",
   "nbconvert_exporter": "python",
   "pygments_lexer": "ipython3",
   "version": "3.10.9"
  }
 },
 "nbformat": 4,
 "nbformat_minor": 5
}
