{
 "cells": [
  {
   "cell_type": "markdown",
   "id": "f9db8e0b",
   "metadata": {},
   "source": [
    "# Example NTV\n",
    "\n",
    "## Goals\n",
    "\n",
    "- understand the structure of NTV entities\n",
    "- present the interest and uses of this entities\n",
    "\n",
    "## summary\n",
    "(active link on jupyter Notebook or Nbviewer)\n",
    "- [All JSON data is JSON-NTV data](#All-JSON-data-is-JSON-NTV-data)\n",
    "- [NTV data is named](#NTV-data-is-named)\n",
    "- [NTV data is typed](#NTV-data-is-typed)\n",
    "- [Types can be predefined](#Types-can-be-predefined)\n",
    "- [Types are nested](#Types-are-nested)\n",
    "- [Custom types are allowed](#Custom-types-are-allowed)\n",
    "- [NTV data is nested](#NTV-data-is-nested)\n",
    "- [NTV-json representation is equivalent to NTV entity](#NTV-json-representation-is-equivalent-to-NTV-entity)\n",
    "- [Options are available for NTV-json](#Options-are-available-for-NTV-json)\n",
    "- [Structured entities NtvList and NtvSet are compatible](#Structured-entities-NtvList-and-NtvSet-are-compatible)\n",
    "- [NTV entities are compatible with tabular data tools](#NTV-entities-are-compatible-with-tabular-data-tools)\n",
    "\n",
    "## references\n",
    "- [JSON-NTV specification](https://github.com/loco-philippe/NTV/blob/main/documentation/JSON-NTV-standard.pdf)\n",
    "\n",
    "This Notebook can also be viewed at [nbviewer](http://nbviewer.org/github/loco-philippe/NTV/tree/main/example)\n",
    "\n",
    "-----"
   ]
  },
  {
   "cell_type": "code",
   "execution_count": 1,
   "id": "540f9418",
   "metadata": {
    "scrolled": true
   },
   "outputs": [],
   "source": [
    "from ntv import NtvSingle, NtvList, NtvSet, Ntv\n",
    "from namespace import NtvType, Namespace"
   ]
  },
  {
   "cell_type": "markdown",
   "id": "8e444f33",
   "metadata": {},
   "source": [
    "## All JSON data is JSON-NTV data\n",
    "NTV entities : \n",
    "- NtvSingle : primitive entity which is not composed of any other entity\n",
    "- NtvList : ordered sequence of NTV entities\n",
    "- NtvSet : unordered collection of named NTV entities"
   ]
  },
  {
   "cell_type": "code",
   "execution_count": 2,
   "id": "54b9411c",
   "metadata": {},
   "outputs": [
    {
     "name": "stdout",
     "output_type": "stream",
     "text": [
      "null                                               NTV entity :  <class 'ntv.NtvSingle'>\n",
      "1                                                  NTV entity :  <class 'ntv.NtvSingle'>\n",
      "[1, 2]                                             NTV entity :  <class 'ntv.NtvList'>\n",
      "{\"key\": \"value\"}                                   NTV entity :  <class 'ntv.NtvSingle'>\n",
      "{\"key1\": \"val1\", \"key2\": \"val2\"}                   NTV entity :  <class 'ntv.NtvSet'>\n",
      "{\"example\": [21, [1, 2], {\"key1\": 3, \"key2\": 4}]}  NTV entity :  <class 'ntv.NtvList'>\n"
     ]
    }
   ],
   "source": [
    "liste = [None, 1, [1,2], {'key': 'value'}, {'key1': 'val1', 'key2': 'val2'}, \n",
    "         {'example': [21, [1,2], {'key1': 3, 'key2': 4}]}]\n",
    "for json in liste:\n",
    "    ntv = Ntv.obj(json)\n",
    "    print('{:<50} {} {}'.format(str(ntv), 'NTV entity : ', type(ntv)))"
   ]
  },
  {
   "cell_type": "markdown",
   "id": "2ee8c220",
   "metadata": {},
   "source": [
    "## NTV data is named\n",
    "- a name can be added or remove"
   ]
  },
  {
   "cell_type": "code",
   "execution_count": 3,
   "id": "bea755ea",
   "metadata": {},
   "outputs": [
    {
     "name": "stdout",
     "output_type": "stream",
     "text": [
      "simple data              :  3\n",
      "simple data with name    :  {\"value\": 3}\n",
      "simple data without name :  3\n"
     ]
    }
   ],
   "source": [
    "simple = Ntv.obj(3)\n",
    "\n",
    "print('simple data              : ', simple)\n",
    "simple.set_name('value')\n",
    "print('simple data with name    : ', simple)\n",
    "simple.set_name('')\n",
    "print('simple data without name : ', simple)"
   ]
  },
  {
   "cell_type": "markdown",
   "id": "f6f5d2a3",
   "metadata": {},
   "source": [
    "## NTV data is typed\n",
    "- default type is 'json'\n"
   ]
  },
  {
   "cell_type": "code",
   "execution_count": 4,
   "id": "83585029",
   "metadata": {},
   "outputs": [
    {
     "name": "stdout",
     "output_type": "stream",
     "text": [
      "Are {':json' : 21} and 21 equivalent ?  True\n"
     ]
    }
   ],
   "source": [
    "# {':json' : 21} and 21 are equivalent\n",
    "number = 21\n",
    "typed_number = {':json' : 21}\n",
    "comparison = Ntv.obj(typed_number) == Ntv.obj(number)\n",
    "print(\"Are {':json' : 21} and 21 equivalent ? \", comparison)"
   ]
  },
  {
   "cell_type": "markdown",
   "id": "014a5f82",
   "metadata": {},
   "source": [
    "## Types can be predefined\n",
    "- many standard types are included"
   ]
  },
  {
   "cell_type": "code",
   "execution_count": 5,
   "id": "99d71d2b",
   "metadata": {},
   "outputs": [
    {
     "name": "stdout",
     "output_type": "stream",
     "text": [
      "{'paris': <shapely.geometry.point.Point object at 0x000001FB8DF32830>}\n"
     ]
    },
    {
     "data": {
      "image/svg+xml": [
       "<svg xmlns=\"http://www.w3.org/2000/svg\" xmlns:xlink=\"http://www.w3.org/1999/xlink\" width=\"100.0\" height=\"100.0\" viewBox=\"-0.04 -0.04 1.08 1.08\" preserveAspectRatio=\"xMinYMin meet\"><g transform=\"matrix(1,0,0,-1,0,1.0)\"><path fill-rule=\"evenodd\" fill=\"#66cc99\" stroke=\"#555555\" stroke-width=\"0.0216\" opacity=\"0.6\" d=\"M 0.0,1.0 L 1.0,1.0 L 1.0,0.0 L 0.0,1.0 z\" /></g></svg>"
      ],
      "text/plain": [
       "<shapely.geometry.polygon.Polygon at 0x1fb8df305e0>"
      ]
     },
     "execution_count": 5,
     "metadata": {},
     "output_type": "execute_result"
    }
   ],
   "source": [
    "# {'paris:point' : [4.1, 40.5] } indicates that the object named 'paris' has geographical coordinates [4.1, 40.5]\n",
    "city = Ntv.obj({'paris:point' : [4.1, 40.5] })\n",
    "print(city.to_obj(encode_format='obj'))\n",
    "\n",
    "# another coordinates are available (e.g. line, polygon)\n",
    "city = Ntv.obj({':polygon' : [[[0,1], [1,1], [1,0], [0,1]]] })\n",
    "city.to_obj(encode_format='obj')"
   ]
  },
  {
   "cell_type": "markdown",
   "id": "33642726",
   "metadata": {},
   "source": [
    "## Types are nested\n",
    "- a Type is defined by a name and a Namespace.  \n",
    "- a Namespace is represented by a string followed by a point. Namespaces may be nested\n"
   ]
  },
  {
   "cell_type": "code",
   "execution_count": 6,
   "id": "41ad6fa8",
   "metadata": {},
   "outputs": [
    {
     "name": "stdout",
     "output_type": "stream",
     "text": [
      "{\"picardie::fr.\": {\"oise:dep\": \"60\", \"aisne:dep\": \"02\", \"somme:dep\": \"80\", \"hauts de france:reg\": 32}} \n",
      "\n",
      "{\"oise:fr.dep\": \"60\"}\n"
     ]
    }
   ],
   "source": [
    "picardie = NtvSet.obj({'picardie::fr.':{'oise:dep': '60', 'aisne:dep': '02', 'somme:dep': '80', 'hauts de france:reg': 32}})\n",
    "\n",
    "# 'dep' is a type (french department) defined in the Namespace 'fr.' (french types)\n",
    "# the default Namespace 'fr.' is aggregated with the 'dep' type\n",
    "\n",
    "print(picardie, '\\n')\n",
    "print(picardie[0])\n",
    "\n",
    "# '60' is the 'fr.dep' code for the department of Oise\n"
   ]
  },
  {
   "cell_type": "markdown",
   "id": "dd63bc2c",
   "metadata": {},
   "source": [
    "## Custom types are allowed\n",
    "For example:\n",
    "- object defined by a list of parameters\n",
    "- object defined by a list of key/values."
   ]
  },
  {
   "cell_type": "code",
   "execution_count": 7,
   "id": "7d175307",
   "metadata": {},
   "outputs": [
    {
     "name": "stdout",
     "output_type": "stream",
     "text": [
      "measurement :  {\":$sensor\": [3.51, 4.2, \"mg/m3\", [4.1, 45.2]]}\n",
      "infos :  4.2 [4.1, 45.2] $sensor \n",
      "\n",
      "personage :  {\"main Breaking Bad character:$character\": {\"surname\": \"white\", \"first name\": \"walter\", \"alias\": \"heisenberg\"}}\n",
      "infos :  heisenberg $character\n"
     ]
    }
   ],
   "source": [
    "measurement = Ntv.obj({':$sensor': [3.51, 4.2, 'mg/m3', [4.1, 45.2]]})\n",
    "\n",
    "print('measurement : ', measurement)\n",
    "print('infos : ', measurement[1], measurement[3], measurement.type_str, '\\n')\n",
    "\n",
    "person = Ntv.obj({'main Breaking Bad character:$character': {'surname': 'white', 'first name': 'walter', 'alias': 'heisenberg'}})\n",
    "\n",
    "print('personage : ', person)\n",
    "print('infos : ', person['alias'], person.type_str)"
   ]
  },
  {
   "cell_type": "markdown",
   "id": "53b6d960",
   "metadata": {},
   "source": [
    "## NTV data is nested\n",
    "- Two structures with ordered or non ordered collections are available\n",
    "- The type can be shared between entities included in the same entity\n",
    "- The type defined in a structure is a default type\n",
    "- Two NTV structures are equal if the name and the value are equals (the default type can be different)"
   ]
  },
  {
   "cell_type": "code",
   "execution_count": 8,
   "id": "a1995fac",
   "metadata": {},
   "outputs": [
    {
     "name": "stdout",
     "output_type": "stream",
     "text": [
      "equivalent structures ?  True\n",
      "coordinates and date in a typed structure :  {\"cities::point\": [{\"paris\": [4.1, 40.5]}, [4.5, 41.2], {\":date\": \"2012-02-15\"}]}\n"
     ]
    }
   ],
   "source": [
    "# ordered structure\n",
    "cities1 = Ntv.obj({'cities':        [{'paris:point': [4.1, 40.5]}, {':point': [4.5, 41.2]}]})\n",
    "cities2 = Ntv.obj({'cities::point': [{'paris':       [4.1, 40.5]},            [4.5, 41.2] ]})\n",
    "\n",
    "# unordered structure\n",
    "cities3 = Ntv.obj({'cities::point': {'paris':       [4.1, 40.5], 'lyon':       [4.5, 41.2]}})\n",
    "cities4 = Ntv.obj({'cities':        {'paris:point': [4.1, 40.5], 'lyon:point': [4.5, 41.2]}})\n",
    "\n",
    "print('equivalent structures ? ', cities1 == cities2 and cities3 == cities4)\n",
    "\n",
    "# default type in a structure\n",
    "cities5 = Ntv.obj({'cities::point': [{'paris': [4.1, 40.5]}, [4.5, 41.2], {':date': '2012-02-15'}]})\n",
    "print('coordinates and date in a typed structure : ', cities5)"
   ]
  },
  {
   "cell_type": "markdown",
   "id": "be529276",
   "metadata": {},
   "source": [
    "## NTV-json representation is equivalent to NTV entity\n",
    "- The entity build with the Json representation of another entity is identical to the original NTV entity"
   ]
  },
  {
   "cell_type": "code",
   "execution_count": 9,
   "id": "1b193e0a",
   "metadata": {},
   "outputs": [
    {
     "data": {
      "text/plain": [
       "True"
      ]
     },
     "execution_count": 9,
     "metadata": {},
     "output_type": "execute_result"
    }
   ],
   "source": [
    "Ntv.obj(simple. to_obj()) == simple  and \\\n",
    "Ntv.obj(city.   to_obj()) == city    and \\\n",
    "Ntv.obj(cities2.to_obj()) == cities2 and \\\n",
    "Ntv.obj(cities4.to_obj()) == cities4"
   ]
  },
  {
   "cell_type": "markdown",
   "id": "9d8798b0",
   "metadata": {},
   "source": [
    "## Options are available for NTV-json\n",
    "- selected values\n",
    "- encoded data\n",
    "- data format"
   ]
  },
  {
   "cell_type": "code",
   "execution_count": 10,
   "id": "a9b4e08f",
   "metadata": {},
   "outputs": [
    {
     "name": "stdout",
     "output_type": "stream",
     "text": [
      "Json format   :  {'cities::point': [{'paris': [4.1, 40.5]}, [4.5, 41.2]]}\n",
      "only values   :  [[4.1, 40.5], [4.5, 41.2]]\n",
      "Json text     :  {\"cities::point\": [{\"paris\": [4.1, 40.5]}, [4.5, 41.2]]}\n",
      "Json binary   :  b'\\xa1mcities::point\\x82\\xa1eparis\\x82\\xfb@\\x10ffffff\\xf9Q\\x10\\x82\\xf9D\\x80\\xfb@D\\x99\\x99\\x99\\x99\\x99\\x9a'\n",
      "tuple format  :  ('NtvList', 'cities', 'point', [('NtvSingle', 'paris', 'point', [4.1, 40.5]), ('NtvSingle', '', 'point', [4.5, 41.2])])\n",
      "object format :  {'cities::point': [{'paris': <shapely.geometry.point.Point object at 0x000001FB8DF31F90>}, <shapely.geometry.point.Point object at 0x000001FB8DF33190>]}\n",
      "simple Json   :  {'l-cities-point': ['v-paris-point-[4.1, 40.5]', 'v-point-[4.5, 41.2]']}\n",
      "Json codes    :  {'lNT': ['vNT', 'vT']}\n"
     ]
    }
   ],
   "source": [
    "print('Json format   : ', cities2.to_obj())\n",
    "print('only values   : ', cities2.to_obj(simpleval=True))\n",
    "print('Json text     : ', cities2.to_obj(encoded=True))\n",
    "print('Json binary   : ', cities2.to_obj(encode_format='cbor', encoded=True))\n",
    "print('tuple format  : ', cities2.to_tuple())\n",
    "print('object format : ', cities2.to_obj(encode_format='obj'))\n",
    "print('simple Json   : ', cities2.to_repr())\n",
    "print('Json codes    : ', cities2.to_repr(False, False, False)) \n",
    "# Codification : first letter: \"v\" (NtvSingle), \"l\" (NtvList), \"s\" (NtvSet), additional letters: 'N' (named), 'T' (typed)"
   ]
  },
  {
   "cell_type": "markdown",
   "id": "5e714585",
   "metadata": {},
   "source": [
    "## Structured entities NtvList and NtvSet are compatible\n",
    "- if the constraints of the JSON-objects (keys are present and different, the order is respected)"
   ]
  },
  {
   "cell_type": "code",
   "execution_count": 11,
   "id": "cbd1ebf4",
   "metadata": {},
   "outputs": [
    {
     "name": "stdout",
     "output_type": "stream",
     "text": [
      "ntv - NtvList :  {\"structured\": [{\"key1\": \"value1\"}, {\"key2\": \"value2\"}]}\n",
      "ntv - NtvSet  :  {\"structured\": {\"key1\": \"value1\", \"key2\": \"value2\"}}\n",
      "\n",
      "Are the entities compatible ? True\n"
     ]
    }
   ],
   "source": [
    "ntv_lis = Ntv.obj({'structured': [{'key1': 'value1'}, {'key2': 'value2'}]})\n",
    "ntv_set = NtvSet(ntv_lis)\n",
    "\n",
    "print('ntv - NtvList : ', ntv_lis)\n",
    "print('ntv - NtvSet  : ', ntv_set)\n",
    "\n",
    "print('\\nAre the entities compatible ?', NtvList(NtvSet(ntv_lis)) == ntv_lis and NtvSet(NtvList(ntv_set)) == ntv_set)"
   ]
  },
  {
   "cell_type": "markdown",
   "id": "f57a81fb",
   "metadata": {},
   "source": [
    "## NTV entities are compatible with tabular data tools\n",
    "- Example with Pandas"
   ]
  },
  {
   "cell_type": "code",
   "execution_count": 13,
   "id": "2fc30bc5",
   "metadata": {},
   "outputs": [
    {
     "name": "stdout",
     "output_type": "stream",
     "text": [
      "0   1964-01-01\n",
      "1   1985-02-05\n",
      "2   2022-01-21\n",
      "Name: dates, dtype: datetime64[ns] \n",
      "\n",
      "       dates  value   coord    name\n",
      "0 1964-01-01     10  [1, 2]    john\n",
      "1 1985-02-05     20  [3, 4]    eric\n",
      "2 2022-01-21     30  [5, 6]  judith \n",
      "\n",
      "dates    datetime64[ns]\n",
      "value             int64\n",
      "coord            object\n",
      "name             object\n",
      "dtype: object\n"
     ]
    }
   ],
   "source": [
    "from pandas import Series, DataFrame\n",
    "dates = Ntv.obj({'dates::datetime': ['1964-01-01', '1985-02-05', '2022-01-21']})\n",
    "dates_series = Series(dates.to_obj(encode_format='obj', simpleval=True), name=dates.ntv_name)\n",
    "\n",
    "tab = Ntv.obj({'dates::datetime': ['1964-01-01', '1985-02-05', '2022-01-21'], \n",
    "               'value': [10, 20, 30],\n",
    "               'coord::$point': [[1,2], [3,4], [5,6]],\n",
    "               'name::string': ['john', 'eric', 'judith']})\n",
    "tab_pandas = DataFrame({ d.ntv_name : Series(d.to_obj(encode_format='obj', simpleval=True)) for d in tab})\n",
    "\n",
    "print(dates_series, '\\n')\n",
    "print(tab_pandas, '\\n')\n",
    "print(tab_pandas.dtypes)"
   ]
  }
 ],
 "metadata": {
  "kernelspec": {
   "display_name": "Python 3 (ipykernel)",
   "language": "python",
   "name": "python3"
  },
  "language_info": {
   "codemirror_mode": {
    "name": "ipython",
    "version": 3
   },
   "file_extension": ".py",
   "mimetype": "text/x-python",
   "name": "python",
   "nbconvert_exporter": "python",
   "pygments_lexer": "ipython3",
   "version": "3.10.9"
  }
 },
 "nbformat": 4,
 "nbformat_minor": 5
}
