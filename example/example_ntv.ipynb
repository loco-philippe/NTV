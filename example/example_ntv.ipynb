{
 "cells": [
  {
   "cell_type": "markdown",
   "id": "d4e785b4",
   "metadata": {},
   "source": [
    "# Example NTV"
   ]
  },
  {
   "cell_type": "code",
   "execution_count": 1,
   "id": "540f9418",
   "metadata": {
    "scrolled": true
   },
   "outputs": [],
   "source": [
    "from ntv import NtvSingle, NtvList, NtvSet, Ntv"
   ]
  },
  {
   "cell_type": "markdown",
   "id": "925f4168",
   "metadata": {},
   "source": [
    "## All JSON data is JSON-NTV data\n",
    "Codification : \n",
    "- first letter: \"v\" (NtvSingle), \"l\" (NtvList), \"s\" (NtvSet)\n",
    "- additional letters: 'N' (named), 'T' (typed)"
   ]
  },
  {
   "cell_type": "code",
   "execution_count": 2,
   "id": "4b3dfe9a",
   "metadata": {},
   "outputs": [
    {
     "name": "stdout",
     "output_type": "stream",
     "text": [
      "null                                               codification :  \"v\"\n",
      "1                                                  codification :  \"v\"\n",
      "[1, 2]                                             codification :  {\"l\": [\"v\", \"v\"]}\n",
      "{\"key\": \"value\"}                                   codification :  \"vN\"\n",
      "{\"key1\": \"val1\", \"key2\": \"val2\"}                   codification :  {\"s\": [\"vN\", \"vN\"]}\n",
      "{\"example\": [21, [1, 2], {\"key1\": 3, \"key2\": 4}]}  codification :  {\"lN\": [\"v\", {\"l\": [\"v\", \"v\"]}, {\"s\": [\"vN\", \"vN\"]}]}\n"
     ]
    }
   ],
   "source": [
    "liste = [None, 1, [1,2], {'key': 'value'}, {'key1': 'val1', 'key2': 'val2'}, \n",
    "         {'example': [21, [1,2], {'key1': 3, 'key2': 4}]}]\n",
    "for js in liste:\n",
    "    ntv = Ntv.obj(js)\n",
    "    print('{:<50} {} {}'.format(str(ntv), 'codification : ', repr(ntv)))"
   ]
  },
  {
   "cell_type": "markdown",
   "id": "8c5107f0",
   "metadata": {},
   "source": [
    "## NTV data is typed\n",
    "- default type is 'json'\n"
   ]
  },
  {
   "cell_type": "code",
   "execution_count": 3,
   "id": "a663dadd",
   "metadata": {},
   "outputs": [
    {
     "name": "stdout",
     "output_type": "stream",
     "text": [
      "False\n"
     ]
    }
   ],
   "source": [
    "liste = [[{':json' : 21}, 21]]\n",
    "for js in liste:\n",
    "    print(Ntv.obj(js[0]) == Ntv.obj(js[1]))"
   ]
  },
  {
   "cell_type": "markdown",
   "id": "441f426b",
   "metadata": {},
   "source": [
    "- types can be predefined"
   ]
  },
  {
   "cell_type": "code",
   "execution_count": 4,
   "id": "0e2186fd",
   "metadata": {
    "scrolled": true
   },
   "outputs": [
    {
     "name": "stdout",
     "output_type": "stream",
     "text": [
      "{'::point': [<shapely.geometry.point.Point object at 0x00000170C0E7DDB0>, <shapely.geometry.point.Point object at 0x00000170C0E7DD50>]}\n",
      "[[4.1, 40.5], [4.5, 41.2]]\n",
      "[[4.1, 40.5], [4.5, 41.2]]\n",
      "\n",
      " {\"lNT\": [\"vNT\", \"vT\"]} \n",
      " {\"lN\": [{\"lN\": [\"v\", \"v\"]}, {\"l\": [\"v\", \"v\"]}]} \n",
      " {\"l\": [{\"lN\": [\"v\", \"v\"]}, {\"l\": [\"v\", \"v\"]}]} \n",
      " \"vN\"\n"
     ]
    }
   ],
   "source": [
    "cities1 = Ntv.obj({'cities::point': [{'paris': [4.1, 40.5]}, [4.5, 41.2]]})\n",
    "cities2 = Ntv.obj({'cities::': [{'paris': [4.1, 40.5]}, [4.5, 41.2]]})\n",
    "cities3 = Ntv.obj([{'paris': [4.1, 40.5]}, [4.5, 41.2]])\n",
    "cities4 = Ntv.obj({'cities:': [{'paris': [4.1, 40.5]}, [4.5, 41.2]]})\n",
    "print(cities1.to_obj(encode_format='obj', simpleval=True))\n",
    "print(cities2.to_obj(encode_format='obj', simpleval=True))\n",
    "print(cities3.to_obj(encode_format='obj', simpleval=True))\n",
    "print('\\n', repr(cities1), '\\n', repr(cities2), '\\n', repr(cities3), '\\n', repr(cities4))"
   ]
  },
  {
   "cell_type": "code",
   "execution_count": 5,
   "id": "f6db6c13",
   "metadata": {},
   "outputs": [
    {
     "name": "stdout",
     "output_type": "stream",
     "text": [
      "{'::point': [[4.1, 40.5], [4.5, 41.2]]}\n"
     ]
    }
   ],
   "source": [
    "print(cities1.to_obj(simpleval=True))"
   ]
  },
  {
   "cell_type": "code",
   "execution_count": 6,
   "id": "74dfb514",
   "metadata": {},
   "outputs": [
    {
     "data": {
      "text/plain": [
       "{\"lNT\": [\"vNT\", \"vT\"]}"
      ]
     },
     "execution_count": 6,
     "metadata": {},
     "output_type": "execute_result"
    }
   ],
   "source": [
    "cities1"
   ]
  },
  {
   "cell_type": "code",
   "execution_count": 7,
   "id": "b50cc5a2",
   "metadata": {},
   "outputs": [
    {
     "name": "stdout",
     "output_type": "stream",
     "text": [
      "{\"cities::point\": [{\"paris\": [4.1, 40.5]}, [4.5, 41.2]]}\n",
      "{\"paris:point\": [4.1, 40.5]}\n"
     ]
    }
   ],
   "source": [
    "print(cities1)\n",
    "list_cities = list(cities1)\n",
    "print(list_cities[0])"
   ]
  },
  {
   "cell_type": "code",
   "execution_count": 8,
   "id": "4761ff4a",
   "metadata": {},
   "outputs": [
    {
     "name": "stdout",
     "output_type": "stream",
     "text": [
      "[['john', 'eric', 'judith'], [15, 54, 48], [[4.1, 40.5], [4.5, 41.2]]]\n"
     ]
    }
   ],
   "source": [
    "json = Ntv.obj({'student': [{'name': ['john', 'eric', 'judith']}, \n",
    "                               {'age': [15, 54, 48]}, \n",
    "                               {'city': [{\"paris\": [4.1, 40.5]}, [4.5, 41.2]]}]})\n",
    "print(json.to_obj(simpleval=True))"
   ]
  },
  {
   "cell_type": "code",
   "execution_count": 9,
   "id": "d61b9703",
   "metadata": {},
   "outputs": [
    {
     "name": "stdout",
     "output_type": "stream",
     "text": [
      "\"vNT\" \n",
      " {\"lN\": [{\"lNT\": [\"vT\", \"vT\", \"vT\"]}, {\"lNT\": [\"vT\", \"vT\", \"vT\"]}, {\"lNT\": [\"vNT\", \"vT\", \"vT\"]}]} \n",
      "\n",
      "('student', 'tab', [{'name::string': ['john', 'eric', 'judith']}, {'age::number': [15, 54, 48]}, {'city::point': [{'paris': [4.1, 40.5]}, [4.5, 41.2], [2.5, 40.2]]}])\n",
      "{\"age::number\": [15, 54, 48]}\n",
      "{\":number\": 48}\n"
     ]
    }
   ],
   "source": [
    "df = Ntv.obj({'student:tab': [{'name::string': ['john', 'eric', 'judith']}, \n",
    "                               {'age::number': [15, 54, 48]}, \n",
    "                               {'city::point': [{\"paris\": [4.1, 40.5]}, [4.5, 41.2], [2.5, 40.2]]}]})\n",
    "df2 = Ntv.obj({'student': [{'name::string': ['john', 'eric', 'judith']}, \n",
    "                           {'age::number': [15, 54, 48]}, \n",
    "                           {'city::point': [{\"paris\": [4.1, 40.5]}, [4.5, 41.2], [2.5, 40.2]]}]})\n",
    "print(repr(df), '\\n', repr(df2), '\\n')\n",
    "print(df.to_obj(encode_format='tuple'))\n",
    "fields = list(df2)\n",
    "print(fields[1])\n",
    "print(fields[1][2])"
   ]
  },
  {
   "cell_type": "code",
   "execution_count": 10,
   "id": "a21d1383",
   "metadata": {},
   "outputs": [
    {
     "name": "stdout",
     "output_type": "stream",
     "text": [
      "{\"cities\": [{\"paris\": [4.1, 40.5]}, [4.5, 41.2], [2.5, 40.2]]}\n",
      "{\"lN\": [{\"lN\": [\"v\", \"v\"]}, {\"l\": [\"v\", \"v\"]}, {\"l\": [\"v\", \"v\"]}]}\n",
      "{\"cities::point\": [{\"paris\": [4.1, 40.5]}, [4.5, 41.2], [2.5, 40.2]]}\n",
      "{\"lNT\": [{\"lN\": [\"v\", \"v\"]}, {\"l\": [\"v\", \"v\"]}, {\"l\": [\"v\", \"v\"]}]}\n"
     ]
    }
   ],
   "source": [
    "lis = [[4.1, 40.5], [4.5, 41.2], [2.5, 40.2]]\n",
    "#lis2 = {':':[[4.1, 40.5], [4.5, 41.2], [2.5, 40.2]]}\n",
    "nlis =Ntv.obj(lis)\n",
    "\n",
    "nlis.set_name('cities')\n",
    "nlis[0].set_name('paris')\n",
    "print(nlis)\n",
    "print(repr(nlis))\n",
    "\n",
    "nlis.set_type('point')\n",
    "print(nlis)\n",
    "print(repr(nlis))"
   ]
  }
 ],
 "metadata": {
  "kernelspec": {
   "display_name": "Python 3 (ipykernel)",
   "language": "python",
   "name": "python3"
  },
  "language_info": {
   "codemirror_mode": {
    "name": "ipython",
    "version": 3
   },
   "file_extension": ".py",
   "mimetype": "text/x-python",
   "name": "python",
   "nbconvert_exporter": "python",
   "pygments_lexer": "ipython3",
   "version": "3.10.9"
  }
 },
 "nbformat": 4,
 "nbformat_minor": 5
}
