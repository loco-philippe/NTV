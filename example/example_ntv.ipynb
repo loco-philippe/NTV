{
 "cells": [
  {
   "cell_type": "markdown",
   "id": "4a06847b",
   "metadata": {},
   "source": [
    "# Example NTV"
   ]
  },
  {
   "cell_type": "code",
   "execution_count": 1,
   "id": "540f9418",
   "metadata": {
    "scrolled": true
   },
   "outputs": [],
   "source": [
    "from ntv import NtvSingle, NtvList, NtvSet, Ntv"
   ]
  },
  {
   "cell_type": "markdown",
   "id": "cfa3c8b6",
   "metadata": {},
   "source": [
    "## All JSON data is JSON-NTV data\n",
    "Codification : \n",
    "- first letter: \"v\" (NtvSingle), \"l\" (NtvList), \"s\" (NtvSet)\n",
    "- additional letters: 'N' (named), 'T' (typed)"
   ]
  },
  {
   "cell_type": "code",
   "execution_count": 2,
   "id": "71e08148",
   "metadata": {},
   "outputs": [
    {
     "name": "stdout",
     "output_type": "stream",
     "text": [
      "null                                               codification :  \"v\"\n",
      "1                                                  codification :  \"v\"\n",
      "[1, 2]                                             codification :  {\"l\": [\"v\", \"v\"]}\n",
      "{\"key\": \"value\"}                                   codification :  \"vN\"\n",
      "{\"key1\": \"val1\", \"key2\": \"val2\"}                   codification :  {\"s\": [\"vN\", \"vN\"]}\n",
      "{\"example\": [21, [1, 2], {\"key1\": 3, \"key2\": 4}]}  codification :  {\"lN\": [\"v\", {\"l\": [\"v\", \"v\"]}, {\"s\": [\"vN\", \"vN\"]}]}\n"
     ]
    }
   ],
   "source": [
    "liste = [None, 1, [1,2], {'key': 'value'}, {'key1': 'val1', 'key2': 'val2'}, \n",
    "         {'example': [21, [1,2], {'key1': 3, 'key2': 4}]}]\n",
    "for js in liste:\n",
    "    ntv = Ntv.obj(js)\n",
    "    print('{:<50} {} {}'.format(str(ntv), 'codification : ', repr(ntv)))"
   ]
  },
  {
   "cell_type": "markdown",
   "id": "58448978",
   "metadata": {},
   "source": [
    "## NTV data is named\n",
    "- a name can be added or remove"
   ]
  },
  {
   "cell_type": "code",
   "execution_count": 3,
   "id": "ec2ced77",
   "metadata": {},
   "outputs": [
    {
     "name": "stdout",
     "output_type": "stream",
     "text": [
      "3\n",
      "{\"value\": 3}\n",
      "3\n"
     ]
    }
   ],
   "source": [
    "simple = Ntv.obj(3)\n",
    "\n",
    "print(simple)\n",
    "simple.set_name('value')\n",
    "print(simple)\n",
    "simple.set_name('')\n",
    "print(simple)"
   ]
  },
  {
   "cell_type": "markdown",
   "id": "9d2b12fa",
   "metadata": {},
   "source": [
    "## NTV data is typed\n",
    "- default type is 'json'\n"
   ]
  },
  {
   "cell_type": "code",
   "execution_count": 4,
   "id": "aa7360be",
   "metadata": {},
   "outputs": [
    {
     "name": "stdout",
     "output_type": "stream",
     "text": [
      "True\n"
     ]
    }
   ],
   "source": [
    "# {':json' : 21} and 21 are equivalent\n",
    "print(Ntv.obj({':json' : 21}) == Ntv.obj(21))"
   ]
  },
  {
   "cell_type": "markdown",
   "id": "2c203824",
   "metadata": {},
   "source": [
    "- types can be predefined"
   ]
  },
  {
   "cell_type": "code",
   "execution_count": 18,
   "id": "6a7f8a24",
   "metadata": {},
   "outputs": [
    {
     "name": "stdout",
     "output_type": "stream",
     "text": [
      "{'paris:point': {'paris': <shapely.geometry.point.Point object at 0x000001B961C5C880>}}\n"
     ]
    },
    {
     "data": {
      "image/svg+xml": [
       "<svg xmlns=\"http://www.w3.org/2000/svg\" xmlns:xlink=\"http://www.w3.org/1999/xlink\" width=\"100.0\" height=\"100.0\" viewBox=\"-0.04 -0.04 1.08 1.08\" preserveAspectRatio=\"xMinYMin meet\"><g transform=\"matrix(1,0,0,-1,0,1.0)\"><path fill-rule=\"evenodd\" fill=\"#66cc99\" stroke=\"#555555\" stroke-width=\"0.0216\" opacity=\"0.6\" d=\"M 0.0,1.0 L 1.0,1.0 L 1.0,0.0 L 0.0,1.0 z\" /></g></svg>"
      ],
      "text/plain": [
       "<shapely.geometry.polygon.Polygon at 0x1b95f3d4430>"
      ]
     },
     "execution_count": 18,
     "metadata": {},
     "output_type": "execute_result"
    }
   ],
   "source": [
    "# {'paris:point' : [4.1, 40.5] } indicates that the object named 'paris' has geographical coordinates [4.1, 40.5]\n",
    "city = Ntv.obj({'paris:point' : [4.1, 40.5] })\n",
    "print(city.to_obj(encode_format='obj'))\n",
    "\n",
    "# another coordinates are available (e.g. line, polygon)\n",
    "city = Ntv.obj({':polygon' : [[[0,1], [1,1], [1,0], [0,1]]] })\n",
    "city.to_obj(encode_format='obj')"
   ]
  },
  {
   "cell_type": "markdown",
   "id": "9d0887c6",
   "metadata": {},
   "source": [
    "## custom types are allowed\n",
    "For example:\n",
    "- object defined by a list of parameters\n",
    "- object defined by a list of key/values."
   ]
  },
  {
   "cell_type": "code",
   "execution_count": 25,
   "id": "50cc3127",
   "metadata": {},
   "outputs": [
    {
     "name": "stdout",
     "output_type": "stream",
     "text": [
      "measurement :  {\":$sensor\": [3.51, 4.2, \"mg/m3\", [4.1, 45.2]]}\n",
      "infos :  4.2 [4.1, 45.2] $sensor \n",
      "\n",
      "personage :  {\"main Breaking Bad character:$character\": {\"surname\": \"white\", \"first name\": \"walter\", \"alias\": \"heisenberg\"}}\n",
      "infos :  heisenberg $character\n"
     ]
    }
   ],
   "source": [
    "measurement = Ntv.obj({':$sensor': [3.51, 4.2, 'mg/m3', [4.1, 45.2]]})\n",
    "\n",
    "print('measurement : ', measurement)\n",
    "print('infos : ', measurement[1], measurement[3], measurement.type_str, '\\n')\n",
    "\n",
    "person = Ntv.obj({'main Breaking Bad character:$character': {'surname': 'white', 'first name': 'walter', 'alias': 'heisenberg'}})\n",
    "\n",
    "print('personage : ', person)\n",
    "print('infos : ', person['alias'], person.type_str)"
   ]
  },
  {
   "cell_type": "markdown",
   "id": "d3f439c4",
   "metadata": {},
   "source": [
    "## NTV data is nested\n",
    "- Two structures with ordered or non ordered collections are available\n",
    "- The type can be shared between entities included in the same entity\n",
    "- the type defined in a structure is a default type"
   ]
  },
  {
   "cell_type": "code",
   "execution_count": 7,
   "id": "4f52e294",
   "metadata": {},
   "outputs": [
    {
     "name": "stdout",
     "output_type": "stream",
     "text": [
      "equivalent structures ?  True\n",
      "coordinates and date in a typed structure :  {\"cities::point\": [{\"paris\": [4.1, 40.5]}, [4.5, 41.2], {\":date\": \"2012-02-15\"}]}\n"
     ]
    }
   ],
   "source": [
    "# ordered structure\n",
    "cities1 = Ntv.obj({'cities':        [{'paris:point': [4.1, 40.5]}, {':point': [4.5, 41.2]}]})\n",
    "cities2 = Ntv.obj({'cities::point': [{'paris':       [4.1, 40.5]},            [4.5, 41.2] ]})\n",
    "\n",
    "# unordered structure\n",
    "cities3 = Ntv.obj({'cities::point': {'paris':       [4.1, 40.5], 'lyon':       [4.5, 41.2]}})\n",
    "cities4 = Ntv.obj({'cities':        {'paris:point': [4.1, 40.5], 'lyon:point': [4.5, 41.2]}})\n",
    "\n",
    "print('equivalent structures ? ', cities1 == cities2 and cities3 == cities4)\n",
    "\n",
    "# default type in a structure\n",
    "cities5 = Ntv.obj({'cities::point': [{'paris': [4.1, 40.5]}, [4.5, 41.2], {':date': '2012-02-15'}]})\n",
    "print('coordinates and date in a typed structure : ', cities5)"
   ]
  },
  {
   "cell_type": "markdown",
   "id": "98e5e8c0",
   "metadata": {},
   "source": [
    "## NTV-json representation is equivalent to NTV entity\n",
    "- The entity build with the Json representation of another entity is identical to the original NTV entity"
   ]
  },
  {
   "cell_type": "code",
   "execution_count": 8,
   "id": "e9587a51",
   "metadata": {},
   "outputs": [
    {
     "data": {
      "text/plain": [
       "True"
      ]
     },
     "execution_count": 8,
     "metadata": {},
     "output_type": "execute_result"
    }
   ],
   "source": [
    "Ntv.obj(simple. to_obj()) == simple  and \\\n",
    "Ntv.obj(city.   to_obj()) == city    and \\\n",
    "Ntv.obj(cities2.to_obj()) == cities2 and \\\n",
    "Ntv.obj(cities4.to_obj()) == cities4"
   ]
  },
  {
   "cell_type": "markdown",
   "id": "c2f63b5c",
   "metadata": {},
   "source": [
    "## Options are available for NTV-json\n",
    "- selected values\n",
    "- encoded data\n",
    "- data format"
   ]
  },
  {
   "cell_type": "code",
   "execution_count": 9,
   "id": "84d5bc34",
   "metadata": {},
   "outputs": [
    {
     "name": "stdout",
     "output_type": "stream",
     "text": [
      "only values   :  [[4.1, 40.5], [4.5, 41.2]]\n",
      "Json text     :  {\"cities::point\": [{\"paris\": [4.1, 40.5]}, [4.5, 41.2]]}\n",
      "Json binary   :  b'\\xa1mcities::point\\x82\\xa1eparis\\xa1eparis\\x82\\xfb@\\x10ffffff\\xf9Q\\x10\\x82\\xf9D\\x80\\xfb@D\\x99\\x99\\x99\\x99\\x99\\x9a'\n",
      "tuple format  :  ('cities', 'point', [('paris', 'point', [4.1, 40.5]), ('', 'point', [4.5, 41.2])])\n",
      "object format :  {'cities::point': [{'paris': {'paris': <shapely.geometry.point.Point object at 0x000001B961C5E980>}}, <shapely.geometry.point.Point object at 0x000001B961C5D7B0>]}\n",
      "simple Json   :  {'l-cities-point': ['v-paris-point-[4.1, 40.5]', 'v-point-[4.5, 41.2]']}\n",
      "Json codes    :  {'lNT': ['vNT', 'vT']}\n"
     ]
    }
   ],
   "source": [
    "print('only values   : ', cities2.to_obj(simpleval=True))\n",
    "print('Json text     : ', cities2.to_obj(encoded=True))\n",
    "print('Json binary   : ', cities2.to_obj(encode_format='cbor', encoded=True))\n",
    "print('tuple format  : ', cities2.to_obj(encode_format='tuple'))\n",
    "print('object format : ', cities2.to_obj(encode_format='obj'))\n",
    "print('simple Json   : ', cities2.to_repr())\n",
    "print('Json codes    : ', cities2.to_repr(False, False, False))"
   ]
  },
  {
   "cell_type": "code",
   "execution_count": 14,
   "id": "4761ff4a",
   "metadata": {},
   "outputs": [
    {
     "name": "stdout",
     "output_type": "stream",
     "text": [
      "[['john', 'eric', 'judith'], [15, 54, 48], [[4.1, 40.5], [4.5, 41.2]]]\n"
     ]
    }
   ],
   "source": [
    "json = Ntv.obj({'student': [{'name': ['john', 'eric', 'judith']}, \n",
    "                               {'age': [15, 54, 48]}, \n",
    "                               {'city': [{\"paris\": [4.1, 40.5]}, [4.5, 41.2]]}]})\n",
    "print(json.to_obj(simpleval=True))"
   ]
  },
  {
   "cell_type": "code",
   "execution_count": 21,
   "id": "d61b9703",
   "metadata": {},
   "outputs": [
    {
     "name": "stdout",
     "output_type": "stream",
     "text": [
      "\"vNT\" \n",
      " {\"lN\": [{\"lNT\": [\"vT\", \"vT\", \"vT\"]}, {\"lNT\": [\"vT\", \"vT\", \"vT\"]}, {\"lNT\": [\"vNT\", \"vT\", \"vT\"]}]} \n",
      "\n",
      "('student', 'tab', [{'name::string': ['john', 'eric', 'judith']}, {'age::number': [15, 54, 48]}, {'city::point': [{'paris': [4.1, 40.5]}, [4.5, 41.2], [2.5, 40.2]]}])\n",
      "{\"age::number\": [15, 54, 48]}\n",
      "{\":number\": 48}\n",
      "  name::string  age::number             city::point\n",
      "0         john           15  {'paris': [4.1, 40.5]}\n",
      "1         eric           54             [4.5, 41.2]\n",
      "2       judith           48             [2.5, 40.2]\n"
     ]
    }
   ],
   "source": [
    "import pandas as pd\n",
    "df = Ntv.obj({'student:tab': [{'name::string': ['john', 'eric', 'judith']}, \n",
    "                               {'age::number': [15, 54, 48]}, \n",
    "                               {'city::point': [{\"paris\": [4.1, 40.5]}, [4.5, 41.2], [2.5, 40.2]]}]})\n",
    "df2 = Ntv.obj({'student': [{'name::string': ['john', 'eric', 'judith']}, \n",
    "                           {'age::number': [15, 54, 48]}, \n",
    "                           {'city::point': [{\"paris\": [4.1, 40.5]}, [4.5, 41.2], [2.5, 40.2]]}]})\n",
    "df_pd = pd.DataFrame({'name::string': ['john', 'eric', 'judith'], \n",
    "                      'age::number': [15, 54, 48], \n",
    "                      'city::point': [{\"paris\": [4.1, 40.5]}, [4.5, 41.2], [2.5, 40.2]]})\n",
    "\n",
    "print(repr(df), '\\n', repr(df2), '\\n')\n",
    "print(df.to_obj(encode_format='tuple'))\n",
    "fields = list(df2)\n",
    "print(fields[1])\n",
    "print(fields[1][2])\n",
    "print(df_pd)"
   ]
  },
  {
   "cell_type": "code",
   "execution_count": 16,
   "id": "a21d1383",
   "metadata": {},
   "outputs": [
    {
     "name": "stdout",
     "output_type": "stream",
     "text": [
      "{\"cities\": [{\"paris\": [4.1, 40.5]}, [4.5, 41.2], [2.5, 40.2]]}\n",
      "{\"lN\": [{\"lN\": [\"v\", \"v\"]}, {\"l\": [\"v\", \"v\"]}, {\"l\": [\"v\", \"v\"]}]}\n"
     ]
    },
    {
     "ename": "TypeError",
     "evalue": "str_type() missing 1 required positional argument: 'single'",
     "output_type": "error",
     "traceback": [
      "\u001b[1;31m---------------------------------------------------------------------------\u001b[0m",
      "\u001b[1;31mTypeError\u001b[0m                                 Traceback (most recent call last)",
      "\u001b[1;32m~\\AppData\\Local\\Temp\\ipykernel_6524\\3892806511.py\u001b[0m in \u001b[0;36m<module>\u001b[1;34m\u001b[0m\n\u001b[0;32m      8\u001b[0m \u001b[0mprint\u001b[0m\u001b[1;33m(\u001b[0m\u001b[0mrepr\u001b[0m\u001b[1;33m(\u001b[0m\u001b[0mnlis\u001b[0m\u001b[1;33m)\u001b[0m\u001b[1;33m)\u001b[0m\u001b[1;33m\u001b[0m\u001b[1;33m\u001b[0m\u001b[0m\n\u001b[0;32m      9\u001b[0m \u001b[1;33m\u001b[0m\u001b[0m\n\u001b[1;32m---> 10\u001b[1;33m \u001b[0mnlis\u001b[0m\u001b[1;33m.\u001b[0m\u001b[0mset_type\u001b[0m\u001b[1;33m(\u001b[0m\u001b[1;34m'point'\u001b[0m\u001b[1;33m)\u001b[0m\u001b[1;33m\u001b[0m\u001b[1;33m\u001b[0m\u001b[0m\n\u001b[0m\u001b[0;32m     11\u001b[0m \u001b[0mprint\u001b[0m\u001b[1;33m(\u001b[0m\u001b[0mnlis\u001b[0m\u001b[1;33m)\u001b[0m\u001b[1;33m\u001b[0m\u001b[1;33m\u001b[0m\u001b[0m\n\u001b[0;32m     12\u001b[0m \u001b[0mprint\u001b[0m\u001b[1;33m(\u001b[0m\u001b[0mrepr\u001b[0m\u001b[1;33m(\u001b[0m\u001b[0mnlis\u001b[0m\u001b[1;33m)\u001b[0m\u001b[1;33m)\u001b[0m\u001b[1;33m\u001b[0m\u001b[1;33m\u001b[0m\u001b[0m\n",
      "\u001b[1;32mD:\\philippe\\python ESstandard\\NTV\\json_ntv\\ntv.py\u001b[0m in \u001b[0;36mset_type\u001b[1;34m(self, typ)\u001b[0m\n\u001b[0;32m    288\u001b[0m         \u001b[1;32mif\u001b[0m \u001b[1;32mnot\u001b[0m \u001b[0misinstance\u001b[0m\u001b[1;33m(\u001b[0m\u001b[0mtyp\u001b[0m\u001b[1;33m,\u001b[0m \u001b[1;33m(\u001b[0m\u001b[0mstr\u001b[0m\u001b[1;33m,\u001b[0m \u001b[0mNtvType\u001b[0m\u001b[1;33m,\u001b[0m \u001b[0mNamespace\u001b[0m\u001b[1;33m)\u001b[0m\u001b[1;33m)\u001b[0m\u001b[1;33m:\u001b[0m\u001b[1;33m\u001b[0m\u001b[1;33m\u001b[0m\u001b[0m\n\u001b[0;32m    289\u001b[0m             \u001b[1;32mraise\u001b[0m \u001b[0mNtvError\u001b[0m\u001b[1;33m(\u001b[0m\u001b[1;34m'the type is not a valid type'\u001b[0m\u001b[1;33m)\u001b[0m\u001b[1;33m\u001b[0m\u001b[1;33m\u001b[0m\u001b[0m\n\u001b[1;32m--> 290\u001b[1;33m         \u001b[0mself\u001b[0m\u001b[1;33m.\u001b[0m\u001b[0mntv_type\u001b[0m \u001b[1;33m=\u001b[0m \u001b[0mstr_type\u001b[0m\u001b[1;33m(\u001b[0m\u001b[0mtyp\u001b[0m\u001b[1;33m)\u001b[0m\u001b[1;33m\u001b[0m\u001b[1;33m\u001b[0m\u001b[0m\n\u001b[0m\u001b[0;32m    291\u001b[0m \u001b[1;33m\u001b[0m\u001b[0m\n\u001b[0;32m    292\u001b[0m     \u001b[1;32mdef\u001b[0m \u001b[0mto_repr\u001b[0m\u001b[1;33m(\u001b[0m\u001b[0mself\u001b[0m\u001b[1;33m,\u001b[0m \u001b[0mnam\u001b[0m\u001b[1;33m=\u001b[0m\u001b[1;32mTrue\u001b[0m\u001b[1;33m,\u001b[0m \u001b[0mtyp\u001b[0m\u001b[1;33m=\u001b[0m\u001b[1;32mTrue\u001b[0m\u001b[1;33m,\u001b[0m \u001b[0mval\u001b[0m\u001b[1;33m=\u001b[0m\u001b[1;32mTrue\u001b[0m\u001b[1;33m,\u001b[0m \u001b[0mmaxi\u001b[0m\u001b[1;33m=\u001b[0m\u001b[1;36m10\u001b[0m\u001b[1;33m)\u001b[0m\u001b[1;33m:\u001b[0m\u001b[1;33m\u001b[0m\u001b[1;33m\u001b[0m\u001b[0m\n",
      "\u001b[1;31mTypeError\u001b[0m: str_type() missing 1 required positional argument: 'single'"
     ]
    }
   ],
   "source": [
    "lis = [[4.1, 40.5], [4.5, 41.2], [2.5, 40.2]]\n",
    "#lis2 = {':':[[4.1, 40.5], [4.5, 41.2], [2.5, 40.2]]}\n",
    "nlis =Ntv.obj(lis)\n",
    "\n",
    "nlis.set_name('cities')\n",
    "nlis[0].set_name('paris')\n",
    "print(nlis)\n",
    "print(repr(nlis))\n",
    "\n",
    "nlis.set_type('point')\n",
    "print(nlis)\n",
    "print(repr(nlis))"
   ]
  }
 ],
 "metadata": {
  "kernelspec": {
   "display_name": "Python 3 (ipykernel)",
   "language": "python",
   "name": "python3"
  },
  "language_info": {
   "codemirror_mode": {
    "name": "ipython",
    "version": 3
   },
   "file_extension": ".py",
   "mimetype": "text/x-python",
   "name": "python",
   "nbconvert_exporter": "python",
   "pygments_lexer": "ipython3",
   "version": "3.10.9"
  }
 },
 "nbformat": 4,
 "nbformat_minor": 5
}
