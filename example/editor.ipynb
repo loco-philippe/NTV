{
 "cells": [
  {
   "cell_type": "markdown",
   "id": "07e9342f",
   "metadata": {},
   "source": [
    "# JSON and NTV data editor\n",
    "\n",
    "This notebook presents with an example the functionality available to access, represent, update and transform JSON (or NTV) data.\n",
    "\n",
    "\n",
    "## Summary\n",
    "*(active link on jupyter Notebook or Nbviewer)*\n",
    "- [Example](#Example)\n",
    "- [Select data](#Select-data)\n",
    "    - [JSON selecting](#JSON-selecting)\n",
    "    - [NTV selecting](#NTV-selecting)\n",
    "    - [Tree navigation](#Tree-navigation)\n",
    "    - [Iterator](#Iterator)\n",
    "- [Representation](#Representation)\n",
    "- [Transform data](#Transform-data)\n",
    "    - [Change structure](#Change-structure)\n",
    "    - [Add semantic type](#Add-semantic-type)\n",
    "- [Update data](#Update-data)\n",
    "- [Restore initial structure](#Restore-initial-structure)\n",
    "\n",
    "## References\n",
    "- [JSON-NTV specification](https://datatracker.ietf.org/doc/draft-thomy-json-ntv/)\n",
    "- [JSON-NTV classes and methods](https://loco-philippe.github.io/NTV/json_ntv.html)\n",
    "\n",
    "This Notebook can also be viewed at [nbviewer](http://nbviewer.org/github/loco-philippe/NTV/tree/main/uses)\n",
    "\n",
    "-----"
   ]
  },
  {
   "cell_type": "code",
   "execution_count": 1,
   "id": "bbff2c62",
   "metadata": {},
   "outputs": [],
   "source": [
    "from copy import copy\n",
    "from pprint import pprint\n",
    "from datetime import date, timedelta, datetime\n",
    "from json_ntv import Ntv\n",
    "from shapely import box"
   ]
  },
  {
   "cell_type": "markdown",
   "id": "78c23cbc",
   "metadata": {},
   "source": [
    "## Example"
   ]
  },
  {
   "cell_type": "code",
   "execution_count": 2,
   "id": "bd0ff092",
   "metadata": {},
   "outputs": [],
   "source": [
    "# This example is partially structured : only some data is defined with keywords\n",
    "measure = {\n",
    "    \"location\": [{\"city\": \"paris\"}, [4.1, 40.5]],\n",
    "    \"campaign\": {\n",
    "        \"planning\": {\n",
    "            \"period\": \"january 2023\",\n",
    "            \"from\": \"2023-01-01\",\n",
    "            \"to\": \"2023-01-20\",\n",
    "        },\n",
    "        \"property\": \"air pollutants\",\n",
    "        \"my personnal comment\": {\n",
    "            \"result\": \"success\",\n",
    "            \"difficulty\": \"first air pollutants campaign in Paris\",\n",
    "        },\n",
    "    },\n",
    "    \"pollutants\": [{\"NO2\": \"mcg/m3\"}, {\"CO\": \"mg/m3\"}],\n",
    "    \"measurement\": {\n",
    "        \"sample\": \"2023-01-10\",\n",
    "        \"values\": [[\"08:10:00\", 21, 5], [\"10:20:00\", 10, 10], [\"17:16:00\", 30, 15]],\n",
    "    },\n",
    "}\n",
    "n_measure = Ntv.obj(measure)  # NTV object\n",
    "t_measure = n_measure.tree.dic_nodes  # NTV object as tree"
   ]
  },
  {
   "cell_type": "markdown",
   "id": "0c78dd40",
   "metadata": {},
   "source": [
    "## Select data"
   ]
  },
  {
   "cell_type": "markdown",
   "id": "91b0b8ba",
   "metadata": {},
   "source": [
    "### JSON selecting\n",
    "- selector is index for the array and key for the objects"
   ]
  },
  {
   "cell_type": "code",
   "execution_count": 3,
   "id": "68e4bc70",
   "metadata": {},
   "outputs": [
    {
     "name": "stdout",
     "output_type": "stream",
     "text": [
      "10:20:00\n"
     ]
    }
   ],
   "source": [
    "# access to the measurement time of the second value\n",
    "print(measure[\"measurement\"][\"values\"][1][0])\n",
    "\n",
    "# how to access to the 'result' of the 'campaign' (if i don't know the key)  ?"
   ]
  },
  {
   "cell_type": "markdown",
   "id": "3c149ce6",
   "metadata": {},
   "source": [
    "### NTV selecting\n",
    "- selector is index or keys\n",
    "- selector is a json-pointer\n",
    "- selector is an absolute keys"
   ]
  },
  {
   "cell_type": "code",
   "execution_count": 4,
   "id": "073259f0-570e-4e76-99bd-ce6a0da5f9f6",
   "metadata": {},
   "outputs": [
    {
     "data": {
      "text/plain": [
       "\"10:20:00\""
      ]
     },
     "execution_count": 4,
     "metadata": {},
     "output_type": "execute_result"
    }
   ],
   "source": [
    "n_measure[\"#/3/1/1/0\"]"
   ]
  },
  {
   "cell_type": "code",
   "execution_count": 5,
   "id": "f4b1155f",
   "metadata": {},
   "outputs": [
    {
     "name": "stdout",
     "output_type": "stream",
     "text": [
      "\"10:20:00\"\n",
      "\"10:20:00\"\n",
      "\"10:20:00\"\n",
      "\"10:20:00\"\n",
      "\"10:20:00\"\n",
      "\"10:20:00\"\n",
      "success\n",
      "success\n"
     ]
    }
   ],
   "source": [
    "# access to the measurement time of the second value\n",
    "print(n_measure[\"measurement\"][\"values\"][1][0])\n",
    "print(n_measure[3][\"values\"][1][0])\n",
    "print(n_measure[3][1][1][0])\n",
    "print(n_measure[\"#/measurement/values/1/0\"])\n",
    "print(n_measure[\"#/3/1/1/0\"])\n",
    "print(t_measure[\"values\"].val[1][0])\n",
    "\n",
    "# how to access to the 'period' of the 'campaign'  ?\n",
    "print(t_measure[\"result\"].val)\n",
    "print(n_measure[\"campaign\"][2][\"result\"].val)"
   ]
  },
  {
   "cell_type": "markdown",
   "id": "146d30a5",
   "metadata": {},
   "source": [
    "### Tree navigation"
   ]
  },
  {
   "cell_type": "code",
   "execution_count": 6,
   "id": "1a4abb20",
   "metadata": {
    "scrolled": true
   },
   "outputs": [
    {
     "name": "stdout",
     "output_type": "stream",
     "text": [
      "['result', 'difficulty']\n",
      "[{'result': 'success'}, {'difficulty': 'first air pollutants campaign in Paris'}]\n"
     ]
    }
   ],
   "source": [
    "# navigate in the tree\n",
    "print(t_measure[\"from\"].parent.parent[\"my personnal comment\"].childs(nam=True))\n",
    "print(t_measure[\"from\"].parent.parent[\"my personnal comment\"].childs(obj=True))"
   ]
  },
  {
   "cell_type": "markdown",
   "id": "80c68e95",
   "metadata": {},
   "source": [
    "### Iterator\n",
    "NtvTree is an iterator of the Ntv tree.\n",
    "Four lists can be iterated:\n",
    "- nodes : all the nodes\n",
    "- dic_nodes : nodes with a name (dict : key = name, value = node)\n",
    "- leaf_nodes : NtvSingle nodes\n",
    "- inner_nodes : NtvList nodes"
   ]
  },
  {
   "cell_type": "code",
   "execution_count": 7,
   "id": "2f70b039",
   "metadata": {},
   "outputs": [
    {
     "name": "stdout",
     "output_type": "stream",
     "text": [
      "tree characteristics (size, height, breadth):  33 4 21\n",
      "\n",
      "names:\n",
      " ['location', 'city', 'campaign', 'planning', 'period', 'from', 'to', 'property', 'my personnal comment', 'result', 'difficulty', 'pollutants', 'NO2', 'CO', 'measurement', 'sample', 'values']\n",
      "\n",
      "values:\n",
      " ['paris', 4.1, 40.5, 'january 2023', '2023-01-01', '2023-01-20', 'air pollutants', 'success', 'first air pollutants campaign in Paris', 'mcg/m3', 'mg/m3', '2023-01-10', '08:10:00', 21, 5, '10:20:00', 10, 10, '17:16:00', 30, 15]\n",
      "\n",
      "length:\n",
      " [4, 2, 2, 3, 3, 2, 2, 2, 3, 3, 3, 3]\n",
      "\n",
      "mute nodes:\n",
      " ['', '/location/1', '/measurement/values/0', '/measurement/values/1', '/measurement/values/2']\n"
     ]
    }
   ],
   "source": [
    "# <xx>.tree is an alias of NtvTree(<xx>)\n",
    "print(\n",
    "    \"tree characteristics (size, height, breadth): \",\n",
    "    n_measure.tree.size,\n",
    "    n_measure.tree.height,\n",
    "    n_measure.tree.breadth,\n",
    ")\n",
    "print(\"\\nnames:\\n\", list(n_measure.tree.dic_nodes.keys()))\n",
    "print(\"\\nvalues:\\n\", [ntv.val for ntv in n_measure.tree.leaf_nodes])\n",
    "print(\"\\nlength:\\n\", [len(ntv) for ntv in n_measure.tree.inner_nodes])\n",
    "print(\n",
    "    \"\\nmute nodes:\\n\",\n",
    "    [str(ntv.pointer()) for ntv in n_measure.tree if not ntv.name and not ntv.type_str],\n",
    ")"
   ]
  },
  {
   "cell_type": "markdown",
   "id": "c641d800",
   "metadata": {},
   "source": [
    "## Representation\n",
    "- JSON with specific data\n",
    "- with a tree"
   ]
  },
  {
   "cell_type": "code",
   "execution_count": 8,
   "id": "128ca555",
   "metadata": {},
   "outputs": [
    {
     "name": "stdout",
     "output_type": "stream",
     "text": [
      "With expanded data:\n",
      "{'E': 'NtvList',\n",
      " 'N': 'location',\n",
      " 'T': '',\n",
      " 'V': [{'E': 'NtvSingle', 'N': 'city', 'T': 'json', 'V': 'paris'},\n",
      "       {'E': 'NtvList',\n",
      "        'N': '',\n",
      "        'T': '',\n",
      "        'V': [{'E': 'NtvSingle', 'N': '', 'T': 'json', 'V': 4.1},\n",
      "              {'E': 'NtvSingle', 'N': '', 'T': 'json', 'V': 40.5}]}]}\n",
      "\n",
      "With values only:\n",
      "[['paris', [4.1, 40.5]],\n",
      " [['january 2023', '2023-01-01', '2023-01-20'], 'air pollutants', ['success', 'first air pollutants campaign in Paris']],\n",
      " ['mcg/m3', 'mg/m3'],\n",
      " ['2023-01-10', [['08:10:00', 21, 5], ['10:20:00', 10, 10], ['17:16:00', 30, 15]]]]\n",
      "\n",
      "With data codes:\n",
      " {\"location\": [{\"city\": \"paris\"}, [4.1, 40.5]], \"campaign\": {\"planning\": {\"period\": \"january 2023\", \"from\": \"2023-01-01\", \"to\": \"2023-01-20\"}, \"property\": \"air pollutants\", \"my personnal comment\": {\"result\": \"success\", \"difficulty\": \"first air pollutants campaign in Paris\"}}, \"pollutants\": {\"NO2\": \"mcg/m3\", \"CO\": \"mg/m3\"}, \"measurement\": {\"sample\": \"2023-01-10\", \"values\": [[\"___\"], [\"___\"], [\"___\"]]}}\n",
      "\n",
      "With JSON-array only:\n",
      "[{'location': [{'city': 'paris'}, [4.1, 40.5]]},\n",
      " {'campaign': [{'planning': [{'period': 'january 2023'}, {'from': '2023-01-01'}, {'to': '2023-01-20'}]},\n",
      "               {'property': 'air pollutants'},\n",
      "               {'my personnal comment': [{'result': 'success'}, {'difficulty': 'first air pollutants campaign in Paris'}]}]},\n",
      " {'pollutants': [{'NO2': 'mcg/m3'}, {'CO': 'mg/m3'}]},\n",
      " {'measurement': [{'sample': '2023-01-10'}, {'values': [['08:10:00', 21, 5], ['10:20:00', 10, 10], ['17:16:00', 30, 15]]}]}]\n",
      "\n",
      "With binary data:\n",
      " b'\\xa4hlocation\\x82\\xa1dcityeparis\\x82\\xfb@\\x10ffffff\\xfb@D@\\x00\\x00\\x00\\x00\\x00hcampaign\\xa3hplanning\\xa3fperiodljanuary 2023dfromj2023-01-01btoj2023-01-20hpropertynair pollutantstmy personnal comment\\xa2fresultgsuccessjdifficultyx&first air pollutants campaign in Parisjpollutants\\xa2cNO2fmcg/m3bCOemg/m3kmeasurement\\xa2fsamplej2023-01-10fvalues\\x83\\x83h08:10:00\\x15\\x05\\x83h10:20:00\\n\\n\\x83h17:16:00\\x18\\x1e\\x0f'\n"
     ]
    }
   ],
   "source": [
    "print(\"With expanded data:\")\n",
    "pprint(n_measure[\"location\"].expand(), width=120)\n",
    "print(\"\\nWith values only:\")\n",
    "pprint(n_measure.to_obj(simpleval=True), width=140)\n",
    "print(\"\\nWith data codes:\\n\", repr(n_measure))  # l/s : NtvList/NtvSingle, N : with Name\n",
    "print(\"\\nWith JSON-array only:\")\n",
    "pprint(n_measure.to_obj(json_array=True), width=140)\n",
    "print(\"\\nWith binary data:\\n\", n_measure.to_obj(encoded=True, format=\"cbor\"))"
   ]
  },
  {
   "cell_type": "code",
   "execution_count": 9,
   "id": "b1414b46",
   "metadata": {},
   "outputs": [
    {
     "data": {
      "text/html": [
       "<img src=\"https://mermaid.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\"/>"
      ],
      "text/plain": [
       "<IPython.core.display.Image object>"
      ]
     },
     "metadata": {},
     "output_type": "display_data"
    }
   ],
   "source": [
    "n_measure.to_mermaid(\"measure flowchart\", disp=True)"
   ]
  },
  {
   "cell_type": "markdown",
   "id": "7d158ea0",
   "metadata": {},
   "source": [
    "## Transform data\n",
    "- change structure\n",
    "- add semantic type"
   ]
  },
  {
   "cell_type": "markdown",
   "id": "2ea0cf33",
   "metadata": {},
   "source": [
    "### Change structure"
   ]
  },
  {
   "cell_type": "code",
   "execution_count": 10,
   "id": "c76f9f4b",
   "metadata": {},
   "outputs": [],
   "source": [
    "# transform a NtvList into a NtvSingle\n",
    "n_measure[\"location\"][1] = n_measure[\"location\"][1].to_ntvsingle(\n",
    "    name=\"coord\", typ=\"point\"\n",
    ")\n",
    "# move a branch of the tree\n",
    "n_measure[\"measurement\"].insert(0, n_measure[\"pollutants\"])"
   ]
  },
  {
   "cell_type": "markdown",
   "id": "c1b7cc4b",
   "metadata": {},
   "source": [
    "### Add semantic type"
   ]
  },
  {
   "cell_type": "code",
   "execution_count": 11,
   "id": "7d9b1d0a",
   "metadata": {},
   "outputs": [],
   "source": [
    "# add 'type' attribute\n",
    "t_measure[\"from\"].set_type(\"date\")\n",
    "t_measure[\"to\"].set_type(\"date\")\n",
    "t_measure[\"sample\"].set_type(\"date\")\n",
    "for val in t_measure[\"values\"]:\n",
    "    val[0].set_type(\"time\")"
   ]
  },
  {
   "cell_type": "code",
   "execution_count": 12,
   "id": "5b7c96e8",
   "metadata": {},
   "outputs": [
    {
     "name": "stdout",
     "output_type": "stream",
     "text": [
      "{'campaign': {'my personnal comment': {'difficulty': 'first air pollutants campaign in Paris', 'result': 'success'},\n",
      "              'planning': {'from:date': '2023-01-01', 'period': 'january 2023', 'to:date': '2023-01-20'},\n",
      "              'property': 'air pollutants'},\n",
      " 'location': {'city': 'paris', 'coord:point': [4.1, 40.5]},\n",
      " 'measurement': {'pollutants': {'CO': 'mg/m3', 'NO2': 'mcg/m3'},\n",
      "                 'sample:date': '2023-01-10',\n",
      "                 'values': [[{':time': '08:10:00'}, 21, 5], [{':time': '10:20:00'}, 10, 10], [{':time': '17:16:00'}, 30, 15]]}}\n"
     ]
    }
   ],
   "source": [
    "# type is included in the JSON name\n",
    "pprint(n_measure.to_obj(), width=140)"
   ]
  },
  {
   "cell_type": "code",
   "execution_count": 13,
   "id": "bc74e1de",
   "metadata": {
    "scrolled": true
   },
   "outputs": [
    {
     "data": {
      "text/html": [
       "<img src=\"https://mermaid.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\"/>"
      ],
      "text/plain": [
       "<IPython.core.display.Image object>"
      ]
     },
     "metadata": {},
     "output_type": "display_data"
    }
   ],
   "source": [
    "n_measure.to_mermaid(\"add semantic types\", disp=True)"
   ]
  },
  {
   "cell_type": "markdown",
   "id": "a4a1c719",
   "metadata": {},
   "source": [
    "## Update data\n",
    "- JSON value can be converted in object matching to the type"
   ]
  },
  {
   "cell_type": "code",
   "execution_count": 14,
   "id": "b309c8a5",
   "metadata": {},
   "outputs": [
    {
     "name": "stdout",
     "output_type": "stream",
     "text": [
      "{'campaign': {'my personnal comment': {'difficulty': 'first air pollutants campaign in Paris', 'result': 'success'},\n",
      "              'planning': {'from': datetime.date(2023, 1, 1), 'period': 'january 2023', 'to': datetime.date(2023, 1, 20)},\n",
      "              'property': 'air pollutants'},\n",
      " 'location': {'city': 'paris', 'coord': <POINT (4.1 40.5)>},\n",
      " 'measurement': {'pollutants': {'CO': 'mg/m3', 'NO2': 'mcg/m3'},\n",
      "                 'sample': datetime.date(2023, 1, 10),\n",
      "                 'values': [[datetime.time(8, 10), 21, 5], [datetime.time(10, 20), 10, 10], [datetime.time(17, 16), 30, 15]]}}\n"
     ]
    }
   ],
   "source": [
    "# convert JSON value into object\n",
    "o_measure = n_measure.to_obj_ntv()\n",
    "pprint(o_measure.to_obj(fast=True), width=140)"
   ]
  },
  {
   "cell_type": "code",
   "execution_count": 15,
   "id": "5758e7dc",
   "metadata": {},
   "outputs": [],
   "source": [
    "# update objects : add one day to the dates, add one hour to the times, change point into box\n",
    "for ntv in o_measure.tree.leaf_nodes:\n",
    "    if ntv.type_str == \"date\":\n",
    "        ntv.set_value(ntv.val + timedelta(days=1))\n",
    "    if ntv.type_str == \"time\":\n",
    "        ntv.set_value(\n",
    "            (datetime.combine(date.today(), ntv.val) + timedelta(hours=1)).time()\n",
    "        )\n",
    "    if ntv.type_str == \"point\":\n",
    "        r = 0.01\n",
    "        ntv.set_value(\n",
    "            box(\n",
    "                round(ntv.val.x - r, 2),\n",
    "                round(ntv.val.y - r, 2),\n",
    "                round(ntv.val.x + r, 2),\n",
    "                round(ntv.val.y + r, 2),\n",
    "            ),\n",
    "            fast=True,\n",
    "        )\n",
    "        ntv.set_type(\"polygon\")"
   ]
  },
  {
   "cell_type": "code",
   "execution_count": 16,
   "id": "51f302db",
   "metadata": {},
   "outputs": [],
   "source": [
    "# convert object into JSON value\n",
    "n_measure2 = o_measure.to_json_ntv()"
   ]
  },
  {
   "cell_type": "code",
   "execution_count": 17,
   "id": "b485c2f3",
   "metadata": {
    "scrolled": true
   },
   "outputs": [
    {
     "name": "stdout",
     "output_type": "stream",
     "text": [
      "{'campaign': {'my personnal comment': {'difficulty': 'first air pollutants campaign in Paris', 'result': 'success'},\n",
      "              'planning': {'from:date': '2023-01-02', 'period': 'january 2023', 'to:date': '2023-01-21'},\n",
      "              'property': 'air pollutants'},\n",
      " 'location': {'city': 'paris', 'coord:polygon': [[[4.11, 40.49], [4.11, 40.51], [4.09, 40.51], [4.09, 40.49], [4.11, 40.49]]]},\n",
      " 'measurement': {'pollutants': {'CO': 'mg/m3', 'NO2': 'mcg/m3'},\n",
      "                 'sample:date': '2023-01-11',\n",
      "                 'values': [[{':time': '09:10:00'}, 21, 5], [{':time': '11:20:00'}, 10, 10], [{':time': '18:16:00'}, 30, 15]]}}\n"
     ]
    }
   ],
   "source": [
    "pprint(n_measure2.to_obj(), width=140)"
   ]
  },
  {
   "cell_type": "code",
   "execution_count": 18,
   "id": "d6f704ee",
   "metadata": {},
   "outputs": [
    {
     "data": {
      "text/html": [
       "<img src=\"https://mermaid.ink/img/LS0tCnRpdGxlOiB1cGRhdGUgZGF0YQotLS0KZmxvd2NoYXJ0IFRECiAgICAwKCI8Yj46OjwvYj4iKQogICAgMC8wKCI8Yj5sb2NhdGlvbjwvYj4iKQogICAgMC8wLzBbIjxiPmNpdHk8L2I+CjxpPnBhcmlzPC9pPiJdCiAgICAwLzAvMVsiPGI+Y29vcmQ8L2I+CnBvbHlnb24KPGk+W1tbNC4xMSwgNDAuNDldLCBbNC4xMSwgNDAuNTFdLCBbNC4wOSwgNDAuNTFdLCBbNC4wOSwgNDAuNDldLCBbNC4xMSwgNDAuNDldXV08L2k+Il0KICAgIDAvMSgiPGI+Y2FtcGFpZ248L2I+IikKICAgIDAvMS8wKCI8Yj5wbGFubmluZzwvYj4iKQogICAgMC8xLzAvMFsiPGI+cGVyaW9kPC9iPgo8aT5qYW51YXJ5IDIwMjM8L2k+Il0KICAgIDAvMS8wLzFbIjxiPmZyb208L2I+CmRhdGUKPGk+MjAyMy0wMS0wMjwvaT4iXQogICAgMC8xLzAvMlsiPGI+dG88L2I+CmRhdGUKPGk+MjAyMy0wMS0yMTwvaT4iXQogICAgMC8xLzFbIjxiPnByb3BlcnR5PC9iPgo8aT5haXIgcG9sbHV0YW50czwvaT4iXQogICAgMC8xLzIoIjxiPm15IHBlcnNvbm5hbCBjb21tZW50PC9iPiIpCiAgICAwLzEvMi8wWyI8Yj5yZXN1bHQ8L2I+CjxpPnN1Y2Nlc3M8L2k+Il0KICAgIDAvMS8yLzFbIjxiPmRpZmZpY3VsdHk8L2I+CjxpPmZpcnN0IGFpciBwb2xsdXRhbnRzIGNhbXBhaWduIGluIFBhcmlzPC9pPiJdCiAgICAwLzIoIjxiPm1lYXN1cmVtZW50PC9iPiIpCiAgICAwLzIvMCgiPGI+cG9sbHV0YW50czwvYj4iKQogICAgMC8yLzAvMFsiPGI+Tk8yPC9iPgo8aT5tY2cvbTM8L2k+Il0KICAgIDAvMi8wLzFbIjxiPkNPPC9iPgo8aT5tZy9tMzwvaT4iXQogICAgMC8yLzFbIjxiPnNhbXBsZTwvYj4KZGF0ZQo8aT4yMDIzLTAxLTExPC9pPiJdCiAgICAwLzIvMigiPGI+dmFsdWVzPC9iPiIpCiAgICAwLzIvMi8wKCI8Yj46OjwvYj4iKQogICAgMC8yLzIvMC8wWyJ0aW1lCjxpPjA5OjEwOjAwPC9pPiJdCiAgICAwLzIvMi8wLzFbIjxpPjIxPC9pPiJdCiAgICAwLzIvMi8wLzJbIjxpPjU8L2k+Il0KICAgIDAvMi8yLzEoIjxiPjo6PC9iPiIpCiAgICAwLzIvMi8xLzBbInRpbWUKPGk+MTE6MjA6MDA8L2k+Il0KICAgIDAvMi8yLzEvMVsiPGk+MTA8L2k+Il0KICAgIDAvMi8yLzEvMlsiPGk+MTA8L2k+Il0KICAgIDAvMi8yLzIoIjxiPjo6PC9iPiIpCiAgICAwLzIvMi8yLzBbInRpbWUKPGk+MTg6MTY6MDA8L2k+Il0KICAgIDAvMi8yLzIvMVsiPGk+MzA8L2k+Il0KICAgIDAvMi8yLzIvMlsiPGk+MTU8L2k+Il0KICAgIDAvMCAtLT4gMC8wLzAKICAgIDAvMCAtLT4gMC8wLzEKICAgIDAgLS0+IDAvMAogICAgMC8xLzAgLS0+IDAvMS8wLzAKICAgIDAvMS8wIC0tPiAwLzEvMC8xCiAgICAwLzEvMCAtLT4gMC8xLzAvMgogICAgMC8xIC0tPiAwLzEvMAogICAgMC8xIC0tPiAwLzEvMQogICAgMC8xLzIgLS0+IDAvMS8yLzAKICAgIDAvMS8yIC0tPiAwLzEvMi8xCiAgICAwLzEgLS0+IDAvMS8yCiAgICAwIC0tPiAwLzEKICAgIDAvMi8wIC0tPiAwLzIvMC8wCiAgICAwLzIvMCAtLT4gMC8yLzAvMQogICAgMC8yIC0tPiAwLzIvMAogICAgMC8yIC0tPiAwLzIvMQogICAgMC8yLzIvMCAtLT4gMC8yLzIvMC8wCiAgICAwLzIvMi8wIC0tPiAwLzIvMi8wLzEKICAgIDAvMi8yLzAgLS0+IDAvMi8yLzAvMgogICAgMC8yLzIgLS0+IDAvMi8yLzAKICAgIDAvMi8yLzEgLS0+IDAvMi8yLzEvMAogICAgMC8yLzIvMSAtLT4gMC8yLzIvMS8xCiAgICAwLzIvMi8xIC0tPiAwLzIvMi8xLzIKICAgIDAvMi8yIC0tPiAwLzIvMi8xCiAgICAwLzIvMi8yIC0tPiAwLzIvMi8yLzAKICAgIDAvMi8yLzIgLS0+IDAvMi8yLzIvMQogICAgMC8yLzIvMiAtLT4gMC8yLzIvMi8yCiAgICAwLzIvMiAtLT4gMC8yLzIvMgogICAgMC8yIC0tPiAwLzIvMgogICAgMCAtLT4gMC8yCg==\"/>"
      ],
      "text/plain": [
       "<IPython.core.display.Image object>"
      ]
     },
     "metadata": {},
     "output_type": "display_data"
    }
   ],
   "source": [
    "n_measure2.to_mermaid(\"update data\", disp=True)"
   ]
  },
  {
   "cell_type": "markdown",
   "id": "c06dde64",
   "metadata": {},
   "source": [
    "## Restore initial structure"
   ]
  },
  {
   "cell_type": "code",
   "execution_count": 19,
   "id": "29025be8",
   "metadata": {},
   "outputs": [
    {
     "name": "stdout",
     "output_type": "stream",
     "text": [
      "{\"coord:point\": [4.1, 40.5]}\n"
     ]
    }
   ],
   "source": [
    "# restore Point coordinate\n",
    "coord = copy(o_measure[\"location\"][\"coord\"])\n",
    "coord.set_value(coord.val.centroid)\n",
    "coord.set_type(\"point\")\n",
    "coord = coord.to_json_ntv()\n",
    "coord.set_value([round(coord.val[0], 2), round(coord.val[1], 2)])\n",
    "print(coord)"
   ]
  },
  {
   "cell_type": "code",
   "execution_count": 20,
   "id": "af3586b4",
   "metadata": {},
   "outputs": [
    {
     "data": {
      "text/html": [
       "<img src=\"https://mermaid.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\"/>"
      ],
      "text/plain": [
       "<IPython.core.display.Image object>"
      ]
     },
     "metadata": {},
     "output_type": "display_data"
    }
   ],
   "source": [
    "# replace box with point coordinates\n",
    "n_measure2[\"location\"][\"coord\"].replace(coord)\n",
    "# remove all the types\n",
    "n_measure3 = n_measure2.no_type()\n",
    "# replace coord by a list\n",
    "n_measure3[\"location\"][1] = n_measure3.tree.dic_nodes[\"coord\"].to_ntvlist()\n",
    "# remove coordinates name\n",
    "n_measure3[\"location\"][1].set_name()\n",
    "# move pollutants in the tree\n",
    "n_measure3.insert(2, n_measure3.tree.dic_nodes[\"pollutants\"])\n",
    "\n",
    "n_measure3.to_mermaid(\"update data\", disp=True)"
   ]
  },
  {
   "cell_type": "code",
   "execution_count": 21,
   "id": "f3a86055",
   "metadata": {},
   "outputs": [
    {
     "name": "stdout",
     "output_type": "stream",
     "text": [
      "{'campaign': {'my personnal comment': {'difficulty': 'first air pollutants campaign in Paris', 'result': 'success'},\n",
      "              'planning': {'from': '2023-01-02', 'period': 'january 2023', 'to': '2023-01-21'},\n",
      "              'property': 'air pollutants'},\n",
      " 'location': [{'city': 'paris'}, [4.1, 40.5]],\n",
      " 'measurement': {'sample': '2023-01-11', 'values': [['09:10:00', 21, 5], ['11:20:00', 10, 10], ['18:16:00', 30, 15]]},\n",
      " 'pollutants': {'CO': 'mg/m3', 'NO2': 'mcg/m3'}}\n"
     ]
    }
   ],
   "source": [
    "pprint(n_measure3.to_obj(), width=140)"
   ]
  }
 ],
 "metadata": {
  "kernelspec": {
   "display_name": "Python 3 (ipykernel)",
   "language": "python",
   "name": "python3"
  },
  "language_info": {
   "codemirror_mode": {
    "name": "ipython",
    "version": 3
   },
   "file_extension": ".py",
   "mimetype": "text/x-python",
   "name": "python",
   "nbconvert_exporter": "python",
   "pygments_lexer": "ipython3",
   "version": "3.11.8"
  }
 },
 "nbformat": 4,
 "nbformat_minor": 5
}
