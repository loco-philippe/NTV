{
 "cells": [
  {
   "cell_type": "markdown",
   "id": "343c7b20",
   "metadata": {},
   "source": [
    "## a JSON format compatible with the Pandas data structure \n",
    "-------     \n",
    "      \n",
    "### introduction\n",
    "The data type is not explicitely taken into account in the current JSON interface.     \n",
    "    \n",
    "The existing solution is to use a data schema in addition.\n",
    "\n",
    "### proposal\n",
    "To have a simple, compact and reversible solution, I propose to use the [JSON-NTV format (Named and Typed Value)](https://github.com/loco-philippe/NTV#readme) - which integrates the notion of type - and its JSON-TAB variation for tabular data.    \n",
    "This solution allows to include a large number of types (not necessarily Pandas dtype).\n",
    "\n",
    "### content\n",
    "This NoteBook uses examples to present some key points\n",
    "\n",
    "*(active link on jupyter Notebook or Nbviewer)*\n",
    "- [Series](#Series)\n",
    "    - [Simple example](#Simple-example)\n",
    "    - [Typed example](#Typed-example)\n",
    "    - [Examples with a non-Pandas type](#Examples-with-a-non-Pandas-type)\n",
    "    - [Categorical examples](#Categorical-examples)\n",
    "- [DataFrame](#DataFrame)\n",
    "    - [Initial example](#Initial-example)\n",
    "    - [Complete example](#Complete-example)\n",
    "    - [Json data can be annotated](#Json-data-can-be-annotated)\n",
    "    - [Categorical data can be included](#Categorical-data-can-be-included)"
   ]
  },
  {
   "cell_type": "code",
   "execution_count": 1,
   "id": "d00a0cb6",
   "metadata": {},
   "outputs": [],
   "source": [
    "from json_ntv import Ntv\n",
    "import pandas as pd\n",
    "\n",
    "# the Series Connector is associated with NtvType 'field' in dicobj \n",
    "# the DataFrame Connector is associated with NtvType 'tab' in dicobj\n",
    "option = {'encode_format': 'obj', 'dicobj': {'field': 'SeriesConnec', 'tab': 'DataFrameConnec'}}"
   ]
  },
  {
   "cell_type": "markdown",
   "id": "ca787e67",
   "metadata": {},
   "source": [
    "## Series"
   ]
  },
  {
   "cell_type": "markdown",
   "id": "14204c2d",
   "metadata": {},
   "source": [
    "### Simple example"
   ]
  },
  {
   "cell_type": "code",
   "execution_count": 2,
   "id": "62319579",
   "metadata": {},
   "outputs": [
    {
     "name": "stdout",
     "output_type": "stream",
     "text": [
      "pandas object :\n",
      "0    1\n",
      "1    2\n",
      "2    3\n",
      "Name: value, dtype: int64\n",
      "\n",
      "Json representation : \n",
      "     {\":field\": {\"value\": [1, 2, 3]}}\n",
      "\n",
      "is Json translation reversible ?  True\n"
     ]
    }
   ],
   "source": [
    "field_data = {'value': [1, 2, 3]}\n",
    "field = Ntv.obj({':field': field_data})\n",
    "sr = field.to_obj(**option)\n",
    "# pandas dtype conform to Ntv type\n",
    "print('pandas object :\\n' + str(sr))\n",
    "print('\\nJson representation : \\n    ', Ntv.obj(sr))\n",
    "print('\\nis Json translation reversible ? ', sr.equals(Ntv.obj(sr).to_obj(**option)))"
   ]
  },
  {
   "cell_type": "markdown",
   "id": "954c6e65",
   "metadata": {},
   "source": [
    "### Typed example"
   ]
  },
  {
   "cell_type": "code",
   "execution_count": 3,
   "id": "a556868a",
   "metadata": {},
   "outputs": [
    {
     "name": "stdout",
     "output_type": "stream",
     "text": [
      "pandas object :\n",
      " 0   1964-01-01\n",
      "1   1985-02-05\n",
      "2   2022-01-21\n",
      "Name: dates, dtype: datetime64[ns]\n",
      "\n",
      "Json representation : \n",
      "     {\":field\": {\"dates::datetime\": [\"1964-01-01T00:00:00.000\", \"1985-02-05T00:00:00.000\", \"2022-01-21T00:00:00.000\"]}}\n",
      "\n",
      "is Json translation reversible ?  True\n"
     ]
    }
   ],
   "source": [
    "field_data = {'dates::datetime': ['1964-01-01', '1985-02-05', '2022-01-21']}\n",
    "field = Ntv.obj({':field': field_data})\n",
    "sr = field.to_obj(**option)\n",
    "# pandas dtype conform to Ntv type\n",
    "print('pandas object :\\n', sr)\n",
    "print('\\nJson representation : \\n    ', Ntv.obj(sr))\n",
    "print('\\nis Json translation reversible ? ', sr.equals(Ntv.obj(sr).to_obj(**option)))"
   ]
  },
  {
   "cell_type": "markdown",
   "id": "bbef79a9",
   "metadata": {},
   "source": [
    "### Examples with a non-Pandas type"
   ]
  },
  {
   "cell_type": "code",
   "execution_count": 4,
   "id": "765f0396",
   "metadata": {},
   "outputs": [
    {
     "name": "stdout",
     "output_type": "stream",
     "text": [
      "pandas object :\n",
      "0    1964-01-01\n",
      "1    1985-02-05\n",
      "2    2022-01-21\n",
      "Name: dates::date, dtype: object\n",
      "\n",
      "Json representation : \n",
      "     {\":field\": {\"dates::date\": [\"1964-01-01\", \"1985-02-05\", \"2022-01-21\"]}}\n",
      "\n",
      "is Json translation reversible ?  True\n"
     ]
    }
   ],
   "source": [
    "field_data = {'dates::date': ['1964-01-01', '1985-02-05', '2022-01-21']}\n",
    "field = Ntv.obj({':field': field_data})\n",
    "sr = field.to_obj(**option)\n",
    "# pandas dtype : object\n",
    "print('pandas object :\\n' + str(sr))\n",
    "print('\\nJson representation : \\n    ', Ntv.obj(sr))\n",
    "print('\\nis Json translation reversible ? ', sr.equals(Ntv.obj(sr).to_obj(**option)))"
   ]
  },
  {
   "cell_type": "code",
   "execution_count": 5,
   "id": "327c67a9",
   "metadata": {},
   "outputs": [
    {
     "name": "stdout",
     "output_type": "stream",
     "text": [
      "pandas object :\n",
      "0    POINT (1 2)\n",
      "1    POINT (3 4)\n",
      "2    POINT (5 6)\n",
      "Name: coord::point, dtype: object\n",
      "\n",
      "Json representation : \n",
      "     {\":field\": {\"coord::point\": [[1.0, 2.0], [3.0, 4.0], [5.0, 6.0]]}}\n",
      "\n",
      "is Json translation reversible ?  True\n"
     ]
    },
    {
     "name": "stderr",
     "output_type": "stream",
     "text": [
      "C:\\Opensource\\anaconda3\\envs\\observ_v10_20230430\\lib\\site-packages\\pandas\\core\\construction.py:809: ShapelyDeprecationWarning: The array interface is deprecated and will no longer work in Shapely 2.0. Convert the '.coords' to a numpy array instead.\n",
      "  subarr = construct_1d_object_array_from_listlike(arr)\n"
     ]
    }
   ],
   "source": [
    "field_data = {'coord::point':    [[1,2], [3,4], [5,6]]}\n",
    "field = Ntv.obj({':field': field_data})\n",
    "sr = field.to_obj(**option)\n",
    "# pandas dtype : object\n",
    "print('pandas object :\\n' + str(sr))\n",
    "print('\\nJson representation : \\n    ', Ntv.obj(sr))\n",
    "print('\\nis Json translation reversible ? ', sr.equals(Ntv.obj(sr).to_obj(**option)))"
   ]
  },
  {
   "cell_type": "markdown",
   "id": "90a68b81",
   "metadata": {},
   "source": [
    "### Categorical examples\n",
    "- available only with hashable data"
   ]
  },
  {
   "cell_type": "code",
   "execution_count": 6,
   "id": "6ba57f0a",
   "metadata": {},
   "outputs": [
    {
     "name": "stdout",
     "output_type": "stream",
     "text": [
      "pandas object :\n",
      "0    1\n",
      "1    2\n",
      "2    1\n",
      "3    2\n",
      "Name: integer, dtype: category\n",
      "Categories (2, int64): [1, 2]\n",
      "\n",
      "Json representation : \n",
      "     {\":field\": {\"integer\": [[1, 2], [0, 1, 0, 1]]}}\n",
      "\n",
      "is Json translation reversible ?  True\n"
     ]
    }
   ],
   "source": [
    "field_data = {\"integer\": [[1, 2], [0, 1, 0, 1]]}\n",
    "field = Ntv.obj({':field': field_data})\n",
    "sr = field.to_obj(**option)\n",
    "# pandas dtype : object\n",
    "print('pandas object :\\n' + str(sr))\n",
    "print('\\nJson representation : \\n    ', Ntv.obj(sr))\n",
    "print('\\nis Json translation reversible ? ', sr.equals(Ntv.obj(sr).to_obj(**option)))"
   ]
  },
  {
   "cell_type": "code",
   "execution_count": 7,
   "id": "7e45d94d",
   "metadata": {},
   "outputs": [
    {
     "name": "stdout",
     "output_type": "stream",
     "text": [
      "pandas object :\n",
      "0    1964-01-01\n",
      "1    1985-02-05\n",
      "2    1964-01-01\n",
      "3    2022-01-21\n",
      "Name: dates::date, dtype: category\n",
      "Categories (3, object): [1964-01-01, 1985-02-05, 2022-01-21]\n",
      "\n",
      "Json representation : \n",
      "     {\":field\": {\"dates\": [{\"::date\": [\"1964-01-01\", \"1985-02-05\", \"2022-01-21\"]}, [0, 1, 0, 2]]}}\n",
      "\n",
      "is Json translation reversible ?  True\n"
     ]
    }
   ],
   "source": [
    "field_data = {'dates': [{'::date': ['1964-01-01', '1985-02-05', '2022-01-21']}, [0, 1, 0, 2]]}\n",
    "field = Ntv.obj({':field': field_data})\n",
    "sr = field.to_obj(**option)\n",
    "# pandas dtype : object\n",
    "print('pandas object :\\n' + str(sr))\n",
    "print('\\nJson representation : \\n    ', Ntv.obj(sr))\n",
    "print('\\nis Json translation reversible ? ', sr.equals(Ntv.obj(sr).to_obj(**option)))"
   ]
  },
  {
   "cell_type": "code",
   "execution_count": 8,
   "id": "a4a756e7",
   "metadata": {},
   "outputs": [
    {
     "name": "stdout",
     "output_type": "stream",
     "text": [
      "pandas object :\n",
      "0    (1, 2)\n",
      "1    (3, 4)\n",
      "2    (1, 2)\n",
      "3    (5, 6)\n",
      "Name: array::array, dtype: category\n",
      "Categories (3, object): [(1, 2), (3, 4), (5, 6)]\n",
      "\n",
      "Json representation : \n",
      "     {\":field\": {\"array\": [{\"::array\": [[1, 2], [3, 4], [5, 6]]}, [0, 1, 0, 2]]}}\n",
      "\n",
      "is Json translation reversible ?  True\n"
     ]
    }
   ],
   "source": [
    "field_data = {'array': [{'::array': [[1,2], [3,4], [5,6]]}, [0, 1, 0, 2]]}\n",
    "field = Ntv.obj({':field': field_data})\n",
    "sr = field.to_obj(**option)\n",
    "# pandas dtype : object\n",
    "print('pandas object :\\n' + str(sr))\n",
    "print('\\nJson representation : \\n    ', Ntv.obj(sr))\n",
    "print('\\nis Json translation reversible ? ', sr.equals(Ntv.obj(sr).to_obj(**option)))"
   ]
  },
  {
   "cell_type": "markdown",
   "id": "38335df3",
   "metadata": {},
   "source": [
    "## DataFrame"
   ]
  },
  {
   "cell_type": "markdown",
   "id": "fb4a7b88",
   "metadata": {},
   "source": [
    "### Initial example"
   ]
  },
  {
   "cell_type": "code",
   "execution_count": 9,
   "id": "8f86367b",
   "metadata": {},
   "outputs": [
    {
     "name": "stdout",
     "output_type": "stream",
     "text": [
      "pandas dtype :\n",
      "A    object\n",
      "B    object\n",
      "dtype: object\n",
      "\n",
      "pandas object :\n",
      "   A  B\n",
      "0  a  b\n",
      "1  b  c\n",
      "2  c  c\n",
      "3  a  d\n",
      "\n",
      "Json representation : \n",
      "     {\":tab\": {\"index\": [0, 1, 2, 3], \"A\": [\"a\", \"b\", \"c\", \"a\"], \"B\": [\"b\", \"c\", \"c\", \"d\"]}}\n",
      "\n",
      "is Json translation reversible ?  True\n"
     ]
    }
   ],
   "source": [
    "df = pd.DataFrame({\"A\": list(\"abca\"), \"B\": list(\"bccd\")})\n",
    "\n",
    "print('pandas dtype :\\n' + str(df.dtypes))\n",
    "print('\\npandas object :\\n' + str(df))\n",
    "print('\\nJson representation : \\n    ', Ntv.obj(df))\n",
    "print('\\nis Json translation reversible ? ', df.equals(Ntv.obj(df).to_obj(**option)))"
   ]
  },
  {
   "cell_type": "markdown",
   "id": "562be214",
   "metadata": {},
   "source": [
    "### Complete example\n",
    "- index data\n",
    "- Pandas dtype (int32, bool, string)\n",
    "- NTV type (date, point) -> object dtype\n",
    "- data unique"
   ]
  },
  {
   "cell_type": "code",
   "execution_count": 10,
   "id": "fe6c69cb",
   "metadata": {},
   "outputs": [
    {
     "name": "stdout",
     "output_type": "stream",
     "text": [
      "pandas dtype :\n",
      "dates::date     object\n",
      "value            int64\n",
      "value32          int32\n",
      "res              int64\n",
      "coord::point    object\n",
      "names           string\n",
      "unique            bool\n",
      "dtype: object\n",
      "\n",
      "pandas object :\n",
      "    dates::date  value  value32  res coord::point   names  unique\n",
      "100  1964-01-01     10       12   10  POINT (1 2)    john    True\n",
      "200  1985-02-05     10       12   20  POINT (3 4)    eric    True\n",
      "300  2022-01-21     20       22   30  POINT (5 6)  judith    True\n",
      "400  1964-01-01     20       22   10  POINT (7 8)    mila    True\n",
      "500  1985-02-05     30       32   20  POINT (3 4)  hector    True\n",
      "600  2022-01-21     30       32   30  POINT (5 6)   maria    True\n",
      "\n",
      "Json representation : \n",
      "     {\":tab\": {\"index\": [100, 200, 300, 400, 500, 600], \"dates::date\": [\"1964-01-01\", \"1985-02-05\", \"2022-01-21\", \"1964-01-01\", \"1985-02-05\", \"2022-01-21\"], \"value\": [10, 10, 20, 20, 30, 30], \"value32::int32\": [12, 12, 22, 22, 32, 32], \"res\": [10, 20, 30, 10, 20, 30], \"coord::point\": [[1.0, 2.0], [3.0, 4.0], [5.0, 6.0], [7.0, 8.0], [3.0, 4.0], [5.0, 6.0]], \"names::string\": [\"john\", \"eric\", \"judith\", \"mila\", \"hector\", \"maria\"], \"unique\": [true, true, true, true, true, true]}}\n",
      "\n",
      "is Json translation reversible ?  True\n"
     ]
    },
    {
     "name": "stderr",
     "output_type": "stream",
     "text": [
      "C:\\Opensource\\anaconda3\\envs\\observ_v10_20230430\\lib\\site-packages\\pandas\\core\\construction.py:809: ShapelyDeprecationWarning: The array interface is deprecated and will no longer work in Shapely 2.0. Convert the '.coords' to a numpy array instead.\n",
      "  subarr = construct_1d_object_array_from_listlike(arr)\n",
      "C:\\Opensource\\anaconda3\\envs\\observ_v10_20230430\\lib\\site-packages\\pandas\\core\\construction.py:809: ShapelyDeprecationWarning: The array interface is deprecated and will no longer work in Shapely 2.0. Convert the '.coords' to a numpy array instead.\n",
      "  subarr = construct_1d_object_array_from_listlike(arr)\n"
     ]
    }
   ],
   "source": [
    "tab_data = {'index':           [100, 200, 300, 400, 500, 600],\n",
    "            'dates::date':     ['1964-01-01', '1985-02-05', '2022-01-21', '1964-01-01', '1985-02-05', '2022-01-21'], \n",
    "            'value':           [10, 10, 20, 20, 30, 30],\n",
    "            'value32::int32':  [12, 12, 22, 22, 32, 32],\n",
    "            'res':             [10, 20, 30, 10, 20, 30],\n",
    "            'coord::point':    [[1,2], [3,4], [5,6], [7,8], [3,4], [5,6]],\n",
    "            'names::string':   ['john', 'eric', 'judith', 'mila', 'hector', 'maria'],\n",
    "            'unique':          True }\n",
    "tab = Ntv.obj({':tab'  : tab_data})\n",
    "df = tab.to_obj(**option)\n",
    "\n",
    "print('pandas dtype :\\n' + str(df.dtypes))\n",
    "print('\\npandas object :\\n' + str(df))\n",
    "print('\\nJson representation : \\n    ', Ntv.obj(df))\n",
    "print('\\nis Json translation reversible ? ', df.equals(Ntv.obj(df).to_obj(**option)))"
   ]
  },
  {
   "cell_type": "markdown",
   "id": "513dd337",
   "metadata": {},
   "source": [
    "### Json data can be annotated"
   ]
  },
  {
   "cell_type": "code",
   "execution_count": 11,
   "id": "cdda0ce3",
   "metadata": {
    "scrolled": false
   },
   "outputs": [
    {
     "name": "stdout",
     "output_type": "stream",
     "text": [
      "is DataFrame identical ?  True\n"
     ]
    },
    {
     "name": "stderr",
     "output_type": "stream",
     "text": [
      "C:\\Opensource\\anaconda3\\envs\\observ_v10_20230430\\lib\\site-packages\\pandas\\core\\construction.py:809: ShapelyDeprecationWarning: The array interface is deprecated and will no longer work in Shapely 2.0. Convert the '.coords' to a numpy array instead.\n",
      "  subarr = construct_1d_object_array_from_listlike(arr)\n"
     ]
    }
   ],
   "source": [
    "tab_data = {'index':           [100, 200, 300, 400, 500, 600],\n",
    "            'dates::date':     ['1964-01-01', '1985-02-05', '2022-01-21', '1964-01-01', '1985-02-05', '2022-01-21'], \n",
    "            'value':           [10, 10, 20, 20, {'valid?': 30}, 30],\n",
    "            'value32::int32':  [12, 12, 22, 22, 32, 32],\n",
    "            'res':             {'res1': 10, 'res2': 20, 'res3': 30, 'res4': 10, 'res5': 20, 'res6': 30},\n",
    "            'coord::point':    [[1,2], [3,4], [5,6], [7,8], {'same as 2nd point': [3,4]}, [5,6]],\n",
    "            'names::string':   ['john', 'eric', 'judith', 'mila', 'hector', 'maria'],\n",
    "            'unique:boolean':  True }\n",
    "tab = Ntv.obj({':tab'  : tab_data})\n",
    "df2 = tab.to_obj(**option)\n",
    "\n",
    "print('is DataFrame identical ? ', df.equals(df2))"
   ]
  },
  {
   "cell_type": "markdown",
   "id": "82017e47",
   "metadata": {},
   "source": [
    "### Categorical data can be included"
   ]
  },
  {
   "cell_type": "code",
   "execution_count": 12,
   "id": "6cd88895",
   "metadata": {},
   "outputs": [
    {
     "name": "stdout",
     "output_type": "stream",
     "text": [
      "pandas dtype :\n",
      "A    category\n",
      "B    category\n",
      "dtype: object\n",
      "\n",
      "pandas object :\n",
      "   A  B\n",
      "0  a  b\n",
      "1  b  c\n",
      "2  c  c\n",
      "3  a  d\n",
      "\n",
      "Json representation : \n",
      "     {\":tab\": {\"index\": [0, 1, 2, 3], \"A\": [[\"a\", \"b\", \"c\"], [0, 1, 2, 0]], \"B\": [[\"b\", \"c\", \"d\"], [0, 1, 1, 2]]}}\n",
      "\n",
      "is Json translation reversible ?  True\n"
     ]
    }
   ],
   "source": [
    "df = pd.DataFrame({\"A\": list(\"abca\"), \"B\": list(\"bccd\")}, dtype=\"category\")\n",
    "\n",
    "print('pandas dtype :\\n' + str(df.dtypes))\n",
    "print('\\npandas object :\\n' + str(df))\n",
    "print('\\nJson representation : \\n    ', Ntv.obj(df))\n",
    "print('\\nis Json translation reversible ? ', df.equals(Ntv.obj(df).to_obj(**option)))"
   ]
  },
  {
   "cell_type": "code",
   "execution_count": 13,
   "id": "d7eb51ea",
   "metadata": {
    "scrolled": false
   },
   "outputs": [
    {
     "name": "stdout",
     "output_type": "stream",
     "text": [
      "pandas dtype :\n",
      "dates::date     category\n",
      "value           category\n",
      "value32            int32\n",
      "res                int64\n",
      "coord::point      object\n",
      "names             string\n",
      "unique              bool\n",
      "dtype: object\n",
      "\n",
      "pandas object :\n",
      "    dates::date value  value32  res coord::point   names  unique\n",
      "100  1964-01-01    10       12   10  POINT (1 2)    john    True\n",
      "200  1985-02-05    10       12   20  POINT (3 4)    eric    True\n",
      "300  2022-01-21    20       22   30  POINT (5 6)  judith    True\n",
      "400  1964-01-01    20       22   10  POINT (7 8)    mila    True\n",
      "500  1985-02-05    30       32   20  POINT (3 4)  hector    True\n",
      "600  2022-01-21    30       32   30  POINT (5 6)   maria    True\n",
      "\n",
      "Json representation : \n",
      "     {\":tab\": {\"index\": [100, 200, 300, 400, 500, 600], \"dates\": [{\"::date\": [\"1964-01-01\", \"1985-02-05\", \"2022-01-21\"]}, [0, 1, 2, 0, 1, 2]], \"value\": [[10, 20, 30], [0, 0, 1, 1, 2, 2]], \"value32::int32\": [12, 12, 22, 22, 32, 32], \"res\": [10, 20, 30, 10, 20, 30], \"coord::point\": [[1.0, 2.0], [3.0, 4.0], [5.0, 6.0], [7.0, 8.0], [3.0, 4.0], [5.0, 6.0]], \"names::string\": [\"john\", \"eric\", \"judith\", \"mila\", \"hector\", \"maria\"], \"unique\": [true, true, true, true, true, true]}}\n",
      "\n",
      "is Json translation reversible ?  True\n"
     ]
    },
    {
     "name": "stderr",
     "output_type": "stream",
     "text": [
      "C:\\Opensource\\anaconda3\\envs\\observ_v10_20230430\\lib\\site-packages\\pandas\\core\\construction.py:809: ShapelyDeprecationWarning: The array interface is deprecated and will no longer work in Shapely 2.0. Convert the '.coords' to a numpy array instead.\n",
      "  subarr = construct_1d_object_array_from_listlike(arr)\n",
      "C:\\Opensource\\anaconda3\\envs\\observ_v10_20230430\\lib\\site-packages\\pandas\\core\\construction.py:809: ShapelyDeprecationWarning: The array interface is deprecated and will no longer work in Shapely 2.0. Convert the '.coords' to a numpy array instead.\n",
      "  subarr = construct_1d_object_array_from_listlike(arr)\n"
     ]
    }
   ],
   "source": [
    "tab_data = {'index':           [100, 200, 300, 400, 500, 600],\n",
    "            'dates':           [{'::date': ['1964-01-01', '1985-02-05', '2022-01-21']}, [0, 1, 2, 0, 1, 2]],\n",
    "            'value':           [[10, 20, {'valid?': 30}], [0, 0, 1, 1, 2, 2]],\n",
    "            'value32::int32':  [12, 12, 22, 22, 32, 32],\n",
    "            'res':             {'res1': 10, 'res2': 20, 'res3': 30, 'res4': 10, 'res5': 20, 'res6': 30},\n",
    "            'coord::point':    [[1,2], [3,4], [5,6], [7,8], {'same as 2nd point': [3,4]}, [5,6]],\n",
    "            'names::string':   ['john', 'eric', 'judith', 'mila', 'hector', 'maria'],\n",
    "            'unique:boolean':  True }\n",
    "tab = Ntv.obj({':tab'  : tab_data})\n",
    "df = tab.to_obj(**option)\n",
    "\n",
    "print('pandas dtype :\\n' + str(df.dtypes))\n",
    "print('\\npandas object :\\n' + str(df))\n",
    "print('\\nJson representation : \\n    ', Ntv.obj(df))\n",
    "print('\\nis Json translation reversible ? ', df.equals(Ntv.obj(df).to_obj(**option)))"
   ]
  }
 ],
 "metadata": {
  "kernelspec": {
   "display_name": "Python 3 (ipykernel)",
   "language": "python",
   "name": "python3"
  },
  "language_info": {
   "codemirror_mode": {
    "name": "ipython",
    "version": 3
   },
   "file_extension": ".py",
   "mimetype": "text/x-python",
   "name": "python",
   "nbconvert_exporter": "python",
   "pygments_lexer": "ipython3",
   "version": "3.10.9"
  }
 },
 "nbformat": 4,
 "nbformat_minor": 5
}
