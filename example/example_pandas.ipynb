{
 "cells": [
  {
   "cell_type": "markdown",
   "id": "343c7b20",
   "metadata": {},
   "source": [
    "## a JSON format compatible with the Pandas data structure \n",
    "-------     \n",
    "      \n",
    "### introduction\n",
    "The data type is not explicitely taken into account in the current JSON interface.     \n",
    "    \n",
    "The existing solution is to use a data schema in addition.\n",
    "\n",
    "### proposal\n",
    "To have a simple, compact and reversible solution, I propose to use the [JSON-NTV format (Named and Typed Value)](https://github.com/loco-philippe/NTV#readme) - which integrates the notion of type - and its JSON-TAB variation for tabular data.    \n",
    "This solution allows to include a large number of types (not necessarily Pandas dtype).\n",
    "\n",
    "### content\n",
    "This NoteBook uses examples to present some key points\n",
    "\n",
    "*(active link on jupyter Notebook or Nbviewer)*\n",
    "- [0 - Simple example](#0---Simple-example)\n",
    "- [1 - Current Json interface](#1---Current-Json-interface)\n",
    "    - [Example : simple column](#Example-:-simple-column)\n",
    "    - [Types and Json interface](#Types-and-Json-interface)\n",
    "    - [Data compactness](#data-compactness)\n",
    "    - [External types](#external-types)\n",
    "- [2 - Series](#2---Series)\n",
    "    - [Simple example](#Simple-example)\n",
    "    - [Typed example](#Typed-example)\n",
    "    - [Examples with a non-Pandas type](#Examples-with-a-non-Pandas-type)\n",
    "    - [Categorical examples](#Categorical-examples)\n",
    "- [3 - DataFrame](#3---DataFrame)\n",
    "    - [Initial example](#Initial-example)\n",
    "    - [Complete example](#Complete-example)\n",
    "    - [Json data can be annotated](#Json-data-can-be-annotated)\n",
    "    - [Categorical data can be included](#Categorical-data-can-be-included)\n",
    "    \n",
    "### References\n",
    "- [JSON-NTV specification](https://github.com/loco-philippe/NTV/blob/main/documentation/JSON-NTV-standard.pdf)\n",
    "- [JSON-TAB specification](https://github.com/loco-philippe/NTV/blob/main/documentation/JSON-TAB-standard.pdf)\n",
    "- [JSON-NTV classes and methods](https://loco-philippe.github.io/NTV/json_ntv.html)\n",
    "\n",
    "This Notebook can also be viewed at [nbviewer](http://nbviewer.org/github/loco-philippe/NTV/tree/main/example)"
   ]
  },
  {
   "cell_type": "code",
   "execution_count": 1,
   "id": "d00a0cb6",
   "metadata": {},
   "outputs": [],
   "source": [
    "from pprint import pprint\n",
    "from json_ntv import Ntv\n",
    "import pandas as pd\n",
    "\n",
    "# the Series Connector is associated with NtvType 'field' in dicobj \n",
    "# the DataFrame Connector is associated with NtvType 'tab' in dicobj\n",
    "option = {'encode_format': 'obj', 'dicobj': {'field': 'SeriesConnec', 'tab': 'DataFrameConnec'}}"
   ]
  },
  {
   "cell_type": "markdown",
   "id": "6834381c",
   "metadata": {},
   "source": [
    "## 0 - Simple example"
   ]
  },
  {
   "cell_type": "markdown",
   "id": "2ccd4147",
   "metadata": {},
   "source": [
    "- The example is a Dataframe with several dtype"
   ]
  },
  {
   "cell_type": "code",
   "execution_count": 2,
   "id": "87e08572",
   "metadata": {
    "scrolled": false
   },
   "outputs": [
    {
     "name": "stdout",
     "output_type": "stream",
     "text": [
      "dates::date     object\n",
      "value            int64\n",
      "value32          int32\n",
      "res              int64\n",
      "coord::point    object\n",
      "names           string\n",
      "unique            bool\n",
      "dtype: object\n"
     ]
    },
    {
     "name": "stderr",
     "output_type": "stream",
     "text": [
      "C:\\Opensource\\anaconda3\\envs\\observ_v10_20230430\\lib\\site-packages\\pandas\\core\\dtypes\\cast.py:127: ShapelyDeprecationWarning: The array interface is deprecated and will no longer work in Shapely 2.0. Convert the '.coords' to a numpy array instead.\n",
      "  arr = construct_1d_object_array_from_listlike(values)\n"
     ]
    },
    {
     "data": {
      "text/html": [
       "<div>\n",
       "<style scoped>\n",
       "    .dataframe tbody tr th:only-of-type {\n",
       "        vertical-align: middle;\n",
       "    }\n",
       "\n",
       "    .dataframe tbody tr th {\n",
       "        vertical-align: top;\n",
       "    }\n",
       "\n",
       "    .dataframe thead th {\n",
       "        text-align: right;\n",
       "    }\n",
       "</style>\n",
       "<table border=\"1\" class=\"dataframe\">\n",
       "  <thead>\n",
       "    <tr style=\"text-align: right;\">\n",
       "      <th></th>\n",
       "      <th>dates::date</th>\n",
       "      <th>value</th>\n",
       "      <th>value32</th>\n",
       "      <th>res</th>\n",
       "      <th>coord::point</th>\n",
       "      <th>names</th>\n",
       "      <th>unique</th>\n",
       "    </tr>\n",
       "    <tr>\n",
       "      <th>index</th>\n",
       "      <th></th>\n",
       "      <th></th>\n",
       "      <th></th>\n",
       "      <th></th>\n",
       "      <th></th>\n",
       "      <th></th>\n",
       "      <th></th>\n",
       "    </tr>\n",
       "  </thead>\n",
       "  <tbody>\n",
       "    <tr>\n",
       "      <th>100</th>\n",
       "      <td>1964-01-01</td>\n",
       "      <td>10</td>\n",
       "      <td>12</td>\n",
       "      <td>10</td>\n",
       "      <td>POINT (1 2)</td>\n",
       "      <td>john</td>\n",
       "      <td>True</td>\n",
       "    </tr>\n",
       "    <tr>\n",
       "      <th>200</th>\n",
       "      <td>1985-02-05</td>\n",
       "      <td>10</td>\n",
       "      <td>12</td>\n",
       "      <td>20</td>\n",
       "      <td>POINT (3 4)</td>\n",
       "      <td>eric</td>\n",
       "      <td>True</td>\n",
       "    </tr>\n",
       "    <tr>\n",
       "      <th>300</th>\n",
       "      <td>2022-01-21</td>\n",
       "      <td>20</td>\n",
       "      <td>22</td>\n",
       "      <td>30</td>\n",
       "      <td>POINT (5 6)</td>\n",
       "      <td>judith</td>\n",
       "      <td>True</td>\n",
       "    </tr>\n",
       "    <tr>\n",
       "      <th>400</th>\n",
       "      <td>1964-01-01</td>\n",
       "      <td>20</td>\n",
       "      <td>22</td>\n",
       "      <td>10</td>\n",
       "      <td>POINT (7 8)</td>\n",
       "      <td>mila</td>\n",
       "      <td>True</td>\n",
       "    </tr>\n",
       "    <tr>\n",
       "      <th>500</th>\n",
       "      <td>1985-02-05</td>\n",
       "      <td>30</td>\n",
       "      <td>32</td>\n",
       "      <td>20</td>\n",
       "      <td>POINT (3 4)</td>\n",
       "      <td>hector</td>\n",
       "      <td>True</td>\n",
       "    </tr>\n",
       "    <tr>\n",
       "      <th>600</th>\n",
       "      <td>2022-01-21</td>\n",
       "      <td>30</td>\n",
       "      <td>32</td>\n",
       "      <td>30</td>\n",
       "      <td>POINT (5 6)</td>\n",
       "      <td>maria</td>\n",
       "      <td>True</td>\n",
       "    </tr>\n",
       "  </tbody>\n",
       "</table>\n",
       "</div>"
      ],
      "text/plain": [
       "      dates::date  value  value32  res coord::point   names  unique\n",
       "index                                                              \n",
       "100    1964-01-01     10       12   10  POINT (1 2)    john    True\n",
       "200    1985-02-05     10       12   20  POINT (3 4)    eric    True\n",
       "300    2022-01-21     20       22   30  POINT (5 6)  judith    True\n",
       "400    1964-01-01     20       22   10  POINT (7 8)    mila    True\n",
       "500    1985-02-05     30       32   20  POINT (3 4)  hector    True\n",
       "600    2022-01-21     30       32   30  POINT (5 6)   maria    True"
      ]
     },
     "execution_count": 2,
     "metadata": {},
     "output_type": "execute_result"
    }
   ],
   "source": [
    "from shapely.geometry import Point\n",
    "from datetime import date\n",
    "\n",
    "tab_data = {'index':           [100, 200, 300, 400, 500, 600],\n",
    "            'dates::date':     pd.Series([date(1964,1,1), date(1985,2,5), date(2022,1,21), date(1964,1,1), date(1985,2,5), date(2022,1,21)]), \n",
    "            'value':           [10, 10, 20, 20, 30, 30],\n",
    "            'value32':         pd.Series([12, 12, 22, 22, 32, 32], dtype='int32'),\n",
    "            'res':             [10, 20, 30, 10, 20, 30],\n",
    "            'coord::point':    pd.Series([Point(1,2), Point(3,4), Point(5,6), Point(7,8), Point(3,4), Point(5,6)]),\n",
    "            'names':           pd.Series(['john', 'eric', 'judith', 'mila', 'hector', 'maria'], dtype='string'),\n",
    "            'unique':          True }\n",
    "df = pd.DataFrame(tab_data).set_index('index')\n",
    "print(df.dtypes)\n",
    "df"
   ]
  },
  {
   "cell_type": "markdown",
   "id": "47d48540",
   "metadata": {},
   "source": [
    "- the example has a simple and compact JSON representation including dtype"
   ]
  },
  {
   "cell_type": "code",
   "execution_count": 3,
   "id": "c37108e8",
   "metadata": {},
   "outputs": [
    {
     "name": "stdout",
     "output_type": "stream",
     "text": [
      "{':tab': {'coord::point': [[1.0, 2.0], [3.0, 4.0], [5.0, 6.0], [7.0, 8.0], [3.0, 4.0], [5.0, 6.0]],\n",
      "          'dates::date': ['1964-01-01', '1985-02-05', '2022-01-21', '1964-01-01', '1985-02-05', '2022-01-21'],\n",
      "          'index': [100, 200, 300, 400, 500, 600],\n",
      "          'names::string': ['john', 'eric', 'judith', 'mila', 'hector', 'maria'],\n",
      "          'res': [10, 20, 30, 10, 20, 30],\n",
      "          'unique': [True, True, True, True, True, True],\n",
      "          'value': [10, 10, 20, 20, 30, 30],\n",
      "          'value32::int32': [12, 12, 22, 22, 32, 32]}}\n"
     ]
    }
   ],
   "source": [
    "df_json = Ntv.obj(df)\n",
    "pprint(df_json.to_obj(), compact=True, width=120)"
   ]
  },
  {
   "cell_type": "markdown",
   "id": "7deb4ffb",
   "metadata": {},
   "source": [
    "- The json conversion is reversible : df_from_json equals initial df"
   ]
  },
  {
   "cell_type": "code",
   "execution_count": 4,
   "id": "0e9736c8",
   "metadata": {},
   "outputs": [
    {
     "name": "stdout",
     "output_type": "stream",
     "text": [
      "df created from JSON is equal to initial df ?  True\n"
     ]
    },
    {
     "name": "stderr",
     "output_type": "stream",
     "text": [
      "C:\\Opensource\\anaconda3\\envs\\observ_v10_20230430\\lib\\site-packages\\pandas\\core\\construction.py:809: ShapelyDeprecationWarning: The array interface is deprecated and will no longer work in Shapely 2.0. Convert the '.coords' to a numpy array instead.\n",
      "  subarr = construct_1d_object_array_from_listlike(arr)\n"
     ]
    },
    {
     "data": {
      "text/html": [
       "<div>\n",
       "<style scoped>\n",
       "    .dataframe tbody tr th:only-of-type {\n",
       "        vertical-align: middle;\n",
       "    }\n",
       "\n",
       "    .dataframe tbody tr th {\n",
       "        vertical-align: top;\n",
       "    }\n",
       "\n",
       "    .dataframe thead th {\n",
       "        text-align: right;\n",
       "    }\n",
       "</style>\n",
       "<table border=\"1\" class=\"dataframe\">\n",
       "  <thead>\n",
       "    <tr style=\"text-align: right;\">\n",
       "      <th></th>\n",
       "      <th>dates::date</th>\n",
       "      <th>value</th>\n",
       "      <th>value32</th>\n",
       "      <th>res</th>\n",
       "      <th>coord::point</th>\n",
       "      <th>names</th>\n",
       "      <th>unique</th>\n",
       "    </tr>\n",
       "  </thead>\n",
       "  <tbody>\n",
       "    <tr>\n",
       "      <th>100</th>\n",
       "      <td>1964-01-01</td>\n",
       "      <td>10</td>\n",
       "      <td>12</td>\n",
       "      <td>10</td>\n",
       "      <td>POINT (1 2)</td>\n",
       "      <td>john</td>\n",
       "      <td>True</td>\n",
       "    </tr>\n",
       "    <tr>\n",
       "      <th>200</th>\n",
       "      <td>1985-02-05</td>\n",
       "      <td>10</td>\n",
       "      <td>12</td>\n",
       "      <td>20</td>\n",
       "      <td>POINT (3 4)</td>\n",
       "      <td>eric</td>\n",
       "      <td>True</td>\n",
       "    </tr>\n",
       "    <tr>\n",
       "      <th>300</th>\n",
       "      <td>2022-01-21</td>\n",
       "      <td>20</td>\n",
       "      <td>22</td>\n",
       "      <td>30</td>\n",
       "      <td>POINT (5 6)</td>\n",
       "      <td>judith</td>\n",
       "      <td>True</td>\n",
       "    </tr>\n",
       "    <tr>\n",
       "      <th>400</th>\n",
       "      <td>1964-01-01</td>\n",
       "      <td>20</td>\n",
       "      <td>22</td>\n",
       "      <td>10</td>\n",
       "      <td>POINT (7 8)</td>\n",
       "      <td>mila</td>\n",
       "      <td>True</td>\n",
       "    </tr>\n",
       "    <tr>\n",
       "      <th>500</th>\n",
       "      <td>1985-02-05</td>\n",
       "      <td>30</td>\n",
       "      <td>32</td>\n",
       "      <td>20</td>\n",
       "      <td>POINT (3 4)</td>\n",
       "      <td>hector</td>\n",
       "      <td>True</td>\n",
       "    </tr>\n",
       "    <tr>\n",
       "      <th>600</th>\n",
       "      <td>2022-01-21</td>\n",
       "      <td>30</td>\n",
       "      <td>32</td>\n",
       "      <td>30</td>\n",
       "      <td>POINT (5 6)</td>\n",
       "      <td>maria</td>\n",
       "      <td>True</td>\n",
       "    </tr>\n",
       "  </tbody>\n",
       "</table>\n",
       "</div>"
      ],
      "text/plain": [
       "    dates::date  value  value32  res coord::point   names  unique\n",
       "100  1964-01-01     10       12   10  POINT (1 2)    john    True\n",
       "200  1985-02-05     10       12   20  POINT (3 4)    eric    True\n",
       "300  2022-01-21     20       22   30  POINT (5 6)  judith    True\n",
       "400  1964-01-01     20       22   10  POINT (7 8)    mila    True\n",
       "500  1985-02-05     30       32   20  POINT (3 4)  hector    True\n",
       "600  2022-01-21     30       32   30  POINT (5 6)   maria    True"
      ]
     },
     "execution_count": 4,
     "metadata": {},
     "output_type": "execute_result"
    }
   ],
   "source": [
    "df_from_json = df_json.to_obj(**option)\n",
    "print('df created from JSON is equal to initial df ? ', df_from_json.equals(df))\n",
    "df_from_json"
   ]
  },
  {
   "cell_type": "markdown",
   "id": "1935fc6a",
   "metadata": {},
   "source": [
    "## 1 - Current Json interface"
   ]
  },
  {
   "cell_type": "markdown",
   "id": "c4397201",
   "metadata": {},
   "source": [
    "### Example : simple column\n",
    "- the interface is not reversible with this example"
   ]
  },
  {
   "cell_type": "code",
   "execution_count": 5,
   "id": "5dea32e4",
   "metadata": {},
   "outputs": [
    {
     "name": "stdout",
     "output_type": "stream",
     "text": [
      "   test integer test string\n",
      "0             1           a\n",
      "1             2           b\n",
      "2             3           c\n"
     ]
    }
   ],
   "source": [
    "df = pd.read_json('{\"test integer\":[1,2,3], \"test string\": [\"a\", \"b\", \"c\"]}')\n",
    "print(df)\n",
    "# but it is impossible with to_json() to recreate the initial data"
   ]
  },
  {
   "cell_type": "markdown",
   "id": "d4ac6f3c",
   "metadata": {},
   "source": [
    "### Types and Json interface "
   ]
  },
  {
   "cell_type": "markdown",
   "id": "5762e1c1",
   "metadata": {},
   "source": [
    "- the only way to keep the types in the json interface is to use the orient='table' option"
   ]
  },
  {
   "cell_type": "code",
   "execution_count": 6,
   "id": "16a2a625",
   "metadata": {},
   "outputs": [
    {
     "data": {
      "text/plain": [
       "'{\"int32\":{\"0\":10,\"1\":20}}'"
      ]
     },
     "execution_count": 6,
     "metadata": {},
     "output_type": "execute_result"
    }
   ],
   "source": [
    "df  = pd.DataFrame(pd.Series([10,20], name='int32', dtype='Int32'))\n",
    "\n",
    "# dtype is not included in usual json interface\n",
    "df.to_json()"
   ]
  },
  {
   "cell_type": "markdown",
   "id": "4e423a66",
   "metadata": {},
   "source": [
    "- only few types are allowed in json-table interface : int64, float64, bool, datetime64, timedelta64, categorical"
   ]
  },
  {
   "cell_type": "code",
   "execution_count": 7,
   "id": "810eb785",
   "metadata": {},
   "outputs": [
    {
     "name": "stdout",
     "output_type": "stream",
     "text": [
      "int32    int64\n",
      "dtype: object\n"
     ]
    },
    {
     "data": {
      "text/plain": [
       "False"
      ]
     },
     "execution_count": 7,
     "metadata": {},
     "output_type": "execute_result"
    }
   ],
   "source": [
    "# 'int32' is lost in json-table interface\n",
    "df2 = pd.read_json(df.to_json(orient='table'), orient='table')\n",
    "print(df2.dtypes)\n",
    "df.equals(df2)"
   ]
  },
  {
   "cell_type": "markdown",
   "id": "65fa8eaf",
   "metadata": {},
   "source": [
    "- allowed types are not always kept in json-table interface "
   ]
  },
  {
   "cell_type": "code",
   "execution_count": 8,
   "id": "8f28a6b6",
   "metadata": {},
   "outputs": [
    {
     "name": "stdout",
     "output_type": "stream",
     "text": [
      "float64    float64\n",
      "dtype: object \n",
      "\n",
      "float64    int64\n",
      "dtype: object\n"
     ]
    },
    {
     "data": {
      "text/plain": [
       "False"
      ]
     },
     "execution_count": 8,
     "metadata": {},
     "output_type": "execute_result"
    }
   ],
   "source": [
    "df = pd.DataFrame(pd.Series([10,20], name='float64', dtype='float64'))\n",
    "print(df.dtypes, '\\n')\n",
    "df2 = pd.read_json(df.to_json(orient='records'), orient='records')\n",
    "print(df2.dtypes)\n",
    "df.equals(df2)"
   ]
  },
  {
   "cell_type": "markdown",
   "id": "ee71b6dc",
   "metadata": {},
   "source": [
    "- data with 'object' dtype is kept only in certain cases"
   ]
  },
  {
   "cell_type": "code",
   "execution_count": 9,
   "id": "3e11b78a",
   "metadata": {},
   "outputs": [
    {
     "name": "stdout",
     "output_type": "stream",
     "text": [
      "{\"dates\":{\"0\":1614556800000,\"1\":1614729600000}} \n",
      "\n",
      "{\"schema\":{\"fields\":[{\"name\":\"index\",\"type\":\"integer\"},{\"name\":\"dates\",\"type\":\"string\"}],\"primaryKey\":[\"index\"],\"pandas_version\":\"1.4.0\"},\"data\":[{\"index\":0,\"dates\":\"2021-03-01T00:00:00.000\"},{\"index\":1,\"dates\":\"2021-03-03T00:00:00.000\"}]} \n",
      "\n",
      "                     dates\n",
      "0  2021-03-01T00:00:00.000\n",
      "1  2021-03-03T00:00:00.000\n"
     ]
    },
    {
     "data": {
      "text/plain": [
       "False"
      ]
     },
     "execution_count": 9,
     "metadata": {},
     "output_type": "execute_result"
    }
   ],
   "source": [
    "dfd = pd.DataFrame({'dates': [date(2021, 3, 1), date(2021, 3, 3)]})\n",
    "\n",
    "print(dfd.to_json(default_handler=date.isoformat), '\\n')\n",
    "print(dfd.to_json(orient='table'), '\\n')\n",
    "\n",
    "dfd2 = pd.read_json(dfd.to_json(orient='table'), orient='table')\n",
    "print(dfd2)\n",
    "\n",
    "dfd.equals(dfd2)"
   ]
  },
  {
   "cell_type": "code",
   "execution_count": 10,
   "id": "05cd6fdb",
   "metadata": {},
   "outputs": [
    {
     "name": "stdout",
     "output_type": "stream",
     "text": [
      "          tuple\n",
      "0  (2021, 3, 1)\n",
      "1  (2021, 3, 3) \n",
      "\n",
      "{\"tuple\":{\"0\":[2021,3,1],\"1\":[2021,3,3]}} \n",
      "\n",
      "{\"schema\":{\"fields\":[{\"name\":\"index\",\"type\":\"integer\"},{\"name\":\"tuple\",\"type\":\"string\"}],\"primaryKey\":[\"index\"],\"pandas_version\":\"1.4.0\"},\"data\":[{\"index\":0,\"tuple\":[2021,3,1]},{\"index\":1,\"tuple\":[2021,3,3]}]} \n",
      "\n",
      "          tuple\n",
      "0  [2021, 3, 1]\n",
      "1  [2021, 3, 3]\n"
     ]
    },
    {
     "data": {
      "text/plain": [
       "False"
      ]
     },
     "execution_count": 10,
     "metadata": {},
     "output_type": "execute_result"
    }
   ],
   "source": [
    "dfd = pd.DataFrame({'tuple': [(2021, 3, 1), (2021, 3, 3)]})\n",
    "print(dfd, '\\n')\n",
    "print(dfd.to_json(), '\\n')\n",
    "print(dfd.to_json(orient='table'), '\\n')\n",
    "dfd2 = pd.read_json(dfd.to_json(orient='table'), orient='table')\n",
    "print(dfd2)\n",
    "dfd.equals(dfd2)"
   ]
  },
  {
   "cell_type": "markdown",
   "id": "982a4f14",
   "metadata": {},
   "source": [
    "- with categorical dtype, the underlying dtype is not included in json interface"
   ]
  },
  {
   "cell_type": "code",
   "execution_count": 11,
   "id": "e2019c70",
   "metadata": {},
   "outputs": [
    {
     "name": "stdout",
     "output_type": "stream",
     "text": [
      "{\"schema\":{\"fields\":[{\"name\":\"index\",\"type\":\"integer\"},{\"name\":\"float\",\"type\":\"any\",\"constraints\":{\"enum\":[10.0,20.0]},\"ordered\":false}],\"primaryKey\":[\"index\"],\"pandas_version\":\"1.4.0\"},\"data\":[{\"index\":0,\"float\":10.0},{\"index\":1,\"float\":20.0}]}\n"
     ]
    }
   ],
   "source": [
    "df = pd.DataFrame(pd.Series([10,20], name='float', dtype='float64'), dtype='category')\n",
    "print(df.to_json(orient='table'))"
   ]
  },
  {
   "cell_type": "markdown",
   "id": "27a0f805",
   "metadata": {},
   "source": [
    "### Data compactness\n",
    "- json-table interface is not compact (in this example the size is double or triple the size of the compact format"
   ]
  },
  {
   "cell_type": "code",
   "execution_count": 12,
   "id": "9a0878f8",
   "metadata": {},
   "outputs": [
    {
     "name": "stdout",
     "output_type": "stream",
     "text": [
      "        dates  value   names  unique\n",
      "0  1964-01-01     10    john    True\n",
      "1  1985-02-05     10    eric    True\n",
      "2  2022-01-21     20  judith    True\n",
      "3  1964-01-01     20    mila    True\n",
      "4  1985-02-05     30  hector    True\n",
      "5  2022-01-21     30   maria    True \n",
      "\n",
      "{\":tab\": {\"index\": [0, 1, 2, 3, 4, 5], \"dates\": [\"1964-01-01\", \"1985-02-05\", \"2022-01-21\", \"1964-01-01\", \"1985-02-05\", \"2022-01-21\"], \"value\": [10, 10, 20, 20, 30, 30], \"names\": [\"john\", \"eric\", \"judith\", \"mila\", \"hector\", \"maria\"], \"unique\": [true, true, true, true, true, true]}}\n",
      "281 \n",
      "\n",
      "{\"schema\":{\"fields\":[{\"name\":\"index\",\"type\":\"integer\"},{\"name\":\"dates\",\"type\":\"string\"},{\"name\":\"value\",\"type\":\"integer\"},{\"name\":\"names\",\"type\":\"string\"},{\"name\":\"unique\",\"type\":\"boolean\"}],\"primaryKey\":[\"index\"],\"pandas_version\":\"1.4.0\"},\"data\":[{\"index\":0,\"dates\":\"1964-01-01\",\"value\":10,\"names\":\"john\",\"unique\":true},{\"index\":1,\"dates\":\"1985-02-05\",\"value\":10,\"names\":\"eric\",\"unique\":true},{\"index\":2,\"dates\":\"2022-01-21\",\"value\":20,\"names\":\"judith\",\"unique\":true},{\"index\":3,\"dates\":\"1964-01-01\",\"value\":20,\"names\":\"mila\",\"unique\":true},{\"index\":4,\"dates\":\"1985-02-05\",\"value\":30,\"names\":\"hector\",\"unique\":true},{\"index\":5,\"dates\":\"2022-01-21\",\"value\":30,\"names\":\"maria\",\"unique\":true}]}\n",
      "692 \n",
      "\n"
     ]
    }
   ],
   "source": [
    "tab_data = {'dates':           ['1964-01-01', '1985-02-05', '2022-01-21', '1964-01-01', '1985-02-05', '2022-01-21'], \n",
    "            'value':           [10, 10, 20, 20, 30, 30],\n",
    "            'names':           ['john', 'eric', 'judith', 'mila', 'hector', 'maria'],\n",
    "            'unique':          [True, True, True, True, True, True] }\n",
    "\n",
    "df = pd.DataFrame(tab_data)\n",
    "print(df, '\\n')\n",
    "\n",
    "# length with compact interface\n",
    "print(Ntv.obj(df).to_obj(encoded=True))\n",
    "print(len(Ntv.obj(df).to_obj(encoded=True)), '\\n')\n",
    "\n",
    "# length with actual interface\n",
    "print(df.to_json(orient='table'))\n",
    "print(len(df.to_json(orient='table')), '\\n')"
   ]
  },
  {
   "cell_type": "code",
   "execution_count": 13,
   "id": "db842b75",
   "metadata": {},
   "outputs": [
    {
     "name": "stdout",
     "output_type": "stream",
     "text": [
      "        dates value   names unique\n",
      "0  1964-01-01    10    john   True\n",
      "1  1985-02-05    10    eric   True\n",
      "2  2022-01-21    20  judith   True\n",
      "3  1964-01-01    20    mila   True\n",
      "4  1985-02-05    30  hector   True\n",
      "5  2022-01-21    30   maria   True \n",
      "\n",
      "{\":tab\": {\"index\": [0, 1, 2, 3, 4, 5], \"dates\": [[\"1964-01-01\", \"1985-02-05\", \"2022-01-21\"], [0, 1, 2, 0, 1, 2]], \"value\": [[10, 20, 30], [0, 0, 1, 1, 2, 2]], \"names\": [[\"eric\", \"hector\", \"john\", \"judith\", \"maria\", \"mila\"], [2, 0, 3, 5, 1, 4]], \"unique\": [[true], [0, 0, 0, 0, 0, 0]]}}\n",
      "285 \n",
      "\n",
      "{\"schema\":{\"fields\":[{\"name\":\"index\",\"type\":\"integer\"},{\"name\":\"dates\",\"type\":\"any\",\"constraints\":{\"enum\":[\"1964-01-01\",\"1985-02-05\",\"2022-01-21\"]},\"ordered\":false},{\"name\":\"value\",\"type\":\"any\",\"constraints\":{\"enum\":[10,20,30]},\"ordered\":false},{\"name\":\"names\",\"type\":\"any\",\"constraints\":{\"enum\":[\"eric\",\"hector\",\"john\",\"judith\",\"maria\",\"mila\"]},\"ordered\":false},{\"name\":\"unique\",\"type\":\"boolean\",\"constraints\":{\"enum\":[true]},\"ordered\":false}],\"primaryKey\":[\"index\"],\"pandas_version\":\"1.4.0\"},\"data\":[{\"index\":0,\"dates\":\"1964-01-01\",\"value\":10,\"names\":\"john\",\"unique\":true},{\"index\":1,\"dates\":\"1985-02-05\",\"value\":10,\"names\":\"eric\",\"unique\":true},{\"index\":2,\"dates\":\"2022-01-21\",\"value\":20,\"names\":\"judith\",\"unique\":true},{\"index\":3,\"dates\":\"1964-01-01\",\"value\":20,\"names\":\"mila\",\"unique\":true},{\"index\":4,\"dates\":\"1985-02-05\",\"value\":30,\"names\":\"hector\",\"unique\":true},{\"index\":5,\"dates\":\"2022-01-21\",\"value\":30,\"names\":\"maria\",\"unique\":true}]}\n",
      "946 \n",
      "\n"
     ]
    }
   ],
   "source": [
    "tab_data = {'dates':           ['1964-01-01', '1985-02-05', '2022-01-21', '1964-01-01', '1985-02-05', '2022-01-21'], \n",
    "            'value':           [10, 10, 20, 20, 30, 30],\n",
    "            'names':           ['john', 'eric', 'judith', 'mila', 'hector', 'maria'],\n",
    "            'unique':          [True, True, True, True, True, True] }\n",
    "\n",
    "df = pd.DataFrame(tab_data, dtype='category')\n",
    "print(df, '\\n')\n",
    "\n",
    "# length with compact interface\n",
    "print(Ntv.obj(df).to_obj(encoded=True))\n",
    "print(len(Ntv.obj(df).to_obj(encoded=True)), '\\n')\n",
    "\n",
    "# length with actual interface\n",
    "print(df.to_json(orient='table'))\n",
    "print(len(df.to_json(orient='table')), '\\n')"
   ]
  },
  {
   "cell_type": "markdown",
   "id": "702bf756",
   "metadata": {},
   "source": [
    "### Interface is reversible only with json dtype\n",
    "- see previous examples"
   ]
  },
  {
   "cell_type": "markdown",
   "id": "2cf65060",
   "metadata": {},
   "source": [
    "### External types\n",
    "- the interface does not accept external types\n",
    "- to integrate external types, it is necessary to first create ExtensionArray and ExtensionDtype objects"
   ]
  },
  {
   "cell_type": "markdown",
   "id": "ca787e67",
   "metadata": {},
   "source": [
    "## 2 - Series"
   ]
  },
  {
   "cell_type": "markdown",
   "id": "14204c2d",
   "metadata": {},
   "source": [
    "### Simple example"
   ]
  },
  {
   "cell_type": "code",
   "execution_count": 14,
   "id": "62319579",
   "metadata": {},
   "outputs": [
    {
     "name": "stdout",
     "output_type": "stream",
     "text": [
      "pandas object :\n",
      "0    1\n",
      "1    2\n",
      "2    3\n",
      "Name: value, dtype: int64\n",
      "\n",
      "Json representation : \n",
      "     {\":field\": {\"value\": [1, 2, 3]}}\n",
      "\n",
      "is Json translation reversible ?  True\n"
     ]
    }
   ],
   "source": [
    "field_data = {'value': [1, 2, 3]}\n",
    "field = Ntv.obj({':field': field_data})\n",
    "sr = field.to_obj(**option)\n",
    "# pandas dtype conform to Ntv type\n",
    "print('pandas object :\\n' + str(sr))\n",
    "print('\\nJson representation : \\n    ', Ntv.obj(sr))\n",
    "print('\\nis Json translation reversible ? ', sr.equals(Ntv.obj(sr).to_obj(**option)))"
   ]
  },
  {
   "cell_type": "markdown",
   "id": "954c6e65",
   "metadata": {},
   "source": [
    "### Typed example"
   ]
  },
  {
   "cell_type": "code",
   "execution_count": 15,
   "id": "a556868a",
   "metadata": {},
   "outputs": [
    {
     "name": "stdout",
     "output_type": "stream",
     "text": [
      "pandas object :\n",
      " 0   1964-01-01\n",
      "1   1985-02-05\n",
      "2   2022-01-21\n",
      "Name: dates, dtype: datetime64[ns]\n",
      "\n",
      "Json representation : \n",
      "     {\":field\": {\"dates::datetime\": [\"1964-01-01T00:00:00.000\", \"1985-02-05T00:00:00.000\", \"2022-01-21T00:00:00.000\"]}}\n",
      "\n",
      "is Json translation reversible ?  True\n"
     ]
    }
   ],
   "source": [
    "field_data = {'dates::datetime': ['1964-01-01', '1985-02-05', '2022-01-21']}\n",
    "field = Ntv.obj({':field': field_data})\n",
    "sr = field.to_obj(**option)\n",
    "# pandas dtype conform to Ntv type\n",
    "print('pandas object :\\n', sr)\n",
    "print('\\nJson representation : \\n    ', Ntv.obj(sr))\n",
    "print('\\nis Json translation reversible ? ', sr.equals(Ntv.obj(sr).to_obj(**option)))"
   ]
  },
  {
   "cell_type": "markdown",
   "id": "bbef79a9",
   "metadata": {},
   "source": [
    "### Examples with a non-Pandas type"
   ]
  },
  {
   "cell_type": "code",
   "execution_count": 16,
   "id": "765f0396",
   "metadata": {},
   "outputs": [
    {
     "name": "stdout",
     "output_type": "stream",
     "text": [
      "pandas object :\n",
      "0    1964-01-01\n",
      "1    1985-02-05\n",
      "2    2022-01-21\n",
      "Name: dates::date, dtype: object\n",
      "\n",
      "Json representation : \n",
      "     {\":field\": {\"dates::date\": [\"1964-01-01\", \"1985-02-05\", \"2022-01-21\"]}}\n",
      "\n",
      "is Json translation reversible ?  True\n"
     ]
    }
   ],
   "source": [
    "field_data = {'dates::date': ['1964-01-01', '1985-02-05', '2022-01-21']}\n",
    "field = Ntv.obj({':field': field_data})\n",
    "sr = field.to_obj(**option)\n",
    "# pandas dtype : object\n",
    "print('pandas object :\\n' + str(sr))\n",
    "print('\\nJson representation : \\n    ', Ntv.obj(sr))\n",
    "print('\\nis Json translation reversible ? ', sr.equals(Ntv.obj(sr).to_obj(**option)))"
   ]
  },
  {
   "cell_type": "code",
   "execution_count": 17,
   "id": "327c67a9",
   "metadata": {},
   "outputs": [
    {
     "name": "stdout",
     "output_type": "stream",
     "text": [
      "pandas object :\n",
      "0    POINT (1 2)\n",
      "1    POINT (3 4)\n",
      "2    POINT (5 6)\n",
      "Name: coord::point, dtype: object\n",
      "\n",
      "Json representation : \n",
      "     {\":field\": {\"coord::point\": [[1.0, 2.0], [3.0, 4.0], [5.0, 6.0]]}}\n",
      "\n",
      "is Json translation reversible ?  True\n"
     ]
    },
    {
     "name": "stderr",
     "output_type": "stream",
     "text": [
      "C:\\Opensource\\anaconda3\\envs\\observ_v10_20230430\\lib\\site-packages\\pandas\\core\\construction.py:809: ShapelyDeprecationWarning: The array interface is deprecated and will no longer work in Shapely 2.0. Convert the '.coords' to a numpy array instead.\n",
      "  subarr = construct_1d_object_array_from_listlike(arr)\n"
     ]
    }
   ],
   "source": [
    "field_data = {'coord::point':    [[1,2], [3,4], [5,6]]}\n",
    "field = Ntv.obj({':field': field_data})\n",
    "sr = field.to_obj(**option)\n",
    "# pandas dtype : object\n",
    "print('pandas object :\\n' + str(sr))\n",
    "print('\\nJson representation : \\n    ', Ntv.obj(sr))\n",
    "print('\\nis Json translation reversible ? ', sr.equals(Ntv.obj(sr).to_obj(**option)))"
   ]
  },
  {
   "cell_type": "markdown",
   "id": "90a68b81",
   "metadata": {},
   "source": [
    "### Categorical examples\n",
    "- available only with hashable data"
   ]
  },
  {
   "cell_type": "code",
   "execution_count": 18,
   "id": "6ba57f0a",
   "metadata": {},
   "outputs": [
    {
     "name": "stdout",
     "output_type": "stream",
     "text": [
      "pandas object :\n",
      "0    1\n",
      "1    2\n",
      "2    1\n",
      "3    2\n",
      "Name: integer, dtype: category\n",
      "Categories (2, int64): [1, 2]\n",
      "\n",
      "Json representation : \n",
      "     {\":field\": {\"integer\": [[1, 2], [0, 1, 0, 1]]}}\n",
      "\n",
      "is Json translation reversible ?  True\n"
     ]
    }
   ],
   "source": [
    "field_data = {\"integer\": [[1, 2], [0, 1, 0, 1]]}\n",
    "field = Ntv.obj({':field': field_data})\n",
    "sr = field.to_obj(**option)\n",
    "# pandas dtype : object\n",
    "print('pandas object :\\n' + str(sr))\n",
    "print('\\nJson representation : \\n    ', Ntv.obj(sr))\n",
    "print('\\nis Json translation reversible ? ', sr.equals(Ntv.obj(sr).to_obj(**option)))"
   ]
  },
  {
   "cell_type": "code",
   "execution_count": 19,
   "id": "7e45d94d",
   "metadata": {},
   "outputs": [
    {
     "name": "stdout",
     "output_type": "stream",
     "text": [
      "pandas object :\n",
      "0    1964-01-01\n",
      "1    1985-02-05\n",
      "2    1964-01-01\n",
      "3    2022-01-21\n",
      "Name: dates::date, dtype: category\n",
      "Categories (3, object): [1964-01-01, 1985-02-05, 2022-01-21]\n",
      "\n",
      "Json representation : \n",
      "     {\":field\": {\"dates\": [{\"::date\": [\"1964-01-01\", \"1985-02-05\", \"2022-01-21\"]}, [0, 1, 0, 2]]}}\n",
      "\n",
      "is Json translation reversible ?  True\n"
     ]
    }
   ],
   "source": [
    "field_data = {'dates': [{'::date': ['1964-01-01', '1985-02-05', '2022-01-21']}, [0, 1, 0, 2]]}\n",
    "field = Ntv.obj({':field': field_data})\n",
    "sr = field.to_obj(**option)\n",
    "# pandas dtype : object\n",
    "print('pandas object :\\n' + str(sr))\n",
    "print('\\nJson representation : \\n    ', Ntv.obj(sr))\n",
    "print('\\nis Json translation reversible ? ', sr.equals(Ntv.obj(sr).to_obj(**option)))"
   ]
  },
  {
   "cell_type": "code",
   "execution_count": 20,
   "id": "a4a756e7",
   "metadata": {},
   "outputs": [
    {
     "name": "stdout",
     "output_type": "stream",
     "text": [
      "pandas object :\n",
      "0    (1, 2)\n",
      "1    (3, 4)\n",
      "2    (1, 2)\n",
      "3    (5, 6)\n",
      "Name: array::array, dtype: category\n",
      "Categories (3, object): [(1, 2), (3, 4), (5, 6)]\n",
      "\n",
      "Json representation : \n",
      "     {\":field\": {\"array\": [{\"::array\": [[1, 2], [3, 4], [5, 6]]}, [0, 1, 0, 2]]}}\n",
      "\n",
      "is Json translation reversible ?  True\n"
     ]
    }
   ],
   "source": [
    "field_data = {'array': [{'::array': [[1,2], [3,4], [5,6]]}, [0, 1, 0, 2]]}\n",
    "field = Ntv.obj({':field': field_data})\n",
    "sr = field.to_obj(**option)\n",
    "# pandas dtype : object\n",
    "print('pandas object :\\n' + str(sr))\n",
    "print('\\nJson representation : \\n    ', Ntv.obj(sr))\n",
    "print('\\nis Json translation reversible ? ', sr.equals(Ntv.obj(sr).to_obj(**option)))"
   ]
  },
  {
   "cell_type": "markdown",
   "id": "38335df3",
   "metadata": {},
   "source": [
    "## 3 - DataFrame"
   ]
  },
  {
   "cell_type": "markdown",
   "id": "fb4a7b88",
   "metadata": {},
   "source": [
    "### Initial example"
   ]
  },
  {
   "cell_type": "code",
   "execution_count": 21,
   "id": "ac890bcb",
   "metadata": {},
   "outputs": [
    {
     "name": "stdout",
     "output_type": "stream",
     "text": [
      "pandas dtype :\n",
      "A    object\n",
      "B    object\n",
      "dtype: object\n",
      "\n",
      "pandas object :\n",
      "   A  B\n",
      "0  a  b\n",
      "1  b  c\n",
      "2  c  c\n",
      "3  a  d\n",
      "\n",
      "Json representation : \n",
      "     {\":tab\": {\"index\": [0, 1, 2, 3], \"A\": [\"a\", \"b\", \"c\", \"a\"], \"B\": [\"b\", \"c\", \"c\", \"d\"]}}\n",
      "\n",
      "is Json translation reversible ?  True\n"
     ]
    }
   ],
   "source": [
    "df = pd.DataFrame({\"A\": list(\"abca\"), \"B\": list(\"bccd\")})\n",
    "\n",
    "print('pandas dtype :\\n' + str(df.dtypes))\n",
    "print('\\npandas object :\\n' + str(df))\n",
    "print('\\nJson representation : \\n    ', Ntv.obj(df))\n",
    "print('\\nis Json translation reversible ? ', df.equals(Ntv.obj(df).to_obj(**option)))"
   ]
  },
  {
   "cell_type": "markdown",
   "id": "c04430e6",
   "metadata": {},
   "source": [
    "### Complete example\n",
    "- index data\n",
    "- Pandas dtype (int32, bool, string)\n",
    "- NTV type (date, point) -> object dtype\n",
    "- data unique"
   ]
  },
  {
   "cell_type": "code",
   "execution_count": 22,
   "id": "fe6c69cb",
   "metadata": {},
   "outputs": [
    {
     "name": "stdout",
     "output_type": "stream",
     "text": [
      "pandas dtype :\n",
      "dates::date     object\n",
      "value            int64\n",
      "value32          int32\n",
      "res              int64\n",
      "coord::point    object\n",
      "names           string\n",
      "unique            bool\n",
      "dtype: object\n",
      "\n",
      "pandas object :\n",
      "    dates::date  value  value32  res coord::point   names  unique\n",
      "100  1964-01-01     10       12   10  POINT (1 2)    john    True\n",
      "200  1985-02-05     10       12   20  POINT (3 4)    eric    True\n",
      "300  2022-01-21     20       22   30  POINT (5 6)  judith    True\n",
      "400  1964-01-01     20       22   10  POINT (7 8)    mila    True\n",
      "500  1985-02-05     30       32   20  POINT (3 4)  hector    True\n",
      "600  2022-01-21     30       32   30  POINT (5 6)   maria    True\n",
      "\n",
      "Json representation : \n",
      "     {\":tab\": {\"index\": [100, 200, 300, 400, 500, 600], \"dates::date\": [\"1964-01-01\", \"1985-02-05\", \"2022-01-21\", \"1964-01-01\", \"1985-02-05\", \"2022-01-21\"], \"value\": [10, 10, 20, 20, 30, 30], \"value32::int32\": [12, 12, 22, 22, 32, 32], \"res\": [10, 20, 30, 10, 20, 30], \"coord::point\": [[1.0, 2.0], [3.0, 4.0], [5.0, 6.0], [7.0, 8.0], [3.0, 4.0], [5.0, 6.0]], \"names::string\": [\"john\", \"eric\", \"judith\", \"mila\", \"hector\", \"maria\"], \"unique\": [true, true, true, true, true, true]}}\n",
      "\n",
      "is Json translation reversible ?  True\n"
     ]
    },
    {
     "name": "stderr",
     "output_type": "stream",
     "text": [
      "C:\\Opensource\\anaconda3\\envs\\observ_v10_20230430\\lib\\site-packages\\pandas\\core\\construction.py:809: ShapelyDeprecationWarning: The array interface is deprecated and will no longer work in Shapely 2.0. Convert the '.coords' to a numpy array instead.\n",
      "  subarr = construct_1d_object_array_from_listlike(arr)\n",
      "C:\\Opensource\\anaconda3\\envs\\observ_v10_20230430\\lib\\site-packages\\pandas\\core\\construction.py:809: ShapelyDeprecationWarning: The array interface is deprecated and will no longer work in Shapely 2.0. Convert the '.coords' to a numpy array instead.\n",
      "  subarr = construct_1d_object_array_from_listlike(arr)\n"
     ]
    }
   ],
   "source": [
    "tab_data = {'index':           [100, 200, 300, 400, 500, 600],\n",
    "            'dates::date':     ['1964-01-01', '1985-02-05', '2022-01-21', '1964-01-01', '1985-02-05', '2022-01-21'], \n",
    "            'value':           [10, 10, 20, 20, 30, 30],\n",
    "            'value32::int32':  [12, 12, 22, 22, 32, 32],\n",
    "            'res':             [10, 20, 30, 10, 20, 30],\n",
    "            'coord::point':    [[1,2], [3,4], [5,6], [7,8], [3,4], [5,6]],\n",
    "            'names::string':   ['john', 'eric', 'judith', 'mila', 'hector', 'maria'],\n",
    "            'unique':          True }\n",
    "tab = Ntv.obj({':tab'  : tab_data})\n",
    "df = tab.to_obj(**option)\n",
    "\n",
    "print('pandas dtype :\\n' + str(df.dtypes))\n",
    "print('\\npandas object :\\n' + str(df))\n",
    "print('\\nJson representation : \\n    ', Ntv.obj(df))\n",
    "print('\\nis Json translation reversible ? ', df.equals(Ntv.obj(df).to_obj(**option)))"
   ]
  },
  {
   "cell_type": "markdown",
   "id": "513dd337",
   "metadata": {},
   "source": [
    "### Json data can be annotated"
   ]
  },
  {
   "cell_type": "code",
   "execution_count": 23,
   "id": "cdda0ce3",
   "metadata": {
    "scrolled": false
   },
   "outputs": [
    {
     "name": "stdout",
     "output_type": "stream",
     "text": [
      "is DataFrame identical ?  True\n"
     ]
    },
    {
     "name": "stderr",
     "output_type": "stream",
     "text": [
      "C:\\Opensource\\anaconda3\\envs\\observ_v10_20230430\\lib\\site-packages\\pandas\\core\\construction.py:809: ShapelyDeprecationWarning: The array interface is deprecated and will no longer work in Shapely 2.0. Convert the '.coords' to a numpy array instead.\n",
      "  subarr = construct_1d_object_array_from_listlike(arr)\n"
     ]
    }
   ],
   "source": [
    "tab_data = {'index':           [100, 200, 300, 400, 500, 600],\n",
    "            'dates::date':     ['1964-01-01', '1985-02-05', '2022-01-21', '1964-01-01', '1985-02-05', '2022-01-21'], \n",
    "            'value':           [10, 10, 20, 20, {'valid?': 30}, 30],\n",
    "            'value32::int32':  [12, 12, 22, 22, 32, 32],\n",
    "            'res':             {'res1': 10, 'res2': 20, 'res3': 30, 'res4': 10, 'res5': 20, 'res6': 30},\n",
    "            'coord::point':    [[1,2], [3,4], [5,6], [7,8], {'same as 2nd point': [3,4]}, [5,6]],\n",
    "            'names::string':   ['john', 'eric', 'judith', 'mila', 'hector', 'maria'],\n",
    "            'unique:boolean':  True }\n",
    "tab = Ntv.obj({':tab'  : tab_data})\n",
    "df2 = tab.to_obj(**option)\n",
    "\n",
    "print('is DataFrame identical ? ', df.equals(df2))"
   ]
  },
  {
   "cell_type": "markdown",
   "id": "82017e47",
   "metadata": {},
   "source": [
    "### Categorical data can be included"
   ]
  },
  {
   "cell_type": "code",
   "execution_count": 24,
   "id": "22b7a281",
   "metadata": {},
   "outputs": [
    {
     "name": "stdout",
     "output_type": "stream",
     "text": [
      "pandas dtype :\n",
      "A    category\n",
      "B    category\n",
      "dtype: object\n",
      "\n",
      "pandas object :\n",
      "   A  B\n",
      "0  a  b\n",
      "1  b  c\n",
      "2  c  c\n",
      "3  a  d\n",
      "\n",
      "Json representation : \n",
      "     {\":tab\": {\"index\": [0, 1, 2, 3], \"A\": [[\"a\", \"b\", \"c\"], [0, 1, 2, 0]], \"B\": [[\"b\", \"c\", \"d\"], [0, 1, 1, 2]]}}\n",
      "\n",
      "is Json translation reversible ?  True\n"
     ]
    }
   ],
   "source": [
    "df = pd.DataFrame({\"A\": list(\"abca\"), \"B\": list(\"bccd\")}, dtype=\"category\")\n",
    "\n",
    "print('pandas dtype :\\n' + str(df.dtypes))\n",
    "print('\\npandas object :\\n' + str(df))\n",
    "print('\\nJson representation : \\n    ', Ntv.obj(df))\n",
    "print('\\nis Json translation reversible ? ', df.equals(Ntv.obj(df).to_obj(**option)))"
   ]
  },
  {
   "cell_type": "code",
   "execution_count": 25,
   "id": "d7eb51ea",
   "metadata": {
    "scrolled": false
   },
   "outputs": [
    {
     "name": "stdout",
     "output_type": "stream",
     "text": [
      "pandas dtype :\n",
      "dates::date     category\n",
      "value           category\n",
      "value32            int32\n",
      "res                int64\n",
      "coord::point      object\n",
      "names             string\n",
      "unique              bool\n",
      "dtype: object\n",
      "\n",
      "pandas object :\n",
      "    dates::date value  value32  res coord::point   names  unique\n",
      "100  1964-01-01    10       12   10  POINT (1 2)    john    True\n",
      "200  1985-02-05    10       12   20  POINT (3 4)    eric    True\n",
      "300  2022-01-21    20       22   30  POINT (5 6)  judith    True\n",
      "400  1964-01-01    20       22   10  POINT (7 8)    mila    True\n",
      "500  1985-02-05    30       32   20  POINT (3 4)  hector    True\n",
      "600  2022-01-21    30       32   30  POINT (5 6)   maria    True\n",
      "\n",
      "Json representation : \n",
      "     {\":tab\": {\"index\": [100, 200, 300, 400, 500, 600], \"dates\": [{\"::date\": [\"1964-01-01\", \"1985-02-05\", \"2022-01-21\"]}, [0, 1, 2, 0, 1, 2]], \"value\": [[10, 20, 30], [0, 0, 1, 1, 2, 2]], \"value32::int32\": [12, 12, 22, 22, 32, 32], \"res\": [10, 20, 30, 10, 20, 30], \"coord::point\": [[1.0, 2.0], [3.0, 4.0], [5.0, 6.0], [7.0, 8.0], [3.0, 4.0], [5.0, 6.0]], \"names::string\": [\"john\", \"eric\", \"judith\", \"mila\", \"hector\", \"maria\"], \"unique\": [true, true, true, true, true, true]}}\n",
      "\n",
      "is Json translation reversible ?  True\n"
     ]
    },
    {
     "name": "stderr",
     "output_type": "stream",
     "text": [
      "C:\\Opensource\\anaconda3\\envs\\observ_v10_20230430\\lib\\site-packages\\pandas\\core\\construction.py:809: ShapelyDeprecationWarning: The array interface is deprecated and will no longer work in Shapely 2.0. Convert the '.coords' to a numpy array instead.\n",
      "  subarr = construct_1d_object_array_from_listlike(arr)\n",
      "C:\\Opensource\\anaconda3\\envs\\observ_v10_20230430\\lib\\site-packages\\pandas\\core\\construction.py:809: ShapelyDeprecationWarning: The array interface is deprecated and will no longer work in Shapely 2.0. Convert the '.coords' to a numpy array instead.\n",
      "  subarr = construct_1d_object_array_from_listlike(arr)\n"
     ]
    }
   ],
   "source": [
    "tab_data = {'index':           [100, 200, 300, 400, 500, 600],\n",
    "            'dates':           [{'::date': ['1964-01-01', '1985-02-05', '2022-01-21']}, [0, 1, 2, 0, 1, 2]],\n",
    "            'value':           [[10, 20, {'valid?': 30}], [0, 0, 1, 1, 2, 2]],\n",
    "            'value32::int32':  [12, 12, 22, 22, 32, 32],\n",
    "            'res':             {'res1': 10, 'res2': 20, 'res3': 30, 'res4': 10, 'res5': 20, 'res6': 30},\n",
    "            'coord::point':    [[1,2], [3,4], [5,6], [7,8], {'same as 2nd point': [3,4]}, [5,6]],\n",
    "            'names::string':   ['john', 'eric', 'judith', 'mila', 'hector', 'maria'],\n",
    "            'unique:boolean':  True }\n",
    "tab = Ntv.obj({':tab'  : tab_data})\n",
    "df = tab.to_obj(**option)\n",
    "\n",
    "print('pandas dtype :\\n' + str(df.dtypes))\n",
    "print('\\npandas object :\\n' + str(df))\n",
    "print('\\nJson representation : \\n    ', Ntv.obj(df))\n",
    "print('\\nis Json translation reversible ? ', df.equals(Ntv.obj(df).to_obj(**option)))"
   ]
  }
 ],
 "metadata": {
  "kernelspec": {
   "display_name": "Python 3 (ipykernel)",
   "language": "python",
   "name": "python3"
  },
  "language_info": {
   "codemirror_mode": {
    "name": "ipython",
    "version": 3
   },
   "file_extension": ".py",
   "mimetype": "text/x-python",
   "name": "python",
   "nbconvert_exporter": "python",
   "pygments_lexer": "ipython3",
   "version": "3.10.9"
  }
 },
 "nbformat": 4,
 "nbformat_minor": 5
}
