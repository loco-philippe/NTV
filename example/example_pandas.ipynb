{
 "cells": [
  {
   "cell_type": "markdown",
   "id": "343c7b20",
   "metadata": {},
   "source": [
    "## a JSON format compatible with the Pandas data structure\n",
    "### introduction\n",
    "The data type is not explicitely taken into account in the current JSON interface.     \n",
    "    \n",
    "The existing solution is to use a data schema in addition.\n",
    "\n",
    "### proposal\n",
    "To have a simple and compact solution, I propose to use the [JSON-NTV format (Named and Typed Value)](https://github.com/loco-philippe/NTV#readme) - which integrates the notion of type - and its JSON-TAB variation for tabular data.\n",
    "\n",
    "### content\n",
    "This NoteBook uses examples to present some key points"
   ]
  },
  {
   "cell_type": "code",
   "execution_count": 1,
   "id": "d00a0cb6",
   "metadata": {},
   "outputs": [],
   "source": [
    "from json_ntv import NtvSingle, NtvList, Ntv, NtvConnector, NtvType, Namespace\n",
    "from datetime import date, datetime\n",
    "import pandas as pd\n",
    "import pprint\n",
    "pp = pprint.PrettyPrinter(compact=True, width=100)\n",
    "pr = pp.pprint\n",
    "option = {'encode_format': 'obj', 'dicobj': {'field': 'SeriesConnec', 'tab': 'DataFrameConnec'}}"
   ]
  },
  {
   "cell_type": "markdown",
   "id": "119c1a54",
   "metadata": {},
   "source": [
    "## Series"
   ]
  },
  {
   "cell_type": "code",
   "execution_count": 2,
   "id": "2807b392",
   "metadata": {},
   "outputs": [
    {
     "name": "stdout",
     "output_type": "stream",
     "text": [
      "0    1\n",
      "1    2\n",
      "2    3\n",
      "Name: value, dtype: int64 \n",
      "\n",
      "{\":field\": {\"value\": [1, 2, 3]}}\n"
     ]
    }
   ],
   "source": [
    "field_data = {'value': [1, 2, 3]}\n",
    "field = Ntv.obj({':field': field_data})\n",
    "sr = field.to_obj(**option)\n",
    "# pandas dtype conform to Ntv type\n",
    "print(sr, '\\n')\n",
    "print(Ntv.obj(sr))"
   ]
  },
  {
   "cell_type": "code",
   "execution_count": 3,
   "id": "69ab77dd",
   "metadata": {},
   "outputs": [
    {
     "name": "stdout",
     "output_type": "stream",
     "text": [
      "0   1964-01-01\n",
      "1   1985-02-05\n",
      "2   2022-01-21\n",
      "Name: dates, dtype: datetime64[ns] \n",
      "\n",
      "{\":field\": {\"dates::datetime\": [\"1964-01-01T00:00:00.000\", \"1985-02-05T00:00:00.000\", \"2022-01-21T00:00:00.000\"]}}\n"
     ]
    }
   ],
   "source": [
    "field_data = {'dates::datetime': ['1964-01-01', '1985-02-05', '2022-01-21']}\n",
    "field = Ntv.obj({':field': field_data})\n",
    "sr = field.to_obj(**option)\n",
    "# pandas dtype conform to Ntv type\n",
    "print(sr, '\\n')\n",
    "print(Ntv.obj(sr))"
   ]
  },
  {
   "cell_type": "code",
   "execution_count": 4,
   "id": "bea5420b",
   "metadata": {},
   "outputs": [
    {
     "name": "stdout",
     "output_type": "stream",
     "text": [
      "0    1964-01-01\n",
      "1    1985-02-05\n",
      "2    2022-01-21\n",
      "Name: dates::date, dtype: object \n",
      "\n",
      "{\":field\": {\"dates::date\": [\"1964-01-01\", \"1985-02-05\", \"2022-01-21\"]}}\n"
     ]
    }
   ],
   "source": [
    "field_data = {'dates::date': ['1964-01-01', '1985-02-05', '2022-01-21']}\n",
    "field = Ntv.obj({':field': field_data})\n",
    "sr = field.to_obj(**option)\n",
    "# pandas dtype conform to Ntv type\n",
    "print(sr, '\\n')\n",
    "print(Ntv.obj(sr))"
   ]
  },
  {
   "cell_type": "code",
   "execution_count": 5,
   "id": "a5903ed6",
   "metadata": {},
   "outputs": [
    {
     "name": "stdout",
     "output_type": "stream",
     "text": [
      "0    POINT (1 2)\n",
      "1    POINT (3 4)\n",
      "2    POINT (5 6)\n",
      "Name: coord::point, dtype: object \n",
      "\n",
      "{\":field\": {\"coord::point\": [[1.0, 2.0], [3.0, 4.0], [5.0, 6.0]]}}\n"
     ]
    },
    {
     "name": "stderr",
     "output_type": "stream",
     "text": [
      "C:\\Opensource\\anaconda3\\envs\\observ_v10_20230430\\lib\\site-packages\\pandas\\core\\construction.py:809: ShapelyDeprecationWarning: The array interface is deprecated and will no longer work in Shapely 2.0. Convert the '.coords' to a numpy array instead.\n",
      "  subarr = construct_1d_object_array_from_listlike(arr)\n"
     ]
    }
   ],
   "source": [
    "field_data = {'coord::point':    [[1,2], [3,4], [5,6]]}\n",
    "field = Ntv.obj({':field': field_data})\n",
    "sr = field.to_obj(**option)\n",
    "# pandas dtype conform to Ntv type\n",
    "print(sr, '\\n')\n",
    "print(Ntv.obj(sr))"
   ]
  },
  {
   "cell_type": "code",
   "execution_count": 20,
   "id": "fe6c69cb",
   "metadata": {},
   "outputs": [
    {
     "name": "stdout",
     "output_type": "stream",
     "text": [
      "dates           datetime64[ns]\n",
      "value                    int64\n",
      "value32                  int32\n",
      "coord::point            object\n",
      "names                   string\n",
      "dtype: object\n"
     ]
    },
    {
     "name": "stderr",
     "output_type": "stream",
     "text": [
      "C:\\Opensource\\anaconda3\\envs\\observ_v10_20230430\\lib\\site-packages\\pandas\\core\\construction.py:809: ShapelyDeprecationWarning: The array interface is deprecated and will no longer work in Shapely 2.0. Convert the '.coords' to a numpy array instead.\n",
      "  subarr = construct_1d_object_array_from_listlike(arr)\n"
     ]
    },
    {
     "data": {
      "text/html": [
       "<div>\n",
       "<style scoped>\n",
       "    .dataframe tbody tr th:only-of-type {\n",
       "        vertical-align: middle;\n",
       "    }\n",
       "\n",
       "    .dataframe tbody tr th {\n",
       "        vertical-align: top;\n",
       "    }\n",
       "\n",
       "    .dataframe thead th {\n",
       "        text-align: right;\n",
       "    }\n",
       "</style>\n",
       "<table border=\"1\" class=\"dataframe\">\n",
       "  <thead>\n",
       "    <tr style=\"text-align: right;\">\n",
       "      <th></th>\n",
       "      <th>dates</th>\n",
       "      <th>value</th>\n",
       "      <th>value32</th>\n",
       "      <th>coord::point</th>\n",
       "      <th>names</th>\n",
       "    </tr>\n",
       "    <tr>\n",
       "      <th>index</th>\n",
       "      <th></th>\n",
       "      <th></th>\n",
       "      <th></th>\n",
       "      <th></th>\n",
       "      <th></th>\n",
       "    </tr>\n",
       "  </thead>\n",
       "  <tbody>\n",
       "    <tr>\n",
       "      <th>1</th>\n",
       "      <td>1964-01-01</td>\n",
       "      <td>10</td>\n",
       "      <td>10</td>\n",
       "      <td>POINT (1 2)</td>\n",
       "      <td>john</td>\n",
       "    </tr>\n",
       "    <tr>\n",
       "      <th>2</th>\n",
       "      <td>1985-02-05</td>\n",
       "      <td>20</td>\n",
       "      <td>20</td>\n",
       "      <td>POINT (3 4)</td>\n",
       "      <td>eric</td>\n",
       "    </tr>\n",
       "    <tr>\n",
       "      <th>3</th>\n",
       "      <td>2022-01-21</td>\n",
       "      <td>30</td>\n",
       "      <td>30</td>\n",
       "      <td>POINT (5 6)</td>\n",
       "      <td>judith</td>\n",
       "    </tr>\n",
       "  </tbody>\n",
       "</table>\n",
       "</div>"
      ],
      "text/plain": [
       "           dates  value  value32 coord::point   names\n",
       "index                                                \n",
       "1     1964-01-01     10       10  POINT (1 2)    john\n",
       "2     1985-02-05     20       20  POINT (3 4)    eric\n",
       "3     2022-01-21     30       30  POINT (5 6)  judith"
      ]
     },
     "execution_count": 20,
     "metadata": {},
     "output_type": "execute_result"
    }
   ],
   "source": [
    "tab_data   = {'index':           [1, 2, 3],\n",
    "              'dates::datetime': ['1964-01-01', '1985-02-05', '2022-01-21'], \n",
    "              'value':           [10, 20, 30],\n",
    "              'value32::int32':  [10, 20, 30],\n",
    "              'coord::point':    [[1,2], [3,4], [5,6]],\n",
    "              'names::string':   ['john', 'eric', 'judith']}\n",
    "tab   = Ntv.obj({':tab'  : tab_data})\n",
    "\n",
    "# the DataFrame Connector is associated with NtvType 'tab' in dicobj \n",
    "df = tab.to_obj  (**option)\n",
    "\n",
    "# pandas dtype conform to Ntv type\n",
    "print(df.dtypes)\n",
    "df"
   ]
  },
  {
   "cell_type": "code",
   "execution_count": 25,
   "id": "8f97dbc0",
   "metadata": {},
   "outputs": [
    {
     "name": "stderr",
     "output_type": "stream",
     "text": [
      "C:\\Opensource\\anaconda3\\envs\\observ_v10_20230430\\lib\\site-packages\\pandas\\core\\construction.py:809: ShapelyDeprecationWarning: The array interface is deprecated and will no longer work in Shapely 2.0. Convert the '.coords' to a numpy array instead.\n",
      "  subarr = construct_1d_object_array_from_listlike(arr)\n"
     ]
    },
    {
     "data": {
      "text/plain": [
       "True"
      ]
     },
     "execution_count": 25,
     "metadata": {},
     "output_type": "execute_result"
    }
   ],
   "source": [
    "# the dataframe generated from JSON-NTV data is identical to the initial dataframe\n",
    "df2 = Ntv.obj(df).to_obj(**option)\n",
    "df2.equals(df)"
   ]
  },
  {
   "cell_type": "code",
   "execution_count": 8,
   "id": "cdda0ce3",
   "metadata": {},
   "outputs": [
    {
     "name": "stdout",
     "output_type": "stream",
     "text": [
      "dates::date      object\n",
      "value             int64\n",
      "value32           int32\n",
      "res               int64\n",
      "coord::point     object\n",
      "names            string\n",
      "unique          boolean\n",
      "dtype: object\n"
     ]
    },
    {
     "name": "stderr",
     "output_type": "stream",
     "text": [
      "C:\\Opensource\\anaconda3\\envs\\observ_v10_20230430\\lib\\site-packages\\pandas\\core\\construction.py:809: ShapelyDeprecationWarning: The array interface is deprecated and will no longer work in Shapely 2.0. Convert the '.coords' to a numpy array instead.\n",
      "  subarr = construct_1d_object_array_from_listlike(arr)\n"
     ]
    },
    {
     "data": {
      "text/html": [
       "<div>\n",
       "<style scoped>\n",
       "    .dataframe tbody tr th:only-of-type {\n",
       "        vertical-align: middle;\n",
       "    }\n",
       "\n",
       "    .dataframe tbody tr th {\n",
       "        vertical-align: top;\n",
       "    }\n",
       "\n",
       "    .dataframe thead th {\n",
       "        text-align: right;\n",
       "    }\n",
       "</style>\n",
       "<table border=\"1\" class=\"dataframe\">\n",
       "  <thead>\n",
       "    <tr style=\"text-align: right;\">\n",
       "      <th></th>\n",
       "      <th>dates::date</th>\n",
       "      <th>value</th>\n",
       "      <th>value32</th>\n",
       "      <th>res</th>\n",
       "      <th>coord::point</th>\n",
       "      <th>names</th>\n",
       "      <th>unique</th>\n",
       "    </tr>\n",
       "    <tr>\n",
       "      <th>index</th>\n",
       "      <th></th>\n",
       "      <th></th>\n",
       "      <th></th>\n",
       "      <th></th>\n",
       "      <th></th>\n",
       "      <th></th>\n",
       "      <th></th>\n",
       "    </tr>\n",
       "  </thead>\n",
       "  <tbody>\n",
       "    <tr>\n",
       "      <th>100</th>\n",
       "      <td>1964-01-01</td>\n",
       "      <td>10</td>\n",
       "      <td>12</td>\n",
       "      <td>10</td>\n",
       "      <td>POINT (1 2)</td>\n",
       "      <td>john</td>\n",
       "      <td>True</td>\n",
       "    </tr>\n",
       "    <tr>\n",
       "      <th>200</th>\n",
       "      <td>1985-02-05</td>\n",
       "      <td>10</td>\n",
       "      <td>12</td>\n",
       "      <td>20</td>\n",
       "      <td>POINT (3 4)</td>\n",
       "      <td>eric</td>\n",
       "      <td>True</td>\n",
       "    </tr>\n",
       "    <tr>\n",
       "      <th>300</th>\n",
       "      <td>2022-01-21</td>\n",
       "      <td>20</td>\n",
       "      <td>22</td>\n",
       "      <td>30</td>\n",
       "      <td>POINT (5 6)</td>\n",
       "      <td>judith</td>\n",
       "      <td>True</td>\n",
       "    </tr>\n",
       "    <tr>\n",
       "      <th>400</th>\n",
       "      <td>1964-01-01</td>\n",
       "      <td>20</td>\n",
       "      <td>22</td>\n",
       "      <td>10</td>\n",
       "      <td>POINT (7 8)</td>\n",
       "      <td>mila</td>\n",
       "      <td>True</td>\n",
       "    </tr>\n",
       "    <tr>\n",
       "      <th>500</th>\n",
       "      <td>1985-02-05</td>\n",
       "      <td>30</td>\n",
       "      <td>32</td>\n",
       "      <td>20</td>\n",
       "      <td>POINT (3 4)</td>\n",
       "      <td>hector</td>\n",
       "      <td>True</td>\n",
       "    </tr>\n",
       "    <tr>\n",
       "      <th>600</th>\n",
       "      <td>2022-01-21</td>\n",
       "      <td>30</td>\n",
       "      <td>32</td>\n",
       "      <td>30</td>\n",
       "      <td>POINT (5 6)</td>\n",
       "      <td>maria</td>\n",
       "      <td>True</td>\n",
       "    </tr>\n",
       "  </tbody>\n",
       "</table>\n",
       "</div>"
      ],
      "text/plain": [
       "      dates::date  value  value32  res coord::point   names  unique\n",
       "index                                                              \n",
       "100    1964-01-01     10       12   10  POINT (1 2)    john    True\n",
       "200    1985-02-05     10       12   20  POINT (3 4)    eric    True\n",
       "300    2022-01-21     20       22   30  POINT (5 6)  judith    True\n",
       "400    1964-01-01     20       22   10  POINT (7 8)    mila    True\n",
       "500    1985-02-05     30       32   20  POINT (3 4)  hector    True\n",
       "600    2022-01-21     30       32   30  POINT (5 6)   maria    True"
      ]
     },
     "execution_count": 8,
     "metadata": {},
     "output_type": "execute_result"
    }
   ],
   "source": [
    "data   = {'index':           [100, 200, 300, 400, 500, 600],\n",
    "          'dates::date':     ['1964-01-01', '1985-02-05', '2022-01-21', '1964-01-01', '1985-02-05', '2022-01-21'], \n",
    "          'value':           [10, 10, 20, 20, {'valid?': 30}, 30],\n",
    "          'value32::int32':  [12, 12, 22, 22, 32, 32],\n",
    "          'res':             {'res1': 10, 'res2': 20, 'res3': 30, 'res4': 10, 'res5': 20, 'res6': 30},\n",
    "          'coord::point':    [[1,2], [3,4], [5,6], [7,8], {'same as 2nd point': [3,4]}, [5,6]],\n",
    "          'names::string':   ['john', 'eric', 'judith', 'mila', 'hector', 'maria'],\n",
    "          'unique:boolean':  True }\n",
    "df  = Ntv.obj({':tab'  : data}).to_obj  (encode_format='obj', dicobj={'tab': 'DataFrameConnec'})\n",
    "\n",
    "# preservation of type\n",
    "print(df.dtypes)\n",
    "\n",
    "# preservation of index\n",
    "df"
   ]
  },
  {
   "cell_type": "code",
   "execution_count": 9,
   "id": "dfe38a71",
   "metadata": {},
   "outputs": [
    {
     "name": "stdout",
     "output_type": "stream",
     "text": [
      "{\"index\": [100, 200, 300, 400, 500, 600], \"dates::date\": [\"1964-01-01\", \"1985-02-05\", \"2022-01-21\", \"1964-01-01\", \"1985-02-05\", \"2022-01-21\"], \"value\": [10, 10, 20, 20, 30, 30], \"value32::int32\": [12, 12, 22, 22, 32, 32], \"res\": [10, 20, 30, 10, 20, 30], \"coord::point\": [[1.0, 2.0], [3.0, 4.0], [5.0, 6.0], [7.0, 8.0], [3.0, 4.0], [5.0, 6.0]], \"names::string\": [\"john\", \"eric\", \"judith\", \"mila\", \"hector\", \"maria\"], \"unique\": true}\n",
      "dates::date     object\n",
      "value            int64\n",
      "value32          int32\n",
      "res              int64\n",
      "coord::point    object\n",
      "names           string\n",
      "unique            bool\n",
      "dtype: object\n"
     ]
    },
    {
     "name": "stderr",
     "output_type": "stream",
     "text": [
      "C:\\Opensource\\anaconda3\\envs\\observ_v10_20230430\\lib\\site-packages\\pandas\\core\\construction.py:809: ShapelyDeprecationWarning: The array interface is deprecated and will no longer work in Shapely 2.0. Convert the '.coords' to a numpy array instead.\n",
      "  subarr = construct_1d_object_array_from_listlike(arr)\n"
     ]
    },
    {
     "data": {
      "text/html": [
       "<div>\n",
       "<style scoped>\n",
       "    .dataframe tbody tr th:only-of-type {\n",
       "        vertical-align: middle;\n",
       "    }\n",
       "\n",
       "    .dataframe tbody tr th {\n",
       "        vertical-align: top;\n",
       "    }\n",
       "\n",
       "    .dataframe thead th {\n",
       "        text-align: right;\n",
       "    }\n",
       "</style>\n",
       "<table border=\"1\" class=\"dataframe\">\n",
       "  <thead>\n",
       "    <tr style=\"text-align: right;\">\n",
       "      <th></th>\n",
       "      <th>dates::date</th>\n",
       "      <th>value</th>\n",
       "      <th>value32</th>\n",
       "      <th>res</th>\n",
       "      <th>coord::point</th>\n",
       "      <th>names</th>\n",
       "      <th>unique</th>\n",
       "    </tr>\n",
       "    <tr>\n",
       "      <th>index</th>\n",
       "      <th></th>\n",
       "      <th></th>\n",
       "      <th></th>\n",
       "      <th></th>\n",
       "      <th></th>\n",
       "      <th></th>\n",
       "      <th></th>\n",
       "    </tr>\n",
       "  </thead>\n",
       "  <tbody>\n",
       "    <tr>\n",
       "      <th>100</th>\n",
       "      <td>1964-01-01</td>\n",
       "      <td>10</td>\n",
       "      <td>12</td>\n",
       "      <td>10</td>\n",
       "      <td>POINT (1 2)</td>\n",
       "      <td>john</td>\n",
       "      <td>True</td>\n",
       "    </tr>\n",
       "    <tr>\n",
       "      <th>200</th>\n",
       "      <td>1985-02-05</td>\n",
       "      <td>10</td>\n",
       "      <td>12</td>\n",
       "      <td>20</td>\n",
       "      <td>POINT (3 4)</td>\n",
       "      <td>eric</td>\n",
       "      <td>True</td>\n",
       "    </tr>\n",
       "    <tr>\n",
       "      <th>300</th>\n",
       "      <td>2022-01-21</td>\n",
       "      <td>20</td>\n",
       "      <td>22</td>\n",
       "      <td>30</td>\n",
       "      <td>POINT (5 6)</td>\n",
       "      <td>judith</td>\n",
       "      <td>True</td>\n",
       "    </tr>\n",
       "    <tr>\n",
       "      <th>400</th>\n",
       "      <td>1964-01-01</td>\n",
       "      <td>20</td>\n",
       "      <td>22</td>\n",
       "      <td>10</td>\n",
       "      <td>POINT (7 8)</td>\n",
       "      <td>mila</td>\n",
       "      <td>True</td>\n",
       "    </tr>\n",
       "    <tr>\n",
       "      <th>500</th>\n",
       "      <td>1985-02-05</td>\n",
       "      <td>30</td>\n",
       "      <td>32</td>\n",
       "      <td>20</td>\n",
       "      <td>POINT (3 4)</td>\n",
       "      <td>hector</td>\n",
       "      <td>True</td>\n",
       "    </tr>\n",
       "    <tr>\n",
       "      <th>600</th>\n",
       "      <td>2022-01-21</td>\n",
       "      <td>30</td>\n",
       "      <td>32</td>\n",
       "      <td>30</td>\n",
       "      <td>POINT (5 6)</td>\n",
       "      <td>maria</td>\n",
       "      <td>True</td>\n",
       "    </tr>\n",
       "  </tbody>\n",
       "</table>\n",
       "</div>"
      ],
      "text/plain": [
       "      dates::date  value  value32  res coord::point   names  unique\n",
       "index                                                              \n",
       "100    1964-01-01     10       12   10  POINT (1 2)    john    True\n",
       "200    1985-02-05     10       12   20  POINT (3 4)    eric    True\n",
       "300    2022-01-21     20       22   30  POINT (5 6)  judith    True\n",
       "400    1964-01-01     20       22   10  POINT (7 8)    mila    True\n",
       "500    1985-02-05     30       32   20  POINT (3 4)  hector    True\n",
       "600    2022-01-21     30       32   30  POINT (5 6)   maria    True"
      ]
     },
     "execution_count": 9,
     "metadata": {},
     "output_type": "execute_result"
    }
   ],
   "source": [
    "from observation import Ilist\n",
    "\n",
    "ntv2 = Ilist.ntv(Ntv.obj(df).val).to_ntv('full')\n",
    "print(ntv2)\n",
    "df2 = Ntv.obj({':tab': ntv2.to_obj()}).to_obj(encode_format='obj', dicobj={'tab': 'DataFrameConnec'})\n",
    "\n",
    "print(df2.dtypes)\n",
    "df2"
   ]
  },
  {
   "cell_type": "code",
   "execution_count": 10,
   "id": "01f68d2b",
   "metadata": {},
   "outputs": [
    {
     "name": "stdout",
     "output_type": "stream",
     "text": [
      "{\"index\": [100, 200, 300, 400, 500, 600], \"dates\": [{\"::date\": [\"1985-02-05\", \"1964-01-01\", \"2022-01-21\"]}, [1, 0, 2, 1, 0, 2]], \"value\": [[20, 10, 30], [1, 1, 0, 0, 2, 2]], \"value32\": [{\"::int32\": [32, 12, 22]}, [1, 1, 2, 2, 0, 0]], \"res\": [[20, 10, 30], [1, 0, 2, 1, 0, 2]], \"coord\": [{\"::point\": [[7.0, 8.0], [5.0, 6.0], [3.0, 4.0], [1.0, 2.0]]}, [3, 2, 1, 0, 2, 1]], \"names::string\": [\"john\", \"eric\", \"judith\", \"mila\", \"hector\", \"maria\"], \"unique\": true}\n",
      "dates::date     object\n",
      "value            int64\n",
      "value32          int32\n",
      "res              int64\n",
      "coord::point    object\n",
      "names           string\n",
      "unique            bool\n",
      "dtype: object\n"
     ]
    },
    {
     "name": "stderr",
     "output_type": "stream",
     "text": [
      "C:\\Opensource\\anaconda3\\envs\\observ_v10_20230430\\lib\\site-packages\\pandas\\core\\construction.py:809: ShapelyDeprecationWarning: The array interface is deprecated and will no longer work in Shapely 2.0. Convert the '.coords' to a numpy array instead.\n",
      "  subarr = construct_1d_object_array_from_listlike(arr)\n"
     ]
    },
    {
     "data": {
      "text/html": [
       "<div>\n",
       "<style scoped>\n",
       "    .dataframe tbody tr th:only-of-type {\n",
       "        vertical-align: middle;\n",
       "    }\n",
       "\n",
       "    .dataframe tbody tr th {\n",
       "        vertical-align: top;\n",
       "    }\n",
       "\n",
       "    .dataframe thead th {\n",
       "        text-align: right;\n",
       "    }\n",
       "</style>\n",
       "<table border=\"1\" class=\"dataframe\">\n",
       "  <thead>\n",
       "    <tr style=\"text-align: right;\">\n",
       "      <th></th>\n",
       "      <th>dates::date</th>\n",
       "      <th>value</th>\n",
       "      <th>value32</th>\n",
       "      <th>res</th>\n",
       "      <th>coord::point</th>\n",
       "      <th>names</th>\n",
       "      <th>unique</th>\n",
       "    </tr>\n",
       "    <tr>\n",
       "      <th>index</th>\n",
       "      <th></th>\n",
       "      <th></th>\n",
       "      <th></th>\n",
       "      <th></th>\n",
       "      <th></th>\n",
       "      <th></th>\n",
       "      <th></th>\n",
       "    </tr>\n",
       "  </thead>\n",
       "  <tbody>\n",
       "    <tr>\n",
       "      <th>100</th>\n",
       "      <td>1964-01-01</td>\n",
       "      <td>10</td>\n",
       "      <td>12</td>\n",
       "      <td>10</td>\n",
       "      <td>POINT (1 2)</td>\n",
       "      <td>john</td>\n",
       "      <td>True</td>\n",
       "    </tr>\n",
       "    <tr>\n",
       "      <th>200</th>\n",
       "      <td>1985-02-05</td>\n",
       "      <td>10</td>\n",
       "      <td>12</td>\n",
       "      <td>20</td>\n",
       "      <td>POINT (3 4)</td>\n",
       "      <td>eric</td>\n",
       "      <td>True</td>\n",
       "    </tr>\n",
       "    <tr>\n",
       "      <th>300</th>\n",
       "      <td>2022-01-21</td>\n",
       "      <td>20</td>\n",
       "      <td>22</td>\n",
       "      <td>30</td>\n",
       "      <td>POINT (5 6)</td>\n",
       "      <td>judith</td>\n",
       "      <td>True</td>\n",
       "    </tr>\n",
       "    <tr>\n",
       "      <th>400</th>\n",
       "      <td>1964-01-01</td>\n",
       "      <td>20</td>\n",
       "      <td>22</td>\n",
       "      <td>10</td>\n",
       "      <td>POINT (7 8)</td>\n",
       "      <td>mila</td>\n",
       "      <td>True</td>\n",
       "    </tr>\n",
       "    <tr>\n",
       "      <th>500</th>\n",
       "      <td>1985-02-05</td>\n",
       "      <td>30</td>\n",
       "      <td>32</td>\n",
       "      <td>20</td>\n",
       "      <td>POINT (3 4)</td>\n",
       "      <td>hector</td>\n",
       "      <td>True</td>\n",
       "    </tr>\n",
       "    <tr>\n",
       "      <th>600</th>\n",
       "      <td>2022-01-21</td>\n",
       "      <td>30</td>\n",
       "      <td>32</td>\n",
       "      <td>30</td>\n",
       "      <td>POINT (5 6)</td>\n",
       "      <td>maria</td>\n",
       "      <td>True</td>\n",
       "    </tr>\n",
       "  </tbody>\n",
       "</table>\n",
       "</div>"
      ],
      "text/plain": [
       "      dates::date  value  value32  res coord::point   names  unique\n",
       "index                                                              \n",
       "100    1964-01-01     10       12   10  POINT (1 2)    john    True\n",
       "200    1985-02-05     10       12   20  POINT (3 4)    eric    True\n",
       "300    2022-01-21     20       22   30  POINT (5 6)  judith    True\n",
       "400    1964-01-01     20       22   10  POINT (7 8)    mila    True\n",
       "500    1985-02-05     30       32   20  POINT (3 4)  hector    True\n",
       "600    2022-01-21     30       32   30  POINT (5 6)   maria    True"
      ]
     },
     "execution_count": 10,
     "metadata": {},
     "output_type": "execute_result"
    }
   ],
   "source": [
    "from observation import Ilist\n",
    "\n",
    "ntv2 = Ilist.ntv(Ntv.obj(df).val).to_ntv('default')\n",
    "print(ntv2)\n",
    "#print(Ilist.ntv(ntv2).to_ntv('full'))\n",
    "df3 = Ntv.obj({':tab': Ilist.ntv(ntv2).to_ntv('full').to_obj()}).to_obj(encode_format='obj', dicobj={'tab': 'DataFrameConnec'})\n",
    "\n",
    "print(df3.dtypes)\n",
    "df3"
   ]
  },
  {
   "cell_type": "code",
   "execution_count": 11,
   "id": "c24caf4c",
   "metadata": {},
   "outputs": [
    {
     "name": "stdout",
     "output_type": "stream",
     "text": [
      "{\"index\": [100, 200, 300, 400, 500, 600], \"dates\": [{\"::date\": [\"1985-02-05\", \"1964-01-01\", \"2022-01-21\"]}, 5, [1, 2, 0, 1]], \"value\": [[20, 10, 30], [1, 1, 0, 0, 2, 2]], \"value32\": [{\"::int32\": [22, 12, 32]}, 2], \"res\": [[20, 10, 30], 1], \"coord\": [{\"::point\": [[7.0, 8.0], [5.0, 6.0], [3.0, 4.0], [1.0, 2.0]]}, [3, 2, 1, 0, 2, 1]], \"names::string\": [\"john\", \"eric\", \"judith\", \"mila\", \"hector\", \"maria\"], \"unique\": true}\n",
      "dates::date     object\n",
      "value            int64\n",
      "value32          int32\n",
      "res              int64\n",
      "coord::point    object\n",
      "names           string\n",
      "unique            bool\n",
      "dtype: object\n"
     ]
    },
    {
     "name": "stderr",
     "output_type": "stream",
     "text": [
      "C:\\Opensource\\anaconda3\\envs\\observ_v10_20230430\\lib\\site-packages\\pandas\\core\\construction.py:809: ShapelyDeprecationWarning: The array interface is deprecated and will no longer work in Shapely 2.0. Convert the '.coords' to a numpy array instead.\n",
      "  subarr = construct_1d_object_array_from_listlike(arr)\n"
     ]
    },
    {
     "data": {
      "text/html": [
       "<div>\n",
       "<style scoped>\n",
       "    .dataframe tbody tr th:only-of-type {\n",
       "        vertical-align: middle;\n",
       "    }\n",
       "\n",
       "    .dataframe tbody tr th {\n",
       "        vertical-align: top;\n",
       "    }\n",
       "\n",
       "    .dataframe thead th {\n",
       "        text-align: right;\n",
       "    }\n",
       "</style>\n",
       "<table border=\"1\" class=\"dataframe\">\n",
       "  <thead>\n",
       "    <tr style=\"text-align: right;\">\n",
       "      <th></th>\n",
       "      <th>dates::date</th>\n",
       "      <th>value</th>\n",
       "      <th>value32</th>\n",
       "      <th>res</th>\n",
       "      <th>coord::point</th>\n",
       "      <th>names</th>\n",
       "      <th>unique</th>\n",
       "    </tr>\n",
       "    <tr>\n",
       "      <th>index</th>\n",
       "      <th></th>\n",
       "      <th></th>\n",
       "      <th></th>\n",
       "      <th></th>\n",
       "      <th></th>\n",
       "      <th></th>\n",
       "      <th></th>\n",
       "    </tr>\n",
       "  </thead>\n",
       "  <tbody>\n",
       "    <tr>\n",
       "      <th>100</th>\n",
       "      <td>1964-01-01</td>\n",
       "      <td>10</td>\n",
       "      <td>12</td>\n",
       "      <td>10</td>\n",
       "      <td>POINT (1 2)</td>\n",
       "      <td>john</td>\n",
       "      <td>True</td>\n",
       "    </tr>\n",
       "    <tr>\n",
       "      <th>200</th>\n",
       "      <td>1985-02-05</td>\n",
       "      <td>10</td>\n",
       "      <td>12</td>\n",
       "      <td>20</td>\n",
       "      <td>POINT (3 4)</td>\n",
       "      <td>eric</td>\n",
       "      <td>True</td>\n",
       "    </tr>\n",
       "    <tr>\n",
       "      <th>300</th>\n",
       "      <td>2022-01-21</td>\n",
       "      <td>20</td>\n",
       "      <td>22</td>\n",
       "      <td>30</td>\n",
       "      <td>POINT (5 6)</td>\n",
       "      <td>judith</td>\n",
       "      <td>True</td>\n",
       "    </tr>\n",
       "    <tr>\n",
       "      <th>400</th>\n",
       "      <td>1964-01-01</td>\n",
       "      <td>20</td>\n",
       "      <td>22</td>\n",
       "      <td>10</td>\n",
       "      <td>POINT (7 8)</td>\n",
       "      <td>mila</td>\n",
       "      <td>True</td>\n",
       "    </tr>\n",
       "    <tr>\n",
       "      <th>500</th>\n",
       "      <td>1985-02-05</td>\n",
       "      <td>30</td>\n",
       "      <td>32</td>\n",
       "      <td>20</td>\n",
       "      <td>POINT (3 4)</td>\n",
       "      <td>hector</td>\n",
       "      <td>True</td>\n",
       "    </tr>\n",
       "    <tr>\n",
       "      <th>600</th>\n",
       "      <td>2022-01-21</td>\n",
       "      <td>30</td>\n",
       "      <td>32</td>\n",
       "      <td>30</td>\n",
       "      <td>POINT (5 6)</td>\n",
       "      <td>maria</td>\n",
       "      <td>True</td>\n",
       "    </tr>\n",
       "  </tbody>\n",
       "</table>\n",
       "</div>"
      ],
      "text/plain": [
       "      dates::date  value  value32  res coord::point   names  unique\n",
       "index                                                              \n",
       "100    1964-01-01     10       12   10  POINT (1 2)    john    True\n",
       "200    1985-02-05     10       12   20  POINT (3 4)    eric    True\n",
       "300    2022-01-21     20       22   30  POINT (5 6)  judith    True\n",
       "400    1964-01-01     20       22   10  POINT (7 8)    mila    True\n",
       "500    1985-02-05     30       32   20  POINT (3 4)  hector    True\n",
       "600    2022-01-21     30       32   30  POINT (5 6)   maria    True"
      ]
     },
     "execution_count": 11,
     "metadata": {},
     "output_type": "execute_result"
    }
   ],
   "source": [
    "from observation import Ilist\n",
    "\n",
    "ntv2 = Ilist.ntv(Ntv.obj(df).val).to_ntv()\n",
    "print(ntv2)\n",
    "#print(Ilist.ntv(ntv2).to_ntv('full'))\n",
    "df3 = Ntv.obj({':tab': Ilist.ntv(ntv2).to_ntv('full').to_obj()}).to_obj(encode_format='obj', dicobj={'tab': 'DataFrameConnec'})\n",
    "\n",
    "print(df3.dtypes)\n",
    "df3"
   ]
  },
  {
   "cell_type": "code",
   "execution_count": 12,
   "id": "0058b74a",
   "metadata": {},
   "outputs": [
    {
     "name": "stdout",
     "output_type": "stream",
     "text": [
      "dates           datetime64[ns]\n",
      "value                    int64\n",
      "value32                  int32\n",
      "res                      int64\n",
      "coord::point            object\n",
      "names                   string\n",
      "unique                 boolean\n",
      "dtype: object\n"
     ]
    },
    {
     "name": "stderr",
     "output_type": "stream",
     "text": [
      "C:\\Opensource\\anaconda3\\envs\\observ_v10_20230430\\lib\\site-packages\\pandas\\core\\construction.py:809: ShapelyDeprecationWarning: The array interface is deprecated and will no longer work in Shapely 2.0. Convert the '.coords' to a numpy array instead.\n",
      "  subarr = construct_1d_object_array_from_listlike(arr)\n"
     ]
    },
    {
     "data": {
      "text/html": [
       "<div>\n",
       "<style scoped>\n",
       "    .dataframe tbody tr th:only-of-type {\n",
       "        vertical-align: middle;\n",
       "    }\n",
       "\n",
       "    .dataframe tbody tr th {\n",
       "        vertical-align: top;\n",
       "    }\n",
       "\n",
       "    .dataframe thead th {\n",
       "        text-align: right;\n",
       "    }\n",
       "</style>\n",
       "<table border=\"1\" class=\"dataframe\">\n",
       "  <thead>\n",
       "    <tr style=\"text-align: right;\">\n",
       "      <th></th>\n",
       "      <th>dates</th>\n",
       "      <th>value</th>\n",
       "      <th>value32</th>\n",
       "      <th>res</th>\n",
       "      <th>coord::point</th>\n",
       "      <th>names</th>\n",
       "      <th>unique</th>\n",
       "    </tr>\n",
       "    <tr>\n",
       "      <th>index</th>\n",
       "      <th></th>\n",
       "      <th></th>\n",
       "      <th></th>\n",
       "      <th></th>\n",
       "      <th></th>\n",
       "      <th></th>\n",
       "      <th></th>\n",
       "    </tr>\n",
       "  </thead>\n",
       "  <tbody>\n",
       "    <tr>\n",
       "      <th>10</th>\n",
       "      <td>1964-01-01</td>\n",
       "      <td>10</td>\n",
       "      <td>10</td>\n",
       "      <td>10</td>\n",
       "      <td>POINT (1 2)</td>\n",
       "      <td>john</td>\n",
       "      <td>True</td>\n",
       "    </tr>\n",
       "    <tr>\n",
       "      <th>20</th>\n",
       "      <td>1985-02-05</td>\n",
       "      <td>20</td>\n",
       "      <td>20</td>\n",
       "      <td>20</td>\n",
       "      <td>POINT (3 4)</td>\n",
       "      <td>eric</td>\n",
       "      <td>True</td>\n",
       "    </tr>\n",
       "    <tr>\n",
       "      <th>30</th>\n",
       "      <td>2022-01-21</td>\n",
       "      <td>30</td>\n",
       "      <td>30</td>\n",
       "      <td>30</td>\n",
       "      <td>POINT (5 6)</td>\n",
       "      <td>judith</td>\n",
       "      <td>True</td>\n",
       "    </tr>\n",
       "  </tbody>\n",
       "</table>\n",
       "</div>"
      ],
      "text/plain": [
       "           dates  value  value32  res coord::point   names  unique\n",
       "index                                                             \n",
       "10    1964-01-01     10       10   10  POINT (1 2)    john    True\n",
       "20    1985-02-05     20       20   20  POINT (3 4)    eric    True\n",
       "30    2022-01-21     30       30   30  POINT (5 6)  judith    True"
      ]
     },
     "execution_count": 12,
     "metadata": {},
     "output_type": "execute_result"
    }
   ],
   "source": [
    "data   = {'index':           [10, 20, 30],\n",
    "              'dates::datetime': ['1964-01-01', '1985-02-05', '2022-01-21'], \n",
    "              'value':           [10, 20, {'valid?': 30}],\n",
    "              'value32::int32':  [10, 20, 30],\n",
    "              'res':             {'res1': 10, 'res2': 20, 'res3': 30},\n",
    "              'coord::point':    [[1,2], [3,4], [5,6]],\n",
    "              'names::string':   ['john', 'eric', 'judith'],\n",
    "              'unique:boolean': True}\n",
    "df  = Ntv.obj({':tab'  : data}).to_obj  (encode_format='obj', dicobj={'tab': 'DataFrameConnec'})\n",
    "print(df.dtypes)\n",
    "df\n"
   ]
  },
  {
   "cell_type": "markdown",
   "id": "c9e3264c",
   "metadata": {},
   "source": [
    "## Categorical"
   ]
  },
  {
   "cell_type": "markdown",
   "id": "effe0fa9",
   "metadata": {},
   "source": [
    "### Series"
   ]
  },
  {
   "cell_type": "code",
   "execution_count": 13,
   "id": "0ae0f1d4",
   "metadata": {},
   "outputs": [
    {
     "name": "stdout",
     "output_type": "stream",
     "text": [
      "categorical object Series  :  {\":field\": [[\"a\", \"b\", \"c\"], [0, 1, 2, 0]]}\n",
      "categorical integer Series :  {\":field\": [[1, 2], [0, 1, 0, 1]]}\n"
     ]
    }
   ],
   "source": [
    "s_obj = pd.Series([\"a\", \"b\", \"c\", \"a\"], dtype=\"category\")\n",
    "i_obj = pd.Series([1,2,1,2], dtype=\"category\")\n",
    "\n",
    "print('categorical object Series  : ', Ntv.obj(s_obj))\n",
    "print('categorical integer Series : ', Ntv.obj(i_obj))"
   ]
  },
  {
   "cell_type": "code",
   "execution_count": 14,
   "id": "a92e549d",
   "metadata": {},
   "outputs": [
    {
     "name": "stdout",
     "output_type": "stream",
     "text": [
      "True\n",
      "True\n"
     ]
    }
   ],
   "source": [
    "print(s_obj.equals(Ntv.obj(s_obj).to_obj(**option)))\n",
    "print(i_obj.equals(Ntv.obj(i_obj).to_obj(**option)))"
   ]
  },
  {
   "cell_type": "code",
   "execution_count": 15,
   "id": "6979709b",
   "metadata": {},
   "outputs": [
    {
     "name": "stdout",
     "output_type": "stream",
     "text": [
      "categorical object Series  :  {\":field\": {\"string\": [[\"a\", \"b\", \"c\"], [0, 1, 2, 0]]}}\n",
      "categorical integer Series :  {\":field\": {\"integer\": [[1, 2], [0, 1, 0, 1]]}}\n"
     ]
    }
   ],
   "source": [
    "s_obj = pd.Series([\"a\", \"b\", \"c\", \"a\"], name='string', dtype=\"category\")\n",
    "i_obj = pd.Series([1,2,1,2], name='integer', dtype=\"category\")\n",
    "\n",
    "print('categorical object Series  : ', Ntv.obj(s_obj))\n",
    "print('categorical integer Series : ', Ntv.obj(i_obj))"
   ]
  },
  {
   "cell_type": "code",
   "execution_count": 16,
   "id": "f3100025",
   "metadata": {},
   "outputs": [
    {
     "name": "stdout",
     "output_type": "stream",
     "text": [
      "True\n",
      "True\n"
     ]
    }
   ],
   "source": [
    "print(s_obj.equals(Ntv.obj(s_obj).to_obj(**option)))\n",
    "print(i_obj.equals(Ntv.obj(i_obj).to_obj(**option)))"
   ]
  },
  {
   "cell_type": "code",
   "execution_count": null,
   "id": "8286817b",
   "metadata": {},
   "outputs": [],
   "source": []
  },
  {
   "cell_type": "code",
   "execution_count": 18,
   "id": "441291c8",
   "metadata": {},
   "outputs": [
    {
     "name": "stdout",
     "output_type": "stream",
     "text": [
      "categorical object DataFrame  : \n",
      "{\":tab\": {\"index\": [0, 1, 2, 3], \"A\": [[\"a\", \"b\", \"c\"], [0, 1, 2, 0]], \"B\": [[\"b\", \"c\", \"d\"], [0, 1, 1, 2]]}}\n"
     ]
    }
   ],
   "source": [
    "s_df = pd.DataFrame({\"A\": list(\"abca\"), \"B\": list(\"bccd\")}, dtype=\"category\")\n",
    "\n",
    "print('categorical object DataFrame  : ')\n",
    "print(Ntv.obj(s_df))"
   ]
  },
  {
   "cell_type": "code",
   "execution_count": 19,
   "id": "bf305b30",
   "metadata": {},
   "outputs": [
    {
     "name": "stdout",
     "output_type": "stream",
     "text": [
      "True\n",
      "       A  B\n",
      "index      \n",
      "0      a  b\n",
      "1      b  c\n",
      "2      c  c\n",
      "3      a  d\n"
     ]
    }
   ],
   "source": [
    "print(s_df.equals(Ntv.obj(s_df).to_obj(**option)))\n",
    "print(Ntv.obj(s_df).to_obj(**option))"
   ]
  }
 ],
 "metadata": {
  "kernelspec": {
   "display_name": "Python 3 (ipykernel)",
   "language": "python",
   "name": "python3"
  },
  "language_info": {
   "codemirror_mode": {
    "name": "ipython",
    "version": 3
   },
   "file_extension": ".py",
   "mimetype": "text/x-python",
   "name": "python",
   "nbconvert_exporter": "python",
   "pygments_lexer": "ipython3",
   "version": "3.10.9"
  }
 },
 "nbformat": 4,
 "nbformat_minor": 5
}
