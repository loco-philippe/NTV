{
 "cells": [
  {
   "cell_type": "markdown",
   "id": "343c7b20",
   "metadata": {},
   "source": [
    "## a JSON format compatible with the Pandas data structure\n",
    "### introduction\n",
    "The data type is not explicitely taken into account in the current JSON interface.     \n",
    "    \n",
    "The existing solution is to use a data schema in addition.\n",
    "\n",
    "### proposal\n",
    "To have a simple and compact solution, I propose to use the [JSON-NTV format (Named and Typed Value)](https://github.com/loco-philippe/NTV#readme) - which integrates the notion of type - and its JSON-TAB variation for tabular data.\n",
    "\n",
    "### content\n",
    "This NoteBook uses examples to present some key points"
   ]
  },
  {
   "cell_type": "code",
   "execution_count": 1,
   "id": "d00a0cb6",
   "metadata": {},
   "outputs": [],
   "source": [
    "from json_ntv import NtvSingle, NtvList, Ntv, NtvConnector, NtvType, Namespace\n",
    "from datetime import date, datetime\n",
    "import pandas as pd\n",
    "import pprint\n",
    "pp = pprint.PrettyPrinter(compact=True, width=100)\n",
    "pr = pp.pprint"
   ]
  },
  {
   "cell_type": "code",
   "execution_count": 2,
   "id": "6634d7ef",
   "metadata": {},
   "outputs": [
    {
     "name": "stdout",
     "output_type": "stream",
     "text": [
      "categorical object Series  :  {\":field\": [[\"a\", \"b\", \"c\"], [0, 1, 2, 0]]}\n",
      "categorical integer Series :  {\":field\": [[1, 2], [0, 1, 0, 1]]}\n"
     ]
    }
   ],
   "source": [
    "s_obj = pd.Series([\"a\", \"b\", \"c\", \"a\"], dtype=\"category\")\n",
    "i_obj = pd.Series([1,2,1,2], dtype=\"category\")\n",
    "\n",
    "print('categorical object Series  : ', Ntv.obj(s_obj))\n",
    "print('categorical integer Series : ', Ntv.obj(i_obj))"
   ]
  },
  {
   "cell_type": "code",
   "execution_count": 4,
   "id": "a20dedfe",
   "metadata": {},
   "outputs": [
    {
     "name": "stdout",
     "output_type": "stream",
     "text": [
      "categorical object Series  :  {\":field\": {\"string\": [[\"a\", \"b\", \"c\"], [0, 1, 2, 0]]}}\n",
      "categorical integer Series :  {\":field\": {\"integer\": [[1, 2], [0, 1, 0, 1]]}}\n"
     ]
    }
   ],
   "source": [
    "s_obj = pd.Series([\"a\", \"b\", \"c\", \"a\"], name='string', dtype=\"category\")\n",
    "i_obj = pd.Series([1,2,1,2], name='integer', dtype=\"category\")\n",
    "\n",
    "print('categorical object Series  : ', Ntv.obj(s_obj))\n",
    "print('categorical integer Series : ', Ntv.obj(i_obj))"
   ]
  },
  {
   "cell_type": "code",
   "execution_count": 7,
   "id": "0d52328d",
   "metadata": {},
   "outputs": [
    {
     "name": "stdout",
     "output_type": "stream",
     "text": [
      "categorical object DataFrame  : \n",
      "{\":tab\": {\"index\": [0, 1, 2, 3], \"A\": [[\"a\", \"b\", \"c\"], [0, 1, 2, 0]], \"B\": [[\"b\", \"c\", \"d\"], [0, 1, 1, 2]]}}\n"
     ]
    }
   ],
   "source": [
    "s_df = pd.DataFrame({\"A\": list(\"abca\"), \"B\": list(\"bccd\")}, dtype=\"category\")\n",
    "\n",
    "print('categorical object DataFrame  : ')\n",
    "print(Ntv.obj(s_df))"
   ]
  },
  {
   "cell_type": "code",
   "execution_count": null,
   "id": "fe6c69cb",
   "metadata": {},
   "outputs": [],
   "source": [
    "\n",
    "\n",
    "field_data = {'dates::datetime': ['1964-01-01', '1985-02-05', '2022-01-21']}\n",
    "tab_data   = {'index':           [1, 2, 3],\n",
    "              'dates::datetime': ['1964-01-01', '1985-02-05', '2022-01-21'], \n",
    "              'value':           [10, 20, 30],\n",
    "              'value32::int32':  [10, 20, 30],\n",
    "              'coord::point':    [[1,2], [3,4], [5,6]],\n",
    "              'names::string':   ['john', 'eric', 'judith']}\n",
    "\n",
    "field = Ntv.obj({':field': field_data})\n",
    "tab   = Ntv.obj({':tab'  : tab_data})\n",
    "\n",
    "# the DataFrame Connector is associated with NtvType 'tab' in dicobj \n",
    "sr = field.to_obj(encode_format='obj', dicobj={'field': 'SeriesConnec'})\n",
    "df = tab.to_obj  (encode_format='obj', dicobj={'tab': 'DataFrameConnec'})\n",
    "\n",
    "# pandas dtype conform to Ntv type\n",
    "print(sr, '\\n')\n",
    "print(df.dtypes)\n",
    "df"
   ]
  },
  {
   "cell_type": "code",
   "execution_count": null,
   "id": "8f97dbc0",
   "metadata": {},
   "outputs": [],
   "source": [
    "# the dataframe generated from JSON-NTV data is identical to the initial dataframe\n",
    "df2 = Ntv.obj(df).to_obj(encode_format='obj', dicobj={'tab': 'DataFrameConnec'})\n",
    "print('df2 is identical to df ? ', df2.equals(df))\n"
   ]
  },
  {
   "cell_type": "code",
   "execution_count": null,
   "id": "cdda0ce3",
   "metadata": {},
   "outputs": [],
   "source": [
    "\n",
    "data   = {'index':           [100, 200, 300, 400, 500, 600],\n",
    "          'dates::date':     ['1964-01-01', '1985-02-05', '2022-01-21', '1964-01-01', '1985-02-05', '2022-01-21'], \n",
    "          'value':           [10, 10, 20, 20, {'valid?': 30}, 30],\n",
    "          'value32::int32':  [12, 12, 22, 22, 32, 32],\n",
    "          'res':             {'res1': 10, 'res2': 20, 'res3': 30, 'res4': 10, 'res5': 20, 'res6': 30},\n",
    "          'coord::point':    [[1,2], [3,4], [5,6], [7,8], {'same as 2nd point': [3,4]}, [5,6]],\n",
    "          'names::string':   ['john', 'eric', 'judith', 'mila', 'hector', 'maria'],\n",
    "          'unique:boolean':  True }\n",
    "\n",
    "df  = Ntv.obj({':tab'  : data}).to_obj  (encode_format='obj', dicobj={'tab': 'DataFrameConnec'})\n",
    "\n",
    "# preservation of type\n",
    "print(df.dtypes)\n",
    "\n",
    "# preservation of index\n",
    "df\n"
   ]
  },
  {
   "cell_type": "code",
   "execution_count": null,
   "id": "dfe38a71",
   "metadata": {},
   "outputs": [],
   "source": [
    "from observation import Ilist\n",
    "\n",
    "ntv2 = Ilist.ntv(Ntv.obj(df).val).to_ntv('full')\n",
    "print(ntv2)\n",
    "df2 = Ntv.obj({':tab': ntv2.to_obj()}).to_obj(encode_format='obj', dicobj={'tab': 'DataFrameConnec'})\n",
    "\n",
    "print(df2.dtypes)\n",
    "df2"
   ]
  },
  {
   "cell_type": "code",
   "execution_count": null,
   "id": "01f68d2b",
   "metadata": {},
   "outputs": [],
   "source": [
    "from observation import Ilist\n",
    "\n",
    "ntv2 = Ilist.ntv(Ntv.obj(df).val).to_ntv('default')\n",
    "print(ntv2)\n",
    "#print(Ilist.ntv(ntv2).to_ntv('full'))\n",
    "df3 = Ntv.obj({':tab': Ilist.ntv(ntv2).to_ntv('full').to_obj()}).to_obj(encode_format='obj', dicobj={'tab': 'DataFrameConnec'})\n",
    "\n",
    "print(df3.dtypes)\n",
    "df3"
   ]
  },
  {
   "cell_type": "code",
   "execution_count": null,
   "id": "c24caf4c",
   "metadata": {},
   "outputs": [],
   "source": [
    "from observation import Ilist\n",
    "\n",
    "ntv2 = Ilist.ntv(Ntv.obj(df).val).to_ntv()\n",
    "print(ntv2)\n",
    "#print(Ilist.ntv(ntv2).to_ntv('full'))\n",
    "df3 = Ntv.obj({':tab': Ilist.ntv(ntv2).to_ntv('full').to_obj()}).to_obj(encode_format='obj', dicobj={'tab': 'DataFrameConnec'})\n",
    "\n",
    "print(df3.dtypes)\n",
    "df3"
   ]
  },
  {
   "cell_type": "code",
   "execution_count": null,
   "id": "0058b74a",
   "metadata": {},
   "outputs": [],
   "source": [
    "data   = {'index':           [10, 20, 30],\n",
    "              'dates::datetime': ['1964-01-01', '1985-02-05', '2022-01-21'], \n",
    "              'value':           [10, 20, {'valid?': 30}],\n",
    "              'value32::int32':  [10, 20, 30],\n",
    "              'res':             {'res1': 10, 'res2': 20, 'res3': 30},\n",
    "              'coord::point':    [[1,2], [3,4], [5,6]],\n",
    "              'names::string':   ['john', 'eric', 'judith'],\n",
    "              'unique:boolean': True}\n",
    "df  = Ntv.obj({':tab'  : data}).to_obj  (encode_format='obj', dicobj={'tab': 'DataFrameConnec'})\n",
    "print(df.dtypes)\n",
    "df\n"
   ]
  },
  {
   "cell_type": "code",
   "execution_count": null,
   "id": "8b69e705",
   "metadata": {},
   "outputs": [],
   "source": []
  }
 ],
 "metadata": {
  "kernelspec": {
   "display_name": "Python 3 (ipykernel)",
   "language": "python",
   "name": "python3"
  },
  "language_info": {
   "codemirror_mode": {
    "name": "ipython",
    "version": 3
   },
   "file_extension": ".py",
   "mimetype": "text/x-python",
   "name": "python",
   "nbconvert_exporter": "python",
   "pygments_lexer": "ipython3",
   "version": "3.10.9"
  }
 },
 "nbformat": 4,
 "nbformat_minor": 5
}
