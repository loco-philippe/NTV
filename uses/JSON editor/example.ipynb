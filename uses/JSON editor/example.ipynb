{
 "cells": [
  {
   "cell_type": "markdown",
   "id": "07e9342f",
   "metadata": {},
   "source": [
    "This example is partialy structured : only some data is defined with keywords"
   ]
  },
  {
   "cell_type": "code",
   "execution_count": 1,
   "id": "bd0ff092",
   "metadata": {},
   "outputs": [],
   "source": [
    "from pprint import pprint\n",
    "from datetime import date, time, timedelta, datetime\n",
    "from json_ntv import Ntv, NtvTree\n",
    "measure = {'location': [\n",
    "                {'city': 'paris'}, \n",
    "                [4.1, 40.5]],\n",
    "           'campaign': {\n",
    "                'planning': {\n",
    "                   'period': 'january 2023', \n",
    "                   'from': '2023-01-01', \n",
    "                   'to': '2023-01-20'},\n",
    "                 'property': 'air pollutants',\n",
    "                 'my personnal comment': {\n",
    "                     'result': 'success',\n",
    "                     'difficulty': 'first air pollutants campaign in Paris'}},\n",
    "           'pollutants': [\n",
    "                {'NO2': 'mcg/m3'}, \n",
    "                {'CO': 'mg/m3'}],\n",
    "           'measurement': {\n",
    "                'sample': '2023-01-10',\n",
    "                'values': [\n",
    "                   ['08:10:00', 21, 5],\n",
    "                   ['10:20:00', 10, 10],\n",
    "                   ['17:16:00', 30, 15]]}}\n",
    "n_measure = Ntv.obj(measure)\n",
    "t_measure = n_measure.tree.dic_nodes"
   ]
  },
  {
   "cell_type": "markdown",
   "id": "0c78dd40",
   "metadata": {},
   "source": [
    "## selecting data"
   ]
  },
  {
   "cell_type": "markdown",
   "id": "91b0b8ba",
   "metadata": {},
   "source": [
    "### JSON selecting\n",
    "- selector is row for the array and key for the objects"
   ]
  },
  {
   "cell_type": "code",
   "execution_count": 2,
   "id": "68e4bc70",
   "metadata": {
    "scrolled": false
   },
   "outputs": [
    {
     "name": "stdout",
     "output_type": "stream",
     "text": [
      "10:20:00\n"
     ]
    }
   ],
   "source": [
    "# access to the measurement time of the second value\n",
    "print(measure['measurement']['values'][1][0])\n",
    "# how to access to the 'result' of the 'campaign' (if i don't know the key)  ?"
   ]
  },
  {
   "cell_type": "markdown",
   "id": "3c149ce6",
   "metadata": {},
   "source": [
    "### NTV selecting\n",
    "- selector is row or keys\n",
    "- selector is a json-pointer\n",
    "- selector is an absolute keys"
   ]
  },
  {
   "cell_type": "code",
   "execution_count": 3,
   "id": "f4b1155f",
   "metadata": {},
   "outputs": [
    {
     "name": "stdout",
     "output_type": "stream",
     "text": [
      "\"10:20:00\"\n",
      "\"10:20:00\"\n",
      "\"10:20:00\"\n",
      "\"10:20:00\"\n",
      "\"10:20:00\"\n",
      "\"10:20:00\"\n",
      "success\n",
      "success\n"
     ]
    }
   ],
   "source": [
    "# access to the measurement time of the second value\n",
    "print(n_measure['measurement']['values'][1][0])\n",
    "print(n_measure[3]['values'][1][0])\n",
    "print(n_measure[3][1][1][0])\n",
    "print(n_measure['/measurement/values/1/0'])\n",
    "print(n_measure['/3/1/1/0'])\n",
    "print(t_measure['values'].val[1][0])\n",
    "# how to access to the 'period' of the 'campaign'  ?\n",
    "print(t_measure['result'].val)\n",
    "print(n_measure['campaign'][2]['result'].val)"
   ]
  },
  {
   "cell_type": "markdown",
   "id": "c641d800",
   "metadata": {},
   "source": [
    "## representation\n",
    "- with values only\n",
    "- with a tree"
   ]
  },
  {
   "cell_type": "code",
   "execution_count": 4,
   "id": "128ca555",
   "metadata": {},
   "outputs": [
    {
     "name": "stdout",
     "output_type": "stream",
     "text": [
      "[['paris', [4.1, 40.5]],\n",
      " [['january 2023', '2023-01-01', '2023-01-20'], 'air pollutants', ['success', 'first air pollutants campaign in Paris']],\n",
      " ['mcg/m3', 'mg/m3'],\n",
      " ['2023-01-10', [['08:10:00', 21, 5], ['10:20:00', 10, 10], ['17:16:00', 30, 15]]]]\n"
     ]
    }
   ],
   "source": [
    "pprint(n_measure.to_obj(simpleval=True), width=140)\n"
   ]
  },
  {
   "cell_type": "code",
   "execution_count": 5,
   "id": "b1414b46",
   "metadata": {
    "scrolled": false
   },
   "outputs": [
    {
     "data": {
      "text/html": [
       "<img src=\"https://mermaid.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\"/>"
      ],
      "text/plain": [
       "<IPython.core.display.Image object>"
      ]
     },
     "metadata": {},
     "output_type": "display_data"
    }
   ],
   "source": [
    "n_measure.to_mermaid('measure flowchart', disp=True)"
   ]
  },
  {
   "cell_type": "markdown",
   "id": "7d158ea0",
   "metadata": {},
   "source": [
    "## transform data\n",
    "- change structure\n",
    "- add semantic type"
   ]
  },
  {
   "cell_type": "markdown",
   "id": "30187f9b",
   "metadata": {},
   "source": [
    "### Change structure"
   ]
  },
  {
   "cell_type": "code",
   "execution_count": 6,
   "id": "c76f9f4b",
   "metadata": {},
   "outputs": [],
   "source": [
    "n_measure['location'][1] = n_measure['location'][1].to_single(name='coord', typ='point')\n",
    "n_measure['measurement'].insert(0, n_measure['pollutants'])"
   ]
  },
  {
   "cell_type": "markdown",
   "id": "2b3a0bb9",
   "metadata": {},
   "source": [
    "### Add semantic type"
   ]
  },
  {
   "cell_type": "code",
   "execution_count": 7,
   "id": "38989a6b",
   "metadata": {},
   "outputs": [],
   "source": [
    "t_measure['from'].set_type('date')\n",
    "t_measure['to'].set_type('date')\n",
    "t_measure['sample'].set_type('date')\n",
    "for val in t_measure['values']:\n",
    "    val[0].set_type('time')"
   ]
  },
  {
   "cell_type": "code",
   "execution_count": 8,
   "id": "5b7c96e8",
   "metadata": {},
   "outputs": [
    {
     "name": "stdout",
     "output_type": "stream",
     "text": [
      "{'campaign': {'my personnal comment': {'difficulty': 'first air pollutants campaign in Paris', 'result': 'success'},\n",
      "              'planning': {'from:date': '2023-01-01', 'period': 'january 2023', 'to:date': '2023-01-20'},\n",
      "              'property': 'air pollutants'},\n",
      " 'location': {'city': 'paris', 'coord:point': [4.1, 40.5]},\n",
      " 'measurement': {'pollutants': {'CO': 'mg/m3', 'NO2': 'mcg/m3'},\n",
      "                 'sample:date': '2023-01-10',\n",
      "                 'values': [[{':time': '08:10:00'}, 21, 5], [{':time': '10:20:00'}, 10, 10], [{':time': '17:16:00'}, 30, 15]]}}\n"
     ]
    }
   ],
   "source": [
    "pprint(n_measure.to_obj(), width=140)"
   ]
  },
  {
   "cell_type": "code",
   "execution_count": 9,
   "id": "bc74e1de",
   "metadata": {
    "scrolled": true
   },
   "outputs": [
    {
     "data": {
      "text/html": [
       "<img src=\"https://mermaid.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\"/>"
      ],
      "text/plain": [
       "<IPython.core.display.Image object>"
      ]
     },
     "metadata": {},
     "output_type": "display_data"
    }
   ],
   "source": [
    "n_measure.to_mermaid('add semantic types', disp=True)"
   ]
  },
  {
   "cell_type": "markdown",
   "id": "a4a1c719",
   "metadata": {},
   "source": [
    "## update data"
   ]
  },
  {
   "cell_type": "code",
   "execution_count": 10,
   "id": "b309c8a5",
   "metadata": {},
   "outputs": [],
   "source": [
    "# convert JSON value into object\n",
    "o_measure = n_measure.to_obj_ntv()"
   ]
  },
  {
   "cell_type": "code",
   "execution_count": 11,
   "id": "5758e7dc",
   "metadata": {},
   "outputs": [],
   "source": [
    "# update objects\n",
    "for ntv in o_measure.tree.leaf_nodes:\n",
    "    if ntv.type_str == 'date':\n",
    "        ntv.set_value(ntv.val + timedelta(days=1))\n",
    "    if ntv.type_str == 'time':\n",
    "        ntv.set_value((datetime.combine(date.today(), ntv.val) + timedelta(hours=1)).time())\n"
   ]
  },
  {
   "cell_type": "code",
   "execution_count": 12,
   "id": "51f302db",
   "metadata": {},
   "outputs": [],
   "source": [
    "# convert object into JSON value\n",
    "n_measure = o_measure.to_json_ntv()"
   ]
  },
  {
   "cell_type": "code",
   "execution_count": 13,
   "id": "b485c2f3",
   "metadata": {
    "scrolled": true
   },
   "outputs": [
    {
     "name": "stdout",
     "output_type": "stream",
     "text": [
      "{'campaign': {'my personnal comment': {'difficulty': 'first air pollutants campaign in Paris', 'result': 'success'},\n",
      "              'planning': {'from:date': '2023-01-02', 'period': 'january 2023', 'to:date': '2023-01-21'},\n",
      "              'property': 'air pollutants'},\n",
      " 'location': {'city': 'paris', 'coord:point': [4.1, 40.5]},\n",
      " 'measurement': {'pollutants': {'CO': 'mg/m3', 'NO2': 'mcg/m3'},\n",
      "                 'sample:date': '2023-01-11',\n",
      "                 'values': [[{':time': '09:10:00'}, 21, 5], [{':time': '11:20:00'}, 10, 10], [{':time': '18:16:00'}, 30, 15]]}}\n"
     ]
    }
   ],
   "source": [
    "pprint(n_measure.to_obj(), width=140)"
   ]
  },
  {
   "cell_type": "code",
   "execution_count": 14,
   "id": "0ba90356",
   "metadata": {},
   "outputs": [
    {
     "data": {
      "text/html": [
       "<img src=\"https://mermaid.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\"/>"
      ],
      "text/plain": [
       "<IPython.core.display.Image object>"
      ]
     },
     "metadata": {},
     "output_type": "display_data"
    }
   ],
   "source": [
    "n_measure.to_mermaid('update data', disp=True)"
   ]
  },
  {
   "cell_type": "markdown",
   "id": "319dbdc9",
   "metadata": {},
   "source": [
    "### restore initial structure"
   ]
  },
  {
   "cell_type": "code",
   "execution_count": 15,
   "id": "903ef646",
   "metadata": {},
   "outputs": [
    {
     "data": {
      "text/html": [
       "<img src=\"https://mermaid.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\"/>"
      ],
      "text/plain": [
       "<IPython.core.display.Image object>"
      ]
     },
     "metadata": {},
     "output_type": "display_data"
    }
   ],
   "source": [
    "n_measure.to_simple()\n",
    "n_measure['location'][1] = n_measure.tree.dic_nodes['coord'].to_list()\n",
    "n_measure['location'][1].set_name()\n",
    "n_measure.insert(2, n_measure.tree.dic_nodes['pollutants'])\n",
    "\n",
    "n_measure.to_mermaid('update data', disp=True)"
   ]
  },
  {
   "cell_type": "code",
   "execution_count": 16,
   "id": "ac1d7952",
   "metadata": {},
   "outputs": [
    {
     "name": "stdout",
     "output_type": "stream",
     "text": [
      "{'campaign': {'my personnal comment': {'difficulty': 'first air pollutants campaign in Paris', 'result': 'success'},\n",
      "              'planning': {'from': '2023-01-02', 'period': 'january 2023', 'to': '2023-01-21'},\n",
      "              'property': 'air pollutants'},\n",
      " 'location': [{'city': 'paris'}, [4.1, 40.5]],\n",
      " 'measurement': {'sample': '2023-01-11', 'values': [['09:10:00', 21, 5], ['11:20:00', 10, 10], ['18:16:00', 30, 15]]},\n",
      " 'pollutants': {'CO': 'mg/m3', 'NO2': 'mcg/m3'}}\n"
     ]
    }
   ],
   "source": [
    "pprint(n_measure.to_obj(), width=140)\n"
   ]
  }
 ],
 "metadata": {
  "kernelspec": {
   "display_name": "Python 3 (ipykernel)",
   "language": "python",
   "name": "python3"
  },
  "language_info": {
   "codemirror_mode": {
    "name": "ipython",
    "version": 3
   },
   "file_extension": ".py",
   "mimetype": "text/x-python",
   "name": "python",
   "nbconvert_exporter": "python",
   "pygments_lexer": "ipython3",
   "version": "3.10.9"
  }
 },
 "nbformat": 4,
 "nbformat_minor": 5
}
