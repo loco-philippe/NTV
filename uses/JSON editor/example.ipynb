{
 "cells": [
  {
   "cell_type": "markdown",
   "id": "07e9342f",
   "metadata": {},
   "source": [
    "This example is partialy structured : only some data is defined with keywords"
   ]
  },
  {
   "cell_type": "code",
   "execution_count": 5,
   "id": "bd0ff092",
   "metadata": {},
   "outputs": [],
   "source": [
    "from json_ntv import Ntv, NtvTree\n",
    "measure = {'location': [\n",
    "                {'city': 'paris'}, \n",
    "                [4.1, 40.5]],\n",
    "           'campaign': {\n",
    "                'air pollutants': {\n",
    "                   'period': 'january 2023', \n",
    "                   'from': '2023-01-01', \n",
    "                   'to': '2023-01-31'}},\n",
    "           'property': [\n",
    "                {'NO2': 'µg/m3'}, \n",
    "                {'CO': 'mg/m3'}],\n",
    "           'measurement': {\n",
    "                'sample': '2023-01-23',\n",
    "                'values': [\n",
    "                   ['08:10:00', 21, 5],\n",
    "                   ['10:20:00', 10, 10],\n",
    "                   ['17:16:00', 30, 15]]}}\n",
    "n_measure = Ntv.obj(measure)\n",
    "t_measure = NtvTree(n_measure)"
   ]
  },
  {
   "cell_type": "markdown",
   "id": "0c78dd40",
   "metadata": {},
   "source": [
    "## selecting data"
   ]
  },
  {
   "cell_type": "markdown",
   "id": "91b0b8ba",
   "metadata": {},
   "source": [
    "### JSON selecting\n",
    "- selector is row for the array and key for the objects"
   ]
  },
  {
   "cell_type": "code",
   "execution_count": 2,
   "id": "68e4bc70",
   "metadata": {
    "scrolled": false
   },
   "outputs": [
    {
     "name": "stdout",
     "output_type": "stream",
     "text": [
      "10:20:00\n"
     ]
    }
   ],
   "source": [
    "# access to the measurement time of the second value\n",
    "print(measure['measurement']['values'][1][0])\n",
    "# how to access to the 'period' of the 'campaign'  ?"
   ]
  },
  {
   "cell_type": "markdown",
   "id": "3c149ce6",
   "metadata": {},
   "source": [
    "### NTV selecting\n",
    "- selector is row or keys\n",
    "- selector is a json-pointer\n",
    "- selector is an absolute keys"
   ]
  },
  {
   "cell_type": "code",
   "execution_count": 6,
   "id": "f4b1155f",
   "metadata": {},
   "outputs": [
    {
     "name": "stdout",
     "output_type": "stream",
     "text": [
      "\"10:20:00\"\n",
      "\"10:20:00\"\n"
     ]
    },
    {
     "ename": "KeyboardInterrupt",
     "evalue": "",
     "output_type": "error",
     "traceback": [
      "\u001b[1;31m---------------------------------------------------------------------------\u001b[0m",
      "\u001b[1;31mKeyboardInterrupt\u001b[0m                         Traceback (most recent call last)",
      "\u001b[1;32m~\\AppData\\Local\\Temp\\ipykernel_31676\\3852277926.py\u001b[0m in \u001b[0;36m<module>\u001b[1;34m\u001b[0m\n\u001b[0;32m      2\u001b[0m \u001b[0mprint\u001b[0m\u001b[1;33m(\u001b[0m\u001b[0mn_measure\u001b[0m\u001b[1;33m[\u001b[0m\u001b[1;34m'measurement'\u001b[0m\u001b[1;33m]\u001b[0m\u001b[1;33m[\u001b[0m\u001b[1;34m'values'\u001b[0m\u001b[1;33m]\u001b[0m\u001b[1;33m[\u001b[0m\u001b[1;36m1\u001b[0m\u001b[1;33m]\u001b[0m\u001b[1;33m[\u001b[0m\u001b[1;36m0\u001b[0m\u001b[1;33m]\u001b[0m\u001b[1;33m)\u001b[0m\u001b[1;33m\u001b[0m\u001b[1;33m\u001b[0m\u001b[0m\n\u001b[0;32m      3\u001b[0m \u001b[0mprint\u001b[0m\u001b[1;33m(\u001b[0m\u001b[0mn_measure\u001b[0m\u001b[1;33m[\u001b[0m\u001b[1;34m'/measurement/values/1/0'\u001b[0m\u001b[1;33m]\u001b[0m\u001b[1;33m)\u001b[0m\u001b[1;33m\u001b[0m\u001b[1;33m\u001b[0m\u001b[0m\n\u001b[1;32m----> 4\u001b[1;33m \u001b[0mprint\u001b[0m\u001b[1;33m(\u001b[0m\u001b[0mt_measure\u001b[0m\u001b[1;33m.\u001b[0m\u001b[0mdic_nodes\u001b[0m\u001b[1;33m[\u001b[0m\u001b[1;34m'values'\u001b[0m\u001b[1;33m]\u001b[0m\u001b[1;33m.\u001b[0m\u001b[0mval\u001b[0m\u001b[1;33m[\u001b[0m\u001b[1;36m1\u001b[0m\u001b[1;33m]\u001b[0m\u001b[1;33m[\u001b[0m\u001b[1;36m0\u001b[0m\u001b[1;33m]\u001b[0m\u001b[1;33m)\u001b[0m\u001b[1;33m\u001b[0m\u001b[1;33m\u001b[0m\u001b[0m\n\u001b[0m\u001b[0;32m      5\u001b[0m \u001b[1;31m# how to access to the 'period' of the 'campaign'  ?\u001b[0m\u001b[1;33m\u001b[0m\u001b[1;33m\u001b[0m\u001b[0m\n",
      "\u001b[1;32m~\\github\\NTV\\json_ntv\\ntv_util.py\u001b[0m in \u001b[0;36mdic_nodes\u001b[1;34m(self)\u001b[0m\n\u001b[0;32m    377\u001b[0m     \u001b[1;32mdef\u001b[0m \u001b[0mdic_nodes\u001b[0m\u001b[1;33m(\u001b[0m\u001b[0mself\u001b[0m\u001b[1;33m)\u001b[0m\u001b[1;33m:\u001b[0m\u001b[1;33m\u001b[0m\u001b[1;33m\u001b[0m\u001b[0m\n\u001b[0;32m    378\u001b[0m         \u001b[1;34m''' return a dict of nodes according to the DFS preordering algorithm'''\u001b[0m\u001b[1;33m\u001b[0m\u001b[1;33m\u001b[0m\u001b[0m\n\u001b[1;32m--> 379\u001b[1;33m         \u001b[1;32mreturn\u001b[0m \u001b[1;33m{\u001b[0m\u001b[0mnode\u001b[0m\u001b[1;33m.\u001b[0m\u001b[0mntv_name\u001b[0m\u001b[1;33m:\u001b[0m \u001b[0mnode\u001b[0m \u001b[1;32mfor\u001b[0m \u001b[0mnode\u001b[0m \u001b[1;32min\u001b[0m \u001b[0mself\u001b[0m\u001b[1;33m.\u001b[0m\u001b[0m__class__\u001b[0m\u001b[1;33m(\u001b[0m\u001b[0mself\u001b[0m\u001b[1;33m.\u001b[0m\u001b[0m_ntv\u001b[0m\u001b[1;33m)\u001b[0m\u001b[1;33m}\u001b[0m\u001b[1;33m\u001b[0m\u001b[1;33m\u001b[0m\u001b[0m\n\u001b[0m\u001b[0;32m    380\u001b[0m \u001b[1;33m\u001b[0m\u001b[0m\n\u001b[0;32m    381\u001b[0m     \u001b[1;33m@\u001b[0m\u001b[0mproperty\u001b[0m\u001b[1;33m\u001b[0m\u001b[1;33m\u001b[0m\u001b[0m\n",
      "\u001b[1;32m~\\github\\NTV\\json_ntv\\ntv_util.py\u001b[0m in \u001b[0;36m<dictcomp>\u001b[1;34m(.0)\u001b[0m\n\u001b[0;32m    377\u001b[0m     \u001b[1;32mdef\u001b[0m \u001b[0mdic_nodes\u001b[0m\u001b[1;33m(\u001b[0m\u001b[0mself\u001b[0m\u001b[1;33m)\u001b[0m\u001b[1;33m:\u001b[0m\u001b[1;33m\u001b[0m\u001b[1;33m\u001b[0m\u001b[0m\n\u001b[0;32m    378\u001b[0m         \u001b[1;34m''' return a dict of nodes according to the DFS preordering algorithm'''\u001b[0m\u001b[1;33m\u001b[0m\u001b[1;33m\u001b[0m\u001b[0m\n\u001b[1;32m--> 379\u001b[1;33m         \u001b[1;32mreturn\u001b[0m \u001b[1;33m{\u001b[0m\u001b[0mnode\u001b[0m\u001b[1;33m.\u001b[0m\u001b[0mntv_name\u001b[0m\u001b[1;33m:\u001b[0m \u001b[0mnode\u001b[0m \u001b[1;32mfor\u001b[0m \u001b[0mnode\u001b[0m \u001b[1;32min\u001b[0m \u001b[0mself\u001b[0m\u001b[1;33m.\u001b[0m\u001b[0m__class__\u001b[0m\u001b[1;33m(\u001b[0m\u001b[0mself\u001b[0m\u001b[1;33m.\u001b[0m\u001b[0m_ntv\u001b[0m\u001b[1;33m)\u001b[0m\u001b[1;33m}\u001b[0m\u001b[1;33m\u001b[0m\u001b[1;33m\u001b[0m\u001b[0m\n\u001b[0m\u001b[0;32m    380\u001b[0m \u001b[1;33m\u001b[0m\u001b[0m\n\u001b[0;32m    381\u001b[0m     \u001b[1;33m@\u001b[0m\u001b[0mproperty\u001b[0m\u001b[1;33m\u001b[0m\u001b[1;33m\u001b[0m\u001b[0m\n",
      "\u001b[1;31mKeyboardInterrupt\u001b[0m: "
     ]
    }
   ],
   "source": [
    "# access to the measurement time of the second value\n",
    "print(n_measure['measurement']['values'][1][0])\n",
    "print(n_measure['/measurement/values/1/0'])\n",
    "print(t_measure.dic_nodes['values'].val[1][0])\n",
    "# how to access to the 'period' of the 'campaign'  ?"
   ]
  }
 ],
 "metadata": {
  "kernelspec": {
   "display_name": "Python 3 (ipykernel)",
   "language": "python",
   "name": "python3"
  },
  "language_info": {
   "codemirror_mode": {
    "name": "ipython",
    "version": 3
   },
   "file_extension": ".py",
   "mimetype": "text/x-python",
   "name": "python",
   "nbconvert_exporter": "python",
   "pygments_lexer": "ipython3",
   "version": "3.10.9"
  }
 },
 "nbformat": 4,
 "nbformat_minor": 5
}
