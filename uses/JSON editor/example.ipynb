{
 "cells": [
  {
   "cell_type": "markdown",
   "id": "07e9342f",
   "metadata": {},
   "source": [
    "This example is partialy structured : only some data is defined with keywords"
   ]
  },
  {
   "cell_type": "code",
   "execution_count": 1,
   "id": "bd0ff092",
   "metadata": {},
   "outputs": [],
   "source": [
    "from pprint import pprint\n",
    "from datetime import date, time, timedelta, datetime\n",
    "from json_ntv import Ntv, NtvTree\n",
    "measure = {'location': [\n",
    "                {'city': 'paris'}, \n",
    "                [4.1, 40.5]],\n",
    "           'campaign': {\n",
    "                'planning': {\n",
    "                   'period': 'january 2023', \n",
    "                   'from': '2023-01-01', \n",
    "                   'to': '2023-01-20'},\n",
    "                 'property': 'air pollutants',\n",
    "                 'my personnal comment': {\n",
    "                     'result': 'success',\n",
    "                     'difficulty': 'it is the first air pollutants campaign in Paris'}},\n",
    "           'property': [\n",
    "                {'NO2': 'mcg/m3'}, \n",
    "                {'CO': 'mg/m3'}],\n",
    "           'measurement': {\n",
    "                'sample': '2023-01-23',\n",
    "                'values': [\n",
    "                   ['08:10:00', 21, 5],\n",
    "                   ['10:20:00', 10, 10],\n",
    "                   ['17:16:00', 30, 15]]}}\n",
    "n_measure = Ntv.obj(measure)\n",
    "t_measure = n_measure.tree.dic_nodes"
   ]
  },
  {
   "cell_type": "markdown",
   "id": "0c78dd40",
   "metadata": {},
   "source": [
    "## selecting data"
   ]
  },
  {
   "cell_type": "markdown",
   "id": "91b0b8ba",
   "metadata": {},
   "source": [
    "### JSON selecting\n",
    "- selector is row for the array and key for the objects"
   ]
  },
  {
   "cell_type": "code",
   "execution_count": 2,
   "id": "68e4bc70",
   "metadata": {
    "scrolled": false
   },
   "outputs": [
    {
     "name": "stdout",
     "output_type": "stream",
     "text": [
      "10:20:00\n"
     ]
    }
   ],
   "source": [
    "# access to the measurement time of the second value\n",
    "print(measure['measurement']['values'][1][0])\n",
    "# how to access to the 'result' of the 'campaign' (if i don't know the key)  ?"
   ]
  },
  {
   "cell_type": "markdown",
   "id": "3c149ce6",
   "metadata": {},
   "source": [
    "### NTV selecting\n",
    "- selector is row or keys\n",
    "- selector is a json-pointer\n",
    "- selector is an absolute keys"
   ]
  },
  {
   "cell_type": "code",
   "execution_count": 3,
   "id": "f4b1155f",
   "metadata": {},
   "outputs": [
    {
     "name": "stdout",
     "output_type": "stream",
     "text": [
      "\"10:20:00\"\n",
      "\"10:20:00\"\n",
      "\"10:20:00\"\n",
      "\"10:20:00\"\n",
      "\"10:20:00\"\n",
      "\"10:20:00\"\n",
      "success\n",
      "success\n"
     ]
    }
   ],
   "source": [
    "# access to the measurement time of the second value\n",
    "print(n_measure['measurement']['values'][1][0])\n",
    "print(n_measure[3]['values'][1][0])\n",
    "print(n_measure[3][1][1][0])\n",
    "print(n_measure['/measurement/values/1/0'])\n",
    "print(n_measure['/3/1/1/0'])\n",
    "print(t_measure['values'].val[1][0])\n",
    "# how to access to the 'period' of the 'campaign'  ?\n",
    "print(t_measure['result'].val)\n",
    "print(n_measure['campaign'][2]['result'].val)"
   ]
  },
  {
   "cell_type": "markdown",
   "id": "c641d800",
   "metadata": {},
   "source": [
    "## representation\n",
    "- with values only\n",
    "- with a tree"
   ]
  },
  {
   "cell_type": "code",
   "execution_count": 4,
   "id": "128ca555",
   "metadata": {},
   "outputs": [
    {
     "name": "stdout",
     "output_type": "stream",
     "text": [
      "[['paris', [4.1, 40.5]],\n",
      " [['january 2023', '2023-01-01', '2023-01-20'],\n",
      "  'air pollutants',\n",
      "  ['success', 'it is the first air pollutants campaign in Paris']],\n",
      " ['mcg/m3', 'mg/m3'],\n",
      " ['2023-01-23', [['08:10:00', 21, 5], ['10:20:00', 10, 10], ['17:16:00', 30, 15]]]]\n"
     ]
    }
   ],
   "source": [
    "pprint(n_measure.to_obj(simpleval=True), width=100)\n"
   ]
  },
  {
   "cell_type": "code",
   "execution_count": 5,
   "id": "b1414b46",
   "metadata": {
    "scrolled": false
   },
   "outputs": [
    {
     "data": {
      "text/html": [
       "<img src=\"https://mermaid.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\"/>"
      ],
      "text/plain": [
       "<IPython.core.display.Image object>"
      ]
     },
     "metadata": {},
     "output_type": "display_data"
    }
   ],
   "source": [
    "n_measure.to_mermaid('measure flowchart', disp=True)"
   ]
  },
  {
   "cell_type": "markdown",
   "id": "7d158ea0",
   "metadata": {},
   "source": [
    "## transform data\n",
    "- add semantic type\n",
    "- update values"
   ]
  },
  {
   "cell_type": "code",
   "execution_count": 6,
   "id": "c76f9f4b",
   "metadata": {},
   "outputs": [],
   "source": [
    "n_measure['location'][1] = n_measure['location'][1].to_single(name='coord', typ='point')\n",
    "t_measure['from'].set_type('date')\n",
    "t_measure['to'].set_type('date')\n",
    "t_measure['sample'].set_type('date')\n",
    "for val in t_measure['values']:\n",
    "    val[0].set_type('time')"
   ]
  },
  {
   "cell_type": "code",
   "execution_count": 7,
   "id": "5b7c96e8",
   "metadata": {},
   "outputs": [
    {
     "name": "stdout",
     "output_type": "stream",
     "text": [
      "{'campaign': {'my personnal comment': {'difficulty': 'it is the first air '\n",
      "                                                     'pollutants campaign in '\n",
      "                                                     'Paris',\n",
      "                                       'result': 'success'},\n",
      "              'planning': {'from:date': '2023-01-01',\n",
      "                           'period': 'january 2023',\n",
      "                           'to:date': '2023-01-20'},\n",
      "              'property': 'air pollutants'},\n",
      " 'location': {'city': 'paris', 'coord:point': [4.1, 40.5]},\n",
      " 'measurement': {'sample:date': '2023-01-23',\n",
      "                 'values': [[{':time': '08:10:00'}, 21, 5],\n",
      "                            [{':time': '10:20:00'}, 10, 10],\n",
      "                            [{':time': '17:16:00'}, 30, 15]]},\n",
      " 'property': {'CO': 'mg/m3', 'NO2': 'mcg/m3'}}\n"
     ]
    }
   ],
   "source": [
    "pprint(n_measure.to_obj())"
   ]
  },
  {
   "cell_type": "code",
   "execution_count": 8,
   "id": "bc74e1de",
   "metadata": {
    "scrolled": true
   },
   "outputs": [
    {
     "data": {
      "text/html": [
       "<img src=\"https://mermaid.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\"/>"
      ],
      "text/plain": [
       "<IPython.core.display.Image object>"
      ]
     },
     "metadata": {},
     "output_type": "display_data"
    }
   ],
   "source": [
    "n_measure.to_mermaid('add semantic types', disp=True)"
   ]
  },
  {
   "cell_type": "markdown",
   "id": "a4a1c719",
   "metadata": {},
   "source": [
    "## update data"
   ]
  },
  {
   "cell_type": "code",
   "execution_count": 9,
   "id": "b309c8a5",
   "metadata": {},
   "outputs": [],
   "source": [
    "o_measure = n_measure.to_obj_ntv()"
   ]
  },
  {
   "cell_type": "code",
   "execution_count": 10,
   "id": "5758e7dc",
   "metadata": {},
   "outputs": [
    {
     "ename": "TypeError",
     "evalue": "unsupported operand type(s) for +: 'datetime.time' and 'datetime.timedelta'",
     "output_type": "error",
     "traceback": [
      "\u001b[1;31m---------------------------------------------------------------------------\u001b[0m",
      "\u001b[1;31mTypeError\u001b[0m                                 Traceback (most recent call last)",
      "\u001b[1;32m~\\AppData\\Local\\Temp\\ipykernel_12408\\1926789495.py\u001b[0m in \u001b[0;36m<module>\u001b[1;34m\u001b[0m\n\u001b[0;32m      3\u001b[0m         \u001b[0mntv\u001b[0m\u001b[1;33m.\u001b[0m\u001b[0mset_value\u001b[0m\u001b[1;33m(\u001b[0m\u001b[0mntv\u001b[0m\u001b[1;33m.\u001b[0m\u001b[0mval\u001b[0m \u001b[1;33m+\u001b[0m \u001b[0mtimedelta\u001b[0m\u001b[1;33m(\u001b[0m\u001b[0mdays\u001b[0m\u001b[1;33m=\u001b[0m\u001b[1;36m1\u001b[0m\u001b[1;33m)\u001b[0m\u001b[1;33m)\u001b[0m\u001b[1;33m\u001b[0m\u001b[1;33m\u001b[0m\u001b[0m\n\u001b[0;32m      4\u001b[0m     \u001b[1;32mif\u001b[0m \u001b[0mntv\u001b[0m\u001b[1;33m.\u001b[0m\u001b[0mtype_str\u001b[0m \u001b[1;33m==\u001b[0m \u001b[1;34m'time'\u001b[0m\u001b[1;33m:\u001b[0m\u001b[1;33m\u001b[0m\u001b[1;33m\u001b[0m\u001b[0m\n\u001b[1;32m----> 5\u001b[1;33m         \u001b[0mntv\u001b[0m\u001b[1;33m.\u001b[0m\u001b[0mset_value\u001b[0m\u001b[1;33m(\u001b[0m\u001b[0mntv\u001b[0m\u001b[1;33m.\u001b[0m\u001b[0mval\u001b[0m \u001b[1;33m+\u001b[0m \u001b[0mtimedelta\u001b[0m\u001b[1;33m(\u001b[0m\u001b[0mhours\u001b[0m\u001b[1;33m=\u001b[0m\u001b[1;36m1\u001b[0m\u001b[1;33m)\u001b[0m\u001b[1;33m)\u001b[0m\u001b[1;33m\u001b[0m\u001b[1;33m\u001b[0m\u001b[0m\n\u001b[0m",
      "\u001b[1;31mTypeError\u001b[0m: unsupported operand type(s) for +: 'datetime.time' and 'datetime.timedelta'"
     ]
    }
   ],
   "source": [
    "for ntv in o_measure.tree.leaf_nodes:\n",
    "    if ntv.type_str == 'date':\n",
    "        ntv.set_value(ntv.val + timedelta(days=1))\n",
    "    if ntv.type_str == 'time':\n",
    "        ntv.set_value(ntv.val + timedelta(hours=1))"
   ]
  }
 ],
 "metadata": {
  "kernelspec": {
   "display_name": "Python 3 (ipykernel)",
   "language": "python",
   "name": "python3"
  },
  "language_info": {
   "codemirror_mode": {
    "name": "ipython",
    "version": 3
   },
   "file_extension": ".py",
   "mimetype": "text/x-python",
   "name": "python",
   "nbconvert_exporter": "python",
   "pygments_lexer": "ipython3",
   "version": "3.10.9"
  }
 },
 "nbformat": 4,
 "nbformat_minor": 5
}
