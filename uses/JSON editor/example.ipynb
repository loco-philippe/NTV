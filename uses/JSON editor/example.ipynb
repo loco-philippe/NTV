{
 "cells": [
  {
   "cell_type": "markdown",
   "id": "07e9342f",
   "metadata": {},
   "source": [
    "# Example NTV-editor\n",
    "\n",
    "## Goals\n",
    "\n",
    "- present tools to access, modify and structure JSON data\n",
    "\n",
    "## Summary\n",
    "*(active link on jupyter Notebook or Nbviewer)*\n",
    "- [Example](#Example)\n",
    "- [Select data](#Select-data)\n",
    "    - [JSON selecting](#JSON-selecting)\n",
    "    - [NTV selecting](#NTV-selecting)\n",
    "    - [Tree navigation](#Tree-navigation)\n",
    "    - [Iterator](#Iterator)\n",
    "- [Representation](#Representation)\n",
    "- [Transform data](#Transform-data)\n",
    "    - [Change structure](#Change-structure)\n",
    "    - [Add semantic type](#Add-semantic-type)\n",
    "- [Update data](#Update-data)\n",
    "- [Restore initial structure](#Restore-initial-structure)\n",
    "\n",
    "## References\n",
    "- [JSON-NTV specification](https://github.com/loco-philippe/NTV/blob/main/documentation/JSON-NTV-standard.pdf)\n",
    "- [JSON-NTV classes and methods](https://loco-philippe.github.io/NTV/json_ntv.html)\n",
    "\n",
    "This Notebook can also be viewed at [nbviewer](http://nbviewer.org/github/loco-philippe/NTV/tree/main/uses)\n",
    "\n",
    "-----"
   ]
  },
  {
   "cell_type": "code",
   "execution_count": 1,
   "id": "bbff2c62",
   "metadata": {},
   "outputs": [],
   "source": [
    "from copy import copy\n",
    "from pprint import pprint\n",
    "from datetime import date, time, timedelta, datetime\n",
    "from json_ntv import Ntv, NtvTree\n",
    "from shapely import box, Point"
   ]
  },
  {
   "cell_type": "markdown",
   "id": "78c23cbc",
   "metadata": {},
   "source": [
    "## Example"
   ]
  },
  {
   "cell_type": "code",
   "execution_count": 2,
   "id": "bd0ff092",
   "metadata": {},
   "outputs": [],
   "source": [
    "# This example is partialy structured : only some data is defined with keywords\n",
    "measure = {'location': [\n",
    "                {'city': 'paris'}, \n",
    "                [4.1, 40.5]],\n",
    "           'campaign': {\n",
    "                'planning': {\n",
    "                   'period': 'january 2023', \n",
    "                   'from': '2023-01-01', \n",
    "                   'to': '2023-01-20'},\n",
    "                 'property': 'air pollutants',\n",
    "                 'my personnal comment': {\n",
    "                     'result': 'success',\n",
    "                     'difficulty': 'first air pollutants campaign in Paris'}},\n",
    "           'pollutants': [\n",
    "                {'NO2': 'mcg/m3'}, \n",
    "                {'CO': 'mg/m3'}],\n",
    "           'measurement': {\n",
    "                'sample': '2023-01-10',\n",
    "                'values': [\n",
    "                   ['08:10:00', 21, 5],\n",
    "                   ['10:20:00', 10, 10],\n",
    "                   ['17:16:00', 30, 15]]}}\n",
    "n_measure = Ntv.obj(measure) #NTV object\n",
    "t_measure = n_measure.tree.dic_nodes #NTV object as tree"
   ]
  },
  {
   "cell_type": "markdown",
   "id": "0c78dd40",
   "metadata": {},
   "source": [
    "## Select data"
   ]
  },
  {
   "cell_type": "markdown",
   "id": "91b0b8ba",
   "metadata": {},
   "source": [
    "### JSON selecting\n",
    "- selector is index for the array and key for the objects"
   ]
  },
  {
   "cell_type": "code",
   "execution_count": 3,
   "id": "68e4bc70",
   "metadata": {
    "scrolled": false
   },
   "outputs": [
    {
     "name": "stdout",
     "output_type": "stream",
     "text": [
      "10:20:00\n"
     ]
    }
   ],
   "source": [
    "# access to the measurement time of the second value\n",
    "print(measure['measurement']['values'][1][0])\n",
    "# how to access to the 'result' of the 'campaign' (if i don't know the key)  ?"
   ]
  },
  {
   "cell_type": "markdown",
   "id": "3c149ce6",
   "metadata": {},
   "source": [
    "### NTV selecting\n",
    "- selector is index or keys\n",
    "- selector is a json-pointer\n",
    "- selector is an absolute keys"
   ]
  },
  {
   "cell_type": "code",
   "execution_count": 4,
   "id": "f4b1155f",
   "metadata": {},
   "outputs": [
    {
     "name": "stdout",
     "output_type": "stream",
     "text": [
      "\"10:20:00\"\n",
      "\"10:20:00\"\n",
      "\"10:20:00\"\n",
      "\"10:20:00\"\n",
      "\"10:20:00\"\n",
      "\"10:20:00\"\n",
      "success\n",
      "success\n"
     ]
    }
   ],
   "source": [
    "# access to the measurement time of the second value\n",
    "print(n_measure['measurement']['values'][1][0])\n",
    "print(n_measure[3]['values'][1][0])\n",
    "print(n_measure[3][1][1][0])\n",
    "print(n_measure['/measurement/values/1/0'])\n",
    "print(n_measure['/3/1/1/0'])\n",
    "print(t_measure['values'].val[1][0])\n",
    "# how to access to the 'period' of the 'campaign'  ?\n",
    "print(t_measure['result'].val)\n",
    "print(n_measure['campaign'][2]['result'].val)"
   ]
  },
  {
   "cell_type": "markdown",
   "id": "146d30a5",
   "metadata": {},
   "source": [
    "### Tree navigation"
   ]
  },
  {
   "cell_type": "code",
   "execution_count": 5,
   "id": "1a4abb20",
   "metadata": {
    "scrolled": true
   },
   "outputs": [
    {
     "name": "stdout",
     "output_type": "stream",
     "text": [
      "['result', 'difficulty']\n",
      "[{'result': 'success'}, {'difficulty': 'first air pollutants campaign in Paris'}]\n"
     ]
    }
   ],
   "source": [
    "# navigate in the tree\n",
    "print(t_measure['from'].parent.parent['my personnal comment'].childs(nam=True))\n",
    "print(t_measure['from'].parent.parent['my personnal comment'].childs(obj=True))"
   ]
  },
  {
   "cell_type": "markdown",
   "id": "80c68e95",
   "metadata": {},
   "source": [
    "### Iterator\n",
    "NtvTree is an iterator of the Ntv tree.\n",
    "Four lists can be iterated:\n",
    "- nodes : all the nodes\n",
    "- dic_nodes : nodes with a name (dict : key = name, value = node)\n",
    "- leaf_nodes : NtvSingle nodes\n",
    "- inner_nodes : NtvList nodes"
   ]
  },
  {
   "cell_type": "code",
   "execution_count": 6,
   "id": "2f70b039",
   "metadata": {},
   "outputs": [
    {
     "name": "stdout",
     "output_type": "stream",
     "text": [
      "tree characteristics (size, height, breadth):  33 4 21\n",
      "\n",
      "names:\n",
      " ['location', 'city', 'campaign', 'planning', 'period', 'from', 'to', 'property', 'my personnal comment', 'result', 'difficulty', 'pollutants', 'NO2', 'CO', 'measurement', 'sample', 'values']\n",
      "\n",
      "values:\n",
      " ['paris', 4.1, 40.5, 'january 2023', '2023-01-01', '2023-01-20', 'air pollutants', 'success', 'first air pollutants campaign in Paris', 'mcg/m3', 'mg/m3', '2023-01-10', '08:10:00', 21, 5, '10:20:00', 10, 10, '17:16:00', 30, 15]\n",
      "\n",
      "length:\n",
      " [4, 2, 2, 3, 3, 2, 2, 2, 3, 3, 3, 3]\n",
      "\n",
      "mute nodes:\n",
      " ['', '/location/1', '/measurement/values/0', '/measurement/values/1', '/measurement/values/2']\n"
     ]
    }
   ],
   "source": [
    "# <xx>.tree is an alias of NtvTree(<xx>)\n",
    "print('tree characteristics (size, height, breadth): ', n_measure.tree.size, n_measure.tree.height, n_measure.tree.breadth)\n",
    "print('\\nnames:\\n', list(n_measure.tree.dic_nodes.keys()))\n",
    "print('\\nvalues:\\n', [ntv.val for ntv in n_measure.tree.leaf_nodes])\n",
    "print('\\nlength:\\n', [len(ntv) for ntv in n_measure.tree.inner_nodes])\n",
    "print('\\nmute nodes:\\n', [ntv.json_pointer() for ntv in n_measure.tree if not ntv.name and not ntv.type_str])\n",
    "    "
   ]
  },
  {
   "cell_type": "markdown",
   "id": "c641d800",
   "metadata": {},
   "source": [
    "## Representation\n",
    "- JSON with specific data\n",
    "- with a tree"
   ]
  },
  {
   "cell_type": "code",
   "execution_count": 7,
   "id": "128ca555",
   "metadata": {},
   "outputs": [
    {
     "name": "stdout",
     "output_type": "stream",
     "text": [
      "JSON with values only:\n",
      "[['paris', [4.1, 40.5]],\n",
      " [['january 2023', '2023-01-01', '2023-01-20'], 'air pollutants', ['success', 'first air pollutants campaign in Paris']],\n",
      " ['mcg/m3', 'mg/m3'],\n",
      " ['2023-01-10', [['08:10:00', 21, 5], ['10:20:00', 10, 10], ['17:16:00', 30, 15]]]]\n",
      "\n",
      "JSON with data codes:\n",
      " {\"l\": [{\"lN\": [\"sN\", {\"l\": [\"s\", \"s\"]}]}, {\"lN\": [{\"lN\": [\"sN\", \"sN\", \"sN\"]}, \"sN\", {\"lN\": [\"sN\", \"sN\"]}]}, {\"lN\": [\"sN\", \"sN\"]}, {\"lN\": [\"sN\", {\"lN\": [{\"l\": [\"s\", \"s\", \"s\"]}, {\"l\": [\"s\", \"s\", \"s\"]}, {\"l\": [\"s\", \"s\", \"s\"]}]}]}]}\n",
      "\n",
      "JSON with JSON-array only:\n",
      "[{'location': [{'city': 'paris'}, [4.1, 40.5]]},\n",
      " {'campaign': [{'planning': [{'period': 'january 2023'}, {'from': '2023-01-01'}, {'to': '2023-01-20'}]},\n",
      "               {'property': 'air pollutants'},\n",
      "               {'my personnal comment': [{'result': 'success'}, {'difficulty': 'first air pollutants campaign in Paris'}]}]},\n",
      " {'pollutants': [{'NO2': 'mcg/m3'}, {'CO': 'mg/m3'}]},\n",
      " {'measurement': [{'sample': '2023-01-10'}, {'values': [['08:10:00', 21, 5], ['10:20:00', 10, 10], ['17:16:00', 30, 15]]}]}]\n",
      "\n",
      "binary data:\n",
      " b'\\xa4hlocation\\x82\\xa1dcityeparis\\x82\\xfb@\\x10ffffff\\xfb@D@\\x00\\x00\\x00\\x00\\x00hcampaign\\xa3hplanning\\xa3fperiodljanuary 2023dfromj2023-01-01btoj2023-01-20hpropertynair pollutantstmy personnal comment\\xa2fresultgsuccessjdifficultyx&first air pollutants campaign in Parisjpollutants\\xa2cNO2fmcg/m3bCOemg/m3kmeasurement\\xa2fsamplej2023-01-10fvalues\\x83\\x83h08:10:00\\x15\\x05\\x83h10:20:00\\n\\n\\x83h17:16:00\\x18\\x1e\\x0f'\n"
     ]
    }
   ],
   "source": [
    "print('JSON with values only:')\n",
    "pprint(n_measure.to_obj(simpleval=True), width=140)\n",
    "print('\\nJSON with data codes:\\n', repr(n_measure)) # l/s : NtvList/NtvSingle, N : with Name\n",
    "print('\\nJSON with JSON-array only:')\n",
    "pprint(n_measure.to_obj(json_array=True), width=140)\n",
    "print('\\nbinary data:\\n', n_measure.to_obj(encoded=True, format='cbor'))"
   ]
  },
  {
   "cell_type": "code",
   "execution_count": 8,
   "id": "b1414b46",
   "metadata": {
    "scrolled": false
   },
   "outputs": [
    {
     "data": {
      "text/html": [
       "<img src=\"https://mermaid.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\"/>"
      ],
      "text/plain": [
       "<IPython.core.display.Image object>"
      ]
     },
     "metadata": {},
     "output_type": "display_data"
    }
   ],
   "source": [
    "n_measure.to_mermaid('measure flowchart', disp=True)"
   ]
  },
  {
   "cell_type": "markdown",
   "id": "7d158ea0",
   "metadata": {},
   "source": [
    "## Transform data\n",
    "- change structure\n",
    "- add semantic type"
   ]
  },
  {
   "cell_type": "markdown",
   "id": "2ea0cf33",
   "metadata": {},
   "source": [
    "### Change structure"
   ]
  },
  {
   "cell_type": "code",
   "execution_count": 9,
   "id": "c76f9f4b",
   "metadata": {},
   "outputs": [],
   "source": [
    "# transform a NtvList into a NtvSingle\n",
    "n_measure['location'][1] = n_measure['location'][1].to_ntvsingle(name='coord', typ='point')\n",
    "# move a branch of the tree\n",
    "n_measure['measurement'].insert(0, n_measure['pollutants'])"
   ]
  },
  {
   "cell_type": "markdown",
   "id": "c1b7cc4b",
   "metadata": {},
   "source": [
    "### Add semantic type"
   ]
  },
  {
   "cell_type": "code",
   "execution_count": 10,
   "id": "7d9b1d0a",
   "metadata": {},
   "outputs": [],
   "source": [
    "# add 'type' attribute\n",
    "t_measure['from'].set_type('date')\n",
    "t_measure['to'].set_type('date')\n",
    "t_measure['sample'].set_type('date')\n",
    "for val in t_measure['values']:\n",
    "    val[0].set_type('time')"
   ]
  },
  {
   "cell_type": "code",
   "execution_count": 11,
   "id": "5b7c96e8",
   "metadata": {},
   "outputs": [
    {
     "name": "stdout",
     "output_type": "stream",
     "text": [
      "{'campaign': {'my personnal comment': {'difficulty': 'first air pollutants campaign in Paris', 'result': 'success'},\n",
      "              'planning': {'from:date': '2023-01-01', 'period': 'january 2023', 'to:date': '2023-01-20'},\n",
      "              'property': 'air pollutants'},\n",
      " 'location': {'city': 'paris', 'coord:point': [4.1, 40.5]},\n",
      " 'measurement': {'pollutants': {'CO': 'mg/m3', 'NO2': 'mcg/m3'},\n",
      "                 'sample:date': '2023-01-10',\n",
      "                 'values': [[{':time': '08:10:00'}, 21, 5], [{':time': '10:20:00'}, 10, 10], [{':time': '17:16:00'}, 30, 15]]}}\n"
     ]
    }
   ],
   "source": [
    "# type is included in the JSON name\n",
    "pprint(n_measure.to_obj(), width=140)"
   ]
  },
  {
   "cell_type": "code",
   "execution_count": 12,
   "id": "bc74e1de",
   "metadata": {
    "scrolled": true
   },
   "outputs": [
    {
     "data": {
      "text/html": [
       "<img src=\"https://mermaid.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\"/>"
      ],
      "text/plain": [
       "<IPython.core.display.Image object>"
      ]
     },
     "metadata": {},
     "output_type": "display_data"
    }
   ],
   "source": [
    "n_measure.to_mermaid('add semantic types', disp=True)"
   ]
  },
  {
   "cell_type": "markdown",
   "id": "a4a1c719",
   "metadata": {},
   "source": [
    "## Update data\n",
    "- JSON value can be converted in object matching to the type"
   ]
  },
  {
   "cell_type": "code",
   "execution_count": 13,
   "id": "b309c8a5",
   "metadata": {},
   "outputs": [
    {
     "name": "stdout",
     "output_type": "stream",
     "text": [
      "{'campaign': {'my personnal comment': {'difficulty': 'first air pollutants campaign in Paris', 'result': 'success'},\n",
      "              'planning': {'from': datetime.date(2023, 1, 1), 'period': 'january 2023', 'to': datetime.date(2023, 1, 20)},\n",
      "              'property': 'air pollutants'},\n",
      " 'location': {'city': 'paris', 'coord': <POINT (4.1 40.5)>},\n",
      " 'measurement': {'pollutants': {'CO': 'mg/m3', 'NO2': 'mcg/m3'},\n",
      "                 'sample': datetime.date(2023, 1, 10),\n",
      "                 'values': [[datetime.time(8, 10), 21, 5], [datetime.time(10, 20), 10, 10], [datetime.time(17, 16), 30, 15]]}}\n"
     ]
    }
   ],
   "source": [
    "# convert JSON value into object\n",
    "o_measure = n_measure.to_obj_ntv()\n",
    "pprint(o_measure.to_obj(fast=True), width=140)"
   ]
  },
  {
   "cell_type": "code",
   "execution_count": 14,
   "id": "5758e7dc",
   "metadata": {},
   "outputs": [],
   "source": [
    "# update objects : add one day to the dates, add one hour to the times, change point into box\n",
    "for ntv in o_measure.tree.leaf_nodes:\n",
    "    if ntv.type_str == 'date':\n",
    "        ntv.set_value(ntv.val + timedelta(days=1))\n",
    "    if ntv.type_str == 'time':\n",
    "        ntv.set_value((datetime.combine(date.today(), ntv.val) + timedelta(hours=1)).time())\n",
    "    if ntv.type_str == 'point':\n",
    "        r = 0.01\n",
    "        ntv.set_value(box(round(ntv.val.x - r, 2), round(ntv.val.y - r, 2), \n",
    "                          round(ntv.val.x + r, 2), round(ntv.val.y + r, 2)), fast=True)\n",
    "        ntv.set_type('polygon')"
   ]
  },
  {
   "cell_type": "code",
   "execution_count": 15,
   "id": "51f302db",
   "metadata": {},
   "outputs": [],
   "source": [
    "# convert object into JSON value\n",
    "n_measure2 = o_measure.to_json_ntv()"
   ]
  },
  {
   "cell_type": "code",
   "execution_count": 16,
   "id": "b485c2f3",
   "metadata": {
    "scrolled": true
   },
   "outputs": [
    {
     "name": "stdout",
     "output_type": "stream",
     "text": [
      "{'campaign': {'my personnal comment': {'difficulty': 'first air pollutants campaign in Paris', 'result': 'success'},\n",
      "              'planning': {'from:date': '2023-01-02', 'period': 'january 2023', 'to:date': '2023-01-21'},\n",
      "              'property': 'air pollutants'},\n",
      " 'location': {'city': 'paris', 'coord:polygon': [[[4.11, 40.49], [4.11, 40.51], [4.09, 40.51], [4.09, 40.49], [4.11, 40.49]]]},\n",
      " 'measurement': {'pollutants': {'CO': 'mg/m3', 'NO2': 'mcg/m3'},\n",
      "                 'sample:date': '2023-01-11',\n",
      "                 'values': [[{':time': '09:10:00'}, 21, 5], [{':time': '11:20:00'}, 10, 10], [{':time': '18:16:00'}, 30, 15]]}}\n"
     ]
    }
   ],
   "source": [
    "pprint(n_measure2.to_obj(), width=140)"
   ]
  },
  {
   "cell_type": "code",
   "execution_count": 17,
   "id": "d6f704ee",
   "metadata": {},
   "outputs": [
    {
     "data": {
      "text/html": [
       "<img src=\"https://mermaid.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\"/>"
      ],
      "text/plain": [
       "<IPython.core.display.Image object>"
      ]
     },
     "metadata": {},
     "output_type": "display_data"
    }
   ],
   "source": [
    "n_measure2.to_mermaid('update data', disp=True)"
   ]
  },
  {
   "cell_type": "markdown",
   "id": "c06dde64",
   "metadata": {},
   "source": [
    "## Restore initial structure"
   ]
  },
  {
   "cell_type": "code",
   "execution_count": 18,
   "id": "29025be8",
   "metadata": {},
   "outputs": [
    {
     "name": "stdout",
     "output_type": "stream",
     "text": [
      "{\"coord:point\": [4.1, 40.5]}\n"
     ]
    }
   ],
   "source": [
    "coord = copy(o_measure['location']['coord'])\n",
    "coord.set_value(coord.val.centroid)\n",
    "coord.set_type('point')\n",
    "coord = coord.to_json_ntv()\n",
    "coord.set_value([round(coord.val[0],2), round(coord.val[1],2)])\n",
    "print(coord)"
   ]
  },
  {
   "cell_type": "code",
   "execution_count": 19,
   "id": "af3586b4",
   "metadata": {},
   "outputs": [
    {
     "data": {
      "text/html": [
       "<img src=\"https://mermaid.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\"/>"
      ],
      "text/plain": [
       "<IPython.core.display.Image object>"
      ]
     },
     "metadata": {},
     "output_type": "display_data"
    }
   ],
   "source": [
    "n_measure2['location']['coord'].replace(coord)\n",
    "n_measure2.to_simple()\n",
    "n_measure2['location'][1] = n_measure2.tree.dic_nodes['coord'].to_ntvlist()\n",
    "n_measure2['location'][1].set_name()\n",
    "n_measure2.insert(2, n_measure2.tree.dic_nodes['pollutants'])\n",
    "\n",
    "n_measure2.to_mermaid('update data', disp=True)"
   ]
  },
  {
   "cell_type": "code",
   "execution_count": 20,
   "id": "f3a86055",
   "metadata": {},
   "outputs": [
    {
     "name": "stdout",
     "output_type": "stream",
     "text": [
      "{'campaign': {'my personnal comment': {'difficulty': 'first air pollutants campaign in Paris', 'result': 'success'},\n",
      "              'planning': {'from': '2023-01-02', 'period': 'january 2023', 'to': '2023-01-21'},\n",
      "              'property': 'air pollutants'},\n",
      " 'location': [{'city': 'paris'}, [4.1, 40.5]],\n",
      " 'measurement': {'sample': '2023-01-11', 'values': [['09:10:00', 21, 5], ['11:20:00', 10, 10], ['18:16:00', 30, 15]]},\n",
      " 'pollutants': {'CO': 'mg/m3', 'NO2': 'mcg/m3'}}\n"
     ]
    }
   ],
   "source": [
    "pprint(n_measure2.to_obj(), width=140)\n"
   ]
  }
 ],
 "metadata": {
  "kernelspec": {
   "display_name": "Python 3 (ipykernel)",
   "language": "python",
   "name": "python3"
  },
  "language_info": {
   "codemirror_mode": {
    "name": "ipython",
    "version": 3
   },
   "file_extension": ".py",
   "mimetype": "text/x-python",
   "name": "python",
   "nbconvert_exporter": "python",
   "pygments_lexer": "ipython3",
   "version": "3.10.9"
  }
 },
 "nbformat": 4,
 "nbformat_minor": 5
}
